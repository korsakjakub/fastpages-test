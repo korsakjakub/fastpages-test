{
  "cells": [
    {
      "cell_type": "markdown",
      "metadata": {
        "id": "view-in-github",
        "colab_type": "text"
      },
      "source": [
        "<a href=\"https://colab.research.google.com/github/korsakjakub/kwant-tutorials-zps/blob/master/_notebooks/2022-11-30-SSH%20-%20Eigenvalues.ipynb\" target=\"_parent\"><img src=\"https://colab.research.google.com/assets/colab-badge.svg\" alt=\"Open In Colab\"/></a>"
      ]
    },
    {
      "cell_type": "markdown",
      "id": "03FKNfrnCkzv",
      "metadata": {
        "id": "03FKNfrnCkzv"
      },
      "source": [
        "# SSH Eigenmodes"
      ]
    },
    {
      "cell_type": "markdown",
      "source": [
        "In this toutorial we want to consider quite easy toy model of polymer which cointein two kinds of atoms per unit site called as a SSH model. It is quite transparent model which simultaneously have a topological properties.\n",
        "\n",
        "\n",
        "We start with the Hamiltonian which describe our system,\n",
        "\n",
        "$$H=-\\sum_{ i} v (A_{i}^{\\dagger}B_{i}+h.c.)-\\sum_{j}w(A^{\\dagger}_{i}A_{i+1}+B^{\\dagger}_{i}B_{i+1}+h.c. ),$$\n",
        "here $v$ ($w$) is the overlap integral between the atoms in unit cell (betwens cells) and $A_{i}, B_{i}$ $(A_{i}^\\dagger, B_{i}^\\dagger)$ are a creation (anihilation) operators in $i$-th unit cells rspectivly $A$ and $B$ like site.  \n",
        "\n",
        "Our basic aim is to presented some common know properties of such a model with the use of additional python's package KWANT.\n",
        "Forst of all we need to install it in our program by simple commend,\n"
      ],
      "metadata": {
        "id": "lAqyG01qTv8X"
      },
      "id": "lAqyG01qTv8X"
    },
    {
      "cell_type": "code",
      "execution_count": 1,
      "id": "RVbkDWo-t5Ns",
      "metadata": {
        "id": "RVbkDWo-t5Ns",
        "colab": {
          "base_uri": "https://localhost:8080/"
        },
        "outputId": "d9aba4cf-6caa-4623-8fba-cc02f587049d"
      },
      "outputs": [
        {
          "output_type": "stream",
          "name": "stdout",
          "text": [
            "Looking in indexes: https://pypi.org/simple, https://us-python.pkg.dev/colab-wheels/public/simple/\n",
            "Collecting kwant\n",
            "  Downloading kwant-1.4.3.tar.gz (1.6 MB)\n",
            "\u001b[K     |████████████████████████████████| 1.6 MB 6.7 MB/s \n",
            "\u001b[?25hRequirement already satisfied: numpy>=1.11.0 in /usr/local/lib/python3.7/dist-packages (from kwant) (1.21.6)\n",
            "Requirement already satisfied: scipy>=0.17.0 in /usr/local/lib/python3.7/dist-packages (from kwant) (1.7.3)\n",
            "Collecting tinyarray>=1.2\n",
            "  Downloading tinyarray-1.2.4.tar.gz (37 kB)\n",
            "Building wheels for collected packages: kwant, tinyarray\n",
            "  Building wheel for kwant (setup.py) ... \u001b[?25l\u001b[?25hdone\n",
            "  Created wheel for kwant: filename=kwant-1.4.3-cp37-cp37m-linux_x86_64.whl size=3690998 sha256=1d89d59ce3a64b6eebc19173890be5f27aad6d7388ee9d3b743476e2b8502f76\n",
            "  Stored in directory: /root/.cache/pip/wheels/d6/2d/93/6f395cd3f0798d7d9e161dce1c8b8c8bbd04d4547763c926de\n",
            "  Building wheel for tinyarray (setup.py) ... \u001b[?25l\u001b[?25hdone\n",
            "  Created wheel for tinyarray: filename=tinyarray-1.2.4-cp37-cp37m-linux_x86_64.whl size=227977 sha256=cfa13f785634b566499fb24181c1392ad86b4bd10b5e0fb8d011120e66133248\n",
            "  Stored in directory: /root/.cache/pip/wheels/85/c6/1c/6939e2931cfbff5df75758a06084bf67171b640ebdf5febd35\n",
            "Successfully built kwant tinyarray\n",
            "Installing collected packages: tinyarray, kwant\n",
            "Successfully installed kwant-1.4.3 tinyarray-1.2.4\n"
          ]
        }
      ],
      "source": [
        "!pip install kwant"
      ]
    },
    {
      "cell_type": "markdown",
      "source": [
        "Here we incorporate all functions which we are going to use,"
      ],
      "metadata": {
        "id": "f_mpZ8s5TeB3"
      },
      "id": "f_mpZ8s5TeB3"
    },
    {
      "cell_type": "code",
      "execution_count": 4,
      "id": "9ab06f68-a6ea-412e-a6e7-e4d07f3c54da",
      "metadata": {
        "id": "9ab06f68-a6ea-412e-a6e7-e4d07f3c54da",
        "outputId": "187f80f0-4b37-413f-ea97-710362a9db04",
        "colab": {
          "base_uri": "https://localhost:8080/"
        }
      },
      "outputs": [
        {
          "output_type": "stream",
          "name": "stderr",
          "text": [
            "/usr/local/lib/python3.7/dist-packages/kwant/solvers/default.py:18: RuntimeWarning: MUMPS is not available, SciPy built-in solver will be used as a fallback. Performance can be very poor in this case.\n",
            "  \"Performance can be very poor in this case.\", RuntimeWarning)\n"
          ]
        }
      ],
      "source": [
        "import kwant\n",
        "import matplotlib.pyplot as plt\n",
        "import scipy.sparse.linalg as sla\n",
        "import scipy as scp\n",
        "import numpy as np\n",
        "import scipy\n",
        "from kwant.physics import dispersion\n",
        "from numpy.linalg import eig"
      ]
    },
    {
      "cell_type": "markdown",
      "source": [
        "First of all we have to define our system. "
      ],
      "metadata": {
        "id": "1uSHUtFLaypb"
      },
      "id": "1uSHUtFLaypb"
    },
    {
      "cell_type": "code",
      "source": [
        "# Building SSH model\n",
        "def ssh_model(v=1, w=1, L=50):\n",
        "    syst = kwant.Builder()\n",
        "    a = 1\n",
        "    lat = kwant.lattice.chain(a)\n",
        "\n",
        "    # Define the scattering region\n",
        "    for n in range(L):\n",
        "        syst[lat(n)] = 0\n",
        "\n",
        "    # Left hopping\n",
        "    for n in range(L):\n",
        "        if n % 2:\n",
        "            syst[lat(n - 1), lat(n)] = v\n",
        "\n",
        "    # Right hopping\n",
        "    for n in range(1, L):\n",
        "        if not n % 2:\n",
        "            syst[lat(n - 1), lat(n)] = w\n",
        "\n",
        "    return syst.finalized() "
      ],
      "metadata": {
        "id": "2RGFdQ_FfzKj"
      },
      "id": "2RGFdQ_FfzKj",
      "execution_count": 86,
      "outputs": []
    },
    {
      "cell_type": "markdown",
      "source": [
        "\n",
        "In our case we put onsite equal to zero. In order to defne our system we establish different hoppings for odd and even sites. For even sites the Hamiltonian part discrebes intercells hoppings is\n",
        "$$-\\sum_{ i} v (A_{i}^{\\dagger}B_{i}+h.c.)$$\n",
        "while for odds we have got\n",
        "$$-\\sum_{j}w(A^{\\dagger}_{i}A_{i+1}+B^{\\dagger}_{i}B_{i+1}+h.c. )$$\n",
        "\n",
        "The SSH is the simplest one dimensional model in which one can observed edge states. We can observed this on the folowing plot,\n"
      ],
      "metadata": {
        "id": "ZpDMyAdsf52_"
      },
      "id": "ZpDMyAdsf52_"
    },
    {
      "cell_type": "code",
      "source": [
        "from ipywidgets import *\n",
        "\n",
        "def SSH_energy(v,w):\n",
        "  syst = ssh_model(w=w, v=v, L=L)\n",
        "  hamiltonian = syst.hamiltonian_submatrix(sparse=False)\n",
        "  w1,v1=eig(hamiltonian)\n",
        "  plt.plot(np.arange(0,L,1),sorted(np.real(w1)),'.')\n",
        "\n",
        "interact(SSH_energy,v=(0,1,0.1),w=(0,1,0.1));"
      ],
      "metadata": {
        "colab": {
          "base_uri": "https://localhost:8080/",
          "height": 329,
          "referenced_widgets": [
            "2ee0c329352c41c99b3a12bbe4ae5f7f",
            "af3b99f7b8c0494a8379692528c8d96f",
            "1ac0d04a63af4a02ab86bc449a06bb8c",
            "256b535c2cd0417783247c0457cb2b12",
            "0f43a12747a948caa6607a9542b91316",
            "a8027028a247474d8a8b71ee9078f34c",
            "16c017bc56ec48fca53b4823f2ef7e59",
            "7d41e75957b746e7bb37c7412c21b46f",
            "1a89dc2709d84d228a88c2b2ff153213",
            "bf9b6d3807064a258dc55a6bf967aeab"
          ]
        },
        "id": "5CXeOnZVo5Ec",
        "outputId": "a5f3f936-600f-42df-9156-d69592ece8e1"
      },
      "id": "5CXeOnZVo5Ec",
      "execution_count": 87,
      "outputs": [
        {
          "output_type": "display_data",
          "data": {
            "text/plain": [
              "interactive(children=(FloatSlider(value=0.0, description='v', max=1.0), FloatSlider(value=0.0, description='w'…"
            ],
            "application/vnd.jupyter.widget-view+json": {
              "version_major": 2,
              "version_minor": 0,
              "model_id": "2ee0c329352c41c99b3a12bbe4ae5f7f"
            }
          },
          "metadata": {}
        }
      ]
    },
    {
      "cell_type": "markdown",
      "source": [
        "Existing of such a states should have visual consequences in density of states (DOS). Ther should appear additional pick in zero energy. We can easy get DOS by using KWANT. Let us look on the following example. "
      ],
      "metadata": {
        "id": "h31X_hoc2l28"
      },
      "id": "h31X_hoc2l28"
    },
    {
      "cell_type": "code",
      "source": [
        "from mpl_toolkits.axes_grid1.inset_locator import zoomed_inset_axes \n",
        "from mpl_toolkits.axes_grid1.inset_locator import mark_inset\n",
        "\n",
        "def plot_DOS3(v,w):\n",
        "    fig, ax = plt.subplots(figsize=[5, 4])\n",
        "    syst = ssh_model(w=w, v=v, L=500)\n",
        "    hamiltonian = syst.hamiltonian_submatrix(sparse=False)\n",
        "\n",
        "    w1,v1=eig(hamiltonian)\n",
        "    rho = kwant.kpm.SpectralDensity(hamiltonian, rng=0)\n",
        "    w1, densities = rho()\n",
        "    density_subset = np.real(rho(w1))\n",
        "    ax.plot(w1,density_subset)\n",
        "\n",
        "    # generate inset axes\n",
        "    axins = zoomed_inset_axes(ax, 5, loc='upper center')  # zoom = 5\n",
        "\n",
        "    # plot in the inset axes\n",
        "    axins.scatter(w1,density_subset, s=2)\n",
        "\n",
        "    # fix the x, y limit of the inset axes\n",
        "    axins.set_xlim(-max(w1)/10, max(w1)/10)\n",
        "    axins.set_ylim(-5, max(density_subset)/15)\n",
        "\n",
        "    # fix the number of ticks on the inset axes\n",
        "    axins.yaxis.get_major_locator().set_params(nbins=1)\n",
        "    axins.xaxis.get_major_locator().set_params(nbins=1)\n",
        "\n",
        "interact(plot_DOS3,v=(0.0,5,0.1),w=(0.0,5,0.1))"
      ],
      "metadata": {
        "id": "aG0ZsxRb9z8E",
        "outputId": "44e689f5-d5dc-4eff-880b-ac9e2d40ddab",
        "colab": {
          "base_uri": "https://localhost:8080/",
          "height": 346,
          "referenced_widgets": [
            "d54761744b484755b2c9213f7e3a2edb",
            "311c9397fe1346619a0d7cbf991cf9a5",
            "6fafc187b6bf46c5bb871c106022b550",
            "661b7d430a894bcd895c929fe3e2a931",
            "e318fd55f0e24003b06944fcde241888",
            "517cb8da41664e599f90ff70662924ce",
            "3c3ec1a1ed06424f921a88bd4ff813a5",
            "52460dd4ba5b4ce088bf03879abf2547",
            "63a96575ae6e4014b85f85978b7ed35e",
            "483aea6096cb4bd5a91d94cd7b42f9a6"
          ]
        }
      },
      "id": "aG0ZsxRb9z8E",
      "execution_count": 88,
      "outputs": [
        {
          "output_type": "display_data",
          "data": {
            "text/plain": [
              "interactive(children=(FloatSlider(value=2.5, description='v', max=5.0), FloatSlider(value=2.5, description='w'…"
            ],
            "application/vnd.jupyter.widget-view+json": {
              "version_major": 2,
              "version_minor": 0,
              "model_id": "d54761744b484755b2c9213f7e3a2edb"
            }
          },
          "metadata": {}
        },
        {
          "output_type": "execute_result",
          "data": {
            "text/plain": [
              "<function __main__.plot_DOS3(v, w)>"
            ]
          },
          "metadata": {},
          "execution_count": 88
        }
      ]
    },
    {
      "cell_type": "markdown",
      "source": [
        "One can observe that indeed for $w>v$ we have non zero value of DOS around zero energy while $w < v$ we observed platou."
      ],
      "metadata": {
        "id": "vhiXn0v56zaU"
      },
      "id": "vhiXn0v56zaU"
    },
    {
      "cell_type": "markdown",
      "source": [
        "\n",
        "\n",
        "Now we want to plot energy spectrum as a function os hopping parameter $v$ when w is holds constant. We have to identify each energy corespond to a given site. To this end, we used the following procedure. For a given $v$ we find all eigenvalues and eigenstates for every sites. Then we moved to another value of $v$ and do this same. Now to identify which eigenvalues corespond to this same site we chack for every eigenvector from the previous iteration gives us the bigest overlap (the bigest value of scalar product) with one of the state. The prosedure countinous for every value $v$."
      ],
      "metadata": {
        "id": "ful9xz77sEFD"
      },
      "id": "ful9xz77sEFD"
    },
    {
      "cell_type": "code",
      "execution_count": 93,
      "id": "48db19ba-65a0-4f61-b465-5d91c29abf51",
      "metadata": {
        "colab": {
          "base_uri": "https://localhost:8080/",
          "height": 297,
          "referenced_widgets": [
            "9b18906f42544e4c90a06bc15a3dac24",
            "476e09a5a15b43beb4013daf2cb611ba",
            "e2500341f8894267a66743f5e66ce9e1",
            "5219ec02218f4fce9ff4d9ed57f4d06f",
            "567995cfaa53433386932610cab68f84",
            "404bb1c1f381496b86ecb7cdd029bb15",
            "cd5b85f9ec67400481d7cb6242a02453"
          ]
        },
        "id": "48db19ba-65a0-4f61-b465-5d91c29abf51",
        "outputId": "d5e7a539-05ae-499f-f4d8-c3980263e2a4"
      },
      "outputs": [
        {
          "output_type": "display_data",
          "data": {
            "text/plain": [
              "interactive(children=(FloatSlider(value=0.30000000000000004, description='w', max=0.5, min=0.1), Output()), _d…"
            ],
            "application/vnd.jupyter.widget-view+json": {
              "version_major": 2,
              "version_minor": 0,
              "model_id": "9b18906f42544e4c90a06bc15a3dac24"
            }
          },
          "metadata": {}
        }
      ],
      "source": [
        "def find_continuator(w: list, next_vectors: list) -> int:\n",
        "    max_product = np.dot(w, next_vectors[0])\n",
        "    max_index = 0\n",
        "\n",
        "    for i in range(len(next_vectors)):\n",
        "        product = np.abs(np.dot(w, next_vectors[i]))\n",
        "        if product > max_product:\n",
        "            max_product = product\n",
        "            max_index = i\n",
        "    return max_index\n",
        "\n",
        "def plot_probability(k_tab: list ,eig_number: int,w,  show_unsorted=False) -> None:\n",
        "    e_val_matrix = np.empty(shape=(len(k_tab), eig_number))\n",
        "    e_vec_matrix = np.empty(shape=(len(k_tab), eig_number, L), dtype=complex)\n",
        "\n",
        "    for i in range(len(k_tab)):\n",
        "        v = k_tab[i]\n",
        "        syst = ssh_model(v, w)\n",
        "        hamiltonian = syst.hamiltonian_submatrix(sparse=False)\n",
        "\n",
        "        e_val, e_vec = scipy.sparse.linalg.eigsh(\n",
        "            hamiltonian, k=eig_number, sigma=0.01, which=\"LM\", return_eigenvectors=True\n",
        "        )\n",
        "\n",
        "        e_val_matrix[i] = e_val\n",
        "        for j in range(eig_number):\n",
        "            e_vec_matrix[i, j] = e_vec[:, j]\n",
        "            e_vec_matrix[i, j] = e_vec_matrix[i, j] / np.sqrt(\n",
        "                np.dot(e_vec_matrix[i, j], e_vec_matrix[i, j])\n",
        "            )\n",
        "\n",
        "    for j in range(eig_number):\n",
        "        strip = [e_val_matrix[0, j]]\n",
        "        vectors = [e_vec_matrix[0, j]]\n",
        "\n",
        "        for i in range(0, len(k_tab) - 1):\n",
        "            index = find_continuator(vectors[i], e_vec_matrix[i + 1])\n",
        "            vectors.append(e_vec_matrix[i + 1, index])\n",
        "            strip.append(e_val_matrix[i + 1, index])\n",
        "\n",
        "        plt.plot(k_tab, strip, label=j)\n",
        "        if show_unsorted:\n",
        "            plt.scatter(k_tab, e_val_matrix[:, j], marker=\".\")\n",
        "\n",
        "k = np.linspace(0, 0.75, 50)  # Range of k we want to plot\n",
        "energies_number = 47  # Number of energy bands to show\n",
        "\n",
        "def SSH_spectrum_manipulate(w):\n",
        "  plot_probability(k_tab=k,w=w, eig_number=energies_number)\n",
        "\n",
        "interact(SSH_spectrum_manipulate,w=(0.1,0.5,0.1));"
      ]
    },
    {
      "cell_type": "markdown",
      "source": [
        "What you can see above is a plot of energy spectrum as a function of parameter $v$. Using by the slider you can change the value of parameter $w$. What is interesting here is that there exist zero energy modes for the parameter values smaller that $w$ which are, as we mentioned earlier, energies of edges states. One can see that zero energy modes are not exacly appear for $w=v$. This is a consequence that we working with the finite system. This incoherence disappear if you put the bigger and bigger size of the system. "
      ],
      "metadata": {
        "id": "tmSDZAVnxMLV"
      },
      "id": "tmSDZAVnxMLV"
    },
    {
      "cell_type": "markdown",
      "source": [
        "We can easly diagonalize our Hamiltonian by taking Fourier transform,\n",
        "$$A^{\\dagger}_{i}=\\frac{1}{\\sqrt{N}}\\sum_{k}e^{ik\\cdot x_{i}} A^{\\dagger}_{k} \\hspace{0.5cm} \\mathrm{etc..}$$\n",
        "In the end Hamiltonian in momentum space takes form\n",
        "$$H=\\sum_{k}(A^{\\dagger}_{k},B^{\\dagger}_{k})\\begin{pmatrix}\n",
        "0 & v+e^{ik}w \\\\\n",
        "v+e^{-ik}w & 0 \n",
        "\\end{pmatrix}\n",
        "\\begin{pmatrix}\n",
        "A_{k}  \\\\\n",
        "B_{k} \n",
        "\\end{pmatrix} $$\n",
        "\n",
        "Now it is easy to find dispersion relation which in this case is given by the following expresion,\n",
        "$$E(k)=\\pm \\sqrt{v^2+w^2+2vw\\cos{k}} .$$\n",
        "\n",
        "Now because we have used Fourier transform we tacitly impose boundary conditions. To procedure further we have to build an infinite system. In order to do this, we need to add leads. "
      ],
      "metadata": {
        "id": "tfxDQ2143wpt"
      },
      "id": "tfxDQ2143wpt"
    },
    {
      "cell_type": "code",
      "source": [
        "def ssh_model_with_leads(v=1.0, w=0.5):\n",
        "    L=200\n",
        "    a=1\n",
        "    # Start with an empty tight-binding system and a single square lattice.\n",
        "    # `a` is the lattice constant (by default set to 1 for simplicity.\n",
        "    syst = kwant.Builder()\n",
        "    \n",
        "    lat = kwant.lattice.Polyatomic([[2*a, 0]], [[0, 0], [a, 0]])\n",
        "    lat.a, lat.b = lat.sublattices\n",
        "    \n",
        "    for n in range(L):\n",
        "        syst[lat.a(n)] = 0\n",
        "        syst[lat.b(n)] = 0\n",
        "    \n",
        "    # Left hopping\n",
        "    for n in range(L):\n",
        "        syst[lat.a(n), lat.b(n)] = v\n",
        "        \n",
        "    # Left hopping\n",
        "    for n in range(1,L):\n",
        "        syst[lat.b(n-1), lat.a(n)] = w\n",
        "\n",
        "    # Add leads\n",
        "    sym_left_lead = kwant.TranslationalSymmetry([-2*a, 0])\n",
        "    left_lead = kwant.Builder(sym_left_lead)\n",
        "    left_lead[lat.a(0)] = 0\n",
        "    left_lead[lat.b(0)] = 0\n",
        "    left_lead[lat.a(0), lat.b(0)] = v\n",
        "    left_lead[lat.b(0), lat.a(-1)] = w\n",
        "    syst.attach_lead(left_lead)\n",
        "    left_lead = left_lead.finalized()\n",
        "\n",
        "    sym_right_lead = kwant.TranslationalSymmetry([2*a, 0])\n",
        "    right_lead = kwant.Builder(sym_right_lead)\n",
        "    right_lead[lat.a(0)] = 0\n",
        "    right_lead[lat.b(0)] = 0\n",
        "    right_lead[lat.a(0), lat.b(0)] = v\n",
        "    right_lead[lat.a(0), lat.a(1)] = w\n",
        "    syst.attach_lead(right_lead)\n",
        "           \n",
        "    syst = syst.finalized()\n",
        "    \n",
        "    return syst, left_lead"
      ],
      "metadata": {
        "id": "ELpfiwvV-LRy"
      },
      "id": "ELpfiwvV-LRy",
      "execution_count": 94,
      "outputs": []
    },
    {
      "cell_type": "markdown",
      "source": [
        "The KWANT give us a chance to plot an energy spectrum of such a model."
      ],
      "metadata": {
        "id": "h8QNjTA82WDA"
      },
      "id": "h8QNjTA82WDA"
    },
    {
      "cell_type": "code",
      "source": [
        "def plot_bandstructure(v,w):\n",
        "    momenta = np.linspace(-np.pi, np.pi, 200)\n",
        "    syst, left_lead = ssh_model_with_leads(v=v, w=w)\n",
        "    bands = kwant.physics.Bands(left_lead)\n",
        "    energies = [bands(k) for k in momenta]\n",
        "    \n",
        "    plt.figure()\n",
        "    plt.plot(momenta, energies)\n",
        "    plt.xlabel(\"momentum [(lattice constant)^-1]\")\n",
        "    plt.ylabel(\"energy [t]\")\n",
        "    plt.show()\n",
        "\n",
        "def SSH_spectrum_manipulate_momentum_space(v,w):\n",
        "  plot_probability(k_tab=k,w=w, eig_number=energies_number)\n",
        "\n",
        "interact(plot_bandstructure, v=(0.0,0.5,0.01), w=(0.0,0.5,0.01))"
      ],
      "metadata": {
        "id": "--HKZqXS4756",
        "outputId": "bd7c1051-c022-4e5e-9c2c-1471e0a8c0bc",
        "colab": {
          "base_uri": "https://localhost:8080/",
          "height": 360,
          "referenced_widgets": [
            "119369590e6d4965aa31d5fff06d617a",
            "7375852e559a4da1bf4bdc73d0ecbab3",
            "219396c984a241f2a1a6459fe6548d7b",
            "2cc3013e283749ab9d3ca4f107303704",
            "a4006bfb481a46edbb73db068734fa53",
            "9d2c7258728e4a3d8ecc4167a2fdfcf4",
            "bd6725a50def482ea37d6b7a312584b1",
            "6ce1fa07ce644bfe9136a59d4b08de2c",
            "0bda2547943b4c3a84a37d1c9fa0a273",
            "0945cfd3e7904979980d2f749f6364fa"
          ]
        }
      },
      "id": "--HKZqXS4756",
      "execution_count": 95,
      "outputs": [
        {
          "output_type": "display_data",
          "data": {
            "text/plain": [
              "interactive(children=(FloatSlider(value=0.25, description='v', max=0.5, step=0.01), FloatSlider(value=0.25, de…"
            ],
            "application/vnd.jupyter.widget-view+json": {
              "version_major": 2,
              "version_minor": 0,
              "model_id": "119369590e6d4965aa31d5fff06d617a"
            }
          },
          "metadata": {}
        },
        {
          "output_type": "execute_result",
          "data": {
            "text/plain": [
              "<function __main__.plot_bandstructure(v, w)>"
            ]
          },
          "metadata": {},
          "execution_count": 95
        }
      ]
    },
    {
      "cell_type": "code",
      "source": [
        "def plot_DOS(v, w):\n",
        "    momenta = np.linspace(-np.pi, np.pi, 200)\n",
        "    syst, left_lead=ssh_model_with_leads(v=v, w=w)\n",
        "    bands = kwant.physics.Bands(left_lead)\n",
        "    energies = [bands(k) for k in momenta]\n",
        "    \n",
        "    rho = kwant.kpm.SpectralDensity(syst,rng=0)\n",
        "    energies, densities = rho()\n",
        "    energy_subset = np.arange(-np.pi,np.pi,0.01)\n",
        "    density_subset = np.real(rho(energy_subset))\n",
        "    plt.plot(energy_subset,density_subset)\n",
        " \n",
        "interact(plot_DOS,v=(0.0,5,0.1),w=(0.0,5,0.1));\n",
        "plt.show()"
      ],
      "metadata": {
        "colab": {
          "base_uri": "https://localhost:8080/",
          "height": 329,
          "referenced_widgets": [
            "01ffb156c8cd4275b2bb901019103c76",
            "e1081eb806a44872aa94daddd19d72f2",
            "3d4d75b4804a4d05b2371006f4598e5a",
            "b9274892fab141b49622847c9b70db3c",
            "f3e57ef7c4994d5689aa0befe68f21f8",
            "a8bfb65c41f04bb9b5fe3b13ca8368b8",
            "ca94b9e3a75b45488e14cb093e5c4c98",
            "9f3a849149c2490a8a59103fd96c6ea8",
            "7abc068dd2114646a01a5bad146d4bde",
            "48d332a8e1bd4ed6bd97984a6a3819db"
          ]
        },
        "id": "7qRXwiXkAG47",
        "outputId": "94251dad-1689-426f-a9e9-a8b4ab1890c6"
      },
      "id": "7qRXwiXkAG47",
      "execution_count": 96,
      "outputs": [
        {
          "output_type": "display_data",
          "data": {
            "text/plain": [
              "interactive(children=(FloatSlider(value=2.5, description='v', max=5.0), FloatSlider(value=2.5, description='w'…"
            ],
            "application/vnd.jupyter.widget-view+json": {
              "version_major": 2,
              "version_minor": 0,
              "model_id": "01ffb156c8cd4275b2bb901019103c76"
            }
          },
          "metadata": {}
        }
      ]
    },
    {
      "cell_type": "markdown",
      "source": [
        "What you can see above it is a energy spectrum of a Hamiltonian after a Fourier transform. "
      ],
      "metadata": {
        "id": "gutY2RVt5i60"
      },
      "id": "gutY2RVt5i60"
    },
    {
      "cell_type": "code",
      "source": [
        "def ssh_model(v = 1, w = 1, L = 100, return_only_ham = 0):\n",
        "    \n",
        "    syst = kwant.Builder()\n",
        "    a = 1\n",
        "    lat = kwant.lattice.chain(a)\n",
        "\n",
        "    # Define the scattering region\n",
        "    for n in range(L):\n",
        "        syst[lat(n)] = 0\n",
        "\n",
        "    # Left hopping\n",
        "    for n in range(L):\n",
        "        if n%2:\n",
        "            syst[lat(n-1), lat(n)] = v\n",
        "\n",
        "    # Right hopping\n",
        "    for n in range(1,L):      \n",
        "        if not n%2:\n",
        "            syst[lat(n-1), lat(n)] = w\n",
        "\n",
        "    sym_left_lead = kwant.TranslationalSymmetry([-a])\n",
        "    left_lead = kwant.Builder(sym_left_lead)\n",
        "    left_lead[lat(0)] = 0\n",
        "    left_lead[lat(1), lat(0)] = v\n",
        "    left_lead[lat(2), lat(1)] = w\n",
        "    syst.attach_lead(left_lead)\n",
        "    left_lead_fin = left_lead.finalized()\n",
        "\n",
        "    sym_right_lead = kwant.TranslationalSymmetry([a])\n",
        "    right_lead = kwant.Builder(sym_right_lead)\n",
        "    right_lead[lat(0)] = 0\n",
        "    right_lead[lat(1), lat(0)] = v\n",
        "    right_lead[lat(2), lat(1)] = w\n",
        "    syst.attach_lead(right_lead)\n",
        "    right_lead_fin = right_lead.finalized()\n",
        "    \n",
        "    return syst.finalized()"
      ],
      "metadata": {
        "id": "amM3UNCu-NEf"
      },
      "id": "amM3UNCu-NEf",
      "execution_count": 97,
      "outputs": []
    },
    {
      "cell_type": "markdown",
      "source": [
        "Let us look at wave function of our system. Is easy to realise that it is apparently hight in the edge of our chain for topological regime."
      ],
      "metadata": {
        "id": "arvO2gYu5sSV"
      },
      "id": "arvO2gYu5sSV"
    },
    {
      "cell_type": "code",
      "source": [
        "def plot_probability(v,w,energy):\n",
        "    syst = ssh_model(v=v, w=w)\n",
        "    wf = kwant.solvers.default.wave_function(syst, energy)\n",
        "    L=100\n",
        "    p_1 = []\n",
        "    p_2 = []\n",
        "    for i in range(len(wf(0)[0])):\n",
        "        p_1.append(abs(wf(0)[0][i])**2)\n",
        "        p_2.append(abs(wf(1)[0][i])**2)\n",
        "    plt.plot(np.linspace(0,L,L), p_1, '-.')\n",
        "    plt.plot(np.linspace(0,L,L), p_2,  '-.')\n",
        "\n",
        "interact(plot_probability,v=(0,0.9,0.01),w=(0,0.9,0.01),energy=(0,1,0.1))"
      ],
      "metadata": {
        "id": "8CLBrXtw7nLi",
        "outputId": "dffd9970-f3fa-40fa-f6ef-928001e3ff98",
        "colab": {
          "base_uri": "https://localhost:8080/",
          "height": 389,
          "referenced_widgets": [
            "16ffbda938f54d668494afc44b9fa49f",
            "38a45e75f72c450e909f0133a9133203",
            "56ee6d0af4424937a8e81965a5325eb8",
            "fb1339b5f6a640a596bda190866775d0",
            "bab9828d70304cf2b030eac14616254b",
            "8b9661f877d1411f9b5463d01faf8b81",
            "7ae63fd010f1443c8eff253d54b751aa",
            "d5792794b8304ebf938048133c6be9cc",
            "630291fc9ba9445ea541471c7c6b371d",
            "baffd787cd4c4fb5a0569cd7d834b0c8",
            "131ea995b4b2460da8538308717e6959",
            "abf5207989b0491a9d4b69d17afdfef6",
            "cc7d3e0bce744633ad2d4ab7e41f7d58"
          ]
        }
      },
      "id": "8CLBrXtw7nLi",
      "execution_count": 99,
      "outputs": [
        {
          "output_type": "display_data",
          "data": {
            "text/plain": [
              "interactive(children=(FloatSlider(value=0.45, description='v', max=0.9, step=0.01), FloatSlider(value=0.45, de…"
            ],
            "application/vnd.jupyter.widget-view+json": {
              "version_major": 2,
              "version_minor": 0,
              "model_id": "16ffbda938f54d668494afc44b9fa49f"
            }
          },
          "metadata": {}
        },
        {
          "output_type": "execute_result",
          "data": {
            "text/plain": [
              "<function __main__.plot_probability(v, w, energy)>"
            ]
          },
          "metadata": {},
          "execution_count": 99
        }
      ]
    },
    {
      "cell_type": "markdown",
      "source": [],
      "metadata": {
        "id": "-Xq8swl5bhSZ"
      },
      "id": "-Xq8swl5bhSZ"
    },
    {
      "cell_type": "markdown",
      "source": [],
      "metadata": {
        "id": "8TfYsnpibBIS"
      },
      "id": "8TfYsnpibBIS"
    }
  ],
  "metadata": {
    "colab": {
      "provenance": [],
      "include_colab_link": true
    },
    "kernelspec": {
      "display_name": "Python 3",
      "language": "python",
      "name": "python3"
    },
    "language_info": {
      "codemirror_mode": {
        "name": "ipython",
        "version": 3
      },
      "file_extension": ".py",
      "mimetype": "text/x-python",
      "name": "python",
      "nbconvert_exporter": "python",
      "pygments_lexer": "ipython3",
      "version": "3.6.13"
    },
    "widgets": {
      "application/vnd.jupyter.widget-state+json": {
        "2ee0c329352c41c99b3a12bbe4ae5f7f": {
          "model_module": "@jupyter-widgets/controls",
          "model_name": "VBoxModel",
          "model_module_version": "1.5.0",
          "state": {
            "_dom_classes": [
              "widget-interact"
            ],
            "_model_module": "@jupyter-widgets/controls",
            "_model_module_version": "1.5.0",
            "_model_name": "VBoxModel",
            "_view_count": null,
            "_view_module": "@jupyter-widgets/controls",
            "_view_module_version": "1.5.0",
            "_view_name": "VBoxView",
            "box_style": "",
            "children": [
              "IPY_MODEL_af3b99f7b8c0494a8379692528c8d96f",
              "IPY_MODEL_1ac0d04a63af4a02ab86bc449a06bb8c",
              "IPY_MODEL_256b535c2cd0417783247c0457cb2b12"
            ],
            "layout": "IPY_MODEL_0f43a12747a948caa6607a9542b91316"
          }
        },
        "af3b99f7b8c0494a8379692528c8d96f": {
          "model_module": "@jupyter-widgets/controls",
          "model_name": "FloatSliderModel",
          "model_module_version": "1.5.0",
          "state": {
            "_dom_classes": [],
            "_model_module": "@jupyter-widgets/controls",
            "_model_module_version": "1.5.0",
            "_model_name": "FloatSliderModel",
            "_view_count": null,
            "_view_module": "@jupyter-widgets/controls",
            "_view_module_version": "1.5.0",
            "_view_name": "FloatSliderView",
            "continuous_update": true,
            "description": "v",
            "description_tooltip": null,
            "disabled": false,
            "layout": "IPY_MODEL_a8027028a247474d8a8b71ee9078f34c",
            "max": 1,
            "min": 0,
            "orientation": "horizontal",
            "readout": true,
            "readout_format": ".2f",
            "step": 0.1,
            "style": "IPY_MODEL_16c017bc56ec48fca53b4823f2ef7e59",
            "value": 0
          }
        },
        "1ac0d04a63af4a02ab86bc449a06bb8c": {
          "model_module": "@jupyter-widgets/controls",
          "model_name": "FloatSliderModel",
          "model_module_version": "1.5.0",
          "state": {
            "_dom_classes": [],
            "_model_module": "@jupyter-widgets/controls",
            "_model_module_version": "1.5.0",
            "_model_name": "FloatSliderModel",
            "_view_count": null,
            "_view_module": "@jupyter-widgets/controls",
            "_view_module_version": "1.5.0",
            "_view_name": "FloatSliderView",
            "continuous_update": true,
            "description": "w",
            "description_tooltip": null,
            "disabled": false,
            "layout": "IPY_MODEL_7d41e75957b746e7bb37c7412c21b46f",
            "max": 1,
            "min": 0,
            "orientation": "horizontal",
            "readout": true,
            "readout_format": ".2f",
            "step": 0.1,
            "style": "IPY_MODEL_1a89dc2709d84d228a88c2b2ff153213",
            "value": 0
          }
        },
        "256b535c2cd0417783247c0457cb2b12": {
          "model_module": "@jupyter-widgets/output",
          "model_name": "OutputModel",
          "model_module_version": "1.0.0",
          "state": {
            "_dom_classes": [],
            "_model_module": "@jupyter-widgets/output",
            "_model_module_version": "1.0.0",
            "_model_name": "OutputModel",
            "_view_count": null,
            "_view_module": "@jupyter-widgets/output",
            "_view_module_version": "1.0.0",
            "_view_name": "OutputView",
            "layout": "IPY_MODEL_bf9b6d3807064a258dc55a6bf967aeab",
            "msg_id": "",
            "outputs": [
              {
                "output_type": "display_data",
                "data": {
                  "text/plain": "<Figure size 432x288 with 1 Axes>",
                  "image/png": "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\n"
                },
                "metadata": {
                  "needs_background": "light"
                }
              }
            ]
          }
        },
        "0f43a12747a948caa6607a9542b91316": {
          "model_module": "@jupyter-widgets/base",
          "model_name": "LayoutModel",
          "model_module_version": "1.2.0",
          "state": {
            "_model_module": "@jupyter-widgets/base",
            "_model_module_version": "1.2.0",
            "_model_name": "LayoutModel",
            "_view_count": null,
            "_view_module": "@jupyter-widgets/base",
            "_view_module_version": "1.2.0",
            "_view_name": "LayoutView",
            "align_content": null,
            "align_items": null,
            "align_self": null,
            "border": null,
            "bottom": null,
            "display": null,
            "flex": null,
            "flex_flow": null,
            "grid_area": null,
            "grid_auto_columns": null,
            "grid_auto_flow": null,
            "grid_auto_rows": null,
            "grid_column": null,
            "grid_gap": null,
            "grid_row": null,
            "grid_template_areas": null,
            "grid_template_columns": null,
            "grid_template_rows": null,
            "height": null,
            "justify_content": null,
            "justify_items": null,
            "left": null,
            "margin": null,
            "max_height": null,
            "max_width": null,
            "min_height": null,
            "min_width": null,
            "object_fit": null,
            "object_position": null,
            "order": null,
            "overflow": null,
            "overflow_x": null,
            "overflow_y": null,
            "padding": null,
            "right": null,
            "top": null,
            "visibility": null,
            "width": null
          }
        },
        "a8027028a247474d8a8b71ee9078f34c": {
          "model_module": "@jupyter-widgets/base",
          "model_name": "LayoutModel",
          "model_module_version": "1.2.0",
          "state": {
            "_model_module": "@jupyter-widgets/base",
            "_model_module_version": "1.2.0",
            "_model_name": "LayoutModel",
            "_view_count": null,
            "_view_module": "@jupyter-widgets/base",
            "_view_module_version": "1.2.0",
            "_view_name": "LayoutView",
            "align_content": null,
            "align_items": null,
            "align_self": null,
            "border": null,
            "bottom": null,
            "display": null,
            "flex": null,
            "flex_flow": null,
            "grid_area": null,
            "grid_auto_columns": null,
            "grid_auto_flow": null,
            "grid_auto_rows": null,
            "grid_column": null,
            "grid_gap": null,
            "grid_row": null,
            "grid_template_areas": null,
            "grid_template_columns": null,
            "grid_template_rows": null,
            "height": null,
            "justify_content": null,
            "justify_items": null,
            "left": null,
            "margin": null,
            "max_height": null,
            "max_width": null,
            "min_height": null,
            "min_width": null,
            "object_fit": null,
            "object_position": null,
            "order": null,
            "overflow": null,
            "overflow_x": null,
            "overflow_y": null,
            "padding": null,
            "right": null,
            "top": null,
            "visibility": null,
            "width": null
          }
        },
        "16c017bc56ec48fca53b4823f2ef7e59": {
          "model_module": "@jupyter-widgets/controls",
          "model_name": "SliderStyleModel",
          "model_module_version": "1.5.0",
          "state": {
            "_model_module": "@jupyter-widgets/controls",
            "_model_module_version": "1.5.0",
            "_model_name": "SliderStyleModel",
            "_view_count": null,
            "_view_module": "@jupyter-widgets/base",
            "_view_module_version": "1.2.0",
            "_view_name": "StyleView",
            "description_width": "",
            "handle_color": null
          }
        },
        "7d41e75957b746e7bb37c7412c21b46f": {
          "model_module": "@jupyter-widgets/base",
          "model_name": "LayoutModel",
          "model_module_version": "1.2.0",
          "state": {
            "_model_module": "@jupyter-widgets/base",
            "_model_module_version": "1.2.0",
            "_model_name": "LayoutModel",
            "_view_count": null,
            "_view_module": "@jupyter-widgets/base",
            "_view_module_version": "1.2.0",
            "_view_name": "LayoutView",
            "align_content": null,
            "align_items": null,
            "align_self": null,
            "border": null,
            "bottom": null,
            "display": null,
            "flex": null,
            "flex_flow": null,
            "grid_area": null,
            "grid_auto_columns": null,
            "grid_auto_flow": null,
            "grid_auto_rows": null,
            "grid_column": null,
            "grid_gap": null,
            "grid_row": null,
            "grid_template_areas": null,
            "grid_template_columns": null,
            "grid_template_rows": null,
            "height": null,
            "justify_content": null,
            "justify_items": null,
            "left": null,
            "margin": null,
            "max_height": null,
            "max_width": null,
            "min_height": null,
            "min_width": null,
            "object_fit": null,
            "object_position": null,
            "order": null,
            "overflow": null,
            "overflow_x": null,
            "overflow_y": null,
            "padding": null,
            "right": null,
            "top": null,
            "visibility": null,
            "width": null
          }
        },
        "1a89dc2709d84d228a88c2b2ff153213": {
          "model_module": "@jupyter-widgets/controls",
          "model_name": "SliderStyleModel",
          "model_module_version": "1.5.0",
          "state": {
            "_model_module": "@jupyter-widgets/controls",
            "_model_module_version": "1.5.0",
            "_model_name": "SliderStyleModel",
            "_view_count": null,
            "_view_module": "@jupyter-widgets/base",
            "_view_module_version": "1.2.0",
            "_view_name": "StyleView",
            "description_width": "",
            "handle_color": null
          }
        },
        "bf9b6d3807064a258dc55a6bf967aeab": {
          "model_module": "@jupyter-widgets/base",
          "model_name": "LayoutModel",
          "model_module_version": "1.2.0",
          "state": {
            "_model_module": "@jupyter-widgets/base",
            "_model_module_version": "1.2.0",
            "_model_name": "LayoutModel",
            "_view_count": null,
            "_view_module": "@jupyter-widgets/base",
            "_view_module_version": "1.2.0",
            "_view_name": "LayoutView",
            "align_content": null,
            "align_items": null,
            "align_self": null,
            "border": null,
            "bottom": null,
            "display": null,
            "flex": null,
            "flex_flow": null,
            "grid_area": null,
            "grid_auto_columns": null,
            "grid_auto_flow": null,
            "grid_auto_rows": null,
            "grid_column": null,
            "grid_gap": null,
            "grid_row": null,
            "grid_template_areas": null,
            "grid_template_columns": null,
            "grid_template_rows": null,
            "height": null,
            "justify_content": null,
            "justify_items": null,
            "left": null,
            "margin": null,
            "max_height": null,
            "max_width": null,
            "min_height": null,
            "min_width": null,
            "object_fit": null,
            "object_position": null,
            "order": null,
            "overflow": null,
            "overflow_x": null,
            "overflow_y": null,
            "padding": null,
            "right": null,
            "top": null,
            "visibility": null,
            "width": null
          }
        },
        "d54761744b484755b2c9213f7e3a2edb": {
          "model_module": "@jupyter-widgets/controls",
          "model_name": "VBoxModel",
          "model_module_version": "1.5.0",
          "state": {
            "_dom_classes": [
              "widget-interact"
            ],
            "_model_module": "@jupyter-widgets/controls",
            "_model_module_version": "1.5.0",
            "_model_name": "VBoxModel",
            "_view_count": null,
            "_view_module": "@jupyter-widgets/controls",
            "_view_module_version": "1.5.0",
            "_view_name": "VBoxView",
            "box_style": "",
            "children": [
              "IPY_MODEL_311c9397fe1346619a0d7cbf991cf9a5",
              "IPY_MODEL_6fafc187b6bf46c5bb871c106022b550",
              "IPY_MODEL_661b7d430a894bcd895c929fe3e2a931"
            ],
            "layout": "IPY_MODEL_e318fd55f0e24003b06944fcde241888"
          }
        },
        "311c9397fe1346619a0d7cbf991cf9a5": {
          "model_module": "@jupyter-widgets/controls",
          "model_name": "FloatSliderModel",
          "model_module_version": "1.5.0",
          "state": {
            "_dom_classes": [],
            "_model_module": "@jupyter-widgets/controls",
            "_model_module_version": "1.5.0",
            "_model_name": "FloatSliderModel",
            "_view_count": null,
            "_view_module": "@jupyter-widgets/controls",
            "_view_module_version": "1.5.0",
            "_view_name": "FloatSliderView",
            "continuous_update": true,
            "description": "v",
            "description_tooltip": null,
            "disabled": false,
            "layout": "IPY_MODEL_517cb8da41664e599f90ff70662924ce",
            "max": 5,
            "min": 0,
            "orientation": "horizontal",
            "readout": true,
            "readout_format": ".2f",
            "step": 0.1,
            "style": "IPY_MODEL_3c3ec1a1ed06424f921a88bd4ff813a5",
            "value": 2.1
          }
        },
        "6fafc187b6bf46c5bb871c106022b550": {
          "model_module": "@jupyter-widgets/controls",
          "model_name": "FloatSliderModel",
          "model_module_version": "1.5.0",
          "state": {
            "_dom_classes": [],
            "_model_module": "@jupyter-widgets/controls",
            "_model_module_version": "1.5.0",
            "_model_name": "FloatSliderModel",
            "_view_count": null,
            "_view_module": "@jupyter-widgets/controls",
            "_view_module_version": "1.5.0",
            "_view_name": "FloatSliderView",
            "continuous_update": true,
            "description": "w",
            "description_tooltip": null,
            "disabled": false,
            "layout": "IPY_MODEL_52460dd4ba5b4ce088bf03879abf2547",
            "max": 5,
            "min": 0,
            "orientation": "horizontal",
            "readout": true,
            "readout_format": ".2f",
            "step": 0.1,
            "style": "IPY_MODEL_63a96575ae6e4014b85f85978b7ed35e",
            "value": 3.9
          }
        },
        "661b7d430a894bcd895c929fe3e2a931": {
          "model_module": "@jupyter-widgets/output",
          "model_name": "OutputModel",
          "model_module_version": "1.0.0",
          "state": {
            "_dom_classes": [],
            "_model_module": "@jupyter-widgets/output",
            "_model_module_version": "1.0.0",
            "_model_name": "OutputModel",
            "_view_count": null,
            "_view_module": "@jupyter-widgets/output",
            "_view_module_version": "1.0.0",
            "_view_name": "OutputView",
            "layout": "IPY_MODEL_483aea6096cb4bd5a91d94cd7b42f9a6",
            "msg_id": "",
            "outputs": [
              {
                "output_type": "display_data",
                "data": {
                  "text/plain": "<Figure size 360x288 with 2 Axes>",
                  "image/png": "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\n"
                },
                "metadata": {
                  "needs_background": "light"
                }
              }
            ]
          }
        },
        "e318fd55f0e24003b06944fcde241888": {
          "model_module": "@jupyter-widgets/base",
          "model_name": "LayoutModel",
          "model_module_version": "1.2.0",
          "state": {
            "_model_module": "@jupyter-widgets/base",
            "_model_module_version": "1.2.0",
            "_model_name": "LayoutModel",
            "_view_count": null,
            "_view_module": "@jupyter-widgets/base",
            "_view_module_version": "1.2.0",
            "_view_name": "LayoutView",
            "align_content": null,
            "align_items": null,
            "align_self": null,
            "border": null,
            "bottom": null,
            "display": null,
            "flex": null,
            "flex_flow": null,
            "grid_area": null,
            "grid_auto_columns": null,
            "grid_auto_flow": null,
            "grid_auto_rows": null,
            "grid_column": null,
            "grid_gap": null,
            "grid_row": null,
            "grid_template_areas": null,
            "grid_template_columns": null,
            "grid_template_rows": null,
            "height": null,
            "justify_content": null,
            "justify_items": null,
            "left": null,
            "margin": null,
            "max_height": null,
            "max_width": null,
            "min_height": null,
            "min_width": null,
            "object_fit": null,
            "object_position": null,
            "order": null,
            "overflow": null,
            "overflow_x": null,
            "overflow_y": null,
            "padding": null,
            "right": null,
            "top": null,
            "visibility": null,
            "width": null
          }
        },
        "517cb8da41664e599f90ff70662924ce": {
          "model_module": "@jupyter-widgets/base",
          "model_name": "LayoutModel",
          "model_module_version": "1.2.0",
          "state": {
            "_model_module": "@jupyter-widgets/base",
            "_model_module_version": "1.2.0",
            "_model_name": "LayoutModel",
            "_view_count": null,
            "_view_module": "@jupyter-widgets/base",
            "_view_module_version": "1.2.0",
            "_view_name": "LayoutView",
            "align_content": null,
            "align_items": null,
            "align_self": null,
            "border": null,
            "bottom": null,
            "display": null,
            "flex": null,
            "flex_flow": null,
            "grid_area": null,
            "grid_auto_columns": null,
            "grid_auto_flow": null,
            "grid_auto_rows": null,
            "grid_column": null,
            "grid_gap": null,
            "grid_row": null,
            "grid_template_areas": null,
            "grid_template_columns": null,
            "grid_template_rows": null,
            "height": null,
            "justify_content": null,
            "justify_items": null,
            "left": null,
            "margin": null,
            "max_height": null,
            "max_width": null,
            "min_height": null,
            "min_width": null,
            "object_fit": null,
            "object_position": null,
            "order": null,
            "overflow": null,
            "overflow_x": null,
            "overflow_y": null,
            "padding": null,
            "right": null,
            "top": null,
            "visibility": null,
            "width": null
          }
        },
        "3c3ec1a1ed06424f921a88bd4ff813a5": {
          "model_module": "@jupyter-widgets/controls",
          "model_name": "SliderStyleModel",
          "model_module_version": "1.5.0",
          "state": {
            "_model_module": "@jupyter-widgets/controls",
            "_model_module_version": "1.5.0",
            "_model_name": "SliderStyleModel",
            "_view_count": null,
            "_view_module": "@jupyter-widgets/base",
            "_view_module_version": "1.2.0",
            "_view_name": "StyleView",
            "description_width": "",
            "handle_color": null
          }
        },
        "52460dd4ba5b4ce088bf03879abf2547": {
          "model_module": "@jupyter-widgets/base",
          "model_name": "LayoutModel",
          "model_module_version": "1.2.0",
          "state": {
            "_model_module": "@jupyter-widgets/base",
            "_model_module_version": "1.2.0",
            "_model_name": "LayoutModel",
            "_view_count": null,
            "_view_module": "@jupyter-widgets/base",
            "_view_module_version": "1.2.0",
            "_view_name": "LayoutView",
            "align_content": null,
            "align_items": null,
            "align_self": null,
            "border": null,
            "bottom": null,
            "display": null,
            "flex": null,
            "flex_flow": null,
            "grid_area": null,
            "grid_auto_columns": null,
            "grid_auto_flow": null,
            "grid_auto_rows": null,
            "grid_column": null,
            "grid_gap": null,
            "grid_row": null,
            "grid_template_areas": null,
            "grid_template_columns": null,
            "grid_template_rows": null,
            "height": null,
            "justify_content": null,
            "justify_items": null,
            "left": null,
            "margin": null,
            "max_height": null,
            "max_width": null,
            "min_height": null,
            "min_width": null,
            "object_fit": null,
            "object_position": null,
            "order": null,
            "overflow": null,
            "overflow_x": null,
            "overflow_y": null,
            "padding": null,
            "right": null,
            "top": null,
            "visibility": null,
            "width": null
          }
        },
        "63a96575ae6e4014b85f85978b7ed35e": {
          "model_module": "@jupyter-widgets/controls",
          "model_name": "SliderStyleModel",
          "model_module_version": "1.5.0",
          "state": {
            "_model_module": "@jupyter-widgets/controls",
            "_model_module_version": "1.5.0",
            "_model_name": "SliderStyleModel",
            "_view_count": null,
            "_view_module": "@jupyter-widgets/base",
            "_view_module_version": "1.2.0",
            "_view_name": "StyleView",
            "description_width": "",
            "handle_color": null
          }
        },
        "483aea6096cb4bd5a91d94cd7b42f9a6": {
          "model_module": "@jupyter-widgets/base",
          "model_name": "LayoutModel",
          "model_module_version": "1.2.0",
          "state": {
            "_model_module": "@jupyter-widgets/base",
            "_model_module_version": "1.2.0",
            "_model_name": "LayoutModel",
            "_view_count": null,
            "_view_module": "@jupyter-widgets/base",
            "_view_module_version": "1.2.0",
            "_view_name": "LayoutView",
            "align_content": null,
            "align_items": null,
            "align_self": null,
            "border": null,
            "bottom": null,
            "display": null,
            "flex": null,
            "flex_flow": null,
            "grid_area": null,
            "grid_auto_columns": null,
            "grid_auto_flow": null,
            "grid_auto_rows": null,
            "grid_column": null,
            "grid_gap": null,
            "grid_row": null,
            "grid_template_areas": null,
            "grid_template_columns": null,
            "grid_template_rows": null,
            "height": null,
            "justify_content": null,
            "justify_items": null,
            "left": null,
            "margin": null,
            "max_height": null,
            "max_width": null,
            "min_height": null,
            "min_width": null,
            "object_fit": null,
            "object_position": null,
            "order": null,
            "overflow": null,
            "overflow_x": null,
            "overflow_y": null,
            "padding": null,
            "right": null,
            "top": null,
            "visibility": null,
            "width": null
          }
        },
        "9b18906f42544e4c90a06bc15a3dac24": {
          "model_module": "@jupyter-widgets/controls",
          "model_name": "VBoxModel",
          "model_module_version": "1.5.0",
          "state": {
            "_dom_classes": [
              "widget-interact"
            ],
            "_model_module": "@jupyter-widgets/controls",
            "_model_module_version": "1.5.0",
            "_model_name": "VBoxModel",
            "_view_count": null,
            "_view_module": "@jupyter-widgets/controls",
            "_view_module_version": "1.5.0",
            "_view_name": "VBoxView",
            "box_style": "",
            "children": [
              "IPY_MODEL_476e09a5a15b43beb4013daf2cb611ba",
              "IPY_MODEL_e2500341f8894267a66743f5e66ce9e1"
            ],
            "layout": "IPY_MODEL_5219ec02218f4fce9ff4d9ed57f4d06f"
          }
        },
        "476e09a5a15b43beb4013daf2cb611ba": {
          "model_module": "@jupyter-widgets/controls",
          "model_name": "FloatSliderModel",
          "model_module_version": "1.5.0",
          "state": {
            "_dom_classes": [],
            "_model_module": "@jupyter-widgets/controls",
            "_model_module_version": "1.5.0",
            "_model_name": "FloatSliderModel",
            "_view_count": null,
            "_view_module": "@jupyter-widgets/controls",
            "_view_module_version": "1.5.0",
            "_view_name": "FloatSliderView",
            "continuous_update": true,
            "description": "w",
            "description_tooltip": null,
            "disabled": false,
            "layout": "IPY_MODEL_567995cfaa53433386932610cab68f84",
            "max": 0.5,
            "min": 0.1,
            "orientation": "horizontal",
            "readout": true,
            "readout_format": ".2f",
            "step": 0.1,
            "style": "IPY_MODEL_404bb1c1f381496b86ecb7cdd029bb15",
            "value": 0.2
          }
        },
        "e2500341f8894267a66743f5e66ce9e1": {
          "model_module": "@jupyter-widgets/output",
          "model_name": "OutputModel",
          "model_module_version": "1.0.0",
          "state": {
            "_dom_classes": [],
            "_model_module": "@jupyter-widgets/output",
            "_model_module_version": "1.0.0",
            "_model_name": "OutputModel",
            "_view_count": null,
            "_view_module": "@jupyter-widgets/output",
            "_view_module_version": "1.0.0",
            "_view_name": "OutputView",
            "layout": "IPY_MODEL_cd5b85f9ec67400481d7cb6242a02453",
            "msg_id": "",
            "outputs": [
              {
                "output_type": "display_data",
                "data": {
                  "text/plain": "<Figure size 432x288 with 1 Axes>",
                  "image/png": "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\n"
                },
                "metadata": {
                  "needs_background": "light"
                }
              }
            ]
          }
        },
        "5219ec02218f4fce9ff4d9ed57f4d06f": {
          "model_module": "@jupyter-widgets/base",
          "model_name": "LayoutModel",
          "model_module_version": "1.2.0",
          "state": {
            "_model_module": "@jupyter-widgets/base",
            "_model_module_version": "1.2.0",
            "_model_name": "LayoutModel",
            "_view_count": null,
            "_view_module": "@jupyter-widgets/base",
            "_view_module_version": "1.2.0",
            "_view_name": "LayoutView",
            "align_content": null,
            "align_items": null,
            "align_self": null,
            "border": null,
            "bottom": null,
            "display": null,
            "flex": null,
            "flex_flow": null,
            "grid_area": null,
            "grid_auto_columns": null,
            "grid_auto_flow": null,
            "grid_auto_rows": null,
            "grid_column": null,
            "grid_gap": null,
            "grid_row": null,
            "grid_template_areas": null,
            "grid_template_columns": null,
            "grid_template_rows": null,
            "height": null,
            "justify_content": null,
            "justify_items": null,
            "left": null,
            "margin": null,
            "max_height": null,
            "max_width": null,
            "min_height": null,
            "min_width": null,
            "object_fit": null,
            "object_position": null,
            "order": null,
            "overflow": null,
            "overflow_x": null,
            "overflow_y": null,
            "padding": null,
            "right": null,
            "top": null,
            "visibility": null,
            "width": null
          }
        },
        "567995cfaa53433386932610cab68f84": {
          "model_module": "@jupyter-widgets/base",
          "model_name": "LayoutModel",
          "model_module_version": "1.2.0",
          "state": {
            "_model_module": "@jupyter-widgets/base",
            "_model_module_version": "1.2.0",
            "_model_name": "LayoutModel",
            "_view_count": null,
            "_view_module": "@jupyter-widgets/base",
            "_view_module_version": "1.2.0",
            "_view_name": "LayoutView",
            "align_content": null,
            "align_items": null,
            "align_self": null,
            "border": null,
            "bottom": null,
            "display": null,
            "flex": null,
            "flex_flow": null,
            "grid_area": null,
            "grid_auto_columns": null,
            "grid_auto_flow": null,
            "grid_auto_rows": null,
            "grid_column": null,
            "grid_gap": null,
            "grid_row": null,
            "grid_template_areas": null,
            "grid_template_columns": null,
            "grid_template_rows": null,
            "height": null,
            "justify_content": null,
            "justify_items": null,
            "left": null,
            "margin": null,
            "max_height": null,
            "max_width": null,
            "min_height": null,
            "min_width": null,
            "object_fit": null,
            "object_position": null,
            "order": null,
            "overflow": null,
            "overflow_x": null,
            "overflow_y": null,
            "padding": null,
            "right": null,
            "top": null,
            "visibility": null,
            "width": null
          }
        },
        "404bb1c1f381496b86ecb7cdd029bb15": {
          "model_module": "@jupyter-widgets/controls",
          "model_name": "SliderStyleModel",
          "model_module_version": "1.5.0",
          "state": {
            "_model_module": "@jupyter-widgets/controls",
            "_model_module_version": "1.5.0",
            "_model_name": "SliderStyleModel",
            "_view_count": null,
            "_view_module": "@jupyter-widgets/base",
            "_view_module_version": "1.2.0",
            "_view_name": "StyleView",
            "description_width": "",
            "handle_color": null
          }
        },
        "cd5b85f9ec67400481d7cb6242a02453": {
          "model_module": "@jupyter-widgets/base",
          "model_name": "LayoutModel",
          "model_module_version": "1.2.0",
          "state": {
            "_model_module": "@jupyter-widgets/base",
            "_model_module_version": "1.2.0",
            "_model_name": "LayoutModel",
            "_view_count": null,
            "_view_module": "@jupyter-widgets/base",
            "_view_module_version": "1.2.0",
            "_view_name": "LayoutView",
            "align_content": null,
            "align_items": null,
            "align_self": null,
            "border": null,
            "bottom": null,
            "display": null,
            "flex": null,
            "flex_flow": null,
            "grid_area": null,
            "grid_auto_columns": null,
            "grid_auto_flow": null,
            "grid_auto_rows": null,
            "grid_column": null,
            "grid_gap": null,
            "grid_row": null,
            "grid_template_areas": null,
            "grid_template_columns": null,
            "grid_template_rows": null,
            "height": null,
            "justify_content": null,
            "justify_items": null,
            "left": null,
            "margin": null,
            "max_height": null,
            "max_width": null,
            "min_height": null,
            "min_width": null,
            "object_fit": null,
            "object_position": null,
            "order": null,
            "overflow": null,
            "overflow_x": null,
            "overflow_y": null,
            "padding": null,
            "right": null,
            "top": null,
            "visibility": null,
            "width": null
          }
        },
        "119369590e6d4965aa31d5fff06d617a": {
          "model_module": "@jupyter-widgets/controls",
          "model_name": "VBoxModel",
          "model_module_version": "1.5.0",
          "state": {
            "_dom_classes": [
              "widget-interact"
            ],
            "_model_module": "@jupyter-widgets/controls",
            "_model_module_version": "1.5.0",
            "_model_name": "VBoxModel",
            "_view_count": null,
            "_view_module": "@jupyter-widgets/controls",
            "_view_module_version": "1.5.0",
            "_view_name": "VBoxView",
            "box_style": "",
            "children": [
              "IPY_MODEL_7375852e559a4da1bf4bdc73d0ecbab3",
              "IPY_MODEL_219396c984a241f2a1a6459fe6548d7b",
              "IPY_MODEL_2cc3013e283749ab9d3ca4f107303704"
            ],
            "layout": "IPY_MODEL_a4006bfb481a46edbb73db068734fa53"
          }
        },
        "7375852e559a4da1bf4bdc73d0ecbab3": {
          "model_module": "@jupyter-widgets/controls",
          "model_name": "FloatSliderModel",
          "model_module_version": "1.5.0",
          "state": {
            "_dom_classes": [],
            "_model_module": "@jupyter-widgets/controls",
            "_model_module_version": "1.5.0",
            "_model_name": "FloatSliderModel",
            "_view_count": null,
            "_view_module": "@jupyter-widgets/controls",
            "_view_module_version": "1.5.0",
            "_view_name": "FloatSliderView",
            "continuous_update": true,
            "description": "v",
            "description_tooltip": null,
            "disabled": false,
            "layout": "IPY_MODEL_9d2c7258728e4a3d8ecc4167a2fdfcf4",
            "max": 0.5,
            "min": 0,
            "orientation": "horizontal",
            "readout": true,
            "readout_format": ".2f",
            "step": 0.01,
            "style": "IPY_MODEL_bd6725a50def482ea37d6b7a312584b1",
            "value": 0.13
          }
        },
        "219396c984a241f2a1a6459fe6548d7b": {
          "model_module": "@jupyter-widgets/controls",
          "model_name": "FloatSliderModel",
          "model_module_version": "1.5.0",
          "state": {
            "_dom_classes": [],
            "_model_module": "@jupyter-widgets/controls",
            "_model_module_version": "1.5.0",
            "_model_name": "FloatSliderModel",
            "_view_count": null,
            "_view_module": "@jupyter-widgets/controls",
            "_view_module_version": "1.5.0",
            "_view_name": "FloatSliderView",
            "continuous_update": true,
            "description": "w",
            "description_tooltip": null,
            "disabled": false,
            "layout": "IPY_MODEL_6ce1fa07ce644bfe9136a59d4b08de2c",
            "max": 0.5,
            "min": 0,
            "orientation": "horizontal",
            "readout": true,
            "readout_format": ".2f",
            "step": 0.01,
            "style": "IPY_MODEL_0bda2547943b4c3a84a37d1c9fa0a273",
            "value": 0.37
          }
        },
        "2cc3013e283749ab9d3ca4f107303704": {
          "model_module": "@jupyter-widgets/output",
          "model_name": "OutputModel",
          "model_module_version": "1.0.0",
          "state": {
            "_dom_classes": [],
            "_model_module": "@jupyter-widgets/output",
            "_model_module_version": "1.0.0",
            "_model_name": "OutputModel",
            "_view_count": null,
            "_view_module": "@jupyter-widgets/output",
            "_view_module_version": "1.0.0",
            "_view_name": "OutputView",
            "layout": "IPY_MODEL_0945cfd3e7904979980d2f749f6364fa",
            "msg_id": "",
            "outputs": [
              {
                "output_type": "display_data",
                "data": {
                  "text/plain": "<Figure size 432x288 with 1 Axes>",
                  "image/png": "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\n"
                },
                "metadata": {
                  "needs_background": "light"
                }
              }
            ]
          }
        },
        "a4006bfb481a46edbb73db068734fa53": {
          "model_module": "@jupyter-widgets/base",
          "model_name": "LayoutModel",
          "model_module_version": "1.2.0",
          "state": {
            "_model_module": "@jupyter-widgets/base",
            "_model_module_version": "1.2.0",
            "_model_name": "LayoutModel",
            "_view_count": null,
            "_view_module": "@jupyter-widgets/base",
            "_view_module_version": "1.2.0",
            "_view_name": "LayoutView",
            "align_content": null,
            "align_items": null,
            "align_self": null,
            "border": null,
            "bottom": null,
            "display": null,
            "flex": null,
            "flex_flow": null,
            "grid_area": null,
            "grid_auto_columns": null,
            "grid_auto_flow": null,
            "grid_auto_rows": null,
            "grid_column": null,
            "grid_gap": null,
            "grid_row": null,
            "grid_template_areas": null,
            "grid_template_columns": null,
            "grid_template_rows": null,
            "height": null,
            "justify_content": null,
            "justify_items": null,
            "left": null,
            "margin": null,
            "max_height": null,
            "max_width": null,
            "min_height": null,
            "min_width": null,
            "object_fit": null,
            "object_position": null,
            "order": null,
            "overflow": null,
            "overflow_x": null,
            "overflow_y": null,
            "padding": null,
            "right": null,
            "top": null,
            "visibility": null,
            "width": null
          }
        },
        "9d2c7258728e4a3d8ecc4167a2fdfcf4": {
          "model_module": "@jupyter-widgets/base",
          "model_name": "LayoutModel",
          "model_module_version": "1.2.0",
          "state": {
            "_model_module": "@jupyter-widgets/base",
            "_model_module_version": "1.2.0",
            "_model_name": "LayoutModel",
            "_view_count": null,
            "_view_module": "@jupyter-widgets/base",
            "_view_module_version": "1.2.0",
            "_view_name": "LayoutView",
            "align_content": null,
            "align_items": null,
            "align_self": null,
            "border": null,
            "bottom": null,
            "display": null,
            "flex": null,
            "flex_flow": null,
            "grid_area": null,
            "grid_auto_columns": null,
            "grid_auto_flow": null,
            "grid_auto_rows": null,
            "grid_column": null,
            "grid_gap": null,
            "grid_row": null,
            "grid_template_areas": null,
            "grid_template_columns": null,
            "grid_template_rows": null,
            "height": null,
            "justify_content": null,
            "justify_items": null,
            "left": null,
            "margin": null,
            "max_height": null,
            "max_width": null,
            "min_height": null,
            "min_width": null,
            "object_fit": null,
            "object_position": null,
            "order": null,
            "overflow": null,
            "overflow_x": null,
            "overflow_y": null,
            "padding": null,
            "right": null,
            "top": null,
            "visibility": null,
            "width": null
          }
        },
        "bd6725a50def482ea37d6b7a312584b1": {
          "model_module": "@jupyter-widgets/controls",
          "model_name": "SliderStyleModel",
          "model_module_version": "1.5.0",
          "state": {
            "_model_module": "@jupyter-widgets/controls",
            "_model_module_version": "1.5.0",
            "_model_name": "SliderStyleModel",
            "_view_count": null,
            "_view_module": "@jupyter-widgets/base",
            "_view_module_version": "1.2.0",
            "_view_name": "StyleView",
            "description_width": "",
            "handle_color": null
          }
        },
        "6ce1fa07ce644bfe9136a59d4b08de2c": {
          "model_module": "@jupyter-widgets/base",
          "model_name": "LayoutModel",
          "model_module_version": "1.2.0",
          "state": {
            "_model_module": "@jupyter-widgets/base",
            "_model_module_version": "1.2.0",
            "_model_name": "LayoutModel",
            "_view_count": null,
            "_view_module": "@jupyter-widgets/base",
            "_view_module_version": "1.2.0",
            "_view_name": "LayoutView",
            "align_content": null,
            "align_items": null,
            "align_self": null,
            "border": null,
            "bottom": null,
            "display": null,
            "flex": null,
            "flex_flow": null,
            "grid_area": null,
            "grid_auto_columns": null,
            "grid_auto_flow": null,
            "grid_auto_rows": null,
            "grid_column": null,
            "grid_gap": null,
            "grid_row": null,
            "grid_template_areas": null,
            "grid_template_columns": null,
            "grid_template_rows": null,
            "height": null,
            "justify_content": null,
            "justify_items": null,
            "left": null,
            "margin": null,
            "max_height": null,
            "max_width": null,
            "min_height": null,
            "min_width": null,
            "object_fit": null,
            "object_position": null,
            "order": null,
            "overflow": null,
            "overflow_x": null,
            "overflow_y": null,
            "padding": null,
            "right": null,
            "top": null,
            "visibility": null,
            "width": null
          }
        },
        "0bda2547943b4c3a84a37d1c9fa0a273": {
          "model_module": "@jupyter-widgets/controls",
          "model_name": "SliderStyleModel",
          "model_module_version": "1.5.0",
          "state": {
            "_model_module": "@jupyter-widgets/controls",
            "_model_module_version": "1.5.0",
            "_model_name": "SliderStyleModel",
            "_view_count": null,
            "_view_module": "@jupyter-widgets/base",
            "_view_module_version": "1.2.0",
            "_view_name": "StyleView",
            "description_width": "",
            "handle_color": null
          }
        },
        "0945cfd3e7904979980d2f749f6364fa": {
          "model_module": "@jupyter-widgets/base",
          "model_name": "LayoutModel",
          "model_module_version": "1.2.0",
          "state": {
            "_model_module": "@jupyter-widgets/base",
            "_model_module_version": "1.2.0",
            "_model_name": "LayoutModel",
            "_view_count": null,
            "_view_module": "@jupyter-widgets/base",
            "_view_module_version": "1.2.0",
            "_view_name": "LayoutView",
            "align_content": null,
            "align_items": null,
            "align_self": null,
            "border": null,
            "bottom": null,
            "display": null,
            "flex": null,
            "flex_flow": null,
            "grid_area": null,
            "grid_auto_columns": null,
            "grid_auto_flow": null,
            "grid_auto_rows": null,
            "grid_column": null,
            "grid_gap": null,
            "grid_row": null,
            "grid_template_areas": null,
            "grid_template_columns": null,
            "grid_template_rows": null,
            "height": null,
            "justify_content": null,
            "justify_items": null,
            "left": null,
            "margin": null,
            "max_height": null,
            "max_width": null,
            "min_height": null,
            "min_width": null,
            "object_fit": null,
            "object_position": null,
            "order": null,
            "overflow": null,
            "overflow_x": null,
            "overflow_y": null,
            "padding": null,
            "right": null,
            "top": null,
            "visibility": null,
            "width": null
          }
        },
        "01ffb156c8cd4275b2bb901019103c76": {
          "model_module": "@jupyter-widgets/controls",
          "model_name": "VBoxModel",
          "model_module_version": "1.5.0",
          "state": {
            "_dom_classes": [
              "widget-interact"
            ],
            "_model_module": "@jupyter-widgets/controls",
            "_model_module_version": "1.5.0",
            "_model_name": "VBoxModel",
            "_view_count": null,
            "_view_module": "@jupyter-widgets/controls",
            "_view_module_version": "1.5.0",
            "_view_name": "VBoxView",
            "box_style": "",
            "children": [
              "IPY_MODEL_e1081eb806a44872aa94daddd19d72f2",
              "IPY_MODEL_3d4d75b4804a4d05b2371006f4598e5a",
              "IPY_MODEL_b9274892fab141b49622847c9b70db3c"
            ],
            "layout": "IPY_MODEL_f3e57ef7c4994d5689aa0befe68f21f8"
          }
        },
        "e1081eb806a44872aa94daddd19d72f2": {
          "model_module": "@jupyter-widgets/controls",
          "model_name": "FloatSliderModel",
          "model_module_version": "1.5.0",
          "state": {
            "_dom_classes": [],
            "_model_module": "@jupyter-widgets/controls",
            "_model_module_version": "1.5.0",
            "_model_name": "FloatSliderModel",
            "_view_count": null,
            "_view_module": "@jupyter-widgets/controls",
            "_view_module_version": "1.5.0",
            "_view_name": "FloatSliderView",
            "continuous_update": true,
            "description": "v",
            "description_tooltip": null,
            "disabled": false,
            "layout": "IPY_MODEL_a8bfb65c41f04bb9b5fe3b13ca8368b8",
            "max": 5,
            "min": 0,
            "orientation": "horizontal",
            "readout": true,
            "readout_format": ".2f",
            "step": 0.1,
            "style": "IPY_MODEL_ca94b9e3a75b45488e14cb093e5c4c98",
            "value": 2.5
          }
        },
        "3d4d75b4804a4d05b2371006f4598e5a": {
          "model_module": "@jupyter-widgets/controls",
          "model_name": "FloatSliderModel",
          "model_module_version": "1.5.0",
          "state": {
            "_dom_classes": [],
            "_model_module": "@jupyter-widgets/controls",
            "_model_module_version": "1.5.0",
            "_model_name": "FloatSliderModel",
            "_view_count": null,
            "_view_module": "@jupyter-widgets/controls",
            "_view_module_version": "1.5.0",
            "_view_name": "FloatSliderView",
            "continuous_update": true,
            "description": "w",
            "description_tooltip": null,
            "disabled": false,
            "layout": "IPY_MODEL_9f3a849149c2490a8a59103fd96c6ea8",
            "max": 5,
            "min": 0,
            "orientation": "horizontal",
            "readout": true,
            "readout_format": ".2f",
            "step": 0.1,
            "style": "IPY_MODEL_7abc068dd2114646a01a5bad146d4bde",
            "value": 3.7
          }
        },
        "b9274892fab141b49622847c9b70db3c": {
          "model_module": "@jupyter-widgets/output",
          "model_name": "OutputModel",
          "model_module_version": "1.0.0",
          "state": {
            "_dom_classes": [],
            "_model_module": "@jupyter-widgets/output",
            "_model_module_version": "1.0.0",
            "_model_name": "OutputModel",
            "_view_count": null,
            "_view_module": "@jupyter-widgets/output",
            "_view_module_version": "1.0.0",
            "_view_name": "OutputView",
            "layout": "IPY_MODEL_48d332a8e1bd4ed6bd97984a6a3819db",
            "msg_id": "",
            "outputs": [
              {
                "output_type": "display_data",
                "data": {
                  "text/plain": "<Figure size 432x288 with 1 Axes>",
                  "image/png": "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\n"
                },
                "metadata": {
                  "needs_background": "light"
                }
              }
            ]
          }
        },
        "f3e57ef7c4994d5689aa0befe68f21f8": {
          "model_module": "@jupyter-widgets/base",
          "model_name": "LayoutModel",
          "model_module_version": "1.2.0",
          "state": {
            "_model_module": "@jupyter-widgets/base",
            "_model_module_version": "1.2.0",
            "_model_name": "LayoutModel",
            "_view_count": null,
            "_view_module": "@jupyter-widgets/base",
            "_view_module_version": "1.2.0",
            "_view_name": "LayoutView",
            "align_content": null,
            "align_items": null,
            "align_self": null,
            "border": null,
            "bottom": null,
            "display": null,
            "flex": null,
            "flex_flow": null,
            "grid_area": null,
            "grid_auto_columns": null,
            "grid_auto_flow": null,
            "grid_auto_rows": null,
            "grid_column": null,
            "grid_gap": null,
            "grid_row": null,
            "grid_template_areas": null,
            "grid_template_columns": null,
            "grid_template_rows": null,
            "height": null,
            "justify_content": null,
            "justify_items": null,
            "left": null,
            "margin": null,
            "max_height": null,
            "max_width": null,
            "min_height": null,
            "min_width": null,
            "object_fit": null,
            "object_position": null,
            "order": null,
            "overflow": null,
            "overflow_x": null,
            "overflow_y": null,
            "padding": null,
            "right": null,
            "top": null,
            "visibility": null,
            "width": null
          }
        },
        "a8bfb65c41f04bb9b5fe3b13ca8368b8": {
          "model_module": "@jupyter-widgets/base",
          "model_name": "LayoutModel",
          "model_module_version": "1.2.0",
          "state": {
            "_model_module": "@jupyter-widgets/base",
            "_model_module_version": "1.2.0",
            "_model_name": "LayoutModel",
            "_view_count": null,
            "_view_module": "@jupyter-widgets/base",
            "_view_module_version": "1.2.0",
            "_view_name": "LayoutView",
            "align_content": null,
            "align_items": null,
            "align_self": null,
            "border": null,
            "bottom": null,
            "display": null,
            "flex": null,
            "flex_flow": null,
            "grid_area": null,
            "grid_auto_columns": null,
            "grid_auto_flow": null,
            "grid_auto_rows": null,
            "grid_column": null,
            "grid_gap": null,
            "grid_row": null,
            "grid_template_areas": null,
            "grid_template_columns": null,
            "grid_template_rows": null,
            "height": null,
            "justify_content": null,
            "justify_items": null,
            "left": null,
            "margin": null,
            "max_height": null,
            "max_width": null,
            "min_height": null,
            "min_width": null,
            "object_fit": null,
            "object_position": null,
            "order": null,
            "overflow": null,
            "overflow_x": null,
            "overflow_y": null,
            "padding": null,
            "right": null,
            "top": null,
            "visibility": null,
            "width": null
          }
        },
        "ca94b9e3a75b45488e14cb093e5c4c98": {
          "model_module": "@jupyter-widgets/controls",
          "model_name": "SliderStyleModel",
          "model_module_version": "1.5.0",
          "state": {
            "_model_module": "@jupyter-widgets/controls",
            "_model_module_version": "1.5.0",
            "_model_name": "SliderStyleModel",
            "_view_count": null,
            "_view_module": "@jupyter-widgets/base",
            "_view_module_version": "1.2.0",
            "_view_name": "StyleView",
            "description_width": "",
            "handle_color": null
          }
        },
        "9f3a849149c2490a8a59103fd96c6ea8": {
          "model_module": "@jupyter-widgets/base",
          "model_name": "LayoutModel",
          "model_module_version": "1.2.0",
          "state": {
            "_model_module": "@jupyter-widgets/base",
            "_model_module_version": "1.2.0",
            "_model_name": "LayoutModel",
            "_view_count": null,
            "_view_module": "@jupyter-widgets/base",
            "_view_module_version": "1.2.0",
            "_view_name": "LayoutView",
            "align_content": null,
            "align_items": null,
            "align_self": null,
            "border": null,
            "bottom": null,
            "display": null,
            "flex": null,
            "flex_flow": null,
            "grid_area": null,
            "grid_auto_columns": null,
            "grid_auto_flow": null,
            "grid_auto_rows": null,
            "grid_column": null,
            "grid_gap": null,
            "grid_row": null,
            "grid_template_areas": null,
            "grid_template_columns": null,
            "grid_template_rows": null,
            "height": null,
            "justify_content": null,
            "justify_items": null,
            "left": null,
            "margin": null,
            "max_height": null,
            "max_width": null,
            "min_height": null,
            "min_width": null,
            "object_fit": null,
            "object_position": null,
            "order": null,
            "overflow": null,
            "overflow_x": null,
            "overflow_y": null,
            "padding": null,
            "right": null,
            "top": null,
            "visibility": null,
            "width": null
          }
        },
        "7abc068dd2114646a01a5bad146d4bde": {
          "model_module": "@jupyter-widgets/controls",
          "model_name": "SliderStyleModel",
          "model_module_version": "1.5.0",
          "state": {
            "_model_module": "@jupyter-widgets/controls",
            "_model_module_version": "1.5.0",
            "_model_name": "SliderStyleModel",
            "_view_count": null,
            "_view_module": "@jupyter-widgets/base",
            "_view_module_version": "1.2.0",
            "_view_name": "StyleView",
            "description_width": "",
            "handle_color": null
          }
        },
        "48d332a8e1bd4ed6bd97984a6a3819db": {
          "model_module": "@jupyter-widgets/base",
          "model_name": "LayoutModel",
          "model_module_version": "1.2.0",
          "state": {
            "_model_module": "@jupyter-widgets/base",
            "_model_module_version": "1.2.0",
            "_model_name": "LayoutModel",
            "_view_count": null,
            "_view_module": "@jupyter-widgets/base",
            "_view_module_version": "1.2.0",
            "_view_name": "LayoutView",
            "align_content": null,
            "align_items": null,
            "align_self": null,
            "border": null,
            "bottom": null,
            "display": null,
            "flex": null,
            "flex_flow": null,
            "grid_area": null,
            "grid_auto_columns": null,
            "grid_auto_flow": null,
            "grid_auto_rows": null,
            "grid_column": null,
            "grid_gap": null,
            "grid_row": null,
            "grid_template_areas": null,
            "grid_template_columns": null,
            "grid_template_rows": null,
            "height": null,
            "justify_content": null,
            "justify_items": null,
            "left": null,
            "margin": null,
            "max_height": null,
            "max_width": null,
            "min_height": null,
            "min_width": null,
            "object_fit": null,
            "object_position": null,
            "order": null,
            "overflow": null,
            "overflow_x": null,
            "overflow_y": null,
            "padding": null,
            "right": null,
            "top": null,
            "visibility": null,
            "width": null
          }
        },
        "16ffbda938f54d668494afc44b9fa49f": {
          "model_module": "@jupyter-widgets/controls",
          "model_name": "VBoxModel",
          "model_module_version": "1.5.0",
          "state": {
            "_dom_classes": [
              "widget-interact"
            ],
            "_model_module": "@jupyter-widgets/controls",
            "_model_module_version": "1.5.0",
            "_model_name": "VBoxModel",
            "_view_count": null,
            "_view_module": "@jupyter-widgets/controls",
            "_view_module_version": "1.5.0",
            "_view_name": "VBoxView",
            "box_style": "",
            "children": [
              "IPY_MODEL_38a45e75f72c450e909f0133a9133203",
              "IPY_MODEL_56ee6d0af4424937a8e81965a5325eb8",
              "IPY_MODEL_fb1339b5f6a640a596bda190866775d0",
              "IPY_MODEL_bab9828d70304cf2b030eac14616254b"
            ],
            "layout": "IPY_MODEL_8b9661f877d1411f9b5463d01faf8b81"
          }
        },
        "38a45e75f72c450e909f0133a9133203": {
          "model_module": "@jupyter-widgets/controls",
          "model_name": "FloatSliderModel",
          "model_module_version": "1.5.0",
          "state": {
            "_dom_classes": [],
            "_model_module": "@jupyter-widgets/controls",
            "_model_module_version": "1.5.0",
            "_model_name": "FloatSliderModel",
            "_view_count": null,
            "_view_module": "@jupyter-widgets/controls",
            "_view_module_version": "1.5.0",
            "_view_name": "FloatSliderView",
            "continuous_update": true,
            "description": "v",
            "description_tooltip": null,
            "disabled": false,
            "layout": "IPY_MODEL_7ae63fd010f1443c8eff253d54b751aa",
            "max": 0.9,
            "min": 0,
            "orientation": "horizontal",
            "readout": true,
            "readout_format": ".2f",
            "step": 0.01,
            "style": "IPY_MODEL_d5792794b8304ebf938048133c6be9cc",
            "value": 0.45
          }
        },
        "56ee6d0af4424937a8e81965a5325eb8": {
          "model_module": "@jupyter-widgets/controls",
          "model_name": "FloatSliderModel",
          "model_module_version": "1.5.0",
          "state": {
            "_dom_classes": [],
            "_model_module": "@jupyter-widgets/controls",
            "_model_module_version": "1.5.0",
            "_model_name": "FloatSliderModel",
            "_view_count": null,
            "_view_module": "@jupyter-widgets/controls",
            "_view_module_version": "1.5.0",
            "_view_name": "FloatSliderView",
            "continuous_update": true,
            "description": "w",
            "description_tooltip": null,
            "disabled": false,
            "layout": "IPY_MODEL_630291fc9ba9445ea541471c7c6b371d",
            "max": 0.9,
            "min": 0,
            "orientation": "horizontal",
            "readout": true,
            "readout_format": ".2f",
            "step": 0.01,
            "style": "IPY_MODEL_baffd787cd4c4fb5a0569cd7d834b0c8",
            "value": 0.45
          }
        },
        "fb1339b5f6a640a596bda190866775d0": {
          "model_module": "@jupyter-widgets/controls",
          "model_name": "FloatSliderModel",
          "model_module_version": "1.5.0",
          "state": {
            "_dom_classes": [],
            "_model_module": "@jupyter-widgets/controls",
            "_model_module_version": "1.5.0",
            "_model_name": "FloatSliderModel",
            "_view_count": null,
            "_view_module": "@jupyter-widgets/controls",
            "_view_module_version": "1.5.0",
            "_view_name": "FloatSliderView",
            "continuous_update": true,
            "description": "energy",
            "description_tooltip": null,
            "disabled": false,
            "layout": "IPY_MODEL_131ea995b4b2460da8538308717e6959",
            "max": 1,
            "min": 0,
            "orientation": "horizontal",
            "readout": true,
            "readout_format": ".2f",
            "step": 0.1,
            "style": "IPY_MODEL_abf5207989b0491a9d4b69d17afdfef6",
            "value": 0.5
          }
        },
        "bab9828d70304cf2b030eac14616254b": {
          "model_module": "@jupyter-widgets/output",
          "model_name": "OutputModel",
          "model_module_version": "1.0.0",
          "state": {
            "_dom_classes": [],
            "_model_module": "@jupyter-widgets/output",
            "_model_module_version": "1.0.0",
            "_model_name": "OutputModel",
            "_view_count": null,
            "_view_module": "@jupyter-widgets/output",
            "_view_module_version": "1.0.0",
            "_view_name": "OutputView",
            "layout": "IPY_MODEL_cc7d3e0bce744633ad2d4ab7e41f7d58",
            "msg_id": "",
            "outputs": [
              {
                "output_type": "display_data",
                "data": {
                  "text/plain": "<Figure size 432x288 with 1 Axes>",
                  "image/png": "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\n"
                },
                "metadata": {
                  "needs_background": "light"
                }
              }
            ]
          }
        },
        "8b9661f877d1411f9b5463d01faf8b81": {
          "model_module": "@jupyter-widgets/base",
          "model_name": "LayoutModel",
          "model_module_version": "1.2.0",
          "state": {
            "_model_module": "@jupyter-widgets/base",
            "_model_module_version": "1.2.0",
            "_model_name": "LayoutModel",
            "_view_count": null,
            "_view_module": "@jupyter-widgets/base",
            "_view_module_version": "1.2.0",
            "_view_name": "LayoutView",
            "align_content": null,
            "align_items": null,
            "align_self": null,
            "border": null,
            "bottom": null,
            "display": null,
            "flex": null,
            "flex_flow": null,
            "grid_area": null,
            "grid_auto_columns": null,
            "grid_auto_flow": null,
            "grid_auto_rows": null,
            "grid_column": null,
            "grid_gap": null,
            "grid_row": null,
            "grid_template_areas": null,
            "grid_template_columns": null,
            "grid_template_rows": null,
            "height": null,
            "justify_content": null,
            "justify_items": null,
            "left": null,
            "margin": null,
            "max_height": null,
            "max_width": null,
            "min_height": null,
            "min_width": null,
            "object_fit": null,
            "object_position": null,
            "order": null,
            "overflow": null,
            "overflow_x": null,
            "overflow_y": null,
            "padding": null,
            "right": null,
            "top": null,
            "visibility": null,
            "width": null
          }
        },
        "7ae63fd010f1443c8eff253d54b751aa": {
          "model_module": "@jupyter-widgets/base",
          "model_name": "LayoutModel",
          "model_module_version": "1.2.0",
          "state": {
            "_model_module": "@jupyter-widgets/base",
            "_model_module_version": "1.2.0",
            "_model_name": "LayoutModel",
            "_view_count": null,
            "_view_module": "@jupyter-widgets/base",
            "_view_module_version": "1.2.0",
            "_view_name": "LayoutView",
            "align_content": null,
            "align_items": null,
            "align_self": null,
            "border": null,
            "bottom": null,
            "display": null,
            "flex": null,
            "flex_flow": null,
            "grid_area": null,
            "grid_auto_columns": null,
            "grid_auto_flow": null,
            "grid_auto_rows": null,
            "grid_column": null,
            "grid_gap": null,
            "grid_row": null,
            "grid_template_areas": null,
            "grid_template_columns": null,
            "grid_template_rows": null,
            "height": null,
            "justify_content": null,
            "justify_items": null,
            "left": null,
            "margin": null,
            "max_height": null,
            "max_width": null,
            "min_height": null,
            "min_width": null,
            "object_fit": null,
            "object_position": null,
            "order": null,
            "overflow": null,
            "overflow_x": null,
            "overflow_y": null,
            "padding": null,
            "right": null,
            "top": null,
            "visibility": null,
            "width": null
          }
        },
        "d5792794b8304ebf938048133c6be9cc": {
          "model_module": "@jupyter-widgets/controls",
          "model_name": "SliderStyleModel",
          "model_module_version": "1.5.0",
          "state": {
            "_model_module": "@jupyter-widgets/controls",
            "_model_module_version": "1.5.0",
            "_model_name": "SliderStyleModel",
            "_view_count": null,
            "_view_module": "@jupyter-widgets/base",
            "_view_module_version": "1.2.0",
            "_view_name": "StyleView",
            "description_width": "",
            "handle_color": null
          }
        },
        "630291fc9ba9445ea541471c7c6b371d": {
          "model_module": "@jupyter-widgets/base",
          "model_name": "LayoutModel",
          "model_module_version": "1.2.0",
          "state": {
            "_model_module": "@jupyter-widgets/base",
            "_model_module_version": "1.2.0",
            "_model_name": "LayoutModel",
            "_view_count": null,
            "_view_module": "@jupyter-widgets/base",
            "_view_module_version": "1.2.0",
            "_view_name": "LayoutView",
            "align_content": null,
            "align_items": null,
            "align_self": null,
            "border": null,
            "bottom": null,
            "display": null,
            "flex": null,
            "flex_flow": null,
            "grid_area": null,
            "grid_auto_columns": null,
            "grid_auto_flow": null,
            "grid_auto_rows": null,
            "grid_column": null,
            "grid_gap": null,
            "grid_row": null,
            "grid_template_areas": null,
            "grid_template_columns": null,
            "grid_template_rows": null,
            "height": null,
            "justify_content": null,
            "justify_items": null,
            "left": null,
            "margin": null,
            "max_height": null,
            "max_width": null,
            "min_height": null,
            "min_width": null,
            "object_fit": null,
            "object_position": null,
            "order": null,
            "overflow": null,
            "overflow_x": null,
            "overflow_y": null,
            "padding": null,
            "right": null,
            "top": null,
            "visibility": null,
            "width": null
          }
        },
        "baffd787cd4c4fb5a0569cd7d834b0c8": {
          "model_module": "@jupyter-widgets/controls",
          "model_name": "SliderStyleModel",
          "model_module_version": "1.5.0",
          "state": {
            "_model_module": "@jupyter-widgets/controls",
            "_model_module_version": "1.5.0",
            "_model_name": "SliderStyleModel",
            "_view_count": null,
            "_view_module": "@jupyter-widgets/base",
            "_view_module_version": "1.2.0",
            "_view_name": "StyleView",
            "description_width": "",
            "handle_color": null
          }
        },
        "131ea995b4b2460da8538308717e6959": {
          "model_module": "@jupyter-widgets/base",
          "model_name": "LayoutModel",
          "model_module_version": "1.2.0",
          "state": {
            "_model_module": "@jupyter-widgets/base",
            "_model_module_version": "1.2.0",
            "_model_name": "LayoutModel",
            "_view_count": null,
            "_view_module": "@jupyter-widgets/base",
            "_view_module_version": "1.2.0",
            "_view_name": "LayoutView",
            "align_content": null,
            "align_items": null,
            "align_self": null,
            "border": null,
            "bottom": null,
            "display": null,
            "flex": null,
            "flex_flow": null,
            "grid_area": null,
            "grid_auto_columns": null,
            "grid_auto_flow": null,
            "grid_auto_rows": null,
            "grid_column": null,
            "grid_gap": null,
            "grid_row": null,
            "grid_template_areas": null,
            "grid_template_columns": null,
            "grid_template_rows": null,
            "height": null,
            "justify_content": null,
            "justify_items": null,
            "left": null,
            "margin": null,
            "max_height": null,
            "max_width": null,
            "min_height": null,
            "min_width": null,
            "object_fit": null,
            "object_position": null,
            "order": null,
            "overflow": null,
            "overflow_x": null,
            "overflow_y": null,
            "padding": null,
            "right": null,
            "top": null,
            "visibility": null,
            "width": null
          }
        },
        "abf5207989b0491a9d4b69d17afdfef6": {
          "model_module": "@jupyter-widgets/controls",
          "model_name": "SliderStyleModel",
          "model_module_version": "1.5.0",
          "state": {
            "_model_module": "@jupyter-widgets/controls",
            "_model_module_version": "1.5.0",
            "_model_name": "SliderStyleModel",
            "_view_count": null,
            "_view_module": "@jupyter-widgets/base",
            "_view_module_version": "1.2.0",
            "_view_name": "StyleView",
            "description_width": "",
            "handle_color": null
          }
        },
        "cc7d3e0bce744633ad2d4ab7e41f7d58": {
          "model_module": "@jupyter-widgets/base",
          "model_name": "LayoutModel",
          "model_module_version": "1.2.0",
          "state": {
            "_model_module": "@jupyter-widgets/base",
            "_model_module_version": "1.2.0",
            "_model_name": "LayoutModel",
            "_view_count": null,
            "_view_module": "@jupyter-widgets/base",
            "_view_module_version": "1.2.0",
            "_view_name": "LayoutView",
            "align_content": null,
            "align_items": null,
            "align_self": null,
            "border": null,
            "bottom": null,
            "display": null,
            "flex": null,
            "flex_flow": null,
            "grid_area": null,
            "grid_auto_columns": null,
            "grid_auto_flow": null,
            "grid_auto_rows": null,
            "grid_column": null,
            "grid_gap": null,
            "grid_row": null,
            "grid_template_areas": null,
            "grid_template_columns": null,
            "grid_template_rows": null,
            "height": null,
            "justify_content": null,
            "justify_items": null,
            "left": null,
            "margin": null,
            "max_height": null,
            "max_width": null,
            "min_height": null,
            "min_width": null,
            "object_fit": null,
            "object_position": null,
            "order": null,
            "overflow": null,
            "overflow_x": null,
            "overflow_y": null,
            "padding": null,
            "right": null,
            "top": null,
            "visibility": null,
            "width": null
          }
        }
      }
    }
  },
  "nbformat": 4,
  "nbformat_minor": 5
}