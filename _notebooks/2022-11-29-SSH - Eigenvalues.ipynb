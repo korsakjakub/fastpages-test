{
  "cells": [
    {
      "cell_type": "markdown",
      "id": "03FKNfrnCkzv",
      "metadata": {
        "id": "03FKNfrnCkzv"
      },
      "source": [
        "# SSH Eigenmodes"
      ]
    },
    {
      "cell_type": "markdown",
      "source": [
        "In this toutorial we want to consider quite easy toy model of polymer which cointein two kinds of atoms per unit site called as a SSH model. It is quite transparent model which simultaneously have a topological properties.\n",
        "\n",
        "\n",
        "We start with the Hamiltonian which describe our system,\n",
        "\n",
        "$$H=-\\sum_{ i} v (A_{i}^{\\dagger}B_{i}+h.c.)-\\sum_{j}w(A^{\\dagger}_{i}A_{i+1}+B^{\\dagger}_{i}B_{i+1}+h.c. ),$$\n",
        "here $v$ ($w$) is the overlap integral between the atoms in unit cell (betwens cells) and $A_{i}, B_{i}$ $(A_{i}^\\dagger, B_{i}^\\dagger)$ are a creation (anihilation) operators in $i$-th unit cells rspectivly $A$ and $B$ like site.  \n",
        "\n",
        "Our basic aim is to presented some common know properties of such a model with the use of additional python's package KWANT.\n",
        "Forst of all we need to install it in our program by simple commend,\n"
      ],
      "metadata": {
        "id": "lAqyG01qTv8X"
      },
      "id": "lAqyG01qTv8X"
    },
    {
      "cell_type": "code",
      "execution_count": 1,
      "id": "RVbkDWo-t5Ns",
      "metadata": {
        "id": "RVbkDWo-t5Ns",
        "colab": {
          "base_uri": "https://localhost:8080/"
        },
        "outputId": "106389a9-6d75-4a42-a06b-ed1459e43d8f"
      },
      "outputs": [
        {
          "output_type": "stream",
          "name": "stdout",
          "text": [
            "Looking in indexes: https://pypi.org/simple, https://us-python.pkg.dev/colab-wheels/public/simple/\n",
            "Collecting kwant\n",
            "  Downloading kwant-1.4.3.tar.gz (1.6 MB)\n",
            "\u001b[K     |████████████████████████████████| 1.6 MB 15.5 MB/s \n",
            "\u001b[?25hRequirement already satisfied: numpy>=1.11.0 in /usr/local/lib/python3.7/dist-packages (from kwant) (1.21.6)\n",
            "Requirement already satisfied: scipy>=0.17.0 in /usr/local/lib/python3.7/dist-packages (from kwant) (1.7.3)\n",
            "Collecting tinyarray>=1.2\n",
            "  Downloading tinyarray-1.2.4.tar.gz (37 kB)\n",
            "Building wheels for collected packages: kwant, tinyarray\n",
            "  Building wheel for kwant (setup.py) ... \u001b[?25l\u001b[?25hdone\n",
            "  Created wheel for kwant: filename=kwant-1.4.3-cp37-cp37m-linux_x86_64.whl size=3690978 sha256=0b1a921de454e3221b266b04102851cfb39bf416fad4fefc0e1a59a56e17124e\n",
            "  Stored in directory: /root/.cache/pip/wheels/d6/2d/93/6f395cd3f0798d7d9e161dce1c8b8c8bbd04d4547763c926de\n",
            "  Building wheel for tinyarray (setup.py) ... \u001b[?25l\u001b[?25hdone\n",
            "  Created wheel for tinyarray: filename=tinyarray-1.2.4-cp37-cp37m-linux_x86_64.whl size=227971 sha256=1dd09ccbd4756d138c968bfb723fbdb8cda36c7efe1781834629b70890c6821d\n",
            "  Stored in directory: /root/.cache/pip/wheels/85/c6/1c/6939e2931cfbff5df75758a06084bf67171b640ebdf5febd35\n",
            "Successfully built kwant tinyarray\n",
            "Installing collected packages: tinyarray, kwant\n",
            "Successfully installed kwant-1.4.3 tinyarray-1.2.4\n"
          ]
        }
      ],
      "source": [
        "!pip install kwant"
      ]
    },
    {
      "cell_type": "markdown",
      "source": [
        "Here we incorporate all functions which we are going to use,"
      ],
      "metadata": {
        "id": "f_mpZ8s5TeB3"
      },
      "id": "f_mpZ8s5TeB3"
    },
    {
      "cell_type": "code",
      "execution_count": 2,
      "id": "9ab06f68-a6ea-412e-a6e7-e4d07f3c54da",
      "metadata": {
        "id": "9ab06f68-a6ea-412e-a6e7-e4d07f3c54da",
        "outputId": "20bc827e-bbd7-4bc2-c10c-d7bcf44384b1",
        "colab": {
          "base_uri": "https://localhost:8080/"
        }
      },
      "outputs": [
        {
          "output_type": "stream",
          "name": "stderr",
          "text": [
            "/usr/local/lib/python3.7/dist-packages/kwant/solvers/default.py:18: RuntimeWarning: MUMPS is not available, SciPy built-in solver will be used as a fallback. Performance can be very poor in this case.\n",
            "  \"Performance can be very poor in this case.\", RuntimeWarning)\n"
          ]
        }
      ],
      "source": [
        "import kwant\n",
        "import matplotlib.pyplot as plt\n",
        "import scipy.sparse.linalg as sla\n",
        "import scipy as scp\n",
        "import numpy as np\n",
        "import scipy\n",
        "from kwant.physics import dispersion\n",
        "from numpy.linalg import eig"
      ]
    },
    {
      "cell_type": "markdown",
      "source": [
        "First of all we have to define our system. "
      ],
      "metadata": {
        "id": "1uSHUtFLaypb"
      },
      "id": "1uSHUtFLaypb"
    },
    {
      "cell_type": "code",
      "source": [
        "L = 50\n",
        "# Building SSH model\n",
        "def ssh_model(v=1, w=1, L=L, return_only_ham=1):\n",
        "\n",
        "    syst = kwant.Builder()\n",
        "    a = 1\n",
        "    lat = kwant.lattice.chain(a)\n",
        "\n",
        "    # Define the scattering region\n",
        "    for n in range(L):\n",
        "        syst[lat(n)] = 0\n",
        "\n",
        "    # Left hopping\n",
        "    for n in range(L):\n",
        "        if n % 2:\n",
        "            syst[lat(n - 1), lat(n)] = v\n",
        "\n",
        "    # Right hopping\n",
        "    for n in range(1, L):\n",
        "        if not n % 2:\n",
        "            syst[lat(n - 1), lat(n)] = w\n",
        "\n",
        "    syst = syst.finalized()\n",
        "\n",
        "  \n",
        "\n",
        "    if return_only_ham:\n",
        "        return syst.hamiltonian_submatrix(sparse=True)\n",
        "    else:\n",
        "        return syst.hamiltonian_submatrix(sparse=False) \n",
        "\n",
        "\n"
      ],
      "metadata": {
        "id": "2RGFdQ_FfzKj"
      },
      "id": "2RGFdQ_FfzKj",
      "execution_count": 4,
      "outputs": []
    },
    {
      "cell_type": "markdown",
      "source": [
        "\n",
        "In our case we put onsite equal to zero. In order to defne our system we establish different hoppings for odd and even sites. For even sites the Hamiltonian part discrebes intercells hoppings is\n",
        "$$-\\sum_{ i} v (A_{i}^{\\dagger}B_{i}+h.c.)$$\n",
        "while for odds we have got\n",
        "$$-\\sum_{j}w(A^{\\dagger}_{i}A_{i+1}+B^{\\dagger}_{i}B_{i+1}+h.c. )$$\n",
        "\n",
        "The SSH is the simplest one dimensional model in which one can observed edge states. We can observed this on the folowing plot,\n"
      ],
      "metadata": {
        "id": "ZpDMyAdsf52_"
      },
      "id": "ZpDMyAdsf52_"
    },
    {
      "cell_type": "code",
      "source": [
        "from   ipywidgets import *\n",
        "\n",
        "def SSH_energy(v,w):\n",
        "  w1,v1=eig(ssh_model(w=w, v=v, L=L, return_only_ham=0))\n",
        "  plt.plot(np.arange(0,L,1),sorted(np.real(w1)),'.')\n",
        "\n",
        "\n",
        "interact(SSH_energy,v=(0,1,0.1),w=(0,1,0.1));"
      ],
      "metadata": {
        "colab": {
          "base_uri": "https://localhost:8080/",
          "height": 329,
          "referenced_widgets": [
            "7552d65617d34ddf9f31b2c71913559b",
            "23a4bae6a0b249949f3a7732d8d5d6d6",
            "9c0b2914a1ee4068a987904d50f1ed44",
            "ba321b4468534c6399275d6f21b31dc4",
            "b1e2da16b9864c7189d653c1c5e0cc39",
            "cc70dd6185864a6dbed8e1d58a252b90",
            "80a313fbc92d4e19bf11ed7da9978e27",
            "318401a7f7f94d579bcea3a716fdb12a",
            "6ae7f0cf094e44d084d0a5d1bd65c094",
            "7975ec52e5174edb9cf0ea8e718cd00c"
          ]
        },
        "id": "5CXeOnZVo5Ec",
        "outputId": "0d4dc00f-14db-400b-8de6-9b244a765861"
      },
      "id": "5CXeOnZVo5Ec",
      "execution_count": 5,
      "outputs": [
        {
          "output_type": "display_data",
          "data": {
            "text/plain": [
              "interactive(children=(FloatSlider(value=0.0, description='v', max=1.0), FloatSlider(value=0.0, description='w'…"
            ],
            "application/vnd.jupyter.widget-view+json": {
              "version_major": 2,
              "version_minor": 0,
              "model_id": "7552d65617d34ddf9f31b2c71913559b"
            }
          },
          "metadata": {}
        }
      ]
    },
    {
      "cell_type": "markdown",
      "source": [
        "Existing of such a states should have visual consequences in density of states (DOS). Ther should appear additional pick in zero energy. We can easy get DOS by using KWANT. Let us look on the following example. "
      ],
      "metadata": {
        "id": "h31X_hoc2l28"
      },
      "id": "h31X_hoc2l28"
    },
    {
      "cell_type": "code",
      "source": [
        "from mpl_toolkits.axes_grid1.inset_locator import zoomed_inset_axes \n",
        "from mpl_toolkits.axes_grid1.inset_locator import mark_inset"
      ],
      "metadata": {
        "id": "SmeUHhca8k1D"
      },
      "id": "SmeUHhca8k1D",
      "execution_count": 6,
      "outputs": []
    },
    {
      "cell_type": "code",
      "source": [
        "def plot_DOS3(v,w):\n",
        "    fig, ax = plt.subplots(figsize=[5, 4])\n",
        "    w1,v1=eig(ssh_model(w=w, v=v, L=500, return_only_ham=0))\n",
        "    rho = kwant.kpm.SpectralDensity(ssh_model(w=w, v=v, L=500, return_only_ham=0),rng=0)\n",
        "    w1, densities = rho()\n",
        "    density_subset = np.real(rho(w1))\n",
        "    ax.plot(w1,density_subset)\n",
        "\n",
        "    # generate inset axes\n",
        "    axins = zoomed_inset_axes(ax, 5, loc='upper center')  # zoom = 5\n",
        "\n",
        "    # plot in the inset axes\n",
        "    axins.scatter(w1,density_subset, s=2)\n",
        "\n",
        "    # fix the x, y limit of the inset axes\n",
        "    axins.set_xlim(-max(w1)/10, max(w1)/10)\n",
        "    axins.set_ylim(-5, max(density_subset)/15)\n",
        "\n",
        "    # fix the number of ticks on the inset axes\n",
        "    axins.yaxis.get_major_locator().set_params(nbins=1)\n",
        "    axins.xaxis.get_major_locator().set_params(nbins=1)\n",
        "   \n",
        "\n",
        "def plot_DOS_manipulate():\n",
        "    interact(plot_DOS3,v=(0.0,5,0.1),w=(0.0,5,0.1));\n",
        "\n",
        "#plot_DOS3(1,20)\n",
        "plot_DOS_manipulate()"
      ],
      "metadata": {
        "id": "aG0ZsxRb9z8E",
        "outputId": "88bcec87-78ae-4b96-fed5-4df061fcc418",
        "colab": {
          "base_uri": "https://localhost:8080/",
          "height": 329,
          "referenced_widgets": [
            "651342c9170e4caaad7e3f1c07ff99d2",
            "a386314e485847fabfaa9743b97ea939",
            "c0ad6a6069f44d9bad5b6694bfa66fdd",
            "e4ec94147e35450a87fdfaba19b8a157",
            "89479339c8ca41e7a39d0a3d7b1e14c5",
            "15582effa4cb4587b5b0024337bceb0f",
            "e97a08cb28fd409980f6de83a20236c5",
            "39bd3786d8da4a588fff7a7af78e5480",
            "9813172f419341069b2cdfbde5e125bb",
            "e0fae47b8a324c9a925477077f72316e"
          ]
        }
      },
      "id": "aG0ZsxRb9z8E",
      "execution_count": 7,
      "outputs": [
        {
          "output_type": "display_data",
          "data": {
            "text/plain": [
              "interactive(children=(FloatSlider(value=2.5, description='v', max=5.0), FloatSlider(value=2.5, description='w'…"
            ],
            "application/vnd.jupyter.widget-view+json": {
              "version_major": 2,
              "version_minor": 0,
              "model_id": "651342c9170e4caaad7e3f1c07ff99d2"
            }
          },
          "metadata": {}
        }
      ]
    },
    {
      "cell_type": "markdown",
      "source": [
        "One can observe that indeed for $w>v$ we have non zero value of DOS around zero energy while $w < v$ we observed platou."
      ],
      "metadata": {
        "id": "vhiXn0v56zaU"
      },
      "id": "vhiXn0v56zaU"
    },
    {
      "cell_type": "markdown",
      "source": [
        "\n",
        "\n",
        "Now we want to plot energy spectrum as a function os hopping parameter $v$ when w is holds constant. We have to identify each energy corespond to a given site. To this end, we used the following procedure. For a given $v$ we find all eigenvalues and eigenstates for every sites. Then we moved to another value of $v$ and do this same. Now to identify which eigenvalues corespond to this same site we chack for every eigenvector from the previous iteration gives us the bigest overlap (the bigest value of scalar product) with one of the state. The prosedure countinous for every value $v$."
      ],
      "metadata": {
        "id": "ful9xz77sEFD"
      },
      "id": "ful9xz77sEFD"
    },
    {
      "cell_type": "code",
      "execution_count": 8,
      "id": "48db19ba-65a0-4f61-b465-5d91c29abf51",
      "metadata": {
        "colab": {
          "base_uri": "https://localhost:8080/",
          "height": 315,
          "referenced_widgets": [
            "fa32170ea1c749e3a497fb1ea206a5b2",
            "2e10354a12354599b59632a6d48b8033",
            "b033109f9b0d4f48a6d50496aa9f41d1",
            "019c01cb9b324015ad7032a2ca24e22b",
            "fe3a51795d874f30a8b2c1d171e51282",
            "239c13c2905f4775ac6290f7ae7f6e42",
            "873e99833f4146a7a348b8b09fc9f20a"
          ]
        },
        "id": "48db19ba-65a0-4f61-b465-5d91c29abf51",
        "outputId": "96bfd5ab-89b1-4bc5-e524-7d3639975d00"
      },
      "outputs": [
        {
          "output_type": "display_data",
          "data": {
            "text/plain": [
              "interactive(children=(FloatSlider(value=0.30000000000000004, description='w', max=0.5, min=0.1), Output()), _d…"
            ],
            "application/vnd.jupyter.widget-view+json": {
              "version_major": 2,
              "version_minor": 0,
              "model_id": "fa32170ea1c749e3a497fb1ea206a5b2"
            }
          },
          "metadata": {}
        },
        {
          "output_type": "display_data",
          "data": {
            "text/plain": [
              "<Figure size 432x288 with 0 Axes>"
            ]
          },
          "metadata": {}
        }
      ],
      "source": [
        "def find_continuator(w: list, next_vectors: list) -> int:\n",
        "    max_product = np.dot(w, next_vectors[0])\n",
        "    max_index = 0\n",
        "\n",
        "    for i in range(len(next_vectors)):\n",
        "        product = np.abs(np.dot(w, next_vectors[i]))\n",
        "        if product > max_product:\n",
        "            max_product = product\n",
        "            max_index = i\n",
        "    return max_index\n",
        "\n",
        "\n",
        "def plot_probability(k_tab: list ,eig_number: int,w,  show_unsorted=False) -> None:\n",
        "    e_val_matrix = np.empty(shape=(len(k_tab), eig_number))\n",
        "    e_vec_matrix = np.empty(shape=(len(k_tab), eig_number, L), dtype=complex)\n",
        "\n",
        "    for i in range(len(k_tab)):\n",
        "        v = k_tab[i]\n",
        "        ham = ssh_model(v, w)\n",
        "        e_val, e_vec = scipy.sparse.linalg.eigsh(\n",
        "            ham, k=eig_number, sigma=0.01, which=\"LM\", return_eigenvectors=True\n",
        "        )\n",
        "\n",
        "        e_val_matrix[i] = e_val\n",
        "        for j in range(eig_number):\n",
        "            e_vec_matrix[i, j] = e_vec[:, j]\n",
        "            e_vec_matrix[i, j] = e_vec_matrix[i, j] / np.sqrt(\n",
        "                np.dot(e_vec_matrix[i, j], e_vec_matrix[i, j])\n",
        "            )\n",
        "\n",
        "    for j in range(eig_number):\n",
        "        pasek = [e_val_matrix[0, j]]\n",
        "        wektory = [e_vec_matrix[0, j]]\n",
        "\n",
        "        for i in range(0, len(k_tab) - 1):\n",
        "            index = find_continuator(wektory[i], e_vec_matrix[i + 1])\n",
        "            wektory.append(e_vec_matrix[i + 1, index])\n",
        "            pasek.append(e_val_matrix[i + 1, index])\n",
        "\n",
        "        plt.plot(k_tab, pasek, label=j)\n",
        "        if show_unsorted:\n",
        "            plt.scatter(k_tab, e_val_matrix[:, j], marker=\".\")\n",
        "\n",
        "def SSH_spectrum_manipulate(w):\n",
        "  plot_probability(k_tab=k,w=w, eig_number=energies_number)\n",
        "\n",
        "k = np.linspace(0, 0.75, 50)  # Range of k we want to plot\n",
        "energies_number = 47  # Number of energy bands to show\n",
        "\n",
        "interact(SSH_spectrum_manipulate,w=(0.1,0.5,0.1));\n",
        "plt.savefig(\"SSH_spectrum_sort.pdf\")\n",
        "plt.show()\n"
      ]
    },
    {
      "cell_type": "markdown",
      "source": [
        "What you can see above is a plot of energy spectrum as a function of parameter $v$. Using by the slider you can change the value of parameter $w$. What is interesting here is that there exist zero energy modes for the parameter values smaller that $w$ which are, as we mentioned earlier, energies of edges states. One can see that zero energy modes are not exacly appear for $w=v$. This is a consequence that we working with the finite system. This incoherence disappear if you put the bigger and bigger size of the system. "
      ],
      "metadata": {
        "id": "tmSDZAVnxMLV"
      },
      "id": "tmSDZAVnxMLV"
    },
    {
      "cell_type": "markdown",
      "source": [
        "We can easly diagonalize our Hamiltonian by taking Fourier transform,\n",
        "$$A^{\\dagger}_{i}=\\frac{1}{\\sqrt{N}}\\sum_{k}e^{ik\\cdot x_{i}} A^{\\dagger}_{k} \\hspace{0.5cm} \\mathrm{etc..}$$\n",
        "In the end Hamiltonian in momentum space takes form\n",
        "$$H=\\sum_{k}(A^{\\dagger}_{k},B^{\\dagger}_{k})\\begin{pmatrix}\n",
        "0 & v+e^{ik}w \\\\\n",
        "v+e^{-ik}w & 0 \n",
        "\\end{pmatrix}\n",
        "\\begin{pmatrix}\n",
        "A_{k}  \\\\\n",
        "B_{k} \n",
        "\\end{pmatrix} $$\n",
        "\n",
        "Now it is easy to find dispersion relation which in this case is given by the following expresion,\n",
        "$$E(k)=\\pm \\sqrt{v^2+w^2+2vw\\cos{k}} .$$\n",
        "\n",
        "Now because we have used Fourier transform we tacitly impose boundary conditions. To procedure further we have to bild an infinit system. In order to do this, we need to add leads. "
      ],
      "metadata": {
        "id": "tfxDQ2143wpt"
      },
      "id": "tfxDQ2143wpt"
    },
    {
      "cell_type": "code",
      "source": [
        "def ssh_model_with_leads(t_1=1.0, t_2=0.5):\n",
        "    L=200\n",
        "    a=1\n",
        "    # Start with an empty tight-binding system and a single square lattice.\n",
        "    # `a` is the lattice constant (by default set to 1 for simplicity.\n",
        "    syst = kwant.Builder()\n",
        "    \n",
        "    lat = kwant.lattice.Polyatomic([[2*a, 0]], [[0, 0], [a, 0]])\n",
        "    lat.a, lat.b = lat.sublattices\n",
        "    \n",
        "    for n in range(L):\n",
        "        syst[lat.a(n)] = 0\n",
        "        syst[lat.b(n)] = 0\n",
        "    \n",
        "    # Left hopping\n",
        "    for n in range(L):\n",
        "        syst[lat.a(n), lat.b(n)] = t_1\n",
        "        \n",
        "    # Left hopping\n",
        "    for n in range(1,L):\n",
        "        syst[lat.b(n-1), lat.a(n)] = t_2\n",
        "        \n",
        "    leadless=syst\n",
        "    leadless=leadless.finalized()\n",
        "    leadless=leadless.hamiltonian_submatrix(sparse=True)\n",
        "\n",
        "\n",
        "    sym_left_lead = kwant.TranslationalSymmetry([-2*a, 0])\n",
        "    left_lead = kwant.Builder(sym_left_lead)\n",
        "    left_lead[lat.a(0)] = 0\n",
        "    left_lead[lat.b(0)] = 0\n",
        "    left_lead[lat.a(0), lat.b(0)] = t_1\n",
        "    left_lead[lat.b(0), lat.a(-1)] = t_2\n",
        "    syst.attach_lead(left_lead)\n",
        "    left_lead_fin = left_lead.finalized()\n",
        "\n",
        "    sym_right_lead = kwant.TranslationalSymmetry([2*a, 0])\n",
        "    right_lead = kwant.Builder(sym_right_lead)\n",
        "    right_lead[lat.a(0)] = 0\n",
        "    right_lead[lat.b(0)] = 0\n",
        "    right_lead[lat.a(0), lat.b(0)] = t_1\n",
        "    right_lead[lat.a(0), lat.a(1)] = t_2\n",
        "    syst.attach_lead(right_lead)\n",
        "    right_lead_fin = right_lead.finalized()\n",
        "           \n",
        "    syst = syst.finalized()\n",
        "    \n",
        "    \n",
        "    return syst, left_lead_fin, right_lead_fin,leadless\n",
        "\n",
        "\n",
        "syst, left_lead, right_lead, leadless= ssh_model_with_leads()\n",
        "\n"
      ],
      "metadata": {
        "id": "ELpfiwvV-LRy"
      },
      "id": "ELpfiwvV-LRy",
      "execution_count": 9,
      "outputs": []
    },
    {
      "cell_type": "markdown",
      "source": [
        "The KWANT give us a chance to plot an energy spectrum of such a model."
      ],
      "metadata": {
        "id": "h8QNjTA82WDA"
      },
      "id": "h8QNjTA82WDA"
    },
    {
      "cell_type": "code",
      "source": [
        "def plot_bandstructure(v,w):\n",
        "    \n",
        "    momenta=np.linspace(-np.pi, np.pi, 200)\n",
        "    syst, left_lead, right_lead, leadless=ssh_model_with_leads(t_1=v, t_2=w)\n",
        "    bands = kwant.physics.Bands(left_lead)\n",
        "    energies = [bands(k) for k in momenta]\n",
        "    \n",
        "   \n",
        "    plt.figure()\n",
        "    plt.plot(momenta, energies)\n",
        "    plt.xlabel(\"momentum [(lattice constant)^-1]\")\n",
        "    plt.ylabel(\"energy [t]\")\n",
        "    plt.savefig('ssh_energy_bands.pdf')\n",
        "    plt.show()\n",
        "\n",
        "\n"
      ],
      "metadata": {
        "id": "--HKZqXS4756"
      },
      "id": "--HKZqXS4756",
      "execution_count": 10,
      "outputs": []
    },
    {
      "cell_type": "code",
      "source": [
        "\n",
        "def plot_DOS(v,w):\n",
        "    momenta=np.linspace(-np.pi, np.pi, 200)\n",
        "    syst, left_lead, right_lead, leadless=ssh_model_with_leads(t_1=v, t_2=w)\n",
        "    bands = kwant.physics.Bands(left_lead)\n",
        "    energies = [bands(k) for k in momenta]\n",
        "    \n",
        "    rho = kwant.kpm.SpectralDensity(syst,rng=0)\n",
        "    energies, densities = rho()\n",
        "    energy_subset = np.arange(-np.pi,np.pi,0.01)\n",
        "    density_subset = np.real(rho(energy_subset))\n",
        "    plt.plot(energy_subset,density_subset)\n",
        " \n",
        "def plot_DOS_manipulate():\n",
        "    interact(plot_DOS,v=(0.0,5,0.1),w=(0.0,5,0.1));\n",
        "    plt.show()\n",
        "\n",
        "plot_DOS_manipulate()\n",
        "    "
      ],
      "metadata": {
        "colab": {
          "base_uri": "https://localhost:8080/",
          "height": 329,
          "referenced_widgets": [
            "02dcdd28275b4f5ba20900d428244efb",
            "23fe130d118d4728a050623c007f5abe",
            "fe439a5c048a4f6a9ddc4d386adf0bd1",
            "f726eda419534cc3a3e3b7ac492544f4",
            "8b05b56a8a0847d582c744ea7014300f",
            "3f3951e9833449ddade9c75ccf77d5dd",
            "3f7b2fe9d43e4fc68a0f8dbbede7a85f",
            "8a5915440d1847d781980fb9759a8f55",
            "3869461c92ea430a83a32c4e2a169ce0",
            "6ad8da1f319344e9b2c1cbec56ddffad"
          ]
        },
        "id": "7qRXwiXkAG47",
        "outputId": "8e61d738-7ba1-46cf-dfce-20ab423469a3"
      },
      "id": "7qRXwiXkAG47",
      "execution_count": 11,
      "outputs": [
        {
          "output_type": "display_data",
          "data": {
            "text/plain": [
              "interactive(children=(FloatSlider(value=2.5, description='v', max=5.0), FloatSlider(value=2.5, description='w'…"
            ],
            "application/vnd.jupyter.widget-view+json": {
              "version_major": 2,
              "version_minor": 0,
              "model_id": "02dcdd28275b4f5ba20900d428244efb"
            }
          },
          "metadata": {}
        }
      ]
    },
    {
      "cell_type": "code",
      "source": [
        "\n",
        "def SSH_spectrum_manipulate_momentu_space(v,w):\n",
        "  plot_probability(k_tab=k,w=w, eig_number=energies_number)\n",
        "\n",
        "k = np.linspace(0, 0.75, 50)  # Range of k we want to plot\n",
        "energies_number = 47  # Number of energy bands to show\n",
        "\n",
        "interact(plot_bandstructure,v=(0.0,0.5,0.01),w=(0.0,0.5,0.01));\n",
        "plt.show()\n"
      ],
      "metadata": {
        "id": "hcd4HkyA5JAE",
        "outputId": "953db304-15e4-4484-feb3-80a9b86f0e06",
        "colab": {
          "base_uri": "https://localhost:8080/",
          "height": 343,
          "referenced_widgets": [
            "9c8aa11e75d64fe3804f25521e024a68",
            "e3052f89688e4128ad10b359dda76953",
            "7a50687b3e2a427196efb4832b4b22f2",
            "dd379d480f5e4f4183af2b5b5a921c4c",
            "a053fbc0b03f45c6baaedb1e05afcb17",
            "de4de56c72be4e3d8e804e1c2bf94793",
            "47fdbff59b8549eda9812e5a3c97868e",
            "bd6d50351c9c4b0ebf0f42bc0d0fec4f",
            "823613f93a56418c9b71b8dcd8a44e09",
            "39f24051f0b940a2855878e9ae5e232f"
          ]
        }
      },
      "id": "hcd4HkyA5JAE",
      "execution_count": 12,
      "outputs": [
        {
          "output_type": "display_data",
          "data": {
            "text/plain": [
              "interactive(children=(FloatSlider(value=0.25, description='v', max=0.5, step=0.01), FloatSlider(value=0.25, de…"
            ],
            "application/vnd.jupyter.widget-view+json": {
              "version_major": 2,
              "version_minor": 0,
              "model_id": "9c8aa11e75d64fe3804f25521e024a68"
            }
          },
          "metadata": {}
        }
      ]
    },
    {
      "cell_type": "markdown",
      "source": [
        "What you can see above it is a energy spectrum of a Hamiltonian after a Fourier transform. "
      ],
      "metadata": {
        "id": "gutY2RVt5i60"
      },
      "id": "gutY2RVt5i60"
    },
    {
      "cell_type": "code",
      "source": [
        "def ssh_model(v = 1, w = 1, L = 100, return_only_ham = 1):\n",
        "    \n",
        "    syst = kwant.Builder()\n",
        "    a = 1\n",
        "    lat = kwant.lattice.chain(a)\n",
        "\n",
        "    # Define the scattering region\n",
        "    for n in range(L):\n",
        "        syst[lat(n)] = 0\n",
        "\n",
        "    # Left hopping\n",
        "    for n in range(L):\n",
        "        if n%2:\n",
        "            syst[lat(n-1), lat(n)] = v\n",
        "\n",
        "    # Right hopping\n",
        "    for n in range(1,L):      \n",
        "        if not n%2:\n",
        "            syst[lat(n-1), lat(n)] = w\n",
        "\n",
        "    sym_left_lead = kwant.TranslationalSymmetry([-a])\n",
        "    left_lead = kwant.Builder(sym_left_lead)\n",
        "    left_lead[lat(0)] = 0\n",
        "    left_lead[lat(1), lat(0)] = v\n",
        "    left_lead[lat(2), lat(1)] = w\n",
        "    syst.attach_lead(left_lead)\n",
        "    left_lead_fin = left_lead.finalized()\n",
        "\n",
        "    sym_right_lead = kwant.TranslationalSymmetry([a])\n",
        "    right_lead = kwant.Builder(sym_right_lead)\n",
        "    right_lead[lat(0)] = 0\n",
        "    right_lead[lat(1), lat(0)] = v\n",
        "    right_lead[lat(2), lat(1)] = w\n",
        "    syst.attach_lead(right_lead)\n",
        "    right_lead_fin = right_lead.finalized()\n",
        "\n",
        "    #kwant.plot(syst)\n",
        "    syst = syst.finalized()\n",
        "    \n",
        "    if(return_only_ham):\n",
        "        return syst.hamiltonian_submatrix(sparse=False)\n",
        "    else:\n",
        "        return syst, syst.hamiltonian_submatrix(sparse=True)\n",
        "    \n",
        "# Plots energy spectrum\n",
        "kwant.plotter.spectrum(ssh_model, x=('v', np.linspace(0,4,50)), file = 'energy_spectrum_ssh.png', dpi = 300)\n",
        "\n",
        "# Plots wavefunction of the system for given energy\n",
        "syst, ham = ssh_model(0.5, 1, return_only_ham = 0)"
      ],
      "metadata": {
        "id": "amM3UNCu-NEf"
      },
      "id": "amM3UNCu-NEf",
      "execution_count": null,
      "outputs": []
    },
    {
      "cell_type": "code",
      "source": [
        "def plot_probability(v,w,energy):\n",
        "    syst, ham = ssh_model(v=v, w=w, return_only_ham = 0)\n",
        "    wf = kwant.solvers.default.wave_function(syst, energy)\n",
        "    L=100\n",
        "    p_1 = []\n",
        "    p_2 = []\n",
        "    for i in range(len(wf(0)[0])):\n",
        "        p_1.append(abs(wf(0)[0][i])**2)\n",
        "        p_2.append(abs(wf(1)[0][i])**2)\n",
        "    plt.plot(np.linspace(0,L,L), p_1, '-.')\n",
        "    plt.plot(np.linspace(0,L,L), p_2,  '-.')\n",
        "\n"
      ],
      "metadata": {
        "id": "bdT0z1gd9mSA"
      },
      "id": "bdT0z1gd9mSA",
      "execution_count": null,
      "outputs": []
    },
    {
      "cell_type": "markdown",
      "source": [
        "Let us look at wave function of our system. Is easy to realise that it is apparently hight in the edge of our chain for topological regime."
      ],
      "metadata": {
        "id": "arvO2gYu5sSV"
      },
      "id": "arvO2gYu5sSV"
    },
    {
      "cell_type": "code",
      "source": [
        "\n",
        "interact(plot_probability,v=(0,0.9,0.01),w=(0,0.9,0.01),energy=(0,1,0.1))"
      ],
      "metadata": {
        "id": "8CLBrXtw7nLi",
        "outputId": "92c2e063-1bea-40e7-d28a-148dc316fec7",
        "colab": {
          "base_uri": "https://localhost:8080/",
          "height": 378,
          "referenced_widgets": [
            "40c6c43a338f4583af1125575fe5b40f",
            "354b87c10b9f467e895171233324c80d",
            "020fa205b6534d5daa5d75f16ab749d1",
            "46b56936a7034630b014a1d04ad50031",
            "8e2e72d1fbc84337a79638c8d0d615cf",
            "79a51079e0f74e569d75839a43291ec1",
            "0fbf8f28f981495891e1bb140e90d5fc",
            "353eead44b624c1081c15b3888cd3092",
            "4b063c35f21c4b4a8e74b6ef404079f9",
            "6af42001a6774e1daf6d6af4b5706804",
            "c21d1fd5f5034722991c07b698e2ffff",
            "6927236d474b468682f95eb14c76436b",
            "dc215269884d4ca4ac61106373d655cb"
          ]
        }
      },
      "id": "8CLBrXtw7nLi",
      "execution_count": null,
      "outputs": [
        {
          "output_type": "display_data",
          "data": {
            "text/plain": [
              "interactive(children=(FloatSlider(value=0.45, description='v', max=0.9, step=0.01), FloatSlider(value=0.45, de…"
            ],
            "application/vnd.jupyter.widget-view+json": {
              "version_major": 2,
              "version_minor": 0,
              "model_id": "40c6c43a338f4583af1125575fe5b40f"
            }
          },
          "metadata": {}
        },
        {
          "output_type": "execute_result",
          "data": {
            "text/plain": [
              "<function __main__.plot_probability(v, w, energy)>"
            ]
          },
          "metadata": {},
          "execution_count": 13
        }
      ]
    },
    {
      "cell_type": "markdown",
      "source": [],
      "metadata": {
        "id": "-Xq8swl5bhSZ"
      },
      "id": "-Xq8swl5bhSZ"
    },
    {
      "cell_type": "markdown",
      "source": [],
      "metadata": {
        "id": "8TfYsnpibBIS"
      },
      "id": "8TfYsnpibBIS"
    }
  ],
  "metadata": {
    "colab": {
      "provenance": []
    },
    "kernelspec": {
      "display_name": "Python 3",
      "language": "python",
      "name": "python3"
    },
    "language_info": {
      "codemirror_mode": {
        "name": "ipython",
        "version": 3
      },
      "file_extension": ".py",
      "mimetype": "text/x-python",
      "name": "python",
      "nbconvert_exporter": "python",
      "pygments_lexer": "ipython3",
      "version": "3.6.13"
    },
    "widgets": {
      "application/vnd.jupyter.widget-state+json": {
        "40c6c43a338f4583af1125575fe5b40f": {
          "model_module": "@jupyter-widgets/controls",
          "model_name": "VBoxModel",
          "model_module_version": "1.5.0",
          "state": {
            "_dom_classes": [
              "widget-interact"
            ],
            "_model_module": "@jupyter-widgets/controls",
            "_model_module_version": "1.5.0",
            "_model_name": "VBoxModel",
            "_view_count": null,
            "_view_module": "@jupyter-widgets/controls",
            "_view_module_version": "1.5.0",
            "_view_name": "VBoxView",
            "box_style": "",
            "children": [
              "IPY_MODEL_354b87c10b9f467e895171233324c80d",
              "IPY_MODEL_020fa205b6534d5daa5d75f16ab749d1",
              "IPY_MODEL_46b56936a7034630b014a1d04ad50031",
              "IPY_MODEL_8e2e72d1fbc84337a79638c8d0d615cf"
            ],
            "layout": "IPY_MODEL_79a51079e0f74e569d75839a43291ec1"
          }
        },
        "354b87c10b9f467e895171233324c80d": {
          "model_module": "@jupyter-widgets/controls",
          "model_name": "FloatSliderModel",
          "model_module_version": "1.5.0",
          "state": {
            "_dom_classes": [],
            "_model_module": "@jupyter-widgets/controls",
            "_model_module_version": "1.5.0",
            "_model_name": "FloatSliderModel",
            "_view_count": null,
            "_view_module": "@jupyter-widgets/controls",
            "_view_module_version": "1.5.0",
            "_view_name": "FloatSliderView",
            "continuous_update": true,
            "description": "v",
            "description_tooltip": null,
            "disabled": false,
            "layout": "IPY_MODEL_0fbf8f28f981495891e1bb140e90d5fc",
            "max": 0.9,
            "min": 0,
            "orientation": "horizontal",
            "readout": true,
            "readout_format": ".2f",
            "step": 0.01,
            "style": "IPY_MODEL_353eead44b624c1081c15b3888cd3092",
            "value": 0.5
          }
        },
        "020fa205b6534d5daa5d75f16ab749d1": {
          "model_module": "@jupyter-widgets/controls",
          "model_name": "FloatSliderModel",
          "model_module_version": "1.5.0",
          "state": {
            "_dom_classes": [],
            "_model_module": "@jupyter-widgets/controls",
            "_model_module_version": "1.5.0",
            "_model_name": "FloatSliderModel",
            "_view_count": null,
            "_view_module": "@jupyter-widgets/controls",
            "_view_module_version": "1.5.0",
            "_view_name": "FloatSliderView",
            "continuous_update": true,
            "description": "w",
            "description_tooltip": null,
            "disabled": false,
            "layout": "IPY_MODEL_4b063c35f21c4b4a8e74b6ef404079f9",
            "max": 0.9,
            "min": 0,
            "orientation": "horizontal",
            "readout": true,
            "readout_format": ".2f",
            "step": 0.01,
            "style": "IPY_MODEL_6af42001a6774e1daf6d6af4b5706804",
            "value": 0.52
          }
        },
        "46b56936a7034630b014a1d04ad50031": {
          "model_module": "@jupyter-widgets/controls",
          "model_name": "FloatSliderModel",
          "model_module_version": "1.5.0",
          "state": {
            "_dom_classes": [],
            "_model_module": "@jupyter-widgets/controls",
            "_model_module_version": "1.5.0",
            "_model_name": "FloatSliderModel",
            "_view_count": null,
            "_view_module": "@jupyter-widgets/controls",
            "_view_module_version": "1.5.0",
            "_view_name": "FloatSliderView",
            "continuous_update": true,
            "description": "energy",
            "description_tooltip": null,
            "disabled": false,
            "layout": "IPY_MODEL_c21d1fd5f5034722991c07b698e2ffff",
            "max": 1,
            "min": 0,
            "orientation": "horizontal",
            "readout": true,
            "readout_format": ".2f",
            "step": 0.1,
            "style": "IPY_MODEL_6927236d474b468682f95eb14c76436b",
            "value": 0
          }
        },
        "8e2e72d1fbc84337a79638c8d0d615cf": {
          "model_module": "@jupyter-widgets/output",
          "model_name": "OutputModel",
          "model_module_version": "1.0.0",
          "state": {
            "_dom_classes": [],
            "_model_module": "@jupyter-widgets/output",
            "_model_module_version": "1.0.0",
            "_model_name": "OutputModel",
            "_view_count": null,
            "_view_module": "@jupyter-widgets/output",
            "_view_module_version": "1.0.0",
            "_view_name": "OutputView",
            "layout": "IPY_MODEL_dc215269884d4ca4ac61106373d655cb",
            "msg_id": "",
            "outputs": [
              {
                "output_type": "display_data",
                "data": {
                  "text/plain": "<Figure size 432x288 with 1 Axes>",
                  "image/png": "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\n"
                },
                "metadata": {
                  "needs_background": "light"
                }
              }
            ]
          }
        },
        "79a51079e0f74e569d75839a43291ec1": {
          "model_module": "@jupyter-widgets/base",
          "model_name": "LayoutModel",
          "model_module_version": "1.2.0",
          "state": {
            "_model_module": "@jupyter-widgets/base",
            "_model_module_version": "1.2.0",
            "_model_name": "LayoutModel",
            "_view_count": null,
            "_view_module": "@jupyter-widgets/base",
            "_view_module_version": "1.2.0",
            "_view_name": "LayoutView",
            "align_content": null,
            "align_items": null,
            "align_self": null,
            "border": null,
            "bottom": null,
            "display": null,
            "flex": null,
            "flex_flow": null,
            "grid_area": null,
            "grid_auto_columns": null,
            "grid_auto_flow": null,
            "grid_auto_rows": null,
            "grid_column": null,
            "grid_gap": null,
            "grid_row": null,
            "grid_template_areas": null,
            "grid_template_columns": null,
            "grid_template_rows": null,
            "height": null,
            "justify_content": null,
            "justify_items": null,
            "left": null,
            "margin": null,
            "max_height": null,
            "max_width": null,
            "min_height": null,
            "min_width": null,
            "object_fit": null,
            "object_position": null,
            "order": null,
            "overflow": null,
            "overflow_x": null,
            "overflow_y": null,
            "padding": null,
            "right": null,
            "top": null,
            "visibility": null,
            "width": null
          }
        },
        "0fbf8f28f981495891e1bb140e90d5fc": {
          "model_module": "@jupyter-widgets/base",
          "model_name": "LayoutModel",
          "model_module_version": "1.2.0",
          "state": {
            "_model_module": "@jupyter-widgets/base",
            "_model_module_version": "1.2.0",
            "_model_name": "LayoutModel",
            "_view_count": null,
            "_view_module": "@jupyter-widgets/base",
            "_view_module_version": "1.2.0",
            "_view_name": "LayoutView",
            "align_content": null,
            "align_items": null,
            "align_self": null,
            "border": null,
            "bottom": null,
            "display": null,
            "flex": null,
            "flex_flow": null,
            "grid_area": null,
            "grid_auto_columns": null,
            "grid_auto_flow": null,
            "grid_auto_rows": null,
            "grid_column": null,
            "grid_gap": null,
            "grid_row": null,
            "grid_template_areas": null,
            "grid_template_columns": null,
            "grid_template_rows": null,
            "height": null,
            "justify_content": null,
            "justify_items": null,
            "left": null,
            "margin": null,
            "max_height": null,
            "max_width": null,
            "min_height": null,
            "min_width": null,
            "object_fit": null,
            "object_position": null,
            "order": null,
            "overflow": null,
            "overflow_x": null,
            "overflow_y": null,
            "padding": null,
            "right": null,
            "top": null,
            "visibility": null,
            "width": null
          }
        },
        "353eead44b624c1081c15b3888cd3092": {
          "model_module": "@jupyter-widgets/controls",
          "model_name": "SliderStyleModel",
          "model_module_version": "1.5.0",
          "state": {
            "_model_module": "@jupyter-widgets/controls",
            "_model_module_version": "1.5.0",
            "_model_name": "SliderStyleModel",
            "_view_count": null,
            "_view_module": "@jupyter-widgets/base",
            "_view_module_version": "1.2.0",
            "_view_name": "StyleView",
            "description_width": "",
            "handle_color": null
          }
        },
        "4b063c35f21c4b4a8e74b6ef404079f9": {
          "model_module": "@jupyter-widgets/base",
          "model_name": "LayoutModel",
          "model_module_version": "1.2.0",
          "state": {
            "_model_module": "@jupyter-widgets/base",
            "_model_module_version": "1.2.0",
            "_model_name": "LayoutModel",
            "_view_count": null,
            "_view_module": "@jupyter-widgets/base",
            "_view_module_version": "1.2.0",
            "_view_name": "LayoutView",
            "align_content": null,
            "align_items": null,
            "align_self": null,
            "border": null,
            "bottom": null,
            "display": null,
            "flex": null,
            "flex_flow": null,
            "grid_area": null,
            "grid_auto_columns": null,
            "grid_auto_flow": null,
            "grid_auto_rows": null,
            "grid_column": null,
            "grid_gap": null,
            "grid_row": null,
            "grid_template_areas": null,
            "grid_template_columns": null,
            "grid_template_rows": null,
            "height": null,
            "justify_content": null,
            "justify_items": null,
            "left": null,
            "margin": null,
            "max_height": null,
            "max_width": null,
            "min_height": null,
            "min_width": null,
            "object_fit": null,
            "object_position": null,
            "order": null,
            "overflow": null,
            "overflow_x": null,
            "overflow_y": null,
            "padding": null,
            "right": null,
            "top": null,
            "visibility": null,
            "width": null
          }
        },
        "6af42001a6774e1daf6d6af4b5706804": {
          "model_module": "@jupyter-widgets/controls",
          "model_name": "SliderStyleModel",
          "model_module_version": "1.5.0",
          "state": {
            "_model_module": "@jupyter-widgets/controls",
            "_model_module_version": "1.5.0",
            "_model_name": "SliderStyleModel",
            "_view_count": null,
            "_view_module": "@jupyter-widgets/base",
            "_view_module_version": "1.2.0",
            "_view_name": "StyleView",
            "description_width": "",
            "handle_color": null
          }
        },
        "c21d1fd5f5034722991c07b698e2ffff": {
          "model_module": "@jupyter-widgets/base",
          "model_name": "LayoutModel",
          "model_module_version": "1.2.0",
          "state": {
            "_model_module": "@jupyter-widgets/base",
            "_model_module_version": "1.2.0",
            "_model_name": "LayoutModel",
            "_view_count": null,
            "_view_module": "@jupyter-widgets/base",
            "_view_module_version": "1.2.0",
            "_view_name": "LayoutView",
            "align_content": null,
            "align_items": null,
            "align_self": null,
            "border": null,
            "bottom": null,
            "display": null,
            "flex": null,
            "flex_flow": null,
            "grid_area": null,
            "grid_auto_columns": null,
            "grid_auto_flow": null,
            "grid_auto_rows": null,
            "grid_column": null,
            "grid_gap": null,
            "grid_row": null,
            "grid_template_areas": null,
            "grid_template_columns": null,
            "grid_template_rows": null,
            "height": null,
            "justify_content": null,
            "justify_items": null,
            "left": null,
            "margin": null,
            "max_height": null,
            "max_width": null,
            "min_height": null,
            "min_width": null,
            "object_fit": null,
            "object_position": null,
            "order": null,
            "overflow": null,
            "overflow_x": null,
            "overflow_y": null,
            "padding": null,
            "right": null,
            "top": null,
            "visibility": null,
            "width": null
          }
        },
        "6927236d474b468682f95eb14c76436b": {
          "model_module": "@jupyter-widgets/controls",
          "model_name": "SliderStyleModel",
          "model_module_version": "1.5.0",
          "state": {
            "_model_module": "@jupyter-widgets/controls",
            "_model_module_version": "1.5.0",
            "_model_name": "SliderStyleModel",
            "_view_count": null,
            "_view_module": "@jupyter-widgets/base",
            "_view_module_version": "1.2.0",
            "_view_name": "StyleView",
            "description_width": "",
            "handle_color": null
          }
        },
        "dc215269884d4ca4ac61106373d655cb": {
          "model_module": "@jupyter-widgets/base",
          "model_name": "LayoutModel",
          "model_module_version": "1.2.0",
          "state": {
            "_model_module": "@jupyter-widgets/base",
            "_model_module_version": "1.2.0",
            "_model_name": "LayoutModel",
            "_view_count": null,
            "_view_module": "@jupyter-widgets/base",
            "_view_module_version": "1.2.0",
            "_view_name": "LayoutView",
            "align_content": null,
            "align_items": null,
            "align_self": null,
            "border": null,
            "bottom": null,
            "display": null,
            "flex": null,
            "flex_flow": null,
            "grid_area": null,
            "grid_auto_columns": null,
            "grid_auto_flow": null,
            "grid_auto_rows": null,
            "grid_column": null,
            "grid_gap": null,
            "grid_row": null,
            "grid_template_areas": null,
            "grid_template_columns": null,
            "grid_template_rows": null,
            "height": null,
            "justify_content": null,
            "justify_items": null,
            "left": null,
            "margin": null,
            "max_height": null,
            "max_width": null,
            "min_height": null,
            "min_width": null,
            "object_fit": null,
            "object_position": null,
            "order": null,
            "overflow": null,
            "overflow_x": null,
            "overflow_y": null,
            "padding": null,
            "right": null,
            "top": null,
            "visibility": null,
            "width": null
          }
        },
        "7552d65617d34ddf9f31b2c71913559b": {
          "model_module": "@jupyter-widgets/controls",
          "model_name": "VBoxModel",
          "model_module_version": "1.5.0",
          "state": {
            "_dom_classes": [
              "widget-interact"
            ],
            "_model_module": "@jupyter-widgets/controls",
            "_model_module_version": "1.5.0",
            "_model_name": "VBoxModel",
            "_view_count": null,
            "_view_module": "@jupyter-widgets/controls",
            "_view_module_version": "1.5.0",
            "_view_name": "VBoxView",
            "box_style": "",
            "children": [
              "IPY_MODEL_23a4bae6a0b249949f3a7732d8d5d6d6",
              "IPY_MODEL_9c0b2914a1ee4068a987904d50f1ed44",
              "IPY_MODEL_ba321b4468534c6399275d6f21b31dc4"
            ],
            "layout": "IPY_MODEL_b1e2da16b9864c7189d653c1c5e0cc39"
          }
        },
        "23a4bae6a0b249949f3a7732d8d5d6d6": {
          "model_module": "@jupyter-widgets/controls",
          "model_name": "FloatSliderModel",
          "model_module_version": "1.5.0",
          "state": {
            "_dom_classes": [],
            "_model_module": "@jupyter-widgets/controls",
            "_model_module_version": "1.5.0",
            "_model_name": "FloatSliderModel",
            "_view_count": null,
            "_view_module": "@jupyter-widgets/controls",
            "_view_module_version": "1.5.0",
            "_view_name": "FloatSliderView",
            "continuous_update": true,
            "description": "v",
            "description_tooltip": null,
            "disabled": false,
            "layout": "IPY_MODEL_cc70dd6185864a6dbed8e1d58a252b90",
            "max": 1,
            "min": 0,
            "orientation": "horizontal",
            "readout": true,
            "readout_format": ".2f",
            "step": 0.1,
            "style": "IPY_MODEL_80a313fbc92d4e19bf11ed7da9978e27",
            "value": 0.1
          }
        },
        "9c0b2914a1ee4068a987904d50f1ed44": {
          "model_module": "@jupyter-widgets/controls",
          "model_name": "FloatSliderModel",
          "model_module_version": "1.5.0",
          "state": {
            "_dom_classes": [],
            "_model_module": "@jupyter-widgets/controls",
            "_model_module_version": "1.5.0",
            "_model_name": "FloatSliderModel",
            "_view_count": null,
            "_view_module": "@jupyter-widgets/controls",
            "_view_module_version": "1.5.0",
            "_view_name": "FloatSliderView",
            "continuous_update": true,
            "description": "w",
            "description_tooltip": null,
            "disabled": false,
            "layout": "IPY_MODEL_318401a7f7f94d579bcea3a716fdb12a",
            "max": 1,
            "min": 0,
            "orientation": "horizontal",
            "readout": true,
            "readout_format": ".2f",
            "step": 0.1,
            "style": "IPY_MODEL_6ae7f0cf094e44d084d0a5d1bd65c094",
            "value": 0.2
          }
        },
        "ba321b4468534c6399275d6f21b31dc4": {
          "model_module": "@jupyter-widgets/output",
          "model_name": "OutputModel",
          "model_module_version": "1.0.0",
          "state": {
            "_dom_classes": [],
            "_model_module": "@jupyter-widgets/output",
            "_model_module_version": "1.0.0",
            "_model_name": "OutputModel",
            "_view_count": null,
            "_view_module": "@jupyter-widgets/output",
            "_view_module_version": "1.0.0",
            "_view_name": "OutputView",
            "layout": "IPY_MODEL_7975ec52e5174edb9cf0ea8e718cd00c",
            "msg_id": "",
            "outputs": [
              {
                "output_type": "display_data",
                "data": {
                  "text/plain": "<Figure size 432x288 with 1 Axes>",
                  "image/png": "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\n"
                },
                "metadata": {
                  "needs_background": "light"
                }
              }
            ]
          }
        },
        "b1e2da16b9864c7189d653c1c5e0cc39": {
          "model_module": "@jupyter-widgets/base",
          "model_name": "LayoutModel",
          "model_module_version": "1.2.0",
          "state": {
            "_model_module": "@jupyter-widgets/base",
            "_model_module_version": "1.2.0",
            "_model_name": "LayoutModel",
            "_view_count": null,
            "_view_module": "@jupyter-widgets/base",
            "_view_module_version": "1.2.0",
            "_view_name": "LayoutView",
            "align_content": null,
            "align_items": null,
            "align_self": null,
            "border": null,
            "bottom": null,
            "display": null,
            "flex": null,
            "flex_flow": null,
            "grid_area": null,
            "grid_auto_columns": null,
            "grid_auto_flow": null,
            "grid_auto_rows": null,
            "grid_column": null,
            "grid_gap": null,
            "grid_row": null,
            "grid_template_areas": null,
            "grid_template_columns": null,
            "grid_template_rows": null,
            "height": null,
            "justify_content": null,
            "justify_items": null,
            "left": null,
            "margin": null,
            "max_height": null,
            "max_width": null,
            "min_height": null,
            "min_width": null,
            "object_fit": null,
            "object_position": null,
            "order": null,
            "overflow": null,
            "overflow_x": null,
            "overflow_y": null,
            "padding": null,
            "right": null,
            "top": null,
            "visibility": null,
            "width": null
          }
        },
        "cc70dd6185864a6dbed8e1d58a252b90": {
          "model_module": "@jupyter-widgets/base",
          "model_name": "LayoutModel",
          "model_module_version": "1.2.0",
          "state": {
            "_model_module": "@jupyter-widgets/base",
            "_model_module_version": "1.2.0",
            "_model_name": "LayoutModel",
            "_view_count": null,
            "_view_module": "@jupyter-widgets/base",
            "_view_module_version": "1.2.0",
            "_view_name": "LayoutView",
            "align_content": null,
            "align_items": null,
            "align_self": null,
            "border": null,
            "bottom": null,
            "display": null,
            "flex": null,
            "flex_flow": null,
            "grid_area": null,
            "grid_auto_columns": null,
            "grid_auto_flow": null,
            "grid_auto_rows": null,
            "grid_column": null,
            "grid_gap": null,
            "grid_row": null,
            "grid_template_areas": null,
            "grid_template_columns": null,
            "grid_template_rows": null,
            "height": null,
            "justify_content": null,
            "justify_items": null,
            "left": null,
            "margin": null,
            "max_height": null,
            "max_width": null,
            "min_height": null,
            "min_width": null,
            "object_fit": null,
            "object_position": null,
            "order": null,
            "overflow": null,
            "overflow_x": null,
            "overflow_y": null,
            "padding": null,
            "right": null,
            "top": null,
            "visibility": null,
            "width": null
          }
        },
        "80a313fbc92d4e19bf11ed7da9978e27": {
          "model_module": "@jupyter-widgets/controls",
          "model_name": "SliderStyleModel",
          "model_module_version": "1.5.0",
          "state": {
            "_model_module": "@jupyter-widgets/controls",
            "_model_module_version": "1.5.0",
            "_model_name": "SliderStyleModel",
            "_view_count": null,
            "_view_module": "@jupyter-widgets/base",
            "_view_module_version": "1.2.0",
            "_view_name": "StyleView",
            "description_width": "",
            "handle_color": null
          }
        },
        "318401a7f7f94d579bcea3a716fdb12a": {
          "model_module": "@jupyter-widgets/base",
          "model_name": "LayoutModel",
          "model_module_version": "1.2.0",
          "state": {
            "_model_module": "@jupyter-widgets/base",
            "_model_module_version": "1.2.0",
            "_model_name": "LayoutModel",
            "_view_count": null,
            "_view_module": "@jupyter-widgets/base",
            "_view_module_version": "1.2.0",
            "_view_name": "LayoutView",
            "align_content": null,
            "align_items": null,
            "align_self": null,
            "border": null,
            "bottom": null,
            "display": null,
            "flex": null,
            "flex_flow": null,
            "grid_area": null,
            "grid_auto_columns": null,
            "grid_auto_flow": null,
            "grid_auto_rows": null,
            "grid_column": null,
            "grid_gap": null,
            "grid_row": null,
            "grid_template_areas": null,
            "grid_template_columns": null,
            "grid_template_rows": null,
            "height": null,
            "justify_content": null,
            "justify_items": null,
            "left": null,
            "margin": null,
            "max_height": null,
            "max_width": null,
            "min_height": null,
            "min_width": null,
            "object_fit": null,
            "object_position": null,
            "order": null,
            "overflow": null,
            "overflow_x": null,
            "overflow_y": null,
            "padding": null,
            "right": null,
            "top": null,
            "visibility": null,
            "width": null
          }
        },
        "6ae7f0cf094e44d084d0a5d1bd65c094": {
          "model_module": "@jupyter-widgets/controls",
          "model_name": "SliderStyleModel",
          "model_module_version": "1.5.0",
          "state": {
            "_model_module": "@jupyter-widgets/controls",
            "_model_module_version": "1.5.0",
            "_model_name": "SliderStyleModel",
            "_view_count": null,
            "_view_module": "@jupyter-widgets/base",
            "_view_module_version": "1.2.0",
            "_view_name": "StyleView",
            "description_width": "",
            "handle_color": null
          }
        },
        "7975ec52e5174edb9cf0ea8e718cd00c": {
          "model_module": "@jupyter-widgets/base",
          "model_name": "LayoutModel",
          "model_module_version": "1.2.0",
          "state": {
            "_model_module": "@jupyter-widgets/base",
            "_model_module_version": "1.2.0",
            "_model_name": "LayoutModel",
            "_view_count": null,
            "_view_module": "@jupyter-widgets/base",
            "_view_module_version": "1.2.0",
            "_view_name": "LayoutView",
            "align_content": null,
            "align_items": null,
            "align_self": null,
            "border": null,
            "bottom": null,
            "display": null,
            "flex": null,
            "flex_flow": null,
            "grid_area": null,
            "grid_auto_columns": null,
            "grid_auto_flow": null,
            "grid_auto_rows": null,
            "grid_column": null,
            "grid_gap": null,
            "grid_row": null,
            "grid_template_areas": null,
            "grid_template_columns": null,
            "grid_template_rows": null,
            "height": null,
            "justify_content": null,
            "justify_items": null,
            "left": null,
            "margin": null,
            "max_height": null,
            "max_width": null,
            "min_height": null,
            "min_width": null,
            "object_fit": null,
            "object_position": null,
            "order": null,
            "overflow": null,
            "overflow_x": null,
            "overflow_y": null,
            "padding": null,
            "right": null,
            "top": null,
            "visibility": null,
            "width": null
          }
        },
        "651342c9170e4caaad7e3f1c07ff99d2": {
          "model_module": "@jupyter-widgets/controls",
          "model_name": "VBoxModel",
          "model_module_version": "1.5.0",
          "state": {
            "_dom_classes": [
              "widget-interact"
            ],
            "_model_module": "@jupyter-widgets/controls",
            "_model_module_version": "1.5.0",
            "_model_name": "VBoxModel",
            "_view_count": null,
            "_view_module": "@jupyter-widgets/controls",
            "_view_module_version": "1.5.0",
            "_view_name": "VBoxView",
            "box_style": "",
            "children": [
              "IPY_MODEL_a386314e485847fabfaa9743b97ea939",
              "IPY_MODEL_c0ad6a6069f44d9bad5b6694bfa66fdd",
              "IPY_MODEL_e4ec94147e35450a87fdfaba19b8a157"
            ],
            "layout": "IPY_MODEL_89479339c8ca41e7a39d0a3d7b1e14c5"
          }
        },
        "a386314e485847fabfaa9743b97ea939": {
          "model_module": "@jupyter-widgets/controls",
          "model_name": "FloatSliderModel",
          "model_module_version": "1.5.0",
          "state": {
            "_dom_classes": [],
            "_model_module": "@jupyter-widgets/controls",
            "_model_module_version": "1.5.0",
            "_model_name": "FloatSliderModel",
            "_view_count": null,
            "_view_module": "@jupyter-widgets/controls",
            "_view_module_version": "1.5.0",
            "_view_name": "FloatSliderView",
            "continuous_update": true,
            "description": "v",
            "description_tooltip": null,
            "disabled": false,
            "layout": "IPY_MODEL_15582effa4cb4587b5b0024337bceb0f",
            "max": 5,
            "min": 0,
            "orientation": "horizontal",
            "readout": true,
            "readout_format": ".2f",
            "step": 0.1,
            "style": "IPY_MODEL_e97a08cb28fd409980f6de83a20236c5",
            "value": 2.6
          }
        },
        "c0ad6a6069f44d9bad5b6694bfa66fdd": {
          "model_module": "@jupyter-widgets/controls",
          "model_name": "FloatSliderModel",
          "model_module_version": "1.5.0",
          "state": {
            "_dom_classes": [],
            "_model_module": "@jupyter-widgets/controls",
            "_model_module_version": "1.5.0",
            "_model_name": "FloatSliderModel",
            "_view_count": null,
            "_view_module": "@jupyter-widgets/controls",
            "_view_module_version": "1.5.0",
            "_view_name": "FloatSliderView",
            "continuous_update": true,
            "description": "w",
            "description_tooltip": null,
            "disabled": false,
            "layout": "IPY_MODEL_39bd3786d8da4a588fff7a7af78e5480",
            "max": 5,
            "min": 0,
            "orientation": "horizontal",
            "readout": true,
            "readout_format": ".2f",
            "step": 0.1,
            "style": "IPY_MODEL_9813172f419341069b2cdfbde5e125bb",
            "value": 3.2
          }
        },
        "e4ec94147e35450a87fdfaba19b8a157": {
          "model_module": "@jupyter-widgets/output",
          "model_name": "OutputModel",
          "model_module_version": "1.0.0",
          "state": {
            "_dom_classes": [],
            "_model_module": "@jupyter-widgets/output",
            "_model_module_version": "1.0.0",
            "_model_name": "OutputModel",
            "_view_count": null,
            "_view_module": "@jupyter-widgets/output",
            "_view_module_version": "1.0.0",
            "_view_name": "OutputView",
            "layout": "IPY_MODEL_e0fae47b8a324c9a925477077f72316e",
            "msg_id": "",
            "outputs": [
              {
                "output_type": "display_data",
                "data": {
                  "text/plain": "<Figure size 360x288 with 2 Axes>",
                  "image/png": "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\n"
                },
                "metadata": {
                  "needs_background": "light"
                }
              }
            ]
          }
        },
        "89479339c8ca41e7a39d0a3d7b1e14c5": {
          "model_module": "@jupyter-widgets/base",
          "model_name": "LayoutModel",
          "model_module_version": "1.2.0",
          "state": {
            "_model_module": "@jupyter-widgets/base",
            "_model_module_version": "1.2.0",
            "_model_name": "LayoutModel",
            "_view_count": null,
            "_view_module": "@jupyter-widgets/base",
            "_view_module_version": "1.2.0",
            "_view_name": "LayoutView",
            "align_content": null,
            "align_items": null,
            "align_self": null,
            "border": null,
            "bottom": null,
            "display": null,
            "flex": null,
            "flex_flow": null,
            "grid_area": null,
            "grid_auto_columns": null,
            "grid_auto_flow": null,
            "grid_auto_rows": null,
            "grid_column": null,
            "grid_gap": null,
            "grid_row": null,
            "grid_template_areas": null,
            "grid_template_columns": null,
            "grid_template_rows": null,
            "height": null,
            "justify_content": null,
            "justify_items": null,
            "left": null,
            "margin": null,
            "max_height": null,
            "max_width": null,
            "min_height": null,
            "min_width": null,
            "object_fit": null,
            "object_position": null,
            "order": null,
            "overflow": null,
            "overflow_x": null,
            "overflow_y": null,
            "padding": null,
            "right": null,
            "top": null,
            "visibility": null,
            "width": null
          }
        },
        "15582effa4cb4587b5b0024337bceb0f": {
          "model_module": "@jupyter-widgets/base",
          "model_name": "LayoutModel",
          "model_module_version": "1.2.0",
          "state": {
            "_model_module": "@jupyter-widgets/base",
            "_model_module_version": "1.2.0",
            "_model_name": "LayoutModel",
            "_view_count": null,
            "_view_module": "@jupyter-widgets/base",
            "_view_module_version": "1.2.0",
            "_view_name": "LayoutView",
            "align_content": null,
            "align_items": null,
            "align_self": null,
            "border": null,
            "bottom": null,
            "display": null,
            "flex": null,
            "flex_flow": null,
            "grid_area": null,
            "grid_auto_columns": null,
            "grid_auto_flow": null,
            "grid_auto_rows": null,
            "grid_column": null,
            "grid_gap": null,
            "grid_row": null,
            "grid_template_areas": null,
            "grid_template_columns": null,
            "grid_template_rows": null,
            "height": null,
            "justify_content": null,
            "justify_items": null,
            "left": null,
            "margin": null,
            "max_height": null,
            "max_width": null,
            "min_height": null,
            "min_width": null,
            "object_fit": null,
            "object_position": null,
            "order": null,
            "overflow": null,
            "overflow_x": null,
            "overflow_y": null,
            "padding": null,
            "right": null,
            "top": null,
            "visibility": null,
            "width": null
          }
        },
        "e97a08cb28fd409980f6de83a20236c5": {
          "model_module": "@jupyter-widgets/controls",
          "model_name": "SliderStyleModel",
          "model_module_version": "1.5.0",
          "state": {
            "_model_module": "@jupyter-widgets/controls",
            "_model_module_version": "1.5.0",
            "_model_name": "SliderStyleModel",
            "_view_count": null,
            "_view_module": "@jupyter-widgets/base",
            "_view_module_version": "1.2.0",
            "_view_name": "StyleView",
            "description_width": "",
            "handle_color": null
          }
        },
        "39bd3786d8da4a588fff7a7af78e5480": {
          "model_module": "@jupyter-widgets/base",
          "model_name": "LayoutModel",
          "model_module_version": "1.2.0",
          "state": {
            "_model_module": "@jupyter-widgets/base",
            "_model_module_version": "1.2.0",
            "_model_name": "LayoutModel",
            "_view_count": null,
            "_view_module": "@jupyter-widgets/base",
            "_view_module_version": "1.2.0",
            "_view_name": "LayoutView",
            "align_content": null,
            "align_items": null,
            "align_self": null,
            "border": null,
            "bottom": null,
            "display": null,
            "flex": null,
            "flex_flow": null,
            "grid_area": null,
            "grid_auto_columns": null,
            "grid_auto_flow": null,
            "grid_auto_rows": null,
            "grid_column": null,
            "grid_gap": null,
            "grid_row": null,
            "grid_template_areas": null,
            "grid_template_columns": null,
            "grid_template_rows": null,
            "height": null,
            "justify_content": null,
            "justify_items": null,
            "left": null,
            "margin": null,
            "max_height": null,
            "max_width": null,
            "min_height": null,
            "min_width": null,
            "object_fit": null,
            "object_position": null,
            "order": null,
            "overflow": null,
            "overflow_x": null,
            "overflow_y": null,
            "padding": null,
            "right": null,
            "top": null,
            "visibility": null,
            "width": null
          }
        },
        "9813172f419341069b2cdfbde5e125bb": {
          "model_module": "@jupyter-widgets/controls",
          "model_name": "SliderStyleModel",
          "model_module_version": "1.5.0",
          "state": {
            "_model_module": "@jupyter-widgets/controls",
            "_model_module_version": "1.5.0",
            "_model_name": "SliderStyleModel",
            "_view_count": null,
            "_view_module": "@jupyter-widgets/base",
            "_view_module_version": "1.2.0",
            "_view_name": "StyleView",
            "description_width": "",
            "handle_color": null
          }
        },
        "e0fae47b8a324c9a925477077f72316e": {
          "model_module": "@jupyter-widgets/base",
          "model_name": "LayoutModel",
          "model_module_version": "1.2.0",
          "state": {
            "_model_module": "@jupyter-widgets/base",
            "_model_module_version": "1.2.0",
            "_model_name": "LayoutModel",
            "_view_count": null,
            "_view_module": "@jupyter-widgets/base",
            "_view_module_version": "1.2.0",
            "_view_name": "LayoutView",
            "align_content": null,
            "align_items": null,
            "align_self": null,
            "border": null,
            "bottom": null,
            "display": null,
            "flex": null,
            "flex_flow": null,
            "grid_area": null,
            "grid_auto_columns": null,
            "grid_auto_flow": null,
            "grid_auto_rows": null,
            "grid_column": null,
            "grid_gap": null,
            "grid_row": null,
            "grid_template_areas": null,
            "grid_template_columns": null,
            "grid_template_rows": null,
            "height": null,
            "justify_content": null,
            "justify_items": null,
            "left": null,
            "margin": null,
            "max_height": null,
            "max_width": null,
            "min_height": null,
            "min_width": null,
            "object_fit": null,
            "object_position": null,
            "order": null,
            "overflow": null,
            "overflow_x": null,
            "overflow_y": null,
            "padding": null,
            "right": null,
            "top": null,
            "visibility": null,
            "width": null
          }
        },
        "fa32170ea1c749e3a497fb1ea206a5b2": {
          "model_module": "@jupyter-widgets/controls",
          "model_name": "VBoxModel",
          "model_module_version": "1.5.0",
          "state": {
            "_dom_classes": [
              "widget-interact"
            ],
            "_model_module": "@jupyter-widgets/controls",
            "_model_module_version": "1.5.0",
            "_model_name": "VBoxModel",
            "_view_count": null,
            "_view_module": "@jupyter-widgets/controls",
            "_view_module_version": "1.5.0",
            "_view_name": "VBoxView",
            "box_style": "",
            "children": [
              "IPY_MODEL_2e10354a12354599b59632a6d48b8033",
              "IPY_MODEL_b033109f9b0d4f48a6d50496aa9f41d1"
            ],
            "layout": "IPY_MODEL_019c01cb9b324015ad7032a2ca24e22b"
          }
        },
        "2e10354a12354599b59632a6d48b8033": {
          "model_module": "@jupyter-widgets/controls",
          "model_name": "FloatSliderModel",
          "model_module_version": "1.5.0",
          "state": {
            "_dom_classes": [],
            "_model_module": "@jupyter-widgets/controls",
            "_model_module_version": "1.5.0",
            "_model_name": "FloatSliderModel",
            "_view_count": null,
            "_view_module": "@jupyter-widgets/controls",
            "_view_module_version": "1.5.0",
            "_view_name": "FloatSliderView",
            "continuous_update": true,
            "description": "w",
            "description_tooltip": null,
            "disabled": false,
            "layout": "IPY_MODEL_fe3a51795d874f30a8b2c1d171e51282",
            "max": 0.5,
            "min": 0.1,
            "orientation": "horizontal",
            "readout": true,
            "readout_format": ".2f",
            "step": 0.1,
            "style": "IPY_MODEL_239c13c2905f4775ac6290f7ae7f6e42",
            "value": 0.30000000000000004
          }
        },
        "b033109f9b0d4f48a6d50496aa9f41d1": {
          "model_module": "@jupyter-widgets/output",
          "model_name": "OutputModel",
          "model_module_version": "1.0.0",
          "state": {
            "_dom_classes": [],
            "_model_module": "@jupyter-widgets/output",
            "_model_module_version": "1.0.0",
            "_model_name": "OutputModel",
            "_view_count": null,
            "_view_module": "@jupyter-widgets/output",
            "_view_module_version": "1.0.0",
            "_view_name": "OutputView",
            "layout": "IPY_MODEL_873e99833f4146a7a348b8b09fc9f20a",
            "msg_id": "",
            "outputs": [
              {
                "output_type": "display_data",
                "data": {
                  "text/plain": "<Figure size 432x288 with 1 Axes>",
                  "image/png": "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\n"
                },
                "metadata": {
                  "needs_background": "light"
                }
              }
            ]
          }
        },
        "019c01cb9b324015ad7032a2ca24e22b": {
          "model_module": "@jupyter-widgets/base",
          "model_name": "LayoutModel",
          "model_module_version": "1.2.0",
          "state": {
            "_model_module": "@jupyter-widgets/base",
            "_model_module_version": "1.2.0",
            "_model_name": "LayoutModel",
            "_view_count": null,
            "_view_module": "@jupyter-widgets/base",
            "_view_module_version": "1.2.0",
            "_view_name": "LayoutView",
            "align_content": null,
            "align_items": null,
            "align_self": null,
            "border": null,
            "bottom": null,
            "display": null,
            "flex": null,
            "flex_flow": null,
            "grid_area": null,
            "grid_auto_columns": null,
            "grid_auto_flow": null,
            "grid_auto_rows": null,
            "grid_column": null,
            "grid_gap": null,
            "grid_row": null,
            "grid_template_areas": null,
            "grid_template_columns": null,
            "grid_template_rows": null,
            "height": null,
            "justify_content": null,
            "justify_items": null,
            "left": null,
            "margin": null,
            "max_height": null,
            "max_width": null,
            "min_height": null,
            "min_width": null,
            "object_fit": null,
            "object_position": null,
            "order": null,
            "overflow": null,
            "overflow_x": null,
            "overflow_y": null,
            "padding": null,
            "right": null,
            "top": null,
            "visibility": null,
            "width": null
          }
        },
        "fe3a51795d874f30a8b2c1d171e51282": {
          "model_module": "@jupyter-widgets/base",
          "model_name": "LayoutModel",
          "model_module_version": "1.2.0",
          "state": {
            "_model_module": "@jupyter-widgets/base",
            "_model_module_version": "1.2.0",
            "_model_name": "LayoutModel",
            "_view_count": null,
            "_view_module": "@jupyter-widgets/base",
            "_view_module_version": "1.2.0",
            "_view_name": "LayoutView",
            "align_content": null,
            "align_items": null,
            "align_self": null,
            "border": null,
            "bottom": null,
            "display": null,
            "flex": null,
            "flex_flow": null,
            "grid_area": null,
            "grid_auto_columns": null,
            "grid_auto_flow": null,
            "grid_auto_rows": null,
            "grid_column": null,
            "grid_gap": null,
            "grid_row": null,
            "grid_template_areas": null,
            "grid_template_columns": null,
            "grid_template_rows": null,
            "height": null,
            "justify_content": null,
            "justify_items": null,
            "left": null,
            "margin": null,
            "max_height": null,
            "max_width": null,
            "min_height": null,
            "min_width": null,
            "object_fit": null,
            "object_position": null,
            "order": null,
            "overflow": null,
            "overflow_x": null,
            "overflow_y": null,
            "padding": null,
            "right": null,
            "top": null,
            "visibility": null,
            "width": null
          }
        },
        "239c13c2905f4775ac6290f7ae7f6e42": {
          "model_module": "@jupyter-widgets/controls",
          "model_name": "SliderStyleModel",
          "model_module_version": "1.5.0",
          "state": {
            "_model_module": "@jupyter-widgets/controls",
            "_model_module_version": "1.5.0",
            "_model_name": "SliderStyleModel",
            "_view_count": null,
            "_view_module": "@jupyter-widgets/base",
            "_view_module_version": "1.2.0",
            "_view_name": "StyleView",
            "description_width": "",
            "handle_color": null
          }
        },
        "873e99833f4146a7a348b8b09fc9f20a": {
          "model_module": "@jupyter-widgets/base",
          "model_name": "LayoutModel",
          "model_module_version": "1.2.0",
          "state": {
            "_model_module": "@jupyter-widgets/base",
            "_model_module_version": "1.2.0",
            "_model_name": "LayoutModel",
            "_view_count": null,
            "_view_module": "@jupyter-widgets/base",
            "_view_module_version": "1.2.0",
            "_view_name": "LayoutView",
            "align_content": null,
            "align_items": null,
            "align_self": null,
            "border": null,
            "bottom": null,
            "display": null,
            "flex": null,
            "flex_flow": null,
            "grid_area": null,
            "grid_auto_columns": null,
            "grid_auto_flow": null,
            "grid_auto_rows": null,
            "grid_column": null,
            "grid_gap": null,
            "grid_row": null,
            "grid_template_areas": null,
            "grid_template_columns": null,
            "grid_template_rows": null,
            "height": null,
            "justify_content": null,
            "justify_items": null,
            "left": null,
            "margin": null,
            "max_height": null,
            "max_width": null,
            "min_height": null,
            "min_width": null,
            "object_fit": null,
            "object_position": null,
            "order": null,
            "overflow": null,
            "overflow_x": null,
            "overflow_y": null,
            "padding": null,
            "right": null,
            "top": null,
            "visibility": null,
            "width": null
          }
        },
        "02dcdd28275b4f5ba20900d428244efb": {
          "model_module": "@jupyter-widgets/controls",
          "model_name": "VBoxModel",
          "model_module_version": "1.5.0",
          "state": {
            "_dom_classes": [
              "widget-interact"
            ],
            "_model_module": "@jupyter-widgets/controls",
            "_model_module_version": "1.5.0",
            "_model_name": "VBoxModel",
            "_view_count": null,
            "_view_module": "@jupyter-widgets/controls",
            "_view_module_version": "1.5.0",
            "_view_name": "VBoxView",
            "box_style": "",
            "children": [
              "IPY_MODEL_23fe130d118d4728a050623c007f5abe",
              "IPY_MODEL_fe439a5c048a4f6a9ddc4d386adf0bd1",
              "IPY_MODEL_f726eda419534cc3a3e3b7ac492544f4"
            ],
            "layout": "IPY_MODEL_8b05b56a8a0847d582c744ea7014300f"
          }
        },
        "23fe130d118d4728a050623c007f5abe": {
          "model_module": "@jupyter-widgets/controls",
          "model_name": "FloatSliderModel",
          "model_module_version": "1.5.0",
          "state": {
            "_dom_classes": [],
            "_model_module": "@jupyter-widgets/controls",
            "_model_module_version": "1.5.0",
            "_model_name": "FloatSliderModel",
            "_view_count": null,
            "_view_module": "@jupyter-widgets/controls",
            "_view_module_version": "1.5.0",
            "_view_name": "FloatSliderView",
            "continuous_update": true,
            "description": "v",
            "description_tooltip": null,
            "disabled": false,
            "layout": "IPY_MODEL_3f3951e9833449ddade9c75ccf77d5dd",
            "max": 5,
            "min": 0,
            "orientation": "horizontal",
            "readout": true,
            "readout_format": ".2f",
            "step": 0.1,
            "style": "IPY_MODEL_3f7b2fe9d43e4fc68a0f8dbbede7a85f",
            "value": 1.9
          }
        },
        "fe439a5c048a4f6a9ddc4d386adf0bd1": {
          "model_module": "@jupyter-widgets/controls",
          "model_name": "FloatSliderModel",
          "model_module_version": "1.5.0",
          "state": {
            "_dom_classes": [],
            "_model_module": "@jupyter-widgets/controls",
            "_model_module_version": "1.5.0",
            "_model_name": "FloatSliderModel",
            "_view_count": null,
            "_view_module": "@jupyter-widgets/controls",
            "_view_module_version": "1.5.0",
            "_view_name": "FloatSliderView",
            "continuous_update": true,
            "description": "w",
            "description_tooltip": null,
            "disabled": false,
            "layout": "IPY_MODEL_8a5915440d1847d781980fb9759a8f55",
            "max": 5,
            "min": 0,
            "orientation": "horizontal",
            "readout": true,
            "readout_format": ".2f",
            "step": 0.1,
            "style": "IPY_MODEL_3869461c92ea430a83a32c4e2a169ce0",
            "value": 2.9
          }
        },
        "f726eda419534cc3a3e3b7ac492544f4": {
          "model_module": "@jupyter-widgets/output",
          "model_name": "OutputModel",
          "model_module_version": "1.0.0",
          "state": {
            "_dom_classes": [],
            "_model_module": "@jupyter-widgets/output",
            "_model_module_version": "1.0.0",
            "_model_name": "OutputModel",
            "_view_count": null,
            "_view_module": "@jupyter-widgets/output",
            "_view_module_version": "1.0.0",
            "_view_name": "OutputView",
            "layout": "IPY_MODEL_6ad8da1f319344e9b2c1cbec56ddffad",
            "msg_id": "",
            "outputs": [
              {
                "output_type": "display_data",
                "data": {
                  "text/plain": "<Figure size 432x288 with 1 Axes>",
                  "image/png": "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\n"
                },
                "metadata": {
                  "needs_background": "light"
                }
              }
            ]
          }
        },
        "8b05b56a8a0847d582c744ea7014300f": {
          "model_module": "@jupyter-widgets/base",
          "model_name": "LayoutModel",
          "model_module_version": "1.2.0",
          "state": {
            "_model_module": "@jupyter-widgets/base",
            "_model_module_version": "1.2.0",
            "_model_name": "LayoutModel",
            "_view_count": null,
            "_view_module": "@jupyter-widgets/base",
            "_view_module_version": "1.2.0",
            "_view_name": "LayoutView",
            "align_content": null,
            "align_items": null,
            "align_self": null,
            "border": null,
            "bottom": null,
            "display": null,
            "flex": null,
            "flex_flow": null,
            "grid_area": null,
            "grid_auto_columns": null,
            "grid_auto_flow": null,
            "grid_auto_rows": null,
            "grid_column": null,
            "grid_gap": null,
            "grid_row": null,
            "grid_template_areas": null,
            "grid_template_columns": null,
            "grid_template_rows": null,
            "height": null,
            "justify_content": null,
            "justify_items": null,
            "left": null,
            "margin": null,
            "max_height": null,
            "max_width": null,
            "min_height": null,
            "min_width": null,
            "object_fit": null,
            "object_position": null,
            "order": null,
            "overflow": null,
            "overflow_x": null,
            "overflow_y": null,
            "padding": null,
            "right": null,
            "top": null,
            "visibility": null,
            "width": null
          }
        },
        "3f3951e9833449ddade9c75ccf77d5dd": {
          "model_module": "@jupyter-widgets/base",
          "model_name": "LayoutModel",
          "model_module_version": "1.2.0",
          "state": {
            "_model_module": "@jupyter-widgets/base",
            "_model_module_version": "1.2.0",
            "_model_name": "LayoutModel",
            "_view_count": null,
            "_view_module": "@jupyter-widgets/base",
            "_view_module_version": "1.2.0",
            "_view_name": "LayoutView",
            "align_content": null,
            "align_items": null,
            "align_self": null,
            "border": null,
            "bottom": null,
            "display": null,
            "flex": null,
            "flex_flow": null,
            "grid_area": null,
            "grid_auto_columns": null,
            "grid_auto_flow": null,
            "grid_auto_rows": null,
            "grid_column": null,
            "grid_gap": null,
            "grid_row": null,
            "grid_template_areas": null,
            "grid_template_columns": null,
            "grid_template_rows": null,
            "height": null,
            "justify_content": null,
            "justify_items": null,
            "left": null,
            "margin": null,
            "max_height": null,
            "max_width": null,
            "min_height": null,
            "min_width": null,
            "object_fit": null,
            "object_position": null,
            "order": null,
            "overflow": null,
            "overflow_x": null,
            "overflow_y": null,
            "padding": null,
            "right": null,
            "top": null,
            "visibility": null,
            "width": null
          }
        },
        "3f7b2fe9d43e4fc68a0f8dbbede7a85f": {
          "model_module": "@jupyter-widgets/controls",
          "model_name": "SliderStyleModel",
          "model_module_version": "1.5.0",
          "state": {
            "_model_module": "@jupyter-widgets/controls",
            "_model_module_version": "1.5.0",
            "_model_name": "SliderStyleModel",
            "_view_count": null,
            "_view_module": "@jupyter-widgets/base",
            "_view_module_version": "1.2.0",
            "_view_name": "StyleView",
            "description_width": "",
            "handle_color": null
          }
        },
        "8a5915440d1847d781980fb9759a8f55": {
          "model_module": "@jupyter-widgets/base",
          "model_name": "LayoutModel",
          "model_module_version": "1.2.0",
          "state": {
            "_model_module": "@jupyter-widgets/base",
            "_model_module_version": "1.2.0",
            "_model_name": "LayoutModel",
            "_view_count": null,
            "_view_module": "@jupyter-widgets/base",
            "_view_module_version": "1.2.0",
            "_view_name": "LayoutView",
            "align_content": null,
            "align_items": null,
            "align_self": null,
            "border": null,
            "bottom": null,
            "display": null,
            "flex": null,
            "flex_flow": null,
            "grid_area": null,
            "grid_auto_columns": null,
            "grid_auto_flow": null,
            "grid_auto_rows": null,
            "grid_column": null,
            "grid_gap": null,
            "grid_row": null,
            "grid_template_areas": null,
            "grid_template_columns": null,
            "grid_template_rows": null,
            "height": null,
            "justify_content": null,
            "justify_items": null,
            "left": null,
            "margin": null,
            "max_height": null,
            "max_width": null,
            "min_height": null,
            "min_width": null,
            "object_fit": null,
            "object_position": null,
            "order": null,
            "overflow": null,
            "overflow_x": null,
            "overflow_y": null,
            "padding": null,
            "right": null,
            "top": null,
            "visibility": null,
            "width": null
          }
        },
        "3869461c92ea430a83a32c4e2a169ce0": {
          "model_module": "@jupyter-widgets/controls",
          "model_name": "SliderStyleModel",
          "model_module_version": "1.5.0",
          "state": {
            "_model_module": "@jupyter-widgets/controls",
            "_model_module_version": "1.5.0",
            "_model_name": "SliderStyleModel",
            "_view_count": null,
            "_view_module": "@jupyter-widgets/base",
            "_view_module_version": "1.2.0",
            "_view_name": "StyleView",
            "description_width": "",
            "handle_color": null
          }
        },
        "6ad8da1f319344e9b2c1cbec56ddffad": {
          "model_module": "@jupyter-widgets/base",
          "model_name": "LayoutModel",
          "model_module_version": "1.2.0",
          "state": {
            "_model_module": "@jupyter-widgets/base",
            "_model_module_version": "1.2.0",
            "_model_name": "LayoutModel",
            "_view_count": null,
            "_view_module": "@jupyter-widgets/base",
            "_view_module_version": "1.2.0",
            "_view_name": "LayoutView",
            "align_content": null,
            "align_items": null,
            "align_self": null,
            "border": null,
            "bottom": null,
            "display": null,
            "flex": null,
            "flex_flow": null,
            "grid_area": null,
            "grid_auto_columns": null,
            "grid_auto_flow": null,
            "grid_auto_rows": null,
            "grid_column": null,
            "grid_gap": null,
            "grid_row": null,
            "grid_template_areas": null,
            "grid_template_columns": null,
            "grid_template_rows": null,
            "height": null,
            "justify_content": null,
            "justify_items": null,
            "left": null,
            "margin": null,
            "max_height": null,
            "max_width": null,
            "min_height": null,
            "min_width": null,
            "object_fit": null,
            "object_position": null,
            "order": null,
            "overflow": null,
            "overflow_x": null,
            "overflow_y": null,
            "padding": null,
            "right": null,
            "top": null,
            "visibility": null,
            "width": null
          }
        },
        "9c8aa11e75d64fe3804f25521e024a68": {
          "model_module": "@jupyter-widgets/controls",
          "model_name": "VBoxModel",
          "model_module_version": "1.5.0",
          "state": {
            "_dom_classes": [
              "widget-interact"
            ],
            "_model_module": "@jupyter-widgets/controls",
            "_model_module_version": "1.5.0",
            "_model_name": "VBoxModel",
            "_view_count": null,
            "_view_module": "@jupyter-widgets/controls",
            "_view_module_version": "1.5.0",
            "_view_name": "VBoxView",
            "box_style": "",
            "children": [
              "IPY_MODEL_e3052f89688e4128ad10b359dda76953",
              "IPY_MODEL_7a50687b3e2a427196efb4832b4b22f2",
              "IPY_MODEL_dd379d480f5e4f4183af2b5b5a921c4c"
            ],
            "layout": "IPY_MODEL_a053fbc0b03f45c6baaedb1e05afcb17"
          }
        },
        "e3052f89688e4128ad10b359dda76953": {
          "model_module": "@jupyter-widgets/controls",
          "model_name": "FloatSliderModel",
          "model_module_version": "1.5.0",
          "state": {
            "_dom_classes": [],
            "_model_module": "@jupyter-widgets/controls",
            "_model_module_version": "1.5.0",
            "_model_name": "FloatSliderModel",
            "_view_count": null,
            "_view_module": "@jupyter-widgets/controls",
            "_view_module_version": "1.5.0",
            "_view_name": "FloatSliderView",
            "continuous_update": true,
            "description": "v",
            "description_tooltip": null,
            "disabled": false,
            "layout": "IPY_MODEL_de4de56c72be4e3d8e804e1c2bf94793",
            "max": 0.5,
            "min": 0,
            "orientation": "horizontal",
            "readout": true,
            "readout_format": ".2f",
            "step": 0.01,
            "style": "IPY_MODEL_47fdbff59b8549eda9812e5a3c97868e",
            "value": 0.25
          }
        },
        "7a50687b3e2a427196efb4832b4b22f2": {
          "model_module": "@jupyter-widgets/controls",
          "model_name": "FloatSliderModel",
          "model_module_version": "1.5.0",
          "state": {
            "_dom_classes": [],
            "_model_module": "@jupyter-widgets/controls",
            "_model_module_version": "1.5.0",
            "_model_name": "FloatSliderModel",
            "_view_count": null,
            "_view_module": "@jupyter-widgets/controls",
            "_view_module_version": "1.5.0",
            "_view_name": "FloatSliderView",
            "continuous_update": true,
            "description": "w",
            "description_tooltip": null,
            "disabled": false,
            "layout": "IPY_MODEL_bd6d50351c9c4b0ebf0f42bc0d0fec4f",
            "max": 0.5,
            "min": 0,
            "orientation": "horizontal",
            "readout": true,
            "readout_format": ".2f",
            "step": 0.01,
            "style": "IPY_MODEL_823613f93a56418c9b71b8dcd8a44e09",
            "value": 0.34
          }
        },
        "dd379d480f5e4f4183af2b5b5a921c4c": {
          "model_module": "@jupyter-widgets/output",
          "model_name": "OutputModel",
          "model_module_version": "1.0.0",
          "state": {
            "_dom_classes": [],
            "_model_module": "@jupyter-widgets/output",
            "_model_module_version": "1.0.0",
            "_model_name": "OutputModel",
            "_view_count": null,
            "_view_module": "@jupyter-widgets/output",
            "_view_module_version": "1.0.0",
            "_view_name": "OutputView",
            "layout": "IPY_MODEL_39f24051f0b940a2855878e9ae5e232f",
            "msg_id": "",
            "outputs": [
              {
                "output_type": "display_data",
                "data": {
                  "text/plain": "<Figure size 432x288 with 1 Axes>",
                  "image/png": "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\n"
                },
                "metadata": {
                  "needs_background": "light"
                }
              }
            ]
          }
        },
        "a053fbc0b03f45c6baaedb1e05afcb17": {
          "model_module": "@jupyter-widgets/base",
          "model_name": "LayoutModel",
          "model_module_version": "1.2.0",
          "state": {
            "_model_module": "@jupyter-widgets/base",
            "_model_module_version": "1.2.0",
            "_model_name": "LayoutModel",
            "_view_count": null,
            "_view_module": "@jupyter-widgets/base",
            "_view_module_version": "1.2.0",
            "_view_name": "LayoutView",
            "align_content": null,
            "align_items": null,
            "align_self": null,
            "border": null,
            "bottom": null,
            "display": null,
            "flex": null,
            "flex_flow": null,
            "grid_area": null,
            "grid_auto_columns": null,
            "grid_auto_flow": null,
            "grid_auto_rows": null,
            "grid_column": null,
            "grid_gap": null,
            "grid_row": null,
            "grid_template_areas": null,
            "grid_template_columns": null,
            "grid_template_rows": null,
            "height": null,
            "justify_content": null,
            "justify_items": null,
            "left": null,
            "margin": null,
            "max_height": null,
            "max_width": null,
            "min_height": null,
            "min_width": null,
            "object_fit": null,
            "object_position": null,
            "order": null,
            "overflow": null,
            "overflow_x": null,
            "overflow_y": null,
            "padding": null,
            "right": null,
            "top": null,
            "visibility": null,
            "width": null
          }
        },
        "de4de56c72be4e3d8e804e1c2bf94793": {
          "model_module": "@jupyter-widgets/base",
          "model_name": "LayoutModel",
          "model_module_version": "1.2.0",
          "state": {
            "_model_module": "@jupyter-widgets/base",
            "_model_module_version": "1.2.0",
            "_model_name": "LayoutModel",
            "_view_count": null,
            "_view_module": "@jupyter-widgets/base",
            "_view_module_version": "1.2.0",
            "_view_name": "LayoutView",
            "align_content": null,
            "align_items": null,
            "align_self": null,
            "border": null,
            "bottom": null,
            "display": null,
            "flex": null,
            "flex_flow": null,
            "grid_area": null,
            "grid_auto_columns": null,
            "grid_auto_flow": null,
            "grid_auto_rows": null,
            "grid_column": null,
            "grid_gap": null,
            "grid_row": null,
            "grid_template_areas": null,
            "grid_template_columns": null,
            "grid_template_rows": null,
            "height": null,
            "justify_content": null,
            "justify_items": null,
            "left": null,
            "margin": null,
            "max_height": null,
            "max_width": null,
            "min_height": null,
            "min_width": null,
            "object_fit": null,
            "object_position": null,
            "order": null,
            "overflow": null,
            "overflow_x": null,
            "overflow_y": null,
            "padding": null,
            "right": null,
            "top": null,
            "visibility": null,
            "width": null
          }
        },
        "47fdbff59b8549eda9812e5a3c97868e": {
          "model_module": "@jupyter-widgets/controls",
          "model_name": "SliderStyleModel",
          "model_module_version": "1.5.0",
          "state": {
            "_model_module": "@jupyter-widgets/controls",
            "_model_module_version": "1.5.0",
            "_model_name": "SliderStyleModel",
            "_view_count": null,
            "_view_module": "@jupyter-widgets/base",
            "_view_module_version": "1.2.0",
            "_view_name": "StyleView",
            "description_width": "",
            "handle_color": null
          }
        },
        "bd6d50351c9c4b0ebf0f42bc0d0fec4f": {
          "model_module": "@jupyter-widgets/base",
          "model_name": "LayoutModel",
          "model_module_version": "1.2.0",
          "state": {
            "_model_module": "@jupyter-widgets/base",
            "_model_module_version": "1.2.0",
            "_model_name": "LayoutModel",
            "_view_count": null,
            "_view_module": "@jupyter-widgets/base",
            "_view_module_version": "1.2.0",
            "_view_name": "LayoutView",
            "align_content": null,
            "align_items": null,
            "align_self": null,
            "border": null,
            "bottom": null,
            "display": null,
            "flex": null,
            "flex_flow": null,
            "grid_area": null,
            "grid_auto_columns": null,
            "grid_auto_flow": null,
            "grid_auto_rows": null,
            "grid_column": null,
            "grid_gap": null,
            "grid_row": null,
            "grid_template_areas": null,
            "grid_template_columns": null,
            "grid_template_rows": null,
            "height": null,
            "justify_content": null,
            "justify_items": null,
            "left": null,
            "margin": null,
            "max_height": null,
            "max_width": null,
            "min_height": null,
            "min_width": null,
            "object_fit": null,
            "object_position": null,
            "order": null,
            "overflow": null,
            "overflow_x": null,
            "overflow_y": null,
            "padding": null,
            "right": null,
            "top": null,
            "visibility": null,
            "width": null
          }
        },
        "823613f93a56418c9b71b8dcd8a44e09": {
          "model_module": "@jupyter-widgets/controls",
          "model_name": "SliderStyleModel",
          "model_module_version": "1.5.0",
          "state": {
            "_model_module": "@jupyter-widgets/controls",
            "_model_module_version": "1.5.0",
            "_model_name": "SliderStyleModel",
            "_view_count": null,
            "_view_module": "@jupyter-widgets/base",
            "_view_module_version": "1.2.0",
            "_view_name": "StyleView",
            "description_width": "",
            "handle_color": null
          }
        },
        "39f24051f0b940a2855878e9ae5e232f": {
          "model_module": "@jupyter-widgets/base",
          "model_name": "LayoutModel",
          "model_module_version": "1.2.0",
          "state": {
            "_model_module": "@jupyter-widgets/base",
            "_model_module_version": "1.2.0",
            "_model_name": "LayoutModel",
            "_view_count": null,
            "_view_module": "@jupyter-widgets/base",
            "_view_module_version": "1.2.0",
            "_view_name": "LayoutView",
            "align_content": null,
            "align_items": null,
            "align_self": null,
            "border": null,
            "bottom": null,
            "display": null,
            "flex": null,
            "flex_flow": null,
            "grid_area": null,
            "grid_auto_columns": null,
            "grid_auto_flow": null,
            "grid_auto_rows": null,
            "grid_column": null,
            "grid_gap": null,
            "grid_row": null,
            "grid_template_areas": null,
            "grid_template_columns": null,
            "grid_template_rows": null,
            "height": null,
            "justify_content": null,
            "justify_items": null,
            "left": null,
            "margin": null,
            "max_height": null,
            "max_width": null,
            "min_height": null,
            "min_width": null,
            "object_fit": null,
            "object_position": null,
            "order": null,
            "overflow": null,
            "overflow_x": null,
            "overflow_y": null,
            "padding": null,
            "right": null,
            "top": null,
            "visibility": null,
            "width": null
          }
        }
      }
    }
  },
  "nbformat": 4,
  "nbformat_minor": 5
}