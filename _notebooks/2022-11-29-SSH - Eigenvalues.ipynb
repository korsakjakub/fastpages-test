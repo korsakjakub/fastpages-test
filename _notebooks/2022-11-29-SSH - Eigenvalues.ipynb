{
  "cells": [
    {
      "cell_type": "markdown",
      "id": "03FKNfrnCkzv",
      "metadata": {
        "id": "03FKNfrnCkzv"
      },
      "source": [
        "# SSH Eigenmodes"
      ]
    },
    {
      "cell_type": "markdown",
      "source": [
        "In this toutorial we want to consider quite easy toy model of polymer which cointein two kinds of atoms per unit site called as a SSH model. It is quite transparent model which simultaneously have a topological properties.\n",
        "\n",
        "\n",
        "We start with the Hamiltonian which describe our system,\n",
        "\n",
        "$$H=-\\sum_{ i} v (A_{i}^{\\dagger}B_{i}+h.c.)-\\sum_{j}w(A^{\\dagger}_{i}A_{i+1}+B^{\\dagger}_{i}B_{i+1}+h.c. ),$$\n",
        "here $v$ ($w$) is the overlap integral between the atoms in unit cell (betwens cells) and $A_{i}, B_{i}$ $(A_{i}^\\dagger, B_{i}^\\dagger)$ are a creation (anihilation) operators in $i$-th unit cells rspectivly $A$ and $B$ like site.  \n",
        "\n",
        "Our basic aim is to presented some common know properties of such a model with the use of additional python's package KWANT.\n",
        "Forst of all we need to install it in our program by simple commend,\n"
      ],
      "metadata": {
        "id": "lAqyG01qTv8X"
      },
      "id": "lAqyG01qTv8X"
    },
    {
      "cell_type": "code",
      "execution_count": null,
      "id": "RVbkDWo-t5Ns",
      "metadata": {
        "id": "RVbkDWo-t5Ns",
        "colab": {
          "base_uri": "https://localhost:8080/"
        },
        "outputId": "a4a277d5-757e-4032-fb52-4d18e31f62cd"
      },
      "outputs": [
        {
          "output_type": "stream",
          "name": "stdout",
          "text": [
            "Looking in indexes: https://pypi.org/simple, https://us-python.pkg.dev/colab-wheels/public/simple/\n",
            "Collecting kwant\n",
            "  Downloading kwant-1.4.3.tar.gz (1.6 MB)\n",
            "\u001b[K     |████████████████████████████████| 1.6 MB 6.9 MB/s \n",
            "\u001b[?25hRequirement already satisfied: numpy>=1.11.0 in /usr/local/lib/python3.7/dist-packages (from kwant) (1.21.6)\n",
            "Requirement already satisfied: scipy>=0.17.0 in /usr/local/lib/python3.7/dist-packages (from kwant) (1.7.3)\n",
            "Collecting tinyarray>=1.2\n",
            "  Downloading tinyarray-1.2.4.tar.gz (37 kB)\n",
            "Building wheels for collected packages: kwant, tinyarray\n",
            "  Building wheel for kwant (setup.py) ... \u001b[?25l\u001b[?25hdone\n",
            "  Created wheel for kwant: filename=kwant-1.4.3-cp37-cp37m-linux_x86_64.whl size=3691071 sha256=544c166376fcb850d0f4ba20f3381323b01ad62e8ebe4b4ac8e284e1e757067b\n",
            "  Stored in directory: /root/.cache/pip/wheels/d6/2d/93/6f395cd3f0798d7d9e161dce1c8b8c8bbd04d4547763c926de\n",
            "  Building wheel for tinyarray (setup.py) ... \u001b[?25l\u001b[?25hdone\n",
            "  Created wheel for tinyarray: filename=tinyarray-1.2.4-cp37-cp37m-linux_x86_64.whl size=227992 sha256=55270f79cbb347371476e54b813fabafb64444e048734801dab2b298b156a702\n",
            "  Stored in directory: /root/.cache/pip/wheels/85/c6/1c/6939e2931cfbff5df75758a06084bf67171b640ebdf5febd35\n",
            "Successfully built kwant tinyarray\n",
            "Installing collected packages: tinyarray, kwant\n",
            "Successfully installed kwant-1.4.3 tinyarray-1.2.4\n"
          ]
        }
      ],
      "source": [
        "!pip install kwant"
      ]
    },
    {
      "cell_type": "markdown",
      "source": [
        "Here we incorporate all functions which we are going to use,"
      ],
      "metadata": {
        "id": "f_mpZ8s5TeB3"
      },
      "id": "f_mpZ8s5TeB3"
    },
    {
      "cell_type": "code",
      "execution_count": null,
      "id": "9ab06f68-a6ea-412e-a6e7-e4d07f3c54da",
      "metadata": {
        "id": "9ab06f68-a6ea-412e-a6e7-e4d07f3c54da",
        "outputId": "20a98805-398c-4599-f3da-e71aebce3e12",
        "colab": {
          "base_uri": "https://localhost:8080/"
        }
      },
      "outputs": [
        {
          "output_type": "stream",
          "name": "stderr",
          "text": [
            "/usr/local/lib/python3.7/dist-packages/kwant/solvers/default.py:18: RuntimeWarning: MUMPS is not available, SciPy built-in solver will be used as a fallback. Performance can be very poor in this case.\n",
            "  \"Performance can be very poor in this case.\", RuntimeWarning)\n"
          ]
        }
      ],
      "source": [
        "import kwant\n",
        "import matplotlib.pyplot as plt\n",
        "import scipy.sparse.linalg as sla\n",
        "import scipy as scp\n",
        "import numpy as np\n",
        "import scipy\n",
        "from kwant.physics import dispersion\n",
        "from numpy.linalg import eig"
      ]
    },
    {
      "cell_type": "markdown",
      "source": [
        "First of all we have to define our system. "
      ],
      "metadata": {
        "id": "1uSHUtFLaypb"
      },
      "id": "1uSHUtFLaypb"
    },
    {
      "cell_type": "code",
      "source": [
        "L = 50\n",
        "# Building SSH model\n",
        "def ssh_model(v=1, w=1, L=L, return_only_ham=1):\n",
        "\n",
        "    syst = kwant.Builder()\n",
        "    a = 1\n",
        "    lat = kwant.lattice.chain(a)\n",
        "\n",
        "    # Define the scattering region\n",
        "    for n in range(L):\n",
        "        syst[lat(n)] = 0\n",
        "\n",
        "    # Left hopping\n",
        "    for n in range(L):\n",
        "        if n % 2:\n",
        "            syst[lat(n - 1), lat(n)] = v\n",
        "\n",
        "    # Right hopping\n",
        "    for n in range(1, L):\n",
        "        if not n % 2:\n",
        "            syst[lat(n - 1), lat(n)] = w\n",
        "\n",
        "    syst = syst.finalized()\n",
        "\n",
        "  \n",
        "\n",
        "    if return_only_ham:\n",
        "        return syst.hamiltonian_submatrix(sparse=True)\n",
        "    else:\n",
        "        return syst.hamiltonian_submatrix(sparse=False) \n",
        "syst\n",
        "\n"
      ],
      "metadata": {
        "id": "2RGFdQ_FfzKj",
        "colab": {
          "base_uri": "https://localhost:8080/"
        },
        "outputId": "3c341799-178d-4a25-dce5-06859d62b973"
      },
      "id": "2RGFdQ_FfzKj",
      "execution_count": null,
      "outputs": [
        {
          "output_type": "execute_result",
          "data": {
            "text/plain": [
              "<kwant.builder.FiniteSystem at 0x7f855b98f5d0>"
            ]
          },
          "metadata": {},
          "execution_count": 13
        }
      ]
    },
    {
      "cell_type": "markdown",
      "source": [
        "\n",
        "In our case we put onsite equal to zero. In order to defne our system we establish different hoppings for odd and even sites. For even sites the Hamiltonian part discrebes intercells hoppings is\n",
        "$$-\\sum_{ i} v (A_{i}^{\\dagger}B_{i}+h.c.)$$\n",
        "while for odds we have got\n",
        "$$-\\sum_{j}w(A^{\\dagger}_{i}A_{i+1}+B^{\\dagger}_{i}B_{i+1}+h.c. )$$\n",
        "\n",
        "The SSH is the simplest one dimensional model in which one can observed edge states. We can observed this on the folowing plot,\n"
      ],
      "metadata": {
        "id": "ZpDMyAdsf52_"
      },
      "id": "ZpDMyAdsf52_"
    },
    {
      "cell_type": "code",
      "source": [
        "from   ipywidgets import *\n",
        "\n",
        "def SSH_energy(v,w):\n",
        "  w1,v1=eig(ssh_model(w=w, v=v, L=L, return_only_ham=0))\n",
        "  plt.plot(np.arange(0,L,1),sorted(np.real(w1)),'.')\n",
        "\n",
        "\n",
        "interact(SSH_energy,v=(0,1,0.1),w=(0,1,0.1));"
      ],
      "metadata": {
        "colab": {
          "base_uri": "https://localhost:8080/",
          "height": 329,
          "referenced_widgets": [
            "bdf8604b63c04308a67db4689b770af0",
            "6bcab3fab4df400dae11ff8847c03b69",
            "b9b54d2889ed43888e2217a0f4102924",
            "248691cd23dd437fb408204160a57645",
            "0495756b6b2c48688c1cee9ec4393764",
            "28198c93b55440048824b63cd75938af",
            "56736cccd879497495646d37833c6cca",
            "bd00803d35dd45718ea0ffb32b5f89f2",
            "707b272015a048578c4f8b79671ef293",
            "57c5a7d356b04f978348817c6d33b5d7"
          ]
        },
        "id": "5CXeOnZVo5Ec",
        "outputId": "9bc0e214-a2ad-4156-920a-241ef0aa2c9f"
      },
      "id": "5CXeOnZVo5Ec",
      "execution_count": null,
      "outputs": [
        {
          "output_type": "display_data",
          "data": {
            "text/plain": [
              "interactive(children=(FloatSlider(value=0.0, description='v', max=1.0), FloatSlider(value=0.0, description='w'…"
            ],
            "application/vnd.jupyter.widget-view+json": {
              "version_major": 2,
              "version_minor": 0,
              "model_id": "bdf8604b63c04308a67db4689b770af0"
            }
          },
          "metadata": {}
        }
      ]
    },
    {
      "cell_type": "code",
      "source": [
        "from mpl_toolkits.axes_grid1.inset_locator import zoomed_inset_axes \n",
        "from mpl_toolkits.axes_grid1.inset_locator import mark_inset"
      ],
      "metadata": {
        "id": "SmeUHhca8k1D"
      },
      "id": "SmeUHhca8k1D",
      "execution_count": null,
      "outputs": []
    },
    {
      "cell_type": "code",
      "source": [
        "def plot_DOS3(v,w):\n",
        "    fig, ax = plt.subplots(figsize=[5, 4])\n",
        "    w1,v1=eig(ssh_model(w=w, v=v, L=500, return_only_ham=0))\n",
        "    rho = kwant.kpm.SpectralDensity(ssh_model(w=w, v=v, L=500, return_only_ham=0),rng=0)\n",
        "    w1, densities = rho()\n",
        "    density_subset = np.real(rho(w1))\n",
        "    ax.plot(w1,density_subset)\n",
        "    # ax.set_xlim(-3, 300)\n",
        "    # ax.set_ylim(-3, 300)\n",
        "\n",
        "\n",
        "    # generate inset axes\n",
        "    axins = zoomed_inset_axes(ax, 5, loc='upper center')  # zoom = 5\n",
        "\n",
        "    # plot in the inset axes\n",
        "    axins.scatter(w1,density_subset, s=2)\n",
        "\n",
        "    # fix the x, y limit of the inset axes\n",
        "    axins.set_xlim(-max(w1)/10, max(w1)/10)\n",
        "    axins.set_ylim(-5, max(density_subset)/15)\n",
        "\n",
        "    # fix the number of ticks on the inset axes\n",
        "    axins.yaxis.get_major_locator().set_params(nbins=1)\n",
        "    axins.xaxis.get_major_locator().set_params(nbins=1)\n",
        "   \n",
        "\n",
        "def plot_DOS_manipulate():\n",
        "    interact(plot_DOS3,v=(0.0,5,0.1),w=(0.0,5,0.1));\n",
        "\n",
        "#plot_DOS3(1,20)\n",
        "plot_DOS_manipulate()"
      ],
      "metadata": {
        "id": "aG0ZsxRb9z8E",
        "outputId": "0e6809a9-b53a-4bf5-9ea1-9100507e7d4c",
        "colab": {
          "base_uri": "https://localhost:8080/",
          "height": 330,
          "referenced_widgets": [
            "a7dee0c80aa04e76b86b1ac947d6c6b4",
            "e96e4d5df7ea453193cca1ae19fae813",
            "b6910fc3285e44b4bc199375b5b83110",
            "86b90feab68e4557b1a239a4a3a4e2d2",
            "07dfef5dd0454fc4a3f7241e67201ab1",
            "2464f6a6d6f94968b81b9c4ad99bac3a",
            "e0162928bea74fcfbc2986c77fea38e8",
            "68cb2a1ce9f6429f8264e26731f2c3d8",
            "3d0479fc565641c8961a27bc0f18a46e",
            "448a39c49b6b494f86eb765fb3c17f5e"
          ]
        }
      },
      "id": "aG0ZsxRb9z8E",
      "execution_count": null,
      "outputs": [
        {
          "output_type": "display_data",
          "data": {
            "text/plain": [
              "interactive(children=(FloatSlider(value=2.5, description='v', max=5.0), FloatSlider(value=2.5, description='w'…"
            ],
            "application/vnd.jupyter.widget-view+json": {
              "version_major": 2,
              "version_minor": 0,
              "model_id": "a7dee0c80aa04e76b86b1ac947d6c6b4"
            }
          },
          "metadata": {}
        }
      ]
    },
    {
      "cell_type": "markdown",
      "source": [
        "One can observed that for $w>v$ there are two zero energy states which coresponds to edge states. The existance of such a states is topological protected. \n",
        "\n",
        "Now we want to plot energy spectrum as a function os hopping parameter $v$ when w is holds constant. We have to identify each energy corespond to a given site. To this end, we used the following procedure. For a given $v$ we find all eigenvalues and eigenstates for every sites. Then we moved to another value of $v$ and do this same. Now to identify which eigenvalues corespond to this same site we chack for every eigenvector from the previous iteration gives us the bigest overlap (the bigest value of scalar product) with one of the state. The prosedure countinous for every value $v$."
      ],
      "metadata": {
        "id": "ful9xz77sEFD"
      },
      "id": "ful9xz77sEFD"
    },
    {
      "cell_type": "code",
      "execution_count": null,
      "id": "48db19ba-65a0-4f61-b465-5d91c29abf51",
      "metadata": {
        "colab": {
          "base_uri": "https://localhost:8080/",
          "height": 314,
          "referenced_widgets": [
            "b7f2f42d79a7480e8407b660bbfd65ca",
            "5142f95ad7ec42faad16c8f151fa35db",
            "1904113e5e0f4688b51a84fe313f5e95",
            "4e20d84a3542481d846985a3f1ba3b17",
            "91ec103db8c8456b95bb4579808dd103",
            "9a925378432d4b36ac98edbb241f818d",
            "1382973986744254be1ebc3fc75ab1c7"
          ]
        },
        "id": "48db19ba-65a0-4f61-b465-5d91c29abf51",
        "outputId": "d8d13d45-a9a5-4742-dd06-81e056a44e49"
      },
      "outputs": [
        {
          "output_type": "display_data",
          "data": {
            "text/plain": [
              "interactive(children=(FloatSlider(value=0.30000000000000004, description='w', max=0.5, min=0.1), Output()), _d…"
            ],
            "application/vnd.jupyter.widget-view+json": {
              "version_major": 2,
              "version_minor": 0,
              "model_id": "b7f2f42d79a7480e8407b660bbfd65ca"
            }
          },
          "metadata": {}
        },
        {
          "output_type": "display_data",
          "data": {
            "text/plain": [
              "<Figure size 432x288 with 0 Axes>"
            ]
          },
          "metadata": {}
        }
      ],
      "source": [
        "def find_continuator(w: list, next_vectors: list) -> int:\n",
        "    max_product = np.dot(w, next_vectors[0])\n",
        "    max_index = 0\n",
        "\n",
        "    for i in range(len(next_vectors)):\n",
        "        product = np.abs(np.dot(w, next_vectors[i]))\n",
        "        if product > max_product:\n",
        "            max_product = product\n",
        "            max_index = i\n",
        "    return max_index\n",
        "\n",
        "\n",
        "def plot_probability(k_tab: list ,eig_number: int,w,  show_unsorted=False) -> None:\n",
        "    e_val_matrix = np.empty(shape=(len(k_tab), eig_number))\n",
        "    e_vec_matrix = np.empty(shape=(len(k_tab), eig_number, L), dtype=complex)\n",
        "\n",
        "    for i in range(len(k_tab)):\n",
        "        v = k_tab[i]\n",
        "        ham = ssh_model(v, w)\n",
        "        e_val, e_vec = scipy.sparse.linalg.eigsh(\n",
        "            ham, k=eig_number, sigma=0.01, which=\"LM\", return_eigenvectors=True\n",
        "        )\n",
        "\n",
        "        e_val_matrix[i] = e_val\n",
        "        for j in range(eig_number):\n",
        "            e_vec_matrix[i, j] = e_vec[:, j]\n",
        "            e_vec_matrix[i, j] = e_vec_matrix[i, j] / np.sqrt(\n",
        "                np.dot(e_vec_matrix[i, j], e_vec_matrix[i, j])\n",
        "            )\n",
        "\n",
        "    for j in range(eig_number):\n",
        "        pasek = [e_val_matrix[0, j]]\n",
        "        wektory = [e_vec_matrix[0, j]]\n",
        "\n",
        "        for i in range(0, len(k_tab) - 1):\n",
        "            index = find_continuator(wektory[i], e_vec_matrix[i + 1])\n",
        "            wektory.append(e_vec_matrix[i + 1, index])\n",
        "            pasek.append(e_val_matrix[i + 1, index])\n",
        "\n",
        "        plt.plot(k_tab, pasek, label=j)\n",
        "        if show_unsorted:\n",
        "            plt.scatter(k_tab, e_val_matrix[:, j], marker=\".\")\n",
        "\n",
        "def SSH_spectrum_manipulate(w):\n",
        "  plot_probability(k_tab=k,w=w, eig_number=energies_number)\n",
        "\n",
        "k = np.linspace(0, 0.75, 50)  # Range of k we want to plot\n",
        "energies_number = 47  # Number of energy bands to show\n",
        "\n",
        "interact(SSH_spectrum_manipulate,w=(0.1,0.5,0.1));\n",
        "plt.savefig(\"SSH_spectrum_sort.pdf\")\n",
        "plt.show()\n"
      ]
    },
    {
      "cell_type": "markdown",
      "source": [
        "What you can see above is a plot of energy spectrum as a function of parameter $v$. Using by the slider you can change the value of parameter $w$. What is interesting here is that there exist zero energy modes for the parameter values smaller that $w$ which are, as we mentioned earlier, energies of edges states. One can see that zero energy modes are not exacly appear for $w=v$. This is a consequence that we working with the finite system. This incoherence disappear if you put the bigger and bigger size of the system. "
      ],
      "metadata": {
        "id": "tmSDZAVnxMLV"
      },
      "id": "tmSDZAVnxMLV"
    },
    {
      "cell_type": "markdown",
      "source": [
        "We can easly diagonalize our Hamiltonian by taking Fourier transform,\n",
        "$$A^{\\dagger}_{i}=\\frac{1}{\\sqrt{N}}\\sum_{k}e^{ik\\cdot x_{i}} A^{\\dagger}_{k} \\hspace{0.5cm} \\mathrm{etc..}$$\n",
        "In the end Hamiltonian in momentum space takes form\n",
        "$$H=\\sum_{k}(A^{\\dagger}_{k},B^{\\dagger}_{k})\\begin{pmatrix}\n",
        "0 & v+e^{ik}w \\\\\n",
        "v+e^{-ik}w & 0 \n",
        "\\end{pmatrix}\n",
        "\\begin{pmatrix}\n",
        "A_{k}  \\\\\n",
        "B_{k} \n",
        "\\end{pmatrix} $$\n",
        "\n",
        "Now it is easy to find dispersion relation which in this case is given by the following expresion,\n",
        "$$E(k)=\\pm \\sqrt{v^2+w^2+2vw\\cos{k}} .$$\n",
        "\n",
        "Now because we have used Fourier transform we tacitly impose boundary conditions. To procedure further we have to bild an infinit system. In order to do this, we need to add leads. "
      ],
      "metadata": {
        "id": "tfxDQ2143wpt"
      },
      "id": "tfxDQ2143wpt"
    },
    {
      "cell_type": "code",
      "source": [
        "def ssh_model_with_leads(t_1=1.0, t_2=0.5):\n",
        "    L=200\n",
        "    a=1\n",
        "    # Start with an empty tight-binding system and a single square lattice.\n",
        "    # `a` is the lattice constant (by default set to 1 for simplicity.\n",
        "    syst = kwant.Builder()\n",
        "    \n",
        "    lat = kwant.lattice.Polyatomic([[2*a, 0]], [[0, 0], [a, 0]])\n",
        "    lat.a, lat.b = lat.sublattices\n",
        "    \n",
        "    for n in range(L):\n",
        "        syst[lat.a(n)] = 0\n",
        "        syst[lat.b(n)] = 0\n",
        "    \n",
        "    # Left hopping\n",
        "    for n in range(L):\n",
        "        syst[lat.a(n), lat.b(n)] = t_1\n",
        "        \n",
        "    # Left hopping\n",
        "    for n in range(1,L):\n",
        "        syst[lat.b(n-1), lat.a(n)] = t_2\n",
        "        \n",
        "    leadless=syst\n",
        "    leadless=leadless.finalized()\n",
        "    leadless=leadless.hamiltonian_submatrix(sparse=True)\n",
        "\n",
        "\n",
        "    sym_left_lead = kwant.TranslationalSymmetry([-2*a, 0])\n",
        "    left_lead = kwant.Builder(sym_left_lead)\n",
        "    left_lead[lat.a(0)] = 0\n",
        "    left_lead[lat.b(0)] = 0\n",
        "    left_lead[lat.a(0), lat.b(0)] = t_1\n",
        "    left_lead[lat.b(0), lat.a(-1)] = t_2\n",
        "    syst.attach_lead(left_lead)\n",
        "    left_lead_fin = left_lead.finalized()\n",
        "\n",
        "    sym_right_lead = kwant.TranslationalSymmetry([2*a, 0])\n",
        "    right_lead = kwant.Builder(sym_right_lead)\n",
        "    right_lead[lat.a(0)] = 0\n",
        "    right_lead[lat.b(0)] = 0\n",
        "    right_lead[lat.a(0), lat.b(0)] = t_1\n",
        "    right_lead[lat.a(0), lat.a(1)] = t_2\n",
        "    syst.attach_lead(right_lead)\n",
        "    right_lead_fin = right_lead.finalized()\n",
        "           \n",
        "    syst = syst.finalized()\n",
        "    \n",
        "    \n",
        "    return syst, left_lead_fin, right_lead_fin,leadless\n",
        "\n",
        "\n",
        "syst, left_lead, right_lead, leadless= ssh_model_with_leads()\n",
        "\n"
      ],
      "metadata": {
        "id": "ELpfiwvV-LRy"
      },
      "id": "ELpfiwvV-LRy",
      "execution_count": null,
      "outputs": []
    },
    {
      "cell_type": "markdown",
      "source": [
        "The KWANT give us a chance to plot an energy spectrum of such a model."
      ],
      "metadata": {
        "id": "h8QNjTA82WDA"
      },
      "id": "h8QNjTA82WDA"
    },
    {
      "cell_type": "code",
      "source": [
        "def plot_bandstructure(v,w):\n",
        "    \n",
        "    momenta=np.linspace(-np.pi, np.pi, 200)\n",
        "    syst, left_lead, right_lead, leadless=ssh_model_with_leads(t_1=v, t_2=w)\n",
        "    bands = kwant.physics.Bands(left_lead)\n",
        "    energies = [bands(k) for k in momenta]\n",
        "    \n",
        "   \n",
        "    plt.figure()\n",
        "    plt.plot(momenta, energies)\n",
        "    plt.xlabel(\"momentum [(lattice constant)^-1]\")\n",
        "    plt.ylabel(\"energy [t]\")\n",
        "    plt.savefig('ssh_energy_bands.pdf')\n",
        "    plt.show()\n",
        "\n",
        "\n"
      ],
      "metadata": {
        "id": "--HKZqXS4756"
      },
      "id": "--HKZqXS4756",
      "execution_count": null,
      "outputs": []
    },
    {
      "cell_type": "code",
      "source": [
        "\n",
        "def plot_DOS(v,w):\n",
        "    momenta=np.linspace(-np.pi, np.pi, 200)\n",
        "    syst, left_lead, right_lead, leadless=ssh_model_with_leads(t_1=v, t_2=w)\n",
        "    bands = kwant.physics.Bands(left_lead)\n",
        "    energies = [bands(k) for k in momenta]\n",
        "    \n",
        "    rho = kwant.kpm.SpectralDensity(syst,rng=0)\n",
        "    energies, densities = rho()\n",
        "    energy_subset = np.arange(-np.pi,np.pi,0.01)\n",
        "    density_subset = np.real(rho(energy_subset))\n",
        "    plt.plot(energy_subset,density_subset)\n",
        " \n",
        "def plot_DOS_manipulate():\n",
        "    interact(plot_DOS,v=(0.0,5,0.1),w=(0.0,5,0.1));\n",
        "    plt.show()\n",
        "\n",
        "plot_DOS_manipulate()\n",
        "    "
      ],
      "metadata": {
        "colab": {
          "base_uri": "https://localhost:8080/",
          "height": 329,
          "referenced_widgets": [
            "644e8de0d892447db2de796098d0862e",
            "e8f85e07a3244e808a7eac80eb416614",
            "317dac1058904e478514ca9b7b0fd7e4",
            "0f3cf4c4f0f74be0969547523c1c32ce",
            "ac3019ce755c4cb683c5c7078367ccb9",
            "332b53aa3a484d9caf53cd4faf733798",
            "9e8d99ae4ebb402294dc5071dad6a2cd",
            "d4b6b816ee9449d4993a2675edcb2f0d",
            "87acedca9309426f935ab4de2714fe16",
            "b561fce481714f259288d53bb848f73c"
          ]
        },
        "id": "7qRXwiXkAG47",
        "outputId": "3d3dce9b-217e-4ea7-8379-80c4cf893bb8"
      },
      "id": "7qRXwiXkAG47",
      "execution_count": null,
      "outputs": [
        {
          "output_type": "display_data",
          "data": {
            "text/plain": [
              "interactive(children=(FloatSlider(value=2.5, description='v', max=5.0), FloatSlider(value=2.5, description='w'…"
            ],
            "application/vnd.jupyter.widget-view+json": {
              "version_major": 2,
              "version_minor": 0,
              "model_id": "644e8de0d892447db2de796098d0862e"
            }
          },
          "metadata": {}
        }
      ]
    },
    {
      "cell_type": "code",
      "source": [
        "\n",
        "def SSH_spectrum_manipulate_momentu_space(v,w):\n",
        "  plot_probability(k_tab=k,w=w, eig_number=energies_number)\n",
        "\n",
        "k = np.linspace(0, 0.75, 50)  # Range of k we want to plot\n",
        "energies_number = 47  # Number of energy bands to show\n",
        "\n",
        "interact(plot_bandstructure,v=(0.0,0.5,0.01),w=(0.0,0.5,0.01));\n",
        "plt.show()\n"
      ],
      "metadata": {
        "id": "hcd4HkyA5JAE",
        "outputId": "76b9e148-469c-4475-ecb6-516497404e34",
        "colab": {
          "base_uri": "https://localhost:8080/",
          "height": 360,
          "referenced_widgets": [
            "d965cc08fd6541de9ca1794ea261dfab",
            "56edca5642e54fabae9f146f2fec9ed1",
            "d2232ddd46b14024bde47b87c561f18c",
            "bc4c22ec5b6045fba51aef772de8a322",
            "a45e79a500674d5597041ea7412e7f17",
            "55716ff165234eb7b1119e54fcf96b62",
            "bc624dd42fb94125949744eea5af431c",
            "1ca6904115c84db3ace3bc1cf6b82b81",
            "6fc7c0b641c0481380ae1dce596e0d25",
            "74ec413571354ac684430f160103e82e"
          ]
        }
      },
      "id": "hcd4HkyA5JAE",
      "execution_count": null,
      "outputs": [
        {
          "output_type": "display_data",
          "data": {
            "text/plain": [
              "interactive(children=(FloatSlider(value=0.25, description='v', max=0.5, step=0.01), FloatSlider(value=0.25, de…"
            ],
            "application/vnd.jupyter.widget-view+json": {
              "version_major": 2,
              "version_minor": 0,
              "model_id": "d965cc08fd6541de9ca1794ea261dfab"
            }
          },
          "metadata": {}
        }
      ]
    },
    {
      "cell_type": "markdown",
      "source": [
        "What you can see above it is a energy spectrum of a Hamiltonian after a Fourier transform. "
      ],
      "metadata": {
        "id": "gutY2RVt5i60"
      },
      "id": "gutY2RVt5i60"
    },
    {
      "cell_type": "code",
      "source": [
        "def ssh_model(v = 1, w = 1, L = 100, return_only_ham = 1):\n",
        "    \n",
        "    syst = kwant.Builder()\n",
        "    a = 1\n",
        "    lat = kwant.lattice.chain(a)\n",
        "\n",
        "    # Define the scattering region\n",
        "    for n in range(L):\n",
        "        syst[lat(n)] = 0\n",
        "\n",
        "    # Left hopping\n",
        "    for n in range(L):\n",
        "        if n%2:\n",
        "            syst[lat(n-1), lat(n)] = v\n",
        "\n",
        "    # Right hopping\n",
        "    for n in range(1,L):      \n",
        "        if not n%2:\n",
        "            syst[lat(n-1), lat(n)] = w\n",
        "\n",
        "    sym_left_lead = kwant.TranslationalSymmetry([-a])\n",
        "    left_lead = kwant.Builder(sym_left_lead)\n",
        "    left_lead[lat(0)] = 0\n",
        "    left_lead[lat(1), lat(0)] = v\n",
        "    left_lead[lat(2), lat(1)] = w\n",
        "    syst.attach_lead(left_lead)\n",
        "    left_lead_fin = left_lead.finalized()\n",
        "\n",
        "    sym_right_lead = kwant.TranslationalSymmetry([a])\n",
        "    right_lead = kwant.Builder(sym_right_lead)\n",
        "    right_lead[lat(0)] = 0\n",
        "    right_lead[lat(1), lat(0)] = v\n",
        "    right_lead[lat(2), lat(1)] = w\n",
        "    syst.attach_lead(right_lead)\n",
        "    right_lead_fin = right_lead.finalized()\n",
        "\n",
        "    #kwant.plot(syst)\n",
        "    syst = syst.finalized()\n",
        "    \n",
        "    if(return_only_ham):\n",
        "        return syst.hamiltonian_submatrix(sparse=False)\n",
        "    else:\n",
        "        return syst, syst.hamiltonian_submatrix(sparse=True)\n",
        "    \n",
        "# Plots energy spectrum\n",
        "kwant.plotter.spectrum(ssh_model, x=('v', np.linspace(0,4,50)), file = 'energy_spectrum_ssh.png', dpi = 300)\n",
        "\n",
        "# Plots wavefunction of the system for given energy\n",
        "syst, ham = ssh_model(0.5, 1, return_only_ham = 0)"
      ],
      "metadata": {
        "id": "amM3UNCu-NEf"
      },
      "id": "amM3UNCu-NEf",
      "execution_count": null,
      "outputs": []
    },
    {
      "cell_type": "code",
      "source": [
        "def plot_probability(v,w,energy):\n",
        "    syst, ham = ssh_model(v=v, w=w, return_only_ham = 0)\n",
        "    wf = kwant.solvers.default.wave_function(syst, energy)\n",
        "    L=100\n",
        "    p_1 = []\n",
        "    p_2 = []\n",
        "    for i in range(len(wf(0)[0])):\n",
        "        p_1.append(abs(wf(0)[0][i])**2)\n",
        "        p_2.append(abs(wf(1)[0][i])**2)\n",
        "    plt.plot(np.linspace(0,L,L), p_1, '-.')\n",
        "    plt.plot(np.linspace(0,L,L), p_2,  '-.')\n",
        "\n"
      ],
      "metadata": {
        "id": "bdT0z1gd9mSA"
      },
      "id": "bdT0z1gd9mSA",
      "execution_count": null,
      "outputs": []
    },
    {
      "cell_type": "markdown",
      "source": [
        "Let us look at wave function of our system. Is easy to realise that it is apparently hight in the edge of our chain for topological regime."
      ],
      "metadata": {
        "id": "arvO2gYu5sSV"
      },
      "id": "arvO2gYu5sSV"
    },
    {
      "cell_type": "code",
      "source": [
        "\n",
        "interact(plot_probability,v=(0,0.9,0.01),w=(0,0.9,0.01),energy=(0,1,0.1))"
      ],
      "metadata": {
        "id": "8CLBrXtw7nLi",
        "outputId": "92c2e063-1bea-40e7-d28a-148dc316fec7",
        "colab": {
          "base_uri": "https://localhost:8080/",
          "height": 378,
          "referenced_widgets": [
            "40c6c43a338f4583af1125575fe5b40f",
            "354b87c10b9f467e895171233324c80d",
            "020fa205b6534d5daa5d75f16ab749d1",
            "46b56936a7034630b014a1d04ad50031",
            "8e2e72d1fbc84337a79638c8d0d615cf",
            "79a51079e0f74e569d75839a43291ec1",
            "0fbf8f28f981495891e1bb140e90d5fc",
            "353eead44b624c1081c15b3888cd3092",
            "4b063c35f21c4b4a8e74b6ef404079f9",
            "6af42001a6774e1daf6d6af4b5706804",
            "c21d1fd5f5034722991c07b698e2ffff",
            "6927236d474b468682f95eb14c76436b",
            "dc215269884d4ca4ac61106373d655cb"
          ]
        }
      },
      "id": "8CLBrXtw7nLi",
      "execution_count": null,
      "outputs": [
        {
          "output_type": "display_data",
          "data": {
            "text/plain": [
              "interactive(children=(FloatSlider(value=0.45, description='v', max=0.9, step=0.01), FloatSlider(value=0.45, de…"
            ],
            "application/vnd.jupyter.widget-view+json": {
              "version_major": 2,
              "version_minor": 0,
              "model_id": "40c6c43a338f4583af1125575fe5b40f"
            }
          },
          "metadata": {}
        },
        {
          "output_type": "execute_result",
          "data": {
            "text/plain": [
              "<function __main__.plot_probability(v, w, energy)>"
            ]
          },
          "metadata": {},
          "execution_count": 13
        }
      ]
    },
    {
      "cell_type": "markdown",
      "source": [],
      "metadata": {
        "id": "-Xq8swl5bhSZ"
      },
      "id": "-Xq8swl5bhSZ"
    },
    {
      "cell_type": "markdown",
      "source": [],
      "metadata": {
        "id": "8TfYsnpibBIS"
      },
      "id": "8TfYsnpibBIS"
    }
  ],
  "metadata": {
    "colab": {
      "provenance": []
    },
    "kernelspec": {
      "display_name": "Python 3",
      "language": "python",
      "name": "python3"
    },
    "language_info": {
      "codemirror_mode": {
        "name": "ipython",
        "version": 3
      },
      "file_extension": ".py",
      "mimetype": "text/x-python",
      "name": "python",
      "nbconvert_exporter": "python",
      "pygments_lexer": "ipython3",
      "version": "3.6.13"
    },
    "widgets": {
      "application/vnd.jupyter.widget-state+json": {
        "40c6c43a338f4583af1125575fe5b40f": {
          "model_module": "@jupyter-widgets/controls",
          "model_name": "VBoxModel",
          "model_module_version": "1.5.0",
          "state": {
            "_dom_classes": [
              "widget-interact"
            ],
            "_model_module": "@jupyter-widgets/controls",
            "_model_module_version": "1.5.0",
            "_model_name": "VBoxModel",
            "_view_count": null,
            "_view_module": "@jupyter-widgets/controls",
            "_view_module_version": "1.5.0",
            "_view_name": "VBoxView",
            "box_style": "",
            "children": [
              "IPY_MODEL_354b87c10b9f467e895171233324c80d",
              "IPY_MODEL_020fa205b6534d5daa5d75f16ab749d1",
              "IPY_MODEL_46b56936a7034630b014a1d04ad50031",
              "IPY_MODEL_8e2e72d1fbc84337a79638c8d0d615cf"
            ],
            "layout": "IPY_MODEL_79a51079e0f74e569d75839a43291ec1"
          }
        },
        "354b87c10b9f467e895171233324c80d": {
          "model_module": "@jupyter-widgets/controls",
          "model_name": "FloatSliderModel",
          "model_module_version": "1.5.0",
          "state": {
            "_dom_classes": [],
            "_model_module": "@jupyter-widgets/controls",
            "_model_module_version": "1.5.0",
            "_model_name": "FloatSliderModel",
            "_view_count": null,
            "_view_module": "@jupyter-widgets/controls",
            "_view_module_version": "1.5.0",
            "_view_name": "FloatSliderView",
            "continuous_update": true,
            "description": "v",
            "description_tooltip": null,
            "disabled": false,
            "layout": "IPY_MODEL_0fbf8f28f981495891e1bb140e90d5fc",
            "max": 0.9,
            "min": 0,
            "orientation": "horizontal",
            "readout": true,
            "readout_format": ".2f",
            "step": 0.01,
            "style": "IPY_MODEL_353eead44b624c1081c15b3888cd3092",
            "value": 0.5
          }
        },
        "020fa205b6534d5daa5d75f16ab749d1": {
          "model_module": "@jupyter-widgets/controls",
          "model_name": "FloatSliderModel",
          "model_module_version": "1.5.0",
          "state": {
            "_dom_classes": [],
            "_model_module": "@jupyter-widgets/controls",
            "_model_module_version": "1.5.0",
            "_model_name": "FloatSliderModel",
            "_view_count": null,
            "_view_module": "@jupyter-widgets/controls",
            "_view_module_version": "1.5.0",
            "_view_name": "FloatSliderView",
            "continuous_update": true,
            "description": "w",
            "description_tooltip": null,
            "disabled": false,
            "layout": "IPY_MODEL_4b063c35f21c4b4a8e74b6ef404079f9",
            "max": 0.9,
            "min": 0,
            "orientation": "horizontal",
            "readout": true,
            "readout_format": ".2f",
            "step": 0.01,
            "style": "IPY_MODEL_6af42001a6774e1daf6d6af4b5706804",
            "value": 0.52
          }
        },
        "46b56936a7034630b014a1d04ad50031": {
          "model_module": "@jupyter-widgets/controls",
          "model_name": "FloatSliderModel",
          "model_module_version": "1.5.0",
          "state": {
            "_dom_classes": [],
            "_model_module": "@jupyter-widgets/controls",
            "_model_module_version": "1.5.0",
            "_model_name": "FloatSliderModel",
            "_view_count": null,
            "_view_module": "@jupyter-widgets/controls",
            "_view_module_version": "1.5.0",
            "_view_name": "FloatSliderView",
            "continuous_update": true,
            "description": "energy",
            "description_tooltip": null,
            "disabled": false,
            "layout": "IPY_MODEL_c21d1fd5f5034722991c07b698e2ffff",
            "max": 1,
            "min": 0,
            "orientation": "horizontal",
            "readout": true,
            "readout_format": ".2f",
            "step": 0.1,
            "style": "IPY_MODEL_6927236d474b468682f95eb14c76436b",
            "value": 0
          }
        },
        "8e2e72d1fbc84337a79638c8d0d615cf": {
          "model_module": "@jupyter-widgets/output",
          "model_name": "OutputModel",
          "model_module_version": "1.0.0",
          "state": {
            "_dom_classes": [],
            "_model_module": "@jupyter-widgets/output",
            "_model_module_version": "1.0.0",
            "_model_name": "OutputModel",
            "_view_count": null,
            "_view_module": "@jupyter-widgets/output",
            "_view_module_version": "1.0.0",
            "_view_name": "OutputView",
            "layout": "IPY_MODEL_dc215269884d4ca4ac61106373d655cb",
            "msg_id": "",
            "outputs": [
              {
                "output_type": "display_data",
                "data": {
                  "text/plain": "<Figure size 432x288 with 1 Axes>",
                  "image/png": "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\n"
                },
                "metadata": {
                  "needs_background": "light"
                }
              }
            ]
          }
        },
        "79a51079e0f74e569d75839a43291ec1": {
          "model_module": "@jupyter-widgets/base",
          "model_name": "LayoutModel",
          "model_module_version": "1.2.0",
          "state": {
            "_model_module": "@jupyter-widgets/base",
            "_model_module_version": "1.2.0",
            "_model_name": "LayoutModel",
            "_view_count": null,
            "_view_module": "@jupyter-widgets/base",
            "_view_module_version": "1.2.0",
            "_view_name": "LayoutView",
            "align_content": null,
            "align_items": null,
            "align_self": null,
            "border": null,
            "bottom": null,
            "display": null,
            "flex": null,
            "flex_flow": null,
            "grid_area": null,
            "grid_auto_columns": null,
            "grid_auto_flow": null,
            "grid_auto_rows": null,
            "grid_column": null,
            "grid_gap": null,
            "grid_row": null,
            "grid_template_areas": null,
            "grid_template_columns": null,
            "grid_template_rows": null,
            "height": null,
            "justify_content": null,
            "justify_items": null,
            "left": null,
            "margin": null,
            "max_height": null,
            "max_width": null,
            "min_height": null,
            "min_width": null,
            "object_fit": null,
            "object_position": null,
            "order": null,
            "overflow": null,
            "overflow_x": null,
            "overflow_y": null,
            "padding": null,
            "right": null,
            "top": null,
            "visibility": null,
            "width": null
          }
        },
        "0fbf8f28f981495891e1bb140e90d5fc": {
          "model_module": "@jupyter-widgets/base",
          "model_name": "LayoutModel",
          "model_module_version": "1.2.0",
          "state": {
            "_model_module": "@jupyter-widgets/base",
            "_model_module_version": "1.2.0",
            "_model_name": "LayoutModel",
            "_view_count": null,
            "_view_module": "@jupyter-widgets/base",
            "_view_module_version": "1.2.0",
            "_view_name": "LayoutView",
            "align_content": null,
            "align_items": null,
            "align_self": null,
            "border": null,
            "bottom": null,
            "display": null,
            "flex": null,
            "flex_flow": null,
            "grid_area": null,
            "grid_auto_columns": null,
            "grid_auto_flow": null,
            "grid_auto_rows": null,
            "grid_column": null,
            "grid_gap": null,
            "grid_row": null,
            "grid_template_areas": null,
            "grid_template_columns": null,
            "grid_template_rows": null,
            "height": null,
            "justify_content": null,
            "justify_items": null,
            "left": null,
            "margin": null,
            "max_height": null,
            "max_width": null,
            "min_height": null,
            "min_width": null,
            "object_fit": null,
            "object_position": null,
            "order": null,
            "overflow": null,
            "overflow_x": null,
            "overflow_y": null,
            "padding": null,
            "right": null,
            "top": null,
            "visibility": null,
            "width": null
          }
        },
        "353eead44b624c1081c15b3888cd3092": {
          "model_module": "@jupyter-widgets/controls",
          "model_name": "SliderStyleModel",
          "model_module_version": "1.5.0",
          "state": {
            "_model_module": "@jupyter-widgets/controls",
            "_model_module_version": "1.5.0",
            "_model_name": "SliderStyleModel",
            "_view_count": null,
            "_view_module": "@jupyter-widgets/base",
            "_view_module_version": "1.2.0",
            "_view_name": "StyleView",
            "description_width": "",
            "handle_color": null
          }
        },
        "4b063c35f21c4b4a8e74b6ef404079f9": {
          "model_module": "@jupyter-widgets/base",
          "model_name": "LayoutModel",
          "model_module_version": "1.2.0",
          "state": {
            "_model_module": "@jupyter-widgets/base",
            "_model_module_version": "1.2.0",
            "_model_name": "LayoutModel",
            "_view_count": null,
            "_view_module": "@jupyter-widgets/base",
            "_view_module_version": "1.2.0",
            "_view_name": "LayoutView",
            "align_content": null,
            "align_items": null,
            "align_self": null,
            "border": null,
            "bottom": null,
            "display": null,
            "flex": null,
            "flex_flow": null,
            "grid_area": null,
            "grid_auto_columns": null,
            "grid_auto_flow": null,
            "grid_auto_rows": null,
            "grid_column": null,
            "grid_gap": null,
            "grid_row": null,
            "grid_template_areas": null,
            "grid_template_columns": null,
            "grid_template_rows": null,
            "height": null,
            "justify_content": null,
            "justify_items": null,
            "left": null,
            "margin": null,
            "max_height": null,
            "max_width": null,
            "min_height": null,
            "min_width": null,
            "object_fit": null,
            "object_position": null,
            "order": null,
            "overflow": null,
            "overflow_x": null,
            "overflow_y": null,
            "padding": null,
            "right": null,
            "top": null,
            "visibility": null,
            "width": null
          }
        },
        "6af42001a6774e1daf6d6af4b5706804": {
          "model_module": "@jupyter-widgets/controls",
          "model_name": "SliderStyleModel",
          "model_module_version": "1.5.0",
          "state": {
            "_model_module": "@jupyter-widgets/controls",
            "_model_module_version": "1.5.0",
            "_model_name": "SliderStyleModel",
            "_view_count": null,
            "_view_module": "@jupyter-widgets/base",
            "_view_module_version": "1.2.0",
            "_view_name": "StyleView",
            "description_width": "",
            "handle_color": null
          }
        },
        "c21d1fd5f5034722991c07b698e2ffff": {
          "model_module": "@jupyter-widgets/base",
          "model_name": "LayoutModel",
          "model_module_version": "1.2.0",
          "state": {
            "_model_module": "@jupyter-widgets/base",
            "_model_module_version": "1.2.0",
            "_model_name": "LayoutModel",
            "_view_count": null,
            "_view_module": "@jupyter-widgets/base",
            "_view_module_version": "1.2.0",
            "_view_name": "LayoutView",
            "align_content": null,
            "align_items": null,
            "align_self": null,
            "border": null,
            "bottom": null,
            "display": null,
            "flex": null,
            "flex_flow": null,
            "grid_area": null,
            "grid_auto_columns": null,
            "grid_auto_flow": null,
            "grid_auto_rows": null,
            "grid_column": null,
            "grid_gap": null,
            "grid_row": null,
            "grid_template_areas": null,
            "grid_template_columns": null,
            "grid_template_rows": null,
            "height": null,
            "justify_content": null,
            "justify_items": null,
            "left": null,
            "margin": null,
            "max_height": null,
            "max_width": null,
            "min_height": null,
            "min_width": null,
            "object_fit": null,
            "object_position": null,
            "order": null,
            "overflow": null,
            "overflow_x": null,
            "overflow_y": null,
            "padding": null,
            "right": null,
            "top": null,
            "visibility": null,
            "width": null
          }
        },
        "6927236d474b468682f95eb14c76436b": {
          "model_module": "@jupyter-widgets/controls",
          "model_name": "SliderStyleModel",
          "model_module_version": "1.5.0",
          "state": {
            "_model_module": "@jupyter-widgets/controls",
            "_model_module_version": "1.5.0",
            "_model_name": "SliderStyleModel",
            "_view_count": null,
            "_view_module": "@jupyter-widgets/base",
            "_view_module_version": "1.2.0",
            "_view_name": "StyleView",
            "description_width": "",
            "handle_color": null
          }
        },
        "dc215269884d4ca4ac61106373d655cb": {
          "model_module": "@jupyter-widgets/base",
          "model_name": "LayoutModel",
          "model_module_version": "1.2.0",
          "state": {
            "_model_module": "@jupyter-widgets/base",
            "_model_module_version": "1.2.0",
            "_model_name": "LayoutModel",
            "_view_count": null,
            "_view_module": "@jupyter-widgets/base",
            "_view_module_version": "1.2.0",
            "_view_name": "LayoutView",
            "align_content": null,
            "align_items": null,
            "align_self": null,
            "border": null,
            "bottom": null,
            "display": null,
            "flex": null,
            "flex_flow": null,
            "grid_area": null,
            "grid_auto_columns": null,
            "grid_auto_flow": null,
            "grid_auto_rows": null,
            "grid_column": null,
            "grid_gap": null,
            "grid_row": null,
            "grid_template_areas": null,
            "grid_template_columns": null,
            "grid_template_rows": null,
            "height": null,
            "justify_content": null,
            "justify_items": null,
            "left": null,
            "margin": null,
            "max_height": null,
            "max_width": null,
            "min_height": null,
            "min_width": null,
            "object_fit": null,
            "object_position": null,
            "order": null,
            "overflow": null,
            "overflow_x": null,
            "overflow_y": null,
            "padding": null,
            "right": null,
            "top": null,
            "visibility": null,
            "width": null
          }
        },
        "bdf8604b63c04308a67db4689b770af0": {
          "model_module": "@jupyter-widgets/controls",
          "model_name": "VBoxModel",
          "model_module_version": "1.5.0",
          "state": {
            "_dom_classes": [
              "widget-interact"
            ],
            "_model_module": "@jupyter-widgets/controls",
            "_model_module_version": "1.5.0",
            "_model_name": "VBoxModel",
            "_view_count": null,
            "_view_module": "@jupyter-widgets/controls",
            "_view_module_version": "1.5.0",
            "_view_name": "VBoxView",
            "box_style": "",
            "children": [
              "IPY_MODEL_6bcab3fab4df400dae11ff8847c03b69",
              "IPY_MODEL_b9b54d2889ed43888e2217a0f4102924",
              "IPY_MODEL_248691cd23dd437fb408204160a57645"
            ],
            "layout": "IPY_MODEL_0495756b6b2c48688c1cee9ec4393764"
          }
        },
        "6bcab3fab4df400dae11ff8847c03b69": {
          "model_module": "@jupyter-widgets/controls",
          "model_name": "FloatSliderModel",
          "model_module_version": "1.5.0",
          "state": {
            "_dom_classes": [],
            "_model_module": "@jupyter-widgets/controls",
            "_model_module_version": "1.5.0",
            "_model_name": "FloatSliderModel",
            "_view_count": null,
            "_view_module": "@jupyter-widgets/controls",
            "_view_module_version": "1.5.0",
            "_view_name": "FloatSliderView",
            "continuous_update": true,
            "description": "v",
            "description_tooltip": null,
            "disabled": false,
            "layout": "IPY_MODEL_28198c93b55440048824b63cd75938af",
            "max": 1,
            "min": 0,
            "orientation": "horizontal",
            "readout": true,
            "readout_format": ".2f",
            "step": 0.1,
            "style": "IPY_MODEL_56736cccd879497495646d37833c6cca",
            "value": 0.1
          }
        },
        "b9b54d2889ed43888e2217a0f4102924": {
          "model_module": "@jupyter-widgets/controls",
          "model_name": "FloatSliderModel",
          "model_module_version": "1.5.0",
          "state": {
            "_dom_classes": [],
            "_model_module": "@jupyter-widgets/controls",
            "_model_module_version": "1.5.0",
            "_model_name": "FloatSliderModel",
            "_view_count": null,
            "_view_module": "@jupyter-widgets/controls",
            "_view_module_version": "1.5.0",
            "_view_name": "FloatSliderView",
            "continuous_update": true,
            "description": "w",
            "description_tooltip": null,
            "disabled": false,
            "layout": "IPY_MODEL_bd00803d35dd45718ea0ffb32b5f89f2",
            "max": 1,
            "min": 0,
            "orientation": "horizontal",
            "readout": true,
            "readout_format": ".2f",
            "step": 0.1,
            "style": "IPY_MODEL_707b272015a048578c4f8b79671ef293",
            "value": 0.5
          }
        },
        "248691cd23dd437fb408204160a57645": {
          "model_module": "@jupyter-widgets/output",
          "model_name": "OutputModel",
          "model_module_version": "1.0.0",
          "state": {
            "_dom_classes": [],
            "_model_module": "@jupyter-widgets/output",
            "_model_module_version": "1.0.0",
            "_model_name": "OutputModel",
            "_view_count": null,
            "_view_module": "@jupyter-widgets/output",
            "_view_module_version": "1.0.0",
            "_view_name": "OutputView",
            "layout": "IPY_MODEL_57c5a7d356b04f978348817c6d33b5d7",
            "msg_id": "",
            "outputs": [
              {
                "output_type": "display_data",
                "data": {
                  "text/plain": "<Figure size 432x288 with 1 Axes>",
                  "image/png": "iVBORw0KGgoAAAANSUhEUgAAAXwAAAD4CAYAAADvsV2wAAAABHNCSVQICAgIfAhkiAAAAAlwSFlzAAALEgAACxIB0t1+/AAAADh0RVh0U29mdHdhcmUAbWF0cGxvdGxpYiB2ZXJzaW9uMy4yLjIsIGh0dHA6Ly9tYXRwbG90bGliLm9yZy+WH4yJAAASoklEQVR4nO3df4xc13mf8edLrtgWtVNTFCMLkkiKCJNCLVyl3KobJGlURzLkNJACNFVly60MWCWKxIAL12mUCnBTBQbkBvkFhH+UoR07gVJZVeOYaNg4siIhRRGqXNZuHNFVxLBmRVU2GYZOawS1tOHbP/YyWa5mlpyZu9zdOc8HIGbuuYf33AMNv/vqzL17U1VIkqbfprU+AUnS1WHgS1IjDHxJaoSBL0mNMPAlqREza30Cw1x33XW1a9eutT4NSdpQjh079odVtX3QvnUb+Lt27WJ+fn6tT0OSNpQkp4btc0lHkhph4EtSIwx8SWqEgS9JjTDwJakRvQR+kruTvJjkRJKHh/S5L8nxJC8k+ZU+xpUkXbmJL8tMshnYD9wFnAaOJjlUVceX9NkD/BjwnVV1Psk3TzquJE2jY6fOc+TkOeZ2b2Pvzq29HruP6/BvB05U1UmAJE8A9wLHl/T5J8D+qjoPUFVnehhXkta9YQE+qP3YqfM8cPAIry1cYMvMJh5/aK7X0O8j8G8EXl6yfRr428v6fCtAkv8CbAZ+vKp+Y/mBkuwD9gHs2LGjh1OTpNW3UqgPCvBh7UdOnuO1hQtcKHh94QJHTp7rNfCv1pe2M8Ae4A7gXcAvJHnL8k5VdaCqZqtqdvv2gXcGS9KaOXbqPPufPcGxU+cvaXvg4BF+6jdf5IGDRy7ZNyjAV2qf272NLTOb2By4ZmYTc7u39Xr+fVT4rwA3L9m+qWtb6jTwfFW9DvzPJL/P4g+Aoz2ML0m9GmW5ZaWq/GKAv75w4ZIAH9a+d+dWHn9obl2v4R8F9iS5hcWgvx9497I+v8ZiZf+LSa5jcYnnZA9jS9LY+gj2YeENwwN8pWDfu3Nr70F/0cSBX1ULSd4PfJbF9fmPV9ULSR4F5qvqULfvHUmOA38K/EhVnZt0bEkaV1/BfrmqfFiAr2awD9PLb8usqsPA4WVtH17yvoAPdn8k6aoaVMn3GexrEd7jWLe/HlmSRjHqlTLTHOzDGPiSNryVrl8fVslPc7APY+BL2lBGWZ6B4VfEwPQG+zAGvqQNY9TlGVj9Sx03EgNf0ro0SiU/7pUyrTHwJa0741byhvrKDHxJa6rPSl4rM/AlrRkr+avLwJe06oZdI28lf3UZ+JJW1UrXyFvJX10GvqTejHqNvJX81WXgS+rFOOvxYCV/NRn4kkbmlTUbk4EvaSReWbNxGfiShrKSny4GvqSBrOSnj4EvyUq+EQa+1Dgr+XYY+FIjvNtVBr7UAO92FRj40tTxblcNY+BLG9SgYPduV63EwJc2oGHB7nq8VmLgS+vcKEs0rsdrJb0EfpK7gZ8DNgMHq+qxIf3+PvAU8Leqar6PsaWNZNiVMsP2jbpEYyWvlUwc+Ek2A/uBu4DTwNEkh6rq+LJ+bwY+ADw/6ZjSejdKeK+0b5wlGit5DdNHhX87cKKqTgIkeQK4Fzi+rN9PAB8FfqSHMaV1a9TwBpdodHVs6uEYNwIvL9k+3bX9mSR/E7i5qn59pQMl2ZdkPsn82bNnezg16eobFN7w59e7bw5vCO9h+y5W8h98x7dd8n8E0jhW/UvbJJuAnwbee7m+VXUAOAAwOztbq3tm0uoYZ33dJRpdDX0E/ivAzUu2b+raLnoz8NeB55IAvBU4lOQev7jVNBo3vA12rbY+Av8osCfJLSwG/f3Auy/urKo/Bq67uJ3kOeBDhr2mmeGt9WjiNfyqWgDeD3wW+BLwZFW9kOTRJPdMenxJUj96WcOvqsPA4WVtHx7S944+xpQkjaaPq3QkSRuAgS9JjTDwJakRBr4kNcLAl6RGGPiS1AgDX5IaYeBLUiMMfElqhIEvSY0w8CWpEQa+JDXCwJekRhj4ktQIA1+SGmHgS1IjDHxJaoSBL0mNMPAlqREGviQ1wsCXpEYY+JLUCANfkhph4EtSI3oJ/CR3J3kxyYkkDw/Y/8Ekx5P8bpJnkuzsY1xJ0pWbOPCTbAb2A+8EbgXeleTWZd0+D8xW1duAp4B/M+m4kqTR9FHh3w6cqKqTVfUa8ARw79IOVfVsVf1Jt3kEuKmHcSVJI+gj8G8EXl6yfbprG+Z9wH8atCPJviTzSebPnj3bw6lJki66ql/aJnkPMAv85KD9VXWgqmaranb79u1X89QkaerN9HCMV4Cbl2zf1LVdIsmdwCPA91TVN3oYV5I0gj4q/KPAniS3JNkC3A8cWtohybcD/xa4p6rO9DCmJGlEEwd+VS0A7wc+C3wJeLKqXkjyaJJ7um4/CbwJ+PdJvpDk0JDDSZJWSR9LOlTVYeDwsrYPL3l/Zx/jSJLG5522ktQIA1+SGmHgS1IjDHxJaoSBL0mNMPAlqREGviQ1wsCXpEYY+JLUCANfkhph4EtSIwx8SWqEgS9JjTDwJakRBr4kNcLAl6RGGPiS1AgDX5IaYeBLUiMMfElqhIEvSY0w8CWpEQa+JDXCwJekRvQS+EnuTvJikhNJHh6w/y8k+VS3//kku/oYV5J05SYO/CSbgf3AO4FbgXcluXVZt/cB56vqW4CfAT466bjS1XTs1Hn2P3uCY6fOX1G7tB7N9HCM24ETVXUSIMkTwL3A8SV97gV+vHv/FPDzSVJV1cP40qo6duo8Dxw8wmsLF9gys4nHH5pj786tQ9ul9aqPJZ0bgZeXbJ/u2gb2qaoF4I+BbcsPlGRfkvkk82fPnu3h1KTJHTl5jtcWLnCh4PWFCxw5eW7Fdmm9Wldf2lbVgaqararZ7du3r/XpSADM7d7GlplNbA5cM7OJud3bVmyX1qs+lnReAW5esn1T1zaoz+kkM8BfASyHtCHs3bmVxx+a48jJc8zt3vZnyzbD2qX1qo/APwrsSXILi8F+P/DuZX0OAQ8CvwP8IPBbrt9rI9m7c+vAQB/WLq1HEwd+VS0keT/wWWAz8PGqeiHJo8B8VR0CPgb8cpITwB+x+ENBknQV9VHhU1WHgcPL2j685P3/A/5BH2NJksazrr60lSStHgNfkhph4EtSIwx8SWqEgS9JjTDwJakRBr4kNcLAl6RGGPiS1AgDX5IaYeBLUiMMfElqhIEvSY0w8CWpEQa+JDXCwJekRhj4ktQIA1+SGmHgS1IjDHxJaoSBL0mNMPAlqREGviQ1wsCXpEZMFPhJrk3ydJKXutetA/rcluR3kryQ5HeT/MNJxpQkjWfSCv9h4Jmq2gM8020v9yfAP66qvwbcDfxskrdMOK4kaUSTBv69wCe7958EfmB5h6r6/ap6qXv/v4EzwPYJx5UkjWjSwL++ql7t3n8FuH6lzkluB7YAfzBk/74k80nmz549O+GpSZKWmrlchySfA946YNcjSzeqqpLUCse5Afhl4MGqujCoT1UdAA4AzM7ODj2WJGl0lw38qrpz2L4kX01yQ1W92gX6mSH9vgn4deCRqjoy9tlKksY26ZLOIeDB7v2DwGeWd0iyBfg08EtV9dSE40mSxjRp4D8G3JXkJeDObpsks0kOdn3uA/4O8N4kX+j+3DbhuJKkEaVqfS6Vz87O1vz8/FqfhiRtKEmOVdXsoH3eaStJjTDwJakRBr4kNcLAl6RGGPiS1AgDX5IaYeBLUiMMfElqhIEvSY0w8CWpEQa+JDXCwJekRhj4ktQIA1+SGmHgS1IjDHxJaoSBL0mNMPAlqREGviQ1wsCXpEYY+JLUCANfkhph4EtSIwx8SWrERIGf5NokTyd5qXvdukLfb0pyOsnPTzKmJGk8k1b4DwPPVNUe4Jlue5ifAH57wvGkVXXs1Hn2P3uCY6fOr/WpSL2bmfDv3wvc0b3/JPAc8KPLOyXZC1wP/AYwO+GY0kSOnTrPkZPnmNu9jb07t17S/sDBI7y2cIEtM5t4/KG5S/ZLG92kgX99Vb3avf8Ki6F+iSSbgJ8C3gPcudLBkuwD9gHs2LFjwlNT6wYF+0qhfuTkOV5buMCFgtcXLnDk5DkDX1PlsoGf5HPAWwfsemTpRlVVkhrQ74eAw1V1OsmKY1XVAeAAwOzs7KBjSW8wSrCvFOpzu7exZWYTry9c4JqZTczt3raW05J6d9nAr6qhVXmSrya5oapeTXIDcGZAt+8AvjvJDwFvArYk+XpVrbTeL71BH8G+Uqjv3bmVxx+aG7jcI02DSZd0DgEPAo91r59Z3qGqHrj4Psl7gVnDXsOMur4+arBfLtT37txq0GtqTRr4jwFPJnkfcAq4DyDJLPBPq+qhCY+vhoyzvj5OsBvqatVEgV9V54DvHdA+D7wh7KvqE8AnJhlT02FQJT/O+rrBLl25SSt8aWTDKvlx19cNdunKGPhaVaNU8q6vS6vLwNeqGbeSN9Sl1WHgqxd9VvKSVoeBr4lZyUsbg4GvkVjJSxuXga8rZiUvbWwGvt5g2N2uVvLSxmbg6xIr3e1qJS9tbAZ+w0a929VKXtrYDPxGjbMeD1by0kZm4DfAK2skgYE/9byyRtJFBv4UsZKXtBIDf0pYyUu6HAN/A7KSlzQOA3+DsZKXNC4Df53ybldJfTPw19igYPduV0mrwcBfQ8OC3btdJa0GA/8qGeWLVu92lbQaDPyejbJEMyzYreIlrQYDf0yjBPs4X7RaxUvqm4G/gmFXyowa7H7RKmk9mCjwk1wLfArYBXwZuK+qzg/otwM4CNwMFPB9VfXlScbu06hXyowa7C7RSFoPJq3wHwaeqarHkjzcbf/ogH6/BHykqp5O8ibgwoTjrmilynzSZRgYfmmkSzSS1rNJA/9e4I7u/SeB51gW+EluBWaq6mmAqvr6hGOuaFiA970MY7BL2mgmDfzrq+rV7v1XgOsH9PlW4GtJfhW4Bfgc8HBV/enyjkn2AfsAduzYMdYJDQvwvpdhDHZJG81lAz/J54C3Dtj1yNKNqqokNWSM7wa+HfhfLK75vxf42PKOVXUAOAAwOzs76FiXNSzAXYaR1LpUjZWri385eRG4o6peTXID8FxVfduyPnPAR6vqe7rtfwTMVdUPr3Ts2dnZmp+fH+u8RlnDl6RpkuRYVc0O2jfpks4h4EHgse71MwP6HAXekmR7VZ0F3g6Ml+RXaFhlbsUuqWWbJvz7jwF3JXkJuLPbJslskoMA3Vr9h4BnknwRCPALE44rSRrRRBV+VZ0DvndA+zzw0JLtp4G3TTKWJGkyk1b4kqQNwsCXpEYY+JLUCANfkhox0XX4qynJWeDUBIe4DvjDnk5nI3HebXHebbmSee+squ2DdqzbwJ9UkvlhNx9MM+fdFufdlknn7ZKOJDXCwJekRkxz4B9Y6xNYI867Lc67LRPNe2rX8CVJl5rmCl+StISBL0mNmLrAT3J3kheTnOieszu1knw8yZkkv7ek7dokTyd5qXudqt8HneTmJM8mOZ7khSQf6Nqnfd5/Mcl/TfLfu3n/6679liTPd5/3TyXZstbnuhqSbE7y+ST/sdtuZd5fTvLFJF9IMt+1jf1Zn6rAT7IZ2A+8E7gVeFf3TN1p9Qng7mVtFx8svwd4ptueJgvAP6+qW4E54Ie7/8bTPu9vAG+vqr8B3AbcffHhQsDPVNW3AOeB963hOa6mDwBfWrLdyrwB/m5V3bbk+vuxP+tTFfjA7cCJqjpZVa8BT7D4oPWpVFW/DfzRsuZ7WXygPN3rD1zVk1plVfVqVf237v3/ZTEEbmT6511V9fVu85ruT7H4QKGnuvapmzdAkpuAvwcc7LZDA/Newdif9WkL/BuBl5dsn+7aWnIlD5afCkl2sfis5OdpYN7dssYXgDPA08AfAF+rqoWuy7R+3n8W+BfAhW57G23MGxZ/qP9mkmNJ9nVtY3/WJ33EodaxFR4sv+EleRPwH4B/VlX/Z7HoWzSt8+6eHndbkrcAnwb+6hqf0qpL8v3Amao6luSOtT6fNfBdVfVKkm8Gnk7yP5buHPWzPm0V/ivAzUu2b+raWvLV7oHydK9n1vh8epfkGhbD/vGq+tWueernfVFVfQ14FvgOFp8XfbFwm8bP+3cC9yT5MotLtG8Hfo7pnzcAVfVK93qGxR/ytzPBZ33aAv8osKf7Bn8LcD+LD1pvycUHy8PwB8tvWN367ceAL1XVTy/ZNe3z3t5V9iT5S8BdLH5/8Szwg123qZt3Vf1YVd1UVbtY/Pf8W1X1AFM+b4AkfznJmy++B94B/B4TfNan7k7bJN/H4prfZuDjVfWRNT6lVZPk3wF3sPgrU78K/Cvg14AngR0s/nrp+6pq+Re7G1aS7wL+M/BF/nxN91+yuI4/zfN+G4tf0G1msVB7sqoeTbKbxcr3WuDzwHuq6htrd6arp1vS+VBVfX8L8+7m+Olucwb4lar6SJJtjPlZn7rAlyQNNm1LOpKkIQx8SWqEgS9JjTDwJakRBr4kNcLAl6RGGPiS1Ij/D0BhkpUY3IwzAAAAAElFTkSuQmCC\n"
                },
                "metadata": {
                  "needs_background": "light"
                }
              }
            ]
          }
        },
        "0495756b6b2c48688c1cee9ec4393764": {
          "model_module": "@jupyter-widgets/base",
          "model_name": "LayoutModel",
          "model_module_version": "1.2.0",
          "state": {
            "_model_module": "@jupyter-widgets/base",
            "_model_module_version": "1.2.0",
            "_model_name": "LayoutModel",
            "_view_count": null,
            "_view_module": "@jupyter-widgets/base",
            "_view_module_version": "1.2.0",
            "_view_name": "LayoutView",
            "align_content": null,
            "align_items": null,
            "align_self": null,
            "border": null,
            "bottom": null,
            "display": null,
            "flex": null,
            "flex_flow": null,
            "grid_area": null,
            "grid_auto_columns": null,
            "grid_auto_flow": null,
            "grid_auto_rows": null,
            "grid_column": null,
            "grid_gap": null,
            "grid_row": null,
            "grid_template_areas": null,
            "grid_template_columns": null,
            "grid_template_rows": null,
            "height": null,
            "justify_content": null,
            "justify_items": null,
            "left": null,
            "margin": null,
            "max_height": null,
            "max_width": null,
            "min_height": null,
            "min_width": null,
            "object_fit": null,
            "object_position": null,
            "order": null,
            "overflow": null,
            "overflow_x": null,
            "overflow_y": null,
            "padding": null,
            "right": null,
            "top": null,
            "visibility": null,
            "width": null
          }
        },
        "28198c93b55440048824b63cd75938af": {
          "model_module": "@jupyter-widgets/base",
          "model_name": "LayoutModel",
          "model_module_version": "1.2.0",
          "state": {
            "_model_module": "@jupyter-widgets/base",
            "_model_module_version": "1.2.0",
            "_model_name": "LayoutModel",
            "_view_count": null,
            "_view_module": "@jupyter-widgets/base",
            "_view_module_version": "1.2.0",
            "_view_name": "LayoutView",
            "align_content": null,
            "align_items": null,
            "align_self": null,
            "border": null,
            "bottom": null,
            "display": null,
            "flex": null,
            "flex_flow": null,
            "grid_area": null,
            "grid_auto_columns": null,
            "grid_auto_flow": null,
            "grid_auto_rows": null,
            "grid_column": null,
            "grid_gap": null,
            "grid_row": null,
            "grid_template_areas": null,
            "grid_template_columns": null,
            "grid_template_rows": null,
            "height": null,
            "justify_content": null,
            "justify_items": null,
            "left": null,
            "margin": null,
            "max_height": null,
            "max_width": null,
            "min_height": null,
            "min_width": null,
            "object_fit": null,
            "object_position": null,
            "order": null,
            "overflow": null,
            "overflow_x": null,
            "overflow_y": null,
            "padding": null,
            "right": null,
            "top": null,
            "visibility": null,
            "width": null
          }
        },
        "56736cccd879497495646d37833c6cca": {
          "model_module": "@jupyter-widgets/controls",
          "model_name": "SliderStyleModel",
          "model_module_version": "1.5.0",
          "state": {
            "_model_module": "@jupyter-widgets/controls",
            "_model_module_version": "1.5.0",
            "_model_name": "SliderStyleModel",
            "_view_count": null,
            "_view_module": "@jupyter-widgets/base",
            "_view_module_version": "1.2.0",
            "_view_name": "StyleView",
            "description_width": "",
            "handle_color": null
          }
        },
        "bd00803d35dd45718ea0ffb32b5f89f2": {
          "model_module": "@jupyter-widgets/base",
          "model_name": "LayoutModel",
          "model_module_version": "1.2.0",
          "state": {
            "_model_module": "@jupyter-widgets/base",
            "_model_module_version": "1.2.0",
            "_model_name": "LayoutModel",
            "_view_count": null,
            "_view_module": "@jupyter-widgets/base",
            "_view_module_version": "1.2.0",
            "_view_name": "LayoutView",
            "align_content": null,
            "align_items": null,
            "align_self": null,
            "border": null,
            "bottom": null,
            "display": null,
            "flex": null,
            "flex_flow": null,
            "grid_area": null,
            "grid_auto_columns": null,
            "grid_auto_flow": null,
            "grid_auto_rows": null,
            "grid_column": null,
            "grid_gap": null,
            "grid_row": null,
            "grid_template_areas": null,
            "grid_template_columns": null,
            "grid_template_rows": null,
            "height": null,
            "justify_content": null,
            "justify_items": null,
            "left": null,
            "margin": null,
            "max_height": null,
            "max_width": null,
            "min_height": null,
            "min_width": null,
            "object_fit": null,
            "object_position": null,
            "order": null,
            "overflow": null,
            "overflow_x": null,
            "overflow_y": null,
            "padding": null,
            "right": null,
            "top": null,
            "visibility": null,
            "width": null
          }
        },
        "707b272015a048578c4f8b79671ef293": {
          "model_module": "@jupyter-widgets/controls",
          "model_name": "SliderStyleModel",
          "model_module_version": "1.5.0",
          "state": {
            "_model_module": "@jupyter-widgets/controls",
            "_model_module_version": "1.5.0",
            "_model_name": "SliderStyleModel",
            "_view_count": null,
            "_view_module": "@jupyter-widgets/base",
            "_view_module_version": "1.2.0",
            "_view_name": "StyleView",
            "description_width": "",
            "handle_color": null
          }
        },
        "57c5a7d356b04f978348817c6d33b5d7": {
          "model_module": "@jupyter-widgets/base",
          "model_name": "LayoutModel",
          "model_module_version": "1.2.0",
          "state": {
            "_model_module": "@jupyter-widgets/base",
            "_model_module_version": "1.2.0",
            "_model_name": "LayoutModel",
            "_view_count": null,
            "_view_module": "@jupyter-widgets/base",
            "_view_module_version": "1.2.0",
            "_view_name": "LayoutView",
            "align_content": null,
            "align_items": null,
            "align_self": null,
            "border": null,
            "bottom": null,
            "display": null,
            "flex": null,
            "flex_flow": null,
            "grid_area": null,
            "grid_auto_columns": null,
            "grid_auto_flow": null,
            "grid_auto_rows": null,
            "grid_column": null,
            "grid_gap": null,
            "grid_row": null,
            "grid_template_areas": null,
            "grid_template_columns": null,
            "grid_template_rows": null,
            "height": null,
            "justify_content": null,
            "justify_items": null,
            "left": null,
            "margin": null,
            "max_height": null,
            "max_width": null,
            "min_height": null,
            "min_width": null,
            "object_fit": null,
            "object_position": null,
            "order": null,
            "overflow": null,
            "overflow_x": null,
            "overflow_y": null,
            "padding": null,
            "right": null,
            "top": null,
            "visibility": null,
            "width": null
          }
        },
        "a7dee0c80aa04e76b86b1ac947d6c6b4": {
          "model_module": "@jupyter-widgets/controls",
          "model_name": "VBoxModel",
          "model_module_version": "1.5.0",
          "state": {
            "_dom_classes": [
              "widget-interact"
            ],
            "_model_module": "@jupyter-widgets/controls",
            "_model_module_version": "1.5.0",
            "_model_name": "VBoxModel",
            "_view_count": null,
            "_view_module": "@jupyter-widgets/controls",
            "_view_module_version": "1.5.0",
            "_view_name": "VBoxView",
            "box_style": "",
            "children": [
              "IPY_MODEL_e96e4d5df7ea453193cca1ae19fae813",
              "IPY_MODEL_b6910fc3285e44b4bc199375b5b83110",
              "IPY_MODEL_86b90feab68e4557b1a239a4a3a4e2d2"
            ],
            "layout": "IPY_MODEL_07dfef5dd0454fc4a3f7241e67201ab1"
          }
        },
        "e96e4d5df7ea453193cca1ae19fae813": {
          "model_module": "@jupyter-widgets/controls",
          "model_name": "FloatSliderModel",
          "model_module_version": "1.5.0",
          "state": {
            "_dom_classes": [],
            "_model_module": "@jupyter-widgets/controls",
            "_model_module_version": "1.5.0",
            "_model_name": "FloatSliderModel",
            "_view_count": null,
            "_view_module": "@jupyter-widgets/controls",
            "_view_module_version": "1.5.0",
            "_view_name": "FloatSliderView",
            "continuous_update": true,
            "description": "v",
            "description_tooltip": null,
            "disabled": false,
            "layout": "IPY_MODEL_2464f6a6d6f94968b81b9c4ad99bac3a",
            "max": 5,
            "min": 0,
            "orientation": "horizontal",
            "readout": true,
            "readout_format": ".2f",
            "step": 0.1,
            "style": "IPY_MODEL_e0162928bea74fcfbc2986c77fea38e8",
            "value": 1.7
          }
        },
        "b6910fc3285e44b4bc199375b5b83110": {
          "model_module": "@jupyter-widgets/controls",
          "model_name": "FloatSliderModel",
          "model_module_version": "1.5.0",
          "state": {
            "_dom_classes": [],
            "_model_module": "@jupyter-widgets/controls",
            "_model_module_version": "1.5.0",
            "_model_name": "FloatSliderModel",
            "_view_count": null,
            "_view_module": "@jupyter-widgets/controls",
            "_view_module_version": "1.5.0",
            "_view_name": "FloatSliderView",
            "continuous_update": true,
            "description": "w",
            "description_tooltip": null,
            "disabled": false,
            "layout": "IPY_MODEL_68cb2a1ce9f6429f8264e26731f2c3d8",
            "max": 5,
            "min": 0,
            "orientation": "horizontal",
            "readout": true,
            "readout_format": ".2f",
            "step": 0.1,
            "style": "IPY_MODEL_3d0479fc565641c8961a27bc0f18a46e",
            "value": 3.6
          }
        },
        "86b90feab68e4557b1a239a4a3a4e2d2": {
          "model_module": "@jupyter-widgets/output",
          "model_name": "OutputModel",
          "model_module_version": "1.0.0",
          "state": {
            "_dom_classes": [],
            "_model_module": "@jupyter-widgets/output",
            "_model_module_version": "1.0.0",
            "_model_name": "OutputModel",
            "_view_count": null,
            "_view_module": "@jupyter-widgets/output",
            "_view_module_version": "1.0.0",
            "_view_name": "OutputView",
            "layout": "IPY_MODEL_448a39c49b6b494f86eb765fb3c17f5e",
            "msg_id": "",
            "outputs": [
              {
                "output_type": "display_data",
                "data": {
                  "text/plain": "<Figure size 360x288 with 2 Axes>",
                  "image/png": "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\n"
                },
                "metadata": {
                  "needs_background": "light"
                }
              }
            ]
          }
        },
        "07dfef5dd0454fc4a3f7241e67201ab1": {
          "model_module": "@jupyter-widgets/base",
          "model_name": "LayoutModel",
          "model_module_version": "1.2.0",
          "state": {
            "_model_module": "@jupyter-widgets/base",
            "_model_module_version": "1.2.0",
            "_model_name": "LayoutModel",
            "_view_count": null,
            "_view_module": "@jupyter-widgets/base",
            "_view_module_version": "1.2.0",
            "_view_name": "LayoutView",
            "align_content": null,
            "align_items": null,
            "align_self": null,
            "border": null,
            "bottom": null,
            "display": null,
            "flex": null,
            "flex_flow": null,
            "grid_area": null,
            "grid_auto_columns": null,
            "grid_auto_flow": null,
            "grid_auto_rows": null,
            "grid_column": null,
            "grid_gap": null,
            "grid_row": null,
            "grid_template_areas": null,
            "grid_template_columns": null,
            "grid_template_rows": null,
            "height": null,
            "justify_content": null,
            "justify_items": null,
            "left": null,
            "margin": null,
            "max_height": null,
            "max_width": null,
            "min_height": null,
            "min_width": null,
            "object_fit": null,
            "object_position": null,
            "order": null,
            "overflow": null,
            "overflow_x": null,
            "overflow_y": null,
            "padding": null,
            "right": null,
            "top": null,
            "visibility": null,
            "width": null
          }
        },
        "2464f6a6d6f94968b81b9c4ad99bac3a": {
          "model_module": "@jupyter-widgets/base",
          "model_name": "LayoutModel",
          "model_module_version": "1.2.0",
          "state": {
            "_model_module": "@jupyter-widgets/base",
            "_model_module_version": "1.2.0",
            "_model_name": "LayoutModel",
            "_view_count": null,
            "_view_module": "@jupyter-widgets/base",
            "_view_module_version": "1.2.0",
            "_view_name": "LayoutView",
            "align_content": null,
            "align_items": null,
            "align_self": null,
            "border": null,
            "bottom": null,
            "display": null,
            "flex": null,
            "flex_flow": null,
            "grid_area": null,
            "grid_auto_columns": null,
            "grid_auto_flow": null,
            "grid_auto_rows": null,
            "grid_column": null,
            "grid_gap": null,
            "grid_row": null,
            "grid_template_areas": null,
            "grid_template_columns": null,
            "grid_template_rows": null,
            "height": null,
            "justify_content": null,
            "justify_items": null,
            "left": null,
            "margin": null,
            "max_height": null,
            "max_width": null,
            "min_height": null,
            "min_width": null,
            "object_fit": null,
            "object_position": null,
            "order": null,
            "overflow": null,
            "overflow_x": null,
            "overflow_y": null,
            "padding": null,
            "right": null,
            "top": null,
            "visibility": null,
            "width": null
          }
        },
        "e0162928bea74fcfbc2986c77fea38e8": {
          "model_module": "@jupyter-widgets/controls",
          "model_name": "SliderStyleModel",
          "model_module_version": "1.5.0",
          "state": {
            "_model_module": "@jupyter-widgets/controls",
            "_model_module_version": "1.5.0",
            "_model_name": "SliderStyleModel",
            "_view_count": null,
            "_view_module": "@jupyter-widgets/base",
            "_view_module_version": "1.2.0",
            "_view_name": "StyleView",
            "description_width": "",
            "handle_color": null
          }
        },
        "68cb2a1ce9f6429f8264e26731f2c3d8": {
          "model_module": "@jupyter-widgets/base",
          "model_name": "LayoutModel",
          "model_module_version": "1.2.0",
          "state": {
            "_model_module": "@jupyter-widgets/base",
            "_model_module_version": "1.2.0",
            "_model_name": "LayoutModel",
            "_view_count": null,
            "_view_module": "@jupyter-widgets/base",
            "_view_module_version": "1.2.0",
            "_view_name": "LayoutView",
            "align_content": null,
            "align_items": null,
            "align_self": null,
            "border": null,
            "bottom": null,
            "display": null,
            "flex": null,
            "flex_flow": null,
            "grid_area": null,
            "grid_auto_columns": null,
            "grid_auto_flow": null,
            "grid_auto_rows": null,
            "grid_column": null,
            "grid_gap": null,
            "grid_row": null,
            "grid_template_areas": null,
            "grid_template_columns": null,
            "grid_template_rows": null,
            "height": null,
            "justify_content": null,
            "justify_items": null,
            "left": null,
            "margin": null,
            "max_height": null,
            "max_width": null,
            "min_height": null,
            "min_width": null,
            "object_fit": null,
            "object_position": null,
            "order": null,
            "overflow": null,
            "overflow_x": null,
            "overflow_y": null,
            "padding": null,
            "right": null,
            "top": null,
            "visibility": null,
            "width": null
          }
        },
        "3d0479fc565641c8961a27bc0f18a46e": {
          "model_module": "@jupyter-widgets/controls",
          "model_name": "SliderStyleModel",
          "model_module_version": "1.5.0",
          "state": {
            "_model_module": "@jupyter-widgets/controls",
            "_model_module_version": "1.5.0",
            "_model_name": "SliderStyleModel",
            "_view_count": null,
            "_view_module": "@jupyter-widgets/base",
            "_view_module_version": "1.2.0",
            "_view_name": "StyleView",
            "description_width": "",
            "handle_color": null
          }
        },
        "448a39c49b6b494f86eb765fb3c17f5e": {
          "model_module": "@jupyter-widgets/base",
          "model_name": "LayoutModel",
          "model_module_version": "1.2.0",
          "state": {
            "_model_module": "@jupyter-widgets/base",
            "_model_module_version": "1.2.0",
            "_model_name": "LayoutModel",
            "_view_count": null,
            "_view_module": "@jupyter-widgets/base",
            "_view_module_version": "1.2.0",
            "_view_name": "LayoutView",
            "align_content": null,
            "align_items": null,
            "align_self": null,
            "border": null,
            "bottom": null,
            "display": null,
            "flex": null,
            "flex_flow": null,
            "grid_area": null,
            "grid_auto_columns": null,
            "grid_auto_flow": null,
            "grid_auto_rows": null,
            "grid_column": null,
            "grid_gap": null,
            "grid_row": null,
            "grid_template_areas": null,
            "grid_template_columns": null,
            "grid_template_rows": null,
            "height": null,
            "justify_content": null,
            "justify_items": null,
            "left": null,
            "margin": null,
            "max_height": null,
            "max_width": null,
            "min_height": null,
            "min_width": null,
            "object_fit": null,
            "object_position": null,
            "order": null,
            "overflow": null,
            "overflow_x": null,
            "overflow_y": null,
            "padding": null,
            "right": null,
            "top": null,
            "visibility": null,
            "width": null
          }
        },
        "b7f2f42d79a7480e8407b660bbfd65ca": {
          "model_module": "@jupyter-widgets/controls",
          "model_name": "VBoxModel",
          "model_module_version": "1.5.0",
          "state": {
            "_dom_classes": [
              "widget-interact"
            ],
            "_model_module": "@jupyter-widgets/controls",
            "_model_module_version": "1.5.0",
            "_model_name": "VBoxModel",
            "_view_count": null,
            "_view_module": "@jupyter-widgets/controls",
            "_view_module_version": "1.5.0",
            "_view_name": "VBoxView",
            "box_style": "",
            "children": [
              "IPY_MODEL_5142f95ad7ec42faad16c8f151fa35db",
              "IPY_MODEL_1904113e5e0f4688b51a84fe313f5e95"
            ],
            "layout": "IPY_MODEL_4e20d84a3542481d846985a3f1ba3b17"
          }
        },
        "5142f95ad7ec42faad16c8f151fa35db": {
          "model_module": "@jupyter-widgets/controls",
          "model_name": "FloatSliderModel",
          "model_module_version": "1.5.0",
          "state": {
            "_dom_classes": [],
            "_model_module": "@jupyter-widgets/controls",
            "_model_module_version": "1.5.0",
            "_model_name": "FloatSliderModel",
            "_view_count": null,
            "_view_module": "@jupyter-widgets/controls",
            "_view_module_version": "1.5.0",
            "_view_name": "FloatSliderView",
            "continuous_update": true,
            "description": "w",
            "description_tooltip": null,
            "disabled": false,
            "layout": "IPY_MODEL_91ec103db8c8456b95bb4579808dd103",
            "max": 0.5,
            "min": 0.1,
            "orientation": "horizontal",
            "readout": true,
            "readout_format": ".2f",
            "step": 0.1,
            "style": "IPY_MODEL_9a925378432d4b36ac98edbb241f818d",
            "value": 0.30000000000000004
          }
        },
        "1904113e5e0f4688b51a84fe313f5e95": {
          "model_module": "@jupyter-widgets/output",
          "model_name": "OutputModel",
          "model_module_version": "1.0.0",
          "state": {
            "_dom_classes": [],
            "_model_module": "@jupyter-widgets/output",
            "_model_module_version": "1.0.0",
            "_model_name": "OutputModel",
            "_view_count": null,
            "_view_module": "@jupyter-widgets/output",
            "_view_module_version": "1.0.0",
            "_view_name": "OutputView",
            "layout": "IPY_MODEL_1382973986744254be1ebc3fc75ab1c7",
            "msg_id": "",
            "outputs": [
              {
                "output_type": "display_data",
                "data": {
                  "text/plain": "<Figure size 432x288 with 1 Axes>",
                  "image/png": "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\n"
                },
                "metadata": {
                  "needs_background": "light"
                }
              }
            ]
          }
        },
        "4e20d84a3542481d846985a3f1ba3b17": {
          "model_module": "@jupyter-widgets/base",
          "model_name": "LayoutModel",
          "model_module_version": "1.2.0",
          "state": {
            "_model_module": "@jupyter-widgets/base",
            "_model_module_version": "1.2.0",
            "_model_name": "LayoutModel",
            "_view_count": null,
            "_view_module": "@jupyter-widgets/base",
            "_view_module_version": "1.2.0",
            "_view_name": "LayoutView",
            "align_content": null,
            "align_items": null,
            "align_self": null,
            "border": null,
            "bottom": null,
            "display": null,
            "flex": null,
            "flex_flow": null,
            "grid_area": null,
            "grid_auto_columns": null,
            "grid_auto_flow": null,
            "grid_auto_rows": null,
            "grid_column": null,
            "grid_gap": null,
            "grid_row": null,
            "grid_template_areas": null,
            "grid_template_columns": null,
            "grid_template_rows": null,
            "height": null,
            "justify_content": null,
            "justify_items": null,
            "left": null,
            "margin": null,
            "max_height": null,
            "max_width": null,
            "min_height": null,
            "min_width": null,
            "object_fit": null,
            "object_position": null,
            "order": null,
            "overflow": null,
            "overflow_x": null,
            "overflow_y": null,
            "padding": null,
            "right": null,
            "top": null,
            "visibility": null,
            "width": null
          }
        },
        "91ec103db8c8456b95bb4579808dd103": {
          "model_module": "@jupyter-widgets/base",
          "model_name": "LayoutModel",
          "model_module_version": "1.2.0",
          "state": {
            "_model_module": "@jupyter-widgets/base",
            "_model_module_version": "1.2.0",
            "_model_name": "LayoutModel",
            "_view_count": null,
            "_view_module": "@jupyter-widgets/base",
            "_view_module_version": "1.2.0",
            "_view_name": "LayoutView",
            "align_content": null,
            "align_items": null,
            "align_self": null,
            "border": null,
            "bottom": null,
            "display": null,
            "flex": null,
            "flex_flow": null,
            "grid_area": null,
            "grid_auto_columns": null,
            "grid_auto_flow": null,
            "grid_auto_rows": null,
            "grid_column": null,
            "grid_gap": null,
            "grid_row": null,
            "grid_template_areas": null,
            "grid_template_columns": null,
            "grid_template_rows": null,
            "height": null,
            "justify_content": null,
            "justify_items": null,
            "left": null,
            "margin": null,
            "max_height": null,
            "max_width": null,
            "min_height": null,
            "min_width": null,
            "object_fit": null,
            "object_position": null,
            "order": null,
            "overflow": null,
            "overflow_x": null,
            "overflow_y": null,
            "padding": null,
            "right": null,
            "top": null,
            "visibility": null,
            "width": null
          }
        },
        "9a925378432d4b36ac98edbb241f818d": {
          "model_module": "@jupyter-widgets/controls",
          "model_name": "SliderStyleModel",
          "model_module_version": "1.5.0",
          "state": {
            "_model_module": "@jupyter-widgets/controls",
            "_model_module_version": "1.5.0",
            "_model_name": "SliderStyleModel",
            "_view_count": null,
            "_view_module": "@jupyter-widgets/base",
            "_view_module_version": "1.2.0",
            "_view_name": "StyleView",
            "description_width": "",
            "handle_color": null
          }
        },
        "1382973986744254be1ebc3fc75ab1c7": {
          "model_module": "@jupyter-widgets/base",
          "model_name": "LayoutModel",
          "model_module_version": "1.2.0",
          "state": {
            "_model_module": "@jupyter-widgets/base",
            "_model_module_version": "1.2.0",
            "_model_name": "LayoutModel",
            "_view_count": null,
            "_view_module": "@jupyter-widgets/base",
            "_view_module_version": "1.2.0",
            "_view_name": "LayoutView",
            "align_content": null,
            "align_items": null,
            "align_self": null,
            "border": null,
            "bottom": null,
            "display": null,
            "flex": null,
            "flex_flow": null,
            "grid_area": null,
            "grid_auto_columns": null,
            "grid_auto_flow": null,
            "grid_auto_rows": null,
            "grid_column": null,
            "grid_gap": null,
            "grid_row": null,
            "grid_template_areas": null,
            "grid_template_columns": null,
            "grid_template_rows": null,
            "height": null,
            "justify_content": null,
            "justify_items": null,
            "left": null,
            "margin": null,
            "max_height": null,
            "max_width": null,
            "min_height": null,
            "min_width": null,
            "object_fit": null,
            "object_position": null,
            "order": null,
            "overflow": null,
            "overflow_x": null,
            "overflow_y": null,
            "padding": null,
            "right": null,
            "top": null,
            "visibility": null,
            "width": null
          }
        },
        "644e8de0d892447db2de796098d0862e": {
          "model_module": "@jupyter-widgets/controls",
          "model_name": "VBoxModel",
          "model_module_version": "1.5.0",
          "state": {
            "_dom_classes": [
              "widget-interact"
            ],
            "_model_module": "@jupyter-widgets/controls",
            "_model_module_version": "1.5.0",
            "_model_name": "VBoxModel",
            "_view_count": null,
            "_view_module": "@jupyter-widgets/controls",
            "_view_module_version": "1.5.0",
            "_view_name": "VBoxView",
            "box_style": "",
            "children": [
              "IPY_MODEL_e8f85e07a3244e808a7eac80eb416614",
              "IPY_MODEL_317dac1058904e478514ca9b7b0fd7e4",
              "IPY_MODEL_0f3cf4c4f0f74be0969547523c1c32ce"
            ],
            "layout": "IPY_MODEL_ac3019ce755c4cb683c5c7078367ccb9"
          }
        },
        "e8f85e07a3244e808a7eac80eb416614": {
          "model_module": "@jupyter-widgets/controls",
          "model_name": "FloatSliderModel",
          "model_module_version": "1.5.0",
          "state": {
            "_dom_classes": [],
            "_model_module": "@jupyter-widgets/controls",
            "_model_module_version": "1.5.0",
            "_model_name": "FloatSliderModel",
            "_view_count": null,
            "_view_module": "@jupyter-widgets/controls",
            "_view_module_version": "1.5.0",
            "_view_name": "FloatSliderView",
            "continuous_update": true,
            "description": "v",
            "description_tooltip": null,
            "disabled": false,
            "layout": "IPY_MODEL_332b53aa3a484d9caf53cd4faf733798",
            "max": 5,
            "min": 0,
            "orientation": "horizontal",
            "readout": true,
            "readout_format": ".2f",
            "step": 0.1,
            "style": "IPY_MODEL_9e8d99ae4ebb402294dc5071dad6a2cd",
            "value": 3.3
          }
        },
        "317dac1058904e478514ca9b7b0fd7e4": {
          "model_module": "@jupyter-widgets/controls",
          "model_name": "FloatSliderModel",
          "model_module_version": "1.5.0",
          "state": {
            "_dom_classes": [],
            "_model_module": "@jupyter-widgets/controls",
            "_model_module_version": "1.5.0",
            "_model_name": "FloatSliderModel",
            "_view_count": null,
            "_view_module": "@jupyter-widgets/controls",
            "_view_module_version": "1.5.0",
            "_view_name": "FloatSliderView",
            "continuous_update": true,
            "description": "w",
            "description_tooltip": null,
            "disabled": false,
            "layout": "IPY_MODEL_d4b6b816ee9449d4993a2675edcb2f0d",
            "max": 5,
            "min": 0,
            "orientation": "horizontal",
            "readout": true,
            "readout_format": ".2f",
            "step": 0.1,
            "style": "IPY_MODEL_87acedca9309426f935ab4de2714fe16",
            "value": 2.1
          }
        },
        "0f3cf4c4f0f74be0969547523c1c32ce": {
          "model_module": "@jupyter-widgets/output",
          "model_name": "OutputModel",
          "model_module_version": "1.0.0",
          "state": {
            "_dom_classes": [],
            "_model_module": "@jupyter-widgets/output",
            "_model_module_version": "1.0.0",
            "_model_name": "OutputModel",
            "_view_count": null,
            "_view_module": "@jupyter-widgets/output",
            "_view_module_version": "1.0.0",
            "_view_name": "OutputView",
            "layout": "IPY_MODEL_b561fce481714f259288d53bb848f73c",
            "msg_id": "",
            "outputs": [
              {
                "output_type": "display_data",
                "data": {
                  "text/plain": "<Figure size 432x288 with 1 Axes>",
                  "image/png": "iVBORw0KGgoAAAANSUhEUgAAAXAAAAD4CAYAAAD1jb0+AAAABHNCSVQICAgIfAhkiAAAAAlwSFlzAAALEgAACxIB0t1+/AAAADh0RVh0U29mdHdhcmUAbWF0cGxvdGxpYiB2ZXJzaW9uMy4yLjIsIGh0dHA6Ly9tYXRwbG90bGliLm9yZy+WH4yJAAAgAElEQVR4nO3deXycZbn/8c81k0z2fe+SpvvCVmhaVtlBVARUREAElXOKHjmo6BEPiuvh5y4oeoQqcCqggAIWEJWylqKFttDSNl3Svc062SfbJDNz//6YSVvoksyWZ56Z6/165ZVZnsxc00m+ved+7kWMMSillLIfh9UFKKWUiowGuFJK2ZQGuFJK2ZQGuFJK2ZQGuFJK2VTaeD5ZaWmpqampGc+nVEop21u7dm2bMabsvbePa4DX1NSwZs2a8XxKpZSyPRHZc6TbtQtFKaVsSgNcKaVsSgNcKaVsSgNcKaVsSgNcKaVsSgNcKaVsSgNcKaVsSgM8xb21t5P7V+6irddrdSlKqTCN60QelVheq3fz6QdX4w8YHl61h7/echbZLv2VUMoutAWeovwBwzf/spGppTnce90p7Grr48HXd1tdllIqDBrgKWpFvZs97f18+cJZXHJ8FWfNKOWRVXsIBHSHJqXsQgM8Rf3hjb2U5rq4aF4FAFecPJHG7kE2N/dYXJlSaqw0wFOQZ3CYV7a28pGTJ+JKC/4KnD2rFIBXt7mtLE0pFQYN8BT0+vZ2hv2GC+ZWHLitPC+T4ybk8+pWDXCl7EIDPAW9srWVvMw0FkwpetftZ80o5a29nXh9fosqU0qFQwM8Bb1W38ZZM0pJd7777T9xUiHDfsO25l6LKlNKhUMDPMU0dg3Q0DXAqVOLD7vvhIkFAGxo6B7vspRSERjTrA0R2Q14AD/gM8bUikgx8BhQA+wGrjLGdManTBUra/cE36IFUw4P8MnFWeRnpmmAK2UT4bTAzzPGzDfG1Iaufx140RgzE3gxdF0luLV7OslKdzK3Ku+w+0SE4ycWsFEDXClbiKYL5XJgaejyUuCK6MtR8bZ2TyfzJxeS5jzyWz+vKp9tLR6d0KOUDYw1wA3wvIisFZHFodsqjDFNocvNQMWRflBEFovIGhFZ43brEDUr9Xl91DX1HDb65FDTy3Px+gI0dA2MY2VKqUiMNcDPMsacAnwA+IKInH3oncYYQzDkD2OMWWKMqTXG1JaVlUVXrYrK+v1d+AOGBTVHD/BppTkA7HDrSBSlEt2YAtwY0xD63go8BSwCWkSkCiD0vTVeRarYGOnbPmlS4VGPmV6eC8BOd9+41KSUityoAS4iOSKSN3IZuBjYCDwN3BA67AZgWbyKVLGxqbGHqoJMinNcRz2mJMdFfmYaO9u0Ba5UohvLMMIK4CkRGTn+D8aYv4vIauBxEbkR2ANcFb8yVSxsauzhuAn5xzxGRJhensuOVm2BK5XoRg1wY8xO4KQj3N4OXBCPolTsDQz52enu5YMnVI167LTSXF7f3jYOVSmloqEzMVPE5uYeAoZRW+AQnNDT4hnUNVGUSnAa4CliU2Nwne+xBPikomyMgcauwXiXpRLIPzY18/Pnt7KrTbvP7EIDPEXUNXZTkJXOxMKsUY+dXBQ8Zn9nf7zLUgnigZW7uOmhtfzype1cds9KtrV4rC5JjYEGeIoYOYEZOhl9TJOKswHY16GTeVJBa88gP/r7Fi6cW86K/zqP9DQHtz+5QWfj2oAGeAoY9gfY0uxhXtXo3ScAlfmZpDlEW+Ap4uFVexj2B7jj0nlUl2Tz9UvmsGZPJ//Y1Gx1aWoUGuApYIe7lyFfgOMmji3AnQ5hQmEW+zq1BZ7sjDE8804TZ0wvZUpJcBbuxxZMYlJRFg/+c7e1xalRaYCngE0NIycwC8b8M5OKsrQFngK2tnjY1dbHB06oPHCb0yFcf/oU3tzVwRbd5DqhaYCngLqmHjLSHAfWORmLiYVZNOqCVknvHxtbEIGL51W+6/YrF0zG6RCeXtdoUWVqLDTAU8Cmxm7mVOUfdQnZI6ksyMTt8eLzB+JYmbLam7vbmVuZT1lexrtuL85xcfq0Ep7b0ERwrTqViDTAk5wxhroxTKF/r4r8TAIG3L3eOFWmrObzB3h7bxcLj7I65QdPqGJ3ez91TdqNkqg0wJNcQ9cAPYO+MY9AGVGZnwlAc7dO5klWm5s89A/5WVBz+PZ6ABcfV4FD4LkNTUe8X1lPAzzJ1YVmYM4LswVeWRAM8JYeDfBktWZPBwC1R9ngozQ3g1OnlrC8rmU8y1Jh0ABPcnVNPYjAnMrD98A8lpEA1xZ48trU2ENZXgYTjjE797w5ZWxr6dUT2glKAzzJ1TX2MLU0h2zXWFYOPqg420W6U2ju0T7wZLW5qWfU/9jPmVUOwIptuh1iItIAT3J1TT1h938DOBxCeV6mdqEkKZ8/QH1LL3NH+d2YVZFLZX4mr2qAJyQN8CTWPTDM/s6BsPu/R1QWZGoXSpLa1dbHkD/A3Kpjt8BFhHNmlbGyvo1hHVKacDTAk9jm0PCvSFrgEByJoi3w5DQyNHBO5ei/G+fOLsPj9bFuX1e8y1Jh0gBPYpGOQBlRkZ9Jc8+gTuRIQvUtvTgdwvSy3FGPPWNGKU6H8MpW3bc80WiAJ7G6ph5KczMoz8uM6OcrCzLoH/Lj8fpiXJmy2q62PiYXZeFKGz0CCrLSOaW6kBXbdJu9RKMBnsTqGnsibn0DVBYEh5dpP3jy2dnWx7QxtL5HnD2zjA0N3bTpzNyEogGepIZ8Aepbx74G+JHobMzkFAgYdrf1MTWMxc3OnlUGwMp6bYUnEg3wJFXf6mHYb6JqgZeHFjhye7TVlUyaewYZGPaHFeAnTCygOMel48ETjAZ4knpnfzcAJ04c+xrg71UaCnD92JxcRjYtDmd5YYdDOGtGKSvq3brVWgLRAE9S6/d1UZCVzpSS7IgfI8flJCvdqS3wJLMzFOA1YQQ4BLtR2nqHdHXCBKIBnqTW7+/mxEkFY9rE+GhEhNI8l7bAk8z+zn5cTseBcxxjdfbMUgBW1Gs3SqLQAE9CA0N+trV4OGlSYdSPVZqboWuCJ5n9nQNMLMrC4QjvP/fy/EzmVuXz6lYN8EShAZ6E6pq68QcMJ06KvP97RFluBm2eoRhUpRLF/s4BJh5jBcJjOXtWKWv3dNKrcwMSggZ4Elq/L3gC86TJMWiB52kLPNk0dPYzqSiyAD9nVhm+gOFfO9pjXJWKxJgDXEScIvK2iDwbuj5VRN4Qke0i8piIuOJXpgrH2/u6qMzPpCLMPs4jKcvNoLN/SPfGTBKDw37aeociDvDaKcVku5y8rNPqE0I4LfAvApsPuf4j4C5jzAygE7gxloWpyBhjWL2rg9qj7HMYrtK8DIyBjj7tRkkG+zuDGzNMKopsdJIrzcG5s8tYXteiwwkTwJgCXEQmAR8Cfhe6LsD5wJ9DhywFrohHgSo8+zsHaO4ZZNHUI+9zGK6y3OAHq1YdSpgU9nf2A0TcAgd4/3GVuD1e3t7XGauyVITG2gK/G/gaMPI5ugToMsaMnMnYD0w80g+KyGIRWSMia9xuPXsdb2/sCu5zGLMA18k8SSXaFjjA+XPKcTkd/H1jc6zKUhEaNcBF5FKg1RizNpInMMYsMcbUGmNqy8rKInkIFYbVuzooyEpnVnl4e2AeTWmuTqdPJg1dA6Q75cAyCZHIy0znzBkl/GNTiy41bLGxtMDPBC4Tkd3AowS7Tn4BFIrIyEaLk4CGuFSowvLm7g4W1hSFPcb3aEYCvK1X+8CTwf7OASYUhj8G/L0uOb6SvR39bG7yxKgyFYlRA9wY89/GmEnGmBrgauAlY8wngZeBK0OH3QAsi1uVakyauwfZ1dbHwprYdJ8A5GSkke3S6fTJYn8UQwgPdeHcChwCz21oikFVKlLRjAO/DbhVRLYT7BO/PzYlqUiN7JhyzuzYdlWV5WVoH3iSaIhiEs+hSnIzeN/MMp58az9+HY1imbAC3BjzijHm0tDlncaYRcaYGcaYjxtj9C/cYi9taWVCQSazK2LT/z2iNDdDW+BJYNgfwN3rPbBRR7Q+XjuJxu5BndRjIZ2JmSS8Pj+vb2/j3DnlUS1gdSQlOS4dB54E3B4vxhD2IlZHc+HcCvIz0/jT2n0xeTwVPg3wJLF6Vyd9Q37On10e88cuyXXRrgFue809wZ2VKgsiH4FyqMx0J1ecPJG/bWymXbvYLKEBniSW1zXjSnNwxoySmD92cY6Lzv4hnXlncy2hrfEq82PThQJw/elTGPIFeHjV3pg9pho7DfAkMOwP8Ow7TVw4t5xsV9roPxCm4pwM/AFDz+BwzB9bjZ+DLfDYdKEAzCjP47zZZTy0ajeDw/6YPa4aGw3wOGv1DLKpsZuGroG4TXpYub2N9r4hrph/xMmwUSvJCU6n124Ue2vuHsSV5qAoOz2mj/vv75tGW+8QT7y1P6aPq0YX++aawhjDXzc08euXd7D5kO2nJhZm8bFTJvLpM6dSnBO7xRv/+MZeirLTOTcO/d/AgVo7+oaYrpNpbau5Z5CK/IyYn+Q+fXoJp1QX8ssX6/nYKZPITHfG9PHV0WkLPMaGfAG+/Ng6bv7D2/gDAW7/4BzuvW4B37/8OKaX5/Krl7dz9o9f5r5Xd8RkidZ9Hf0s39zCtadW40qLz9s5EuB6osremrsHqYph//cIEeG2S+bQ0uPl//65O+aPr45OW+Ax5PX5+bela3itvo1bL5rFF86bgfOQKcufOr2G7a0efvi3Lfzgb1v464YmfnzlicypzI/4Oe99dQdOEa47bUosXsIRleRqF0oyaO4Z5MQYbLN3JKdOK+Hc2WX8+qXtfPTkiZTHaKiiOjZtgceIMYZvPLWR1+rb+NHHTuCWC2a+K7xHzCjP47fX1/Lra0+hoXOAD9+zkrtf2MaQL/zW+K62Ph5dvY9rT62mKkaTM47kQBeKrodiW8YYmrsHqcyPzRDCI/nWpfPw+gN879m6uD2HejcN8Bh5aNUe/rx2P7dcMJNPLKw+5rEiwodOrGL5refwoROquPuFei771Uo27O8e8/P5A4bb/vwO2elO/vP8mdGWf0wZaU5yM9K0BW5j3QPDeH2BmOzSdDTTynK5+bwZPPtOE8vrWuL2POogDfAY2N7ay51/3cx5s8v40gVjD9PiHBd3X30yv72+lo6+Ia7439f59rKNY1p35Md/38Kbuzv4zmXHHVizO56KdTamrY0MIYznJzWAm86ZxryqfG574h1aQ8+p4kcDPEr+gOGrf1pPlsvJjz52YkTLdF40r4Llt57D1Qsn8/Abezn3J6/w/Wfr2OnuPezYPq+Pb/5lA/et2Ml1p1Xz0VPiM3TwvTTA7a2pO7azMI8mI83JL6+ZT/+Qj6/8ab1O/oozPYkZpcdW72Pdvi7u/sT8qE7cFGSlc+dHTuAzZ07lFy/Ws/Sfu7l/5S5mVeRy4qRCinNcuD1eXt7aSlf/MIvPnsbXL5kT8yFhR1OS46KxW1tUduXuCX6qK8+L/8nFGeV5fOvS47j9qQ385tUdfOG8GXF/zlSlAR6Frv4hfvKPLZw6tZjL50+IyWPOKM/lnmtOpvXSuTz1VgMrt7fxWr2bzv5hirLTed/MMj5zZg2nVMdm0+KxKs5xsbFx7H30KrG4Q91y49HdBnDNosms2tnOz57fykmTCjlrZum4PG+q0QCPws+e30b3wDDfuey4mLeEy/Myuemc6dx0zvSYPm6kinODXSjGmHFr9avYcXu85GWmjdskGxHhhx87gS3NPdzy6Ns8859nxWQd8ngzxhAw4BBs8XuuAR6husYeHnljD9efXsPcqsjHcdtFaU4Gw36Dx+sjPzO2U7FV/Lk93nFrfY/IdqVx73ULuOxXr/MfD6/l8c+dTkba+M/SNMbg9QUY8gfw+Q0+f4DhgGHIF2B3ex+bm3rY0uRha7OHHe5efAFDbkYai6YW85kza3jfzMSdfqwBHgFjDN95ehOF2S6+fOEsq8sZF4eOBdcAtx+3xxvVRsaRmlaWy08/fiKfe/gtvvdMHXd+5IS4P2ef18eydY28tKWVjQ3ddPQNMTTKrOeJhVnMrszj3Dll5LjScHu8PF/XzKfuf5MrF0zizo8cb8l/PqPRAI/A0+sbeXN3Bz/46AkUxHhhoERVfMhszJrSHIurUeFy93o5fmKBJc99yfFV3HT2NO5bsZNTqov42IJJcXkef8Dw+3/t5ufLt+EZ9DGlJJszppdQnp9JflYaLqeDNIeQnuYg3eEgzSlMLs5mVkUeBVmH/x1/89K5/Oql7dzz0nZaegb53Q21CRfiGuBh6h/y8YPntnD8xHyuqp1sdTnjpuSQBa2U/bg9Xspyx78FPuK/3j+b9fu7uP2pDcytymfehNh2O7Z6BvnCI2+xencn75tZypcunMUp1YVR9WNnpDn5ysWzmVyUzdeeeIf/fnIDP/v4SQnVN26LceCPr97Hg6/vSoiJAb95ZQfNPYN858PHHXGqfLI6uCKhLmhlN/1DPnq9vnHvAz9UmtPBPdecQmF2Op9/ZC3dA7FbW357ay+X3fM6Gxq6+flVJ/H7zy5iwZSimAXtVQsn88ULZvLkWw38eW1iLZlriwB/cUsL332mjtN+8CK3PraOve39ltSxr6Of+1bs5Ir5E6itKbakBquU5AT/+HU6vf2MbEhtZYCPPP//fjK4BtBXHl8Xk0k+21s9XL1kFb6A4cnPn8lHT5kUlxbyLRfM5PRpJXxr2Sb2tPfF/PEjZYsAv+9Ttbxw69l85sypPLexifffvYKH/rU7bhskHIkxhu89W0eaQ/j6B+aO2/MmiiyXk6x0J+26oJXtJEqAAyyYUswdl87jhc2t/Gz51qgeq77Fw9VL3gDg0cWnxrxb5lBOh3DXJ+aT5hBuf2pDWNnT3D3IHX/ZeOB9iCVbBDgEZ3fdcek8XvnqeSycWswdyzbx309uYDgGa2qPxV83BBfo+eIFM2O6JZWd6HR6ezoQ4Bb2gR/q+tOncPXCyfz65R385e2GiB5jW4uHa367ChF4dPFpzCjPi3GVh6ssyOS2D8zh9e3tYXWl/OLFeh5dvTcuW87ZJsBHVBZksvQzC7nl/Bk8unofX3jkrbiHeHuvl28v28RJkwq48aypcX2uRKa709vTeM/CHI2I8L3Lj+fUqcV87Yl3WLunI6yf39LcwzVLVuEQCYV3bpwqPdy1i6pZWFPEnc9tHtOic7va+nh8zT6uXVTN5OLsmNdjuwCH4C/ArRfP5tsfnsfzdS189U/r8cdp0RxjDHcs20jP4DA/vvIk0py2/CeLiWALXE9i2o3b48UhxHQbv2i50hz85roFTCjI5NMPrmZjw9iWadjY0M01S1aR7nTw6OLTmF42fuEN4HAIP/joCfR7/Xz3mdHXPf/p81txOR3cHKcln22dRp85cypfu2Q2y9Y1cseyjXHpE1/6z908t6GZr1w8m9mV8f+YlsiKc1y6qYMNuT1eSnIzEm7UVHGOi0f+/TTyM9O59rer+Of2tmMe//KWVq5ZsopsVxqP3XQa08Y5vEfMKM/j5vNn8Mz6Rp7b0HTU41bWt/HXd5pYfPa0uH36sXWAA/zHuTP4/LnT+cMbe7lr+baYPva/drRz53ObuWBOOYvfNy2mj21HJTnBLpTxPHmsomf1GPBjmViYxaOLT6MiP5PrH3iTu5ZvO6yv2DM4zPeeqeOzS1dTXZLNnz53OlNKrJ1M9vlzp3PSpAJuf2oDzUdYpXNw2M+3lm1kSkk2nz83fusZJcVEnq+9fzbtvV5++dJ2inNcfPrM6PupNzf1sPihNUwpyeHnV82PaJ3vZFOck4HXF6B/yE9ORlL86qQEd+/4r4MSjsnF2TzxH2fwjac28osX6/nDm3u5cG4FlfmZ7OnoY3ldC71eH9cuquabH5pHlsv62ZDpTgd3fWI+H/rlSm56aA1/XHwa2a7g34Qxhm8v28TOtj4eunFRXBcQG/WvUEQygRVARuj4Pxtjvi0iU4FHgRJgLfApY4wln69FhP/3kRPo7B/mO8/UUZTj4vL5kW90sH5fF59+8E1yXGks/eyilJkuP5pDZ2NqgNuH2+NlVkVid//lZ6ZzzzUnc+2iah54fRfPvtOIZ9BHSY6LC+aU89mzpsZtQ+ZITSsLLv28+KE1XLNkFT++8iTK8jL4yT+28Niaffzn+TPivhDWWP4KvcD5xpheEUkHVorI34BbgbuMMY+KyL3AjcBv4ljrMQVnep3M9Q+8yVceX09htotzZoX/j/fsO43c9ud3KM518fCNp9piCczxMnISrL1vKC5n1FXsBQKGtgRvgR/q9OklnD69BGMM/oDB6ZCEmrr+XhfOq+De6xbw5cfW8f67Vxy4/fPnTh+Xhe5GDXAT7PAc2dsrPfRlgPOBa0O3LwW+g4UBDpCZ7uR3N9TyiftW8e+/X8PPrzqJS08c20YLHX1D/PBvm3l8zX5Ori7k3usWxHUDWDsaWdBKR6LYR/fAMMN+k7B94EcjIqQ5Eze4D3XxcZW8dtv5PLO+kb4hH+fNLh+3JabH9DlYRJwEu0lmAL8GdgBdxhhf6JD9wBH7LERkMbAYoLr62Lu1x0J+ZjqP/NupLP79Gm7+w9us3dPJVy+efdSP/N39w/zhzb3ct2IHvYM+bjpnGl+5aDauNNuf3425kS4UnY1pH4k2BjxZFee4uOGMmnF/3jEFuDHGD8wXkULgKWDOWJ/AGLMEWAJQW1s7LsMXinNcPPxvp/KD5zbz4Ou7eXpdI1ctnMzp00qoLMhkcNjPtpZeVmxz88LmFvqH/LxvZil3XDov4fsKrVSsKxLaTmuPBngyC+tMlDGmS0ReBk4HCkUkLdQKnwRENic2TjLTnXz38uO5bP5EfvPKDu57dQe/eWXHu44pznHx4RMncP0ZUzhugjVrJdtJbkZwTWUNcPtw9waHuGmAJ6exjEIpA4ZD4Z0FXAT8CHgZuJLgSJQbgGXxLDRSC6YU8bsbaunuH2ZTYzcd/UOkOx1ML8thamluwk1uSGQiQnGOTqe3k0RayErF3lha4FXA0lA/uAN43BjzrIjUAY+KyP8AbwP3x7HOqBVkp3PGDN0ZO1q6oJW9uD1eMtIc5Omwz6Q0llEo7wAnH+H2ncCieBSlEpcuaGUvbo+X8vyMhB6KpyKnQy1UWHRBK3tx9ybuNHoVPQ1wFRZd0Mpe3B77TOJR4dMAV2EpyXHRN+SPy+L0KvY0wJObBrgKS3Fob0w9kZn4hnwBOvuHKcvVGcXJSgNchUUn89hHe58OIUx2GuAqLCW5Bxe0UolNx4AnPw1wFZaDLXAdiZLoRgK8NDdxtlJTsaUBrsKiC1rZh7bAk58GuApLfmY6TodoH7gNHGyBa4AnKw1wFRaHQyjK1un0dtDW6yU/My2uW3opa2mAq7CV6IJWtuDu9VKq3SdJTQNchU0XtLKHRN6NXsWGBrgKW3Gui04N8ITX1jukJzCTnAa4Cpt2odiDTqNPfhrgKmzFOa7QZrkBq0tRRzEw5KfX69MRKElOA1yFbWQseGe/tsITVZtuZpwSNMBV2HRBq8TXqpN4UoIGuArbgen0OhszYR2YhaldKElNA1yFTRe0SnzahZIaNMBV2HRJ2cTn9ngROfheqeSkAa7CVpTtQkRb4InM3eulONtFulP/xJOZvrsqbE6HUJiVrkvKJjC3x6tDCFOABriKiE6nT2xtvTqJJxVogKuIlORk6JrgCUxnYaYGDXAVEW2BJy5jTKgLRU9gJjsNcBWR4lwN8ETV6/Xh9QW0BZ4CNMBVREpyXHT2DxEIGKtLUe+hW6mlDg1wFZHiHBcBA10Dw1aXot7j4CzMTIsrUfE2aoCLyGQReVlE6kRkk4h8MXR7sYgsF5H60Pei+JerEoXuTp+42kInl0vztA882Y2lBe4DvmKMmQecBnxBROYBXwdeNMbMBF4MXVcpoiS0oJWOREk8bs8goOugpIJRA9wY02SMeSt02QNsBiYClwNLQ4ctBa6IV5Eq8eh0+sTl7vXiDG0+rZJbWH3gIlIDnAy8AVQYY5pCdzUDFTGtTCU0XdAqcbV5hijJceFwiNWlqDgbc4CLSC7wBPAlY0zPofcZYwxwxOEIIrJYRNaIyBq32x1VsSpxjLTutAWeeNw6CzNljCnARSSdYHg/Yox5MnRzi4hUhe6vAlqP9LPGmCXGmFpjTG1ZWVksalYJwJXmID8zjfZePYmZaHQWZuoYyygUAe4HNhtjfn7IXU8DN4Qu3wAsi315KpGV5mUcGPGgEkdbr1dPYKaItDEccybwKWCDiKwL3XY78EPgcRG5EdgDXBWfElWiKsvNwK0t8IQSCBjaer2Uags8JYwa4MaYlcDRzoZcENtylJ2U5WVQ19gz+oFq3HQPDDPsN9oCTxE6E1NFrCwv48CsP5UYRj4RaQs8NWiAq4iV5WXg8foYGPJbXYoKaekJTuKpzNdp9KlAA1xFbORjepv2gyeM5u5ggFfkaws8FWiAq4iNDFVr1W6UhDHyXlRoCzwlaICriI3suaj94ImjpWeQgqx0MtOdVpeixoEGuIpYeagFrkMJE0dz96B2n6QQDXAVseIcFyLaAk8kLR6vdp+kEA1wFbE0p4OSHJcGeAJp6R7UAE8hGuAqKqW5OhY8UfgDBnevV7tQUogGuIpKWV6GDiNMEO19XvwBo2PAU4gGuIqKzsZMHC3dwfehXAM8ZWiAq6iU5QUXtAouCa+spLMwU48GuIpKWW4GQ74APYM+q0tJeS2ekVmYGuCpQgNcRWVkNqZ2o1ivpXsQh0Bpru6FmSo0wFVUynQ2ZsJo6fFSmptBmlP/rFOFvtMqKmU6GzNhtHh0DHiq0QBXUdEulMSh0+hTjwa4ikpBVjoup4PW0AgIZZ1WnUafcjTAVVREhMqCTJo1wC3l9fnp6BvSAE8xGuAqapUFmTR1a4BbqbVnZB1w7UJJJRrgKmpVBZkHdoJR1tjfOQDAxMJsiytR40kDXEWtMhTgOhvTOo1doQAvyrK4EjWeNMBV1KryMxnyB+joG7K6lJTVEArwqgLtA08lGuAqapUFwVaf9oNbp7FrgNLcDN1KLcVogKuojbT6tB/cOg1dA0ws1KVWlNkAAArXSURBVNZ3qtEAV1EbCfAmHUpomYauAe3/TkEa4CpqJbkZpDmE5u4Bq0tJScYYGrsGmFCgAZ5qNMBV1JwOoSJfx4JbpaNviMHhABMKNcBTjQa4iolKHQtumcau4L+7dqGknlEDXEQeEJFWEdl4yG3FIrJcROpD34viW6ZKdBrg1hkZQjhRW+ApZywt8P8DLnnPbV8HXjTGzAReDF1XKawqP5PG7gGdzGMBDfDUNWqAG2NWAB3vuflyYGno8lLgihjXpWxmUlEWg8MB2np1Ms94a+gcICvdSWF2utWlqHEWaR94hTGmKXS5Gag42oEislhE1ojIGrfbHeHTqURXXRJcg2NfZ7/FlaSePe19TCnJRkSsLkWNs6hPYprgZ+ajfm42xiwxxtQaY2rLysqifTqVoCYXhQK8QwN8vO3p6KemJMfqMpQFIg3wFhGpAgh9b41dScqOJmmAW8IfMOxt72dKqa5CmIoiDfCngRtCl28AlsWmHGVXWS4nZXkZ7NUAH1fNPYMM+QNMKdYWeCoayzDCPwL/AmaLyH4RuRH4IXCRiNQDF4auqxRXXZzNvg6djTme9rT1AVBToi3wVJQ22gHGmGuOctcFMa5F2dzkoixW7+60uoyUsrs9+IlnSqm2wFORzsRUMVNdnE1T9wDD/oDVpaSMPe19uNIcVOlemClJA1zFzKTibALm4O4wKv52t/dRXZyNw6FDCFORBriKmeriYD+snsgcP3va+7X/O4VpgKuY0QAfX8YY9rT3U60jUFKWBriKmcr8TDLTHex091ldSkpo6BpgYNjP9HIN8FSlAa5ixuEQppXmssPda3UpKaG+JfjvPKsiz+JKlFU0wFVMzSjPZXurBvh4qG/1ADCzPNfiSpRVNMBVTE0vyw1+tB/yW11K0tvW0ktZXgaF2S6rS1EW0QBXMTWjPBdjYFeb9oPHW32Lh1kV2vpOZRrgKqZGTqiNfLxX8REIGOpbe5lZrv3fqUwDXMXUtNJc0p3C1mYN8Hja1d5H/5CfeRPyrS5FWUgDXMWUK83BjPI86pp6rC4lqW1s6Abg+AkFFleirKQBrmJuXlU+dY0a4PG0qbEHl9PBTO0DT2ka4Crm5k3Ip9Xjxe3xWl1K0trY0M2cqjzSnfonnMr03VcxN68q2C+r3SjxEQgYNjZ0c5x2n6Q8DXAVc8dNzEcE1u3tsrqUpFTf2kvPoI8FU4qsLkVZTANcxVx+ZjqzK/JYs6fD6lKS0pu7g/+uC2s0wFOdBriKi1OmFLFubxf+gLG6lKSzZncH5XkZB1Z/VKlLA1zFRe2UIjxeH9tadDx4LBljeHNXB7U1RYjoJg6pTgNcxcXCmmIA/rmj3eJKkkt9ay9N3YOcNaPM6lJUAtAAV3ExuTib6WU5vLK11epSkspLW4L/nufN0QBXGuAqjs6dXc4buzroH/JZXUrSeGlLK3Or8qkqyLK6FJUANMBV3Jw3u5whX4AV29qsLiUpNHcPsnp3BxfNq7C6FJUgNMBV3Jw6rZjS3Ayeenu/1aUkhafebsAY+OjJE60uRSUIDXAVN+lOB1fMn8BLW1rp6Buyuhxb8wcMf1qzjwVTiqgp1T0wVZAGuIqrqxZOZthv+P2/dltdiq39fWMzO9v6+PQZNVaXohKIBriKq1kVeVw8r4IHVu6iu3/Y6nJsyevzc9cL25hWlsMHT6iyuhyVQDTAVdx96cJZ9A35+c4zm6wuxZbufqGe7a29fPNDc3E6dPKOOiiqABeRS0Rkq4hsF5Gvx6oolVzmTcjn5vNm8NTbDfzihXqM0en1Y2GM4Xev7eQ3r+zgE7WTOX+Ojj5R75YW6Q+KiBP4NXARsB9YLSJPG2PqYlWcSh63XDCTfZ393PXCNl6rd3PFyRMPrOXR5/XR6/UxOOxnYNhPwEBORho5Lie5GWkUZrsozE6nICv4lZnutPjVHM4YQ8AETzYGjMEfMPiNIRAIXvYFzIHX6RkMfvV5fYgEdzFyOR2kpzlIC7Wwd7r7eGZ9I2v2dHLxvAr+5yPHW/wKVSKKOMCBRcB2Y8xOABF5FLgc0ABXh3E6hJ9eeRILa4r51Uvb+eZfNkb8WJnpDnIz0jlSb8LI8iCCvOf6yP1y+LHy7uNHjggGMO8O41A4Bw7cBr5AgHis2TW5OIvvX3E8n1xUjUO7TtQRRBPgE4F9h1zfD5z63oNEZDGwGKC6ujqKp1N253AI1yyq5uqFk9nXMUCLZxBhpLWdRpbLSZbLiQB9Qz76vX56BofpHgh+dfUfvOwZPPyE6EjPzIHvmPdcP3j/yH2YQ2837zrG6RAcIjgdh14++P3d9ztwhi47HBK6/O5j8zLTyM0IfYUuA3h9AbzDAXyBAL7Qfw5TSnKoyM/QBavUMUUT4GNijFkCLAGora3Vzk+FiFBdkk11ydGXQ83JSIO8cSxKKRuK5iRmAzD5kOuTQrcppZQaB9EE+GpgpohMFREXcDXwdGzKUkopNZqIu1CMMT4RuRn4B+AEHjDG6EBfpZQaJ1H1gRtjngOei1EtSimlwqAzMZVSyqY0wJVSyqY0wJVSyqY0wJVSyqZkPBcWEhE3sCcOD10K2HnfLrvXD/Z/DXavH+z/GuxeP8TvNUwxxhy2k/W4Bni8iMgaY0yt1XVEyu71g/1fg93rB/u/BrvXD+P/GrQLRSmlbEoDXCmlbCpZAnyJ1QVEye71g/1fg93rB/u/BrvXD+P8GpKiD1wppVJRsrTAlVIq5WiAK6WUTSVNgIvI90XkHRFZJyLPi8gEq2sKh4j8RES2hF7DUyJSaHVN4RKRj4vIJhEJiIhthoPZfXNuEXlARFpFJPJ96iwkIpNF5GURqQv9/nzR6prCISKZIvKmiKwP1f/dcXvuZOkDF5F8Y0xP6PItwDxjzOcsLmvMRORi4KXQMr0/AjDG3GZxWWERkblAALgP+KoxZo3FJY0qtDn3Ng7ZnBu4xk6bc4vI2UAv8HtjjO12PxaRKqDKGPOWiOQBa4Er7PIeSHDfuxxjTK+IpAMrgS8aY1bF+7mTpgU+Et4hORzc6tAWjDHPG2N8oaurCO5wZCvGmM3GmK1W1xGmA5tzG2OGgJHNuW3DGLMC6LC6jkgZY5qMMW+FLnuAzQT33LUFE9Qbupoe+hqX/EmaAAcQkTtFZB/wSeBbVtcThc8Cf7O6iBRxpM25bRMeyUZEaoCTgTesrSQ8IuIUkXVAK7DcGDMu9dsqwEXkBRHZeISvywGMMd8wxkwGHgFutrbaw41Wf+iYbwA+gq8h4YzlNSgVCRHJBZ4AvvSeT9QJzxjjN8bMJ/jJeZGIjEtXVtx3pY8lY8yFYzz0EYI7BX07juWEbbT6ReTTwKXABSZBT06E8R7YhW7OnQBCfcdPAI8YY560up5IGWO6RORl4BIg7ieVbdUCPxYRmXnI1cuBLVbVEgkRuQT4GnCZMabf6npSiG7ObbHQScD7gc3GmJ9bXU+4RKRsZNSYiGQRPCE+LvmTTKNQngBmExwFsQf4nDHGNi0pEdkOZADtoZtW2WkUDYCIfAS4BygDuoB1xpj3W1vV6ETkg8DdHNyc+06LSwqLiPwROJfgUqYtwLeNMfdbWlQYROQs4DVgA8G/X4DbQ3vuJjwRORFYSvD3xwE8boz53rg8d7IEuFJKpZqk6UJRSqlUowGulFI2pQGulFI2pQGulFI2pQGulFI2pQGulFI2pQGulFI29f8BiufazZzEEAcAAAAASUVORK5CYII=\n"
                },
                "metadata": {
                  "needs_background": "light"
                }
              }
            ]
          }
        },
        "ac3019ce755c4cb683c5c7078367ccb9": {
          "model_module": "@jupyter-widgets/base",
          "model_name": "LayoutModel",
          "model_module_version": "1.2.0",
          "state": {
            "_model_module": "@jupyter-widgets/base",
            "_model_module_version": "1.2.0",
            "_model_name": "LayoutModel",
            "_view_count": null,
            "_view_module": "@jupyter-widgets/base",
            "_view_module_version": "1.2.0",
            "_view_name": "LayoutView",
            "align_content": null,
            "align_items": null,
            "align_self": null,
            "border": null,
            "bottom": null,
            "display": null,
            "flex": null,
            "flex_flow": null,
            "grid_area": null,
            "grid_auto_columns": null,
            "grid_auto_flow": null,
            "grid_auto_rows": null,
            "grid_column": null,
            "grid_gap": null,
            "grid_row": null,
            "grid_template_areas": null,
            "grid_template_columns": null,
            "grid_template_rows": null,
            "height": null,
            "justify_content": null,
            "justify_items": null,
            "left": null,
            "margin": null,
            "max_height": null,
            "max_width": null,
            "min_height": null,
            "min_width": null,
            "object_fit": null,
            "object_position": null,
            "order": null,
            "overflow": null,
            "overflow_x": null,
            "overflow_y": null,
            "padding": null,
            "right": null,
            "top": null,
            "visibility": null,
            "width": null
          }
        },
        "332b53aa3a484d9caf53cd4faf733798": {
          "model_module": "@jupyter-widgets/base",
          "model_name": "LayoutModel",
          "model_module_version": "1.2.0",
          "state": {
            "_model_module": "@jupyter-widgets/base",
            "_model_module_version": "1.2.0",
            "_model_name": "LayoutModel",
            "_view_count": null,
            "_view_module": "@jupyter-widgets/base",
            "_view_module_version": "1.2.0",
            "_view_name": "LayoutView",
            "align_content": null,
            "align_items": null,
            "align_self": null,
            "border": null,
            "bottom": null,
            "display": null,
            "flex": null,
            "flex_flow": null,
            "grid_area": null,
            "grid_auto_columns": null,
            "grid_auto_flow": null,
            "grid_auto_rows": null,
            "grid_column": null,
            "grid_gap": null,
            "grid_row": null,
            "grid_template_areas": null,
            "grid_template_columns": null,
            "grid_template_rows": null,
            "height": null,
            "justify_content": null,
            "justify_items": null,
            "left": null,
            "margin": null,
            "max_height": null,
            "max_width": null,
            "min_height": null,
            "min_width": null,
            "object_fit": null,
            "object_position": null,
            "order": null,
            "overflow": null,
            "overflow_x": null,
            "overflow_y": null,
            "padding": null,
            "right": null,
            "top": null,
            "visibility": null,
            "width": null
          }
        },
        "9e8d99ae4ebb402294dc5071dad6a2cd": {
          "model_module": "@jupyter-widgets/controls",
          "model_name": "SliderStyleModel",
          "model_module_version": "1.5.0",
          "state": {
            "_model_module": "@jupyter-widgets/controls",
            "_model_module_version": "1.5.0",
            "_model_name": "SliderStyleModel",
            "_view_count": null,
            "_view_module": "@jupyter-widgets/base",
            "_view_module_version": "1.2.0",
            "_view_name": "StyleView",
            "description_width": "",
            "handle_color": null
          }
        },
        "d4b6b816ee9449d4993a2675edcb2f0d": {
          "model_module": "@jupyter-widgets/base",
          "model_name": "LayoutModel",
          "model_module_version": "1.2.0",
          "state": {
            "_model_module": "@jupyter-widgets/base",
            "_model_module_version": "1.2.0",
            "_model_name": "LayoutModel",
            "_view_count": null,
            "_view_module": "@jupyter-widgets/base",
            "_view_module_version": "1.2.0",
            "_view_name": "LayoutView",
            "align_content": null,
            "align_items": null,
            "align_self": null,
            "border": null,
            "bottom": null,
            "display": null,
            "flex": null,
            "flex_flow": null,
            "grid_area": null,
            "grid_auto_columns": null,
            "grid_auto_flow": null,
            "grid_auto_rows": null,
            "grid_column": null,
            "grid_gap": null,
            "grid_row": null,
            "grid_template_areas": null,
            "grid_template_columns": null,
            "grid_template_rows": null,
            "height": null,
            "justify_content": null,
            "justify_items": null,
            "left": null,
            "margin": null,
            "max_height": null,
            "max_width": null,
            "min_height": null,
            "min_width": null,
            "object_fit": null,
            "object_position": null,
            "order": null,
            "overflow": null,
            "overflow_x": null,
            "overflow_y": null,
            "padding": null,
            "right": null,
            "top": null,
            "visibility": null,
            "width": null
          }
        },
        "87acedca9309426f935ab4de2714fe16": {
          "model_module": "@jupyter-widgets/controls",
          "model_name": "SliderStyleModel",
          "model_module_version": "1.5.0",
          "state": {
            "_model_module": "@jupyter-widgets/controls",
            "_model_module_version": "1.5.0",
            "_model_name": "SliderStyleModel",
            "_view_count": null,
            "_view_module": "@jupyter-widgets/base",
            "_view_module_version": "1.2.0",
            "_view_name": "StyleView",
            "description_width": "",
            "handle_color": null
          }
        },
        "b561fce481714f259288d53bb848f73c": {
          "model_module": "@jupyter-widgets/base",
          "model_name": "LayoutModel",
          "model_module_version": "1.2.0",
          "state": {
            "_model_module": "@jupyter-widgets/base",
            "_model_module_version": "1.2.0",
            "_model_name": "LayoutModel",
            "_view_count": null,
            "_view_module": "@jupyter-widgets/base",
            "_view_module_version": "1.2.0",
            "_view_name": "LayoutView",
            "align_content": null,
            "align_items": null,
            "align_self": null,
            "border": null,
            "bottom": null,
            "display": null,
            "flex": null,
            "flex_flow": null,
            "grid_area": null,
            "grid_auto_columns": null,
            "grid_auto_flow": null,
            "grid_auto_rows": null,
            "grid_column": null,
            "grid_gap": null,
            "grid_row": null,
            "grid_template_areas": null,
            "grid_template_columns": null,
            "grid_template_rows": null,
            "height": null,
            "justify_content": null,
            "justify_items": null,
            "left": null,
            "margin": null,
            "max_height": null,
            "max_width": null,
            "min_height": null,
            "min_width": null,
            "object_fit": null,
            "object_position": null,
            "order": null,
            "overflow": null,
            "overflow_x": null,
            "overflow_y": null,
            "padding": null,
            "right": null,
            "top": null,
            "visibility": null,
            "width": null
          }
        },
        "d965cc08fd6541de9ca1794ea261dfab": {
          "model_module": "@jupyter-widgets/controls",
          "model_name": "VBoxModel",
          "model_module_version": "1.5.0",
          "state": {
            "_dom_classes": [
              "widget-interact"
            ],
            "_model_module": "@jupyter-widgets/controls",
            "_model_module_version": "1.5.0",
            "_model_name": "VBoxModel",
            "_view_count": null,
            "_view_module": "@jupyter-widgets/controls",
            "_view_module_version": "1.5.0",
            "_view_name": "VBoxView",
            "box_style": "",
            "children": [
              "IPY_MODEL_56edca5642e54fabae9f146f2fec9ed1",
              "IPY_MODEL_d2232ddd46b14024bde47b87c561f18c",
              "IPY_MODEL_bc4c22ec5b6045fba51aef772de8a322"
            ],
            "layout": "IPY_MODEL_a45e79a500674d5597041ea7412e7f17"
          }
        },
        "56edca5642e54fabae9f146f2fec9ed1": {
          "model_module": "@jupyter-widgets/controls",
          "model_name": "FloatSliderModel",
          "model_module_version": "1.5.0",
          "state": {
            "_dom_classes": [],
            "_model_module": "@jupyter-widgets/controls",
            "_model_module_version": "1.5.0",
            "_model_name": "FloatSliderModel",
            "_view_count": null,
            "_view_module": "@jupyter-widgets/controls",
            "_view_module_version": "1.5.0",
            "_view_name": "FloatSliderView",
            "continuous_update": true,
            "description": "v",
            "description_tooltip": null,
            "disabled": false,
            "layout": "IPY_MODEL_55716ff165234eb7b1119e54fcf96b62",
            "max": 0.5,
            "min": 0,
            "orientation": "horizontal",
            "readout": true,
            "readout_format": ".2f",
            "step": 0.01,
            "style": "IPY_MODEL_bc624dd42fb94125949744eea5af431c",
            "value": 0.25
          }
        },
        "d2232ddd46b14024bde47b87c561f18c": {
          "model_module": "@jupyter-widgets/controls",
          "model_name": "FloatSliderModel",
          "model_module_version": "1.5.0",
          "state": {
            "_dom_classes": [],
            "_model_module": "@jupyter-widgets/controls",
            "_model_module_version": "1.5.0",
            "_model_name": "FloatSliderModel",
            "_view_count": null,
            "_view_module": "@jupyter-widgets/controls",
            "_view_module_version": "1.5.0",
            "_view_name": "FloatSliderView",
            "continuous_update": true,
            "description": "w",
            "description_tooltip": null,
            "disabled": false,
            "layout": "IPY_MODEL_1ca6904115c84db3ace3bc1cf6b82b81",
            "max": 0.5,
            "min": 0,
            "orientation": "horizontal",
            "readout": true,
            "readout_format": ".2f",
            "step": 0.01,
            "style": "IPY_MODEL_6fc7c0b641c0481380ae1dce596e0d25",
            "value": 0.25
          }
        },
        "bc4c22ec5b6045fba51aef772de8a322": {
          "model_module": "@jupyter-widgets/output",
          "model_name": "OutputModel",
          "model_module_version": "1.0.0",
          "state": {
            "_dom_classes": [],
            "_model_module": "@jupyter-widgets/output",
            "_model_module_version": "1.0.0",
            "_model_name": "OutputModel",
            "_view_count": null,
            "_view_module": "@jupyter-widgets/output",
            "_view_module_version": "1.0.0",
            "_view_name": "OutputView",
            "layout": "IPY_MODEL_74ec413571354ac684430f160103e82e",
            "msg_id": "",
            "outputs": [
              {
                "output_type": "stream",
                "name": "stdout",
                "text": [
                  "<kwant.kpm.SpectralDensity object at 0x7f4a4ce0f710>\n"
                ]
              },
              {
                "output_type": "display_data",
                "data": {
                  "text/plain": "<Figure size 432x288 with 1 Axes>",
                  "image/png": "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\n"
                },
                "metadata": {
                  "needs_background": "light"
                }
              }
            ]
          }
        },
        "a45e79a500674d5597041ea7412e7f17": {
          "model_module": "@jupyter-widgets/base",
          "model_name": "LayoutModel",
          "model_module_version": "1.2.0",
          "state": {
            "_model_module": "@jupyter-widgets/base",
            "_model_module_version": "1.2.0",
            "_model_name": "LayoutModel",
            "_view_count": null,
            "_view_module": "@jupyter-widgets/base",
            "_view_module_version": "1.2.0",
            "_view_name": "LayoutView",
            "align_content": null,
            "align_items": null,
            "align_self": null,
            "border": null,
            "bottom": null,
            "display": null,
            "flex": null,
            "flex_flow": null,
            "grid_area": null,
            "grid_auto_columns": null,
            "grid_auto_flow": null,
            "grid_auto_rows": null,
            "grid_column": null,
            "grid_gap": null,
            "grid_row": null,
            "grid_template_areas": null,
            "grid_template_columns": null,
            "grid_template_rows": null,
            "height": null,
            "justify_content": null,
            "justify_items": null,
            "left": null,
            "margin": null,
            "max_height": null,
            "max_width": null,
            "min_height": null,
            "min_width": null,
            "object_fit": null,
            "object_position": null,
            "order": null,
            "overflow": null,
            "overflow_x": null,
            "overflow_y": null,
            "padding": null,
            "right": null,
            "top": null,
            "visibility": null,
            "width": null
          }
        },
        "55716ff165234eb7b1119e54fcf96b62": {
          "model_module": "@jupyter-widgets/base",
          "model_name": "LayoutModel",
          "model_module_version": "1.2.0",
          "state": {
            "_model_module": "@jupyter-widgets/base",
            "_model_module_version": "1.2.0",
            "_model_name": "LayoutModel",
            "_view_count": null,
            "_view_module": "@jupyter-widgets/base",
            "_view_module_version": "1.2.0",
            "_view_name": "LayoutView",
            "align_content": null,
            "align_items": null,
            "align_self": null,
            "border": null,
            "bottom": null,
            "display": null,
            "flex": null,
            "flex_flow": null,
            "grid_area": null,
            "grid_auto_columns": null,
            "grid_auto_flow": null,
            "grid_auto_rows": null,
            "grid_column": null,
            "grid_gap": null,
            "grid_row": null,
            "grid_template_areas": null,
            "grid_template_columns": null,
            "grid_template_rows": null,
            "height": null,
            "justify_content": null,
            "justify_items": null,
            "left": null,
            "margin": null,
            "max_height": null,
            "max_width": null,
            "min_height": null,
            "min_width": null,
            "object_fit": null,
            "object_position": null,
            "order": null,
            "overflow": null,
            "overflow_x": null,
            "overflow_y": null,
            "padding": null,
            "right": null,
            "top": null,
            "visibility": null,
            "width": null
          }
        },
        "bc624dd42fb94125949744eea5af431c": {
          "model_module": "@jupyter-widgets/controls",
          "model_name": "SliderStyleModel",
          "model_module_version": "1.5.0",
          "state": {
            "_model_module": "@jupyter-widgets/controls",
            "_model_module_version": "1.5.0",
            "_model_name": "SliderStyleModel",
            "_view_count": null,
            "_view_module": "@jupyter-widgets/base",
            "_view_module_version": "1.2.0",
            "_view_name": "StyleView",
            "description_width": "",
            "handle_color": null
          }
        },
        "1ca6904115c84db3ace3bc1cf6b82b81": {
          "model_module": "@jupyter-widgets/base",
          "model_name": "LayoutModel",
          "model_module_version": "1.2.0",
          "state": {
            "_model_module": "@jupyter-widgets/base",
            "_model_module_version": "1.2.0",
            "_model_name": "LayoutModel",
            "_view_count": null,
            "_view_module": "@jupyter-widgets/base",
            "_view_module_version": "1.2.0",
            "_view_name": "LayoutView",
            "align_content": null,
            "align_items": null,
            "align_self": null,
            "border": null,
            "bottom": null,
            "display": null,
            "flex": null,
            "flex_flow": null,
            "grid_area": null,
            "grid_auto_columns": null,
            "grid_auto_flow": null,
            "grid_auto_rows": null,
            "grid_column": null,
            "grid_gap": null,
            "grid_row": null,
            "grid_template_areas": null,
            "grid_template_columns": null,
            "grid_template_rows": null,
            "height": null,
            "justify_content": null,
            "justify_items": null,
            "left": null,
            "margin": null,
            "max_height": null,
            "max_width": null,
            "min_height": null,
            "min_width": null,
            "object_fit": null,
            "object_position": null,
            "order": null,
            "overflow": null,
            "overflow_x": null,
            "overflow_y": null,
            "padding": null,
            "right": null,
            "top": null,
            "visibility": null,
            "width": null
          }
        },
        "6fc7c0b641c0481380ae1dce596e0d25": {
          "model_module": "@jupyter-widgets/controls",
          "model_name": "SliderStyleModel",
          "model_module_version": "1.5.0",
          "state": {
            "_model_module": "@jupyter-widgets/controls",
            "_model_module_version": "1.5.0",
            "_model_name": "SliderStyleModel",
            "_view_count": null,
            "_view_module": "@jupyter-widgets/base",
            "_view_module_version": "1.2.0",
            "_view_name": "StyleView",
            "description_width": "",
            "handle_color": null
          }
        },
        "74ec413571354ac684430f160103e82e": {
          "model_module": "@jupyter-widgets/base",
          "model_name": "LayoutModel",
          "model_module_version": "1.2.0",
          "state": {
            "_model_module": "@jupyter-widgets/base",
            "_model_module_version": "1.2.0",
            "_model_name": "LayoutModel",
            "_view_count": null,
            "_view_module": "@jupyter-widgets/base",
            "_view_module_version": "1.2.0",
            "_view_name": "LayoutView",
            "align_content": null,
            "align_items": null,
            "align_self": null,
            "border": null,
            "bottom": null,
            "display": null,
            "flex": null,
            "flex_flow": null,
            "grid_area": null,
            "grid_auto_columns": null,
            "grid_auto_flow": null,
            "grid_auto_rows": null,
            "grid_column": null,
            "grid_gap": null,
            "grid_row": null,
            "grid_template_areas": null,
            "grid_template_columns": null,
            "grid_template_rows": null,
            "height": null,
            "justify_content": null,
            "justify_items": null,
            "left": null,
            "margin": null,
            "max_height": null,
            "max_width": null,
            "min_height": null,
            "min_width": null,
            "object_fit": null,
            "object_position": null,
            "order": null,
            "overflow": null,
            "overflow_x": null,
            "overflow_y": null,
            "padding": null,
            "right": null,
            "top": null,
            "visibility": null,
            "width": null
          }
        }
      }
    }
  },
  "nbformat": 4,
  "nbformat_minor": 5
}