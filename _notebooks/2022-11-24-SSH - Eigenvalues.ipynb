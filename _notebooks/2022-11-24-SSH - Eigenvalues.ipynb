{
  "cells": [
    {
      "cell_type": "markdown",
      "id": "03FKNfrnCkzv",
      "metadata": {
        "id": "03FKNfrnCkzv"
      },
      "source": [
        "# SSH Eigenmodes"
      ]
    },
    {
      "cell_type": "markdown",
      "source": [
        "In this example we consider SSH model which Hamiltonian can be express in the following way,\n",
        "\n",
        "$$H=-\\sum_{ i} v (A_{i}^{\\dagger}B_{i}+h.c.)-\\sum_{j}w(A^{\\dagger}_{i}A_{i+1}+B^{\\dagger}_{i}B_{i+1}+h.c. ),$$\n",
        "here $v$ ($w$) is the overlap integral between the atoms in unit cell (betwens cells).  "
      ],
      "metadata": {
        "id": "lAqyG01qTv8X"
      },
      "id": "lAqyG01qTv8X"
    },
    {
      "cell_type": "code",
      "execution_count": 112,
      "id": "RVbkDWo-t5Ns",
      "metadata": {
        "id": "RVbkDWo-t5Ns",
        "colab": {
          "base_uri": "https://localhost:8080/"
        },
        "outputId": "de4f3150-78ed-47e2-e539-fed6565057a3"
      },
      "outputs": [
        {
          "output_type": "stream",
          "name": "stdout",
          "text": [
            "Looking in indexes: https://pypi.org/simple, https://us-python.pkg.dev/colab-wheels/public/simple/\n",
            "Requirement already satisfied: kwant in /usr/local/lib/python3.7/dist-packages (1.4.3)\n",
            "Requirement already satisfied: tinyarray>=1.2 in /usr/local/lib/python3.7/dist-packages (from kwant) (1.2.4)\n",
            "Requirement already satisfied: scipy>=0.17.0 in /usr/local/lib/python3.7/dist-packages (from kwant) (1.7.3)\n",
            "Requirement already satisfied: numpy>=1.11.0 in /usr/local/lib/python3.7/dist-packages (from kwant) (1.21.6)\n"
          ]
        }
      ],
      "source": [
        "!pip install kwant"
      ]
    },
    {
      "cell_type": "markdown",
      "source": [],
      "metadata": {
        "id": "f_mpZ8s5TeB3"
      },
      "id": "f_mpZ8s5TeB3"
    },
    {
      "cell_type": "code",
      "execution_count": 113,
      "id": "9ab06f68-a6ea-412e-a6e7-e4d07f3c54da",
      "metadata": {
        "id": "9ab06f68-a6ea-412e-a6e7-e4d07f3c54da"
      },
      "outputs": [],
      "source": [
        "import kwant\n",
        "import matplotlib.pyplot as plt\n",
        "import scipy.sparse.linalg as sla\n",
        "import scipy as scp\n",
        "import numpy as np\n",
        "import scipy\n",
        "from kwant.physics import dispersion\n",
        "from numpy.linalg import eig"
      ]
    },
    {
      "cell_type": "markdown",
      "source": [
        "First of all we have to define our system. "
      ],
      "metadata": {
        "id": "1uSHUtFLaypb"
      },
      "id": "1uSHUtFLaypb"
    },
    {
      "cell_type": "code",
      "source": [
        "L = 50\n",
        "# Building SSH model\n",
        "def ssh_model(v=1, w=1, L=L, return_only_ham=1):\n",
        "\n",
        "    syst = kwant.Builder()\n",
        "    a = 1\n",
        "    lat = kwant.lattice.chain(a)\n",
        "\n",
        "    # Define the scattering region\n",
        "    for n in range(L):\n",
        "        syst[lat(n)] = 0\n",
        "\n",
        "    # Left hopping\n",
        "    for n in range(L):\n",
        "        if n % 2:\n",
        "            syst[lat(n - 1), lat(n)] = v\n",
        "\n",
        "    # Right hopping\n",
        "    for n in range(1, L):\n",
        "        if not n % 2:\n",
        "            syst[lat(n - 1), lat(n)] = w\n",
        "\n",
        "    syst = syst.finalized()\n",
        "\n",
        "    if return_only_ham:\n",
        "        return syst.hamiltonian_submatrix(sparse=True)\n",
        "    else:\n",
        "        return syst.hamiltonian_submatrix(sparse=False) \n",
        "\n",
        "\n"
      ],
      "metadata": {
        "id": "2RGFdQ_FfzKj"
      },
      "id": "2RGFdQ_FfzKj",
      "execution_count": 114,
      "outputs": []
    },
    {
      "cell_type": "markdown",
      "source": [
        "\n",
        "In our case we put onsite equal to zero. In order to defne our system we establish diferent hoppings for odd and even sites. For even sites the Hamiltonian part discrebes intercells hoppings is\n",
        "$$-\\sum_{ i} v (A_{i}^{\\dagger}B_{i}+h.c.)$$\n",
        "while for odds we have got\n",
        "$$-\\sum_{j}w(A^{\\dagger}_{i}A_{i+1}+B^{\\dagger}_{i}B_{i+1}+h.c. )$$\n",
        "\n",
        "The SSH is the simplest one dimensional model in which one can observed edge states. We can observed this on the folowing plot,\n"
      ],
      "metadata": {
        "id": "ZpDMyAdsf52_"
      },
      "id": "ZpDMyAdsf52_"
    },
    {
      "cell_type": "code",
      "source": [
        "from   ipywidgets import *\n",
        "\n",
        "def SSH_energy(v,w):\n",
        "  w1,v1=eig(ssh_model(w=w, v=v, L=L, return_only_ham=0))\n",
        "  plt.plot(np.arange(0,L,1),sorted(np.real(w1)),'.')\n",
        "\n",
        "\n",
        "interact(SSH_energy,v=(0,1,0.1),w=(0,1,0.1));"
      ],
      "metadata": {
        "colab": {
          "base_uri": "https://localhost:8080/",
          "height": 329,
          "referenced_widgets": [
            "7466583ac7da4aeeb97d36dc7ca140ed",
            "988fabab0b814a6aa45852a28a0804fe",
            "db0235eb700341fb8db38423726681e0",
            "31ad93cea6f34beca072f6319a96bebd",
            "fe1c8674c7844f87885bbc8ff86c61d0",
            "f1eeee43626644589ed5672fa0899052",
            "016651bfcfd74d0d86435f5ce8fb5f8c",
            "e2c11c54351241bebfb06d27d651812e",
            "252baac637ac4dc4926711f5ed52cee3",
            "4632bcaf132e45c7812f25afa703b923"
          ]
        },
        "id": "5CXeOnZVo5Ec",
        "outputId": "704b5837-de40-4854-91ba-4a39f8edf225"
      },
      "id": "5CXeOnZVo5Ec",
      "execution_count": 115,
      "outputs": [
        {
          "output_type": "display_data",
          "data": {
            "text/plain": [
              "interactive(children=(FloatSlider(value=0.0, description='v', max=1.0), FloatSlider(value=0.0, description='w'…"
            ],
            "application/vnd.jupyter.widget-view+json": {
              "version_major": 2,
              "version_minor": 0,
              "model_id": "7466583ac7da4aeeb97d36dc7ca140ed"
            }
          },
          "metadata": {}
        }
      ]
    },
    {
      "cell_type": "markdown",
      "source": [
        "One can observed that for $w>v$ there are two zero energy states which coresponds to edge states. The existance of such a states is topological protected. \n",
        "\n",
        "Now we want to plot energy spectrum as a function os hopping parameter $v$ when w is held constant. We have to identify each energy corespond to a given site. To this end, we used the following procedure. For a given $v$ we find all eigenvalues and eigenstates for every sites. Then we moved to another value of $v$ and do this same. Now to identife which eigenvalues corespond to this same site we chack for every eigenvector from the previous iteration gives us the bigest overlap (the bigest value of scalar product) with one of the state. The prosedure countinous for every value $v$."
      ],
      "metadata": {
        "id": "ful9xz77sEFD"
      },
      "id": "ful9xz77sEFD"
    },
    {
      "cell_type": "code",
      "execution_count": 116,
      "id": "48db19ba-65a0-4f61-b465-5d91c29abf51",
      "metadata": {
        "colab": {
          "base_uri": "https://localhost:8080/",
          "height": 314,
          "referenced_widgets": [
            "a9136b22bd29409dbcaa32121570f8b9",
            "5f9962d6cc2c49ca9e215e1848f354d1",
            "7e1c8f4cf9e04a0ab51a47d82972379c",
            "88b6000e34214361b6d122796f87b6d0",
            "265cd82119174207a46bcaf37af5afb4",
            "35d8e63575b548408e8ba06fece989b4",
            "7cdabea337534f8582ad4e0eb4ba0e46"
          ]
        },
        "id": "48db19ba-65a0-4f61-b465-5d91c29abf51",
        "outputId": "86ec7ce0-afee-4840-a147-321a97440fea"
      },
      "outputs": [
        {
          "output_type": "display_data",
          "data": {
            "text/plain": [
              "interactive(children=(FloatSlider(value=0.30000000000000004, description='w', max=0.5, min=0.1), Output()), _d…"
            ],
            "application/vnd.jupyter.widget-view+json": {
              "version_major": 2,
              "version_minor": 0,
              "model_id": "a9136b22bd29409dbcaa32121570f8b9"
            }
          },
          "metadata": {}
        },
        {
          "output_type": "display_data",
          "data": {
            "text/plain": [
              "<Figure size 432x288 with 0 Axes>"
            ]
          },
          "metadata": {}
        }
      ],
      "source": [
        "def find_continuator(w: list, next_vectors: list) -> int:\n",
        "    max_product = np.dot(w, next_vectors[0])\n",
        "    max_index = 0\n",
        "\n",
        "    for i in range(len(next_vectors)):\n",
        "        product = np.abs(np.dot(w, next_vectors[i]))\n",
        "        if product > max_product:\n",
        "            max_product = product\n",
        "            max_index = i\n",
        "    return max_index\n",
        "\n",
        "\n",
        "def plot_probability(k_tab: list ,eig_number: int,w,  show_unsorted=False) -> None:\n",
        "    e_val_matrix = np.empty(shape=(len(k_tab), eig_number))\n",
        "    e_vec_matrix = np.empty(shape=(len(k_tab), eig_number, L), dtype=complex)\n",
        "\n",
        "    for i in range(len(k_tab)):\n",
        "        v = k_tab[i]\n",
        "        ham = ssh_model(v, w)\n",
        "        e_val, e_vec = scipy.sparse.linalg.eigsh(\n",
        "            ham, k=eig_number, sigma=0.01, which=\"LM\", return_eigenvectors=True\n",
        "        )\n",
        "\n",
        "        e_val_matrix[i] = e_val\n",
        "        for j in range(eig_number):\n",
        "            e_vec_matrix[i, j] = e_vec[:, j]\n",
        "            e_vec_matrix[i, j] = e_vec_matrix[i, j] / np.sqrt(\n",
        "                np.dot(e_vec_matrix[i, j], e_vec_matrix[i, j])\n",
        "            )\n",
        "\n",
        "    for j in range(eig_number):\n",
        "        pasek = [e_val_matrix[0, j]]\n",
        "        wektory = [e_vec_matrix[0, j]]\n",
        "\n",
        "        for i in range(0, len(k_tab) - 1):\n",
        "            index = find_continuator(wektory[i], e_vec_matrix[i + 1])\n",
        "            wektory.append(e_vec_matrix[i + 1, index])\n",
        "            pasek.append(e_val_matrix[i + 1, index])\n",
        "\n",
        "        plt.plot(k_tab, pasek, label=j)\n",
        "        if show_unsorted:\n",
        "            plt.scatter(k_tab, e_val_matrix[:, j], marker=\".\")\n",
        "\n",
        "def SSH_spectrum_manipulate(w):\n",
        "  plot_probability(k_tab=k,w=w, eig_number=energies_number)\n",
        "\n",
        "k = np.linspace(0, 0.75, 50)  # Range of k we want to plot\n",
        "energies_number = 47  # Number of energy bands to show\n",
        "\n",
        "interact(SSH_spectrum_manipulate,w=(0.1,0.5,0.1));\n",
        "plt.savefig(\"SSH_spectrum_sort.pdf\")\n",
        "plt.show()\n"
      ]
    },
    {
      "cell_type": "markdown",
      "source": [
        "We can easly diagonalize our Hamiltonian by teaking Fourier transform,\n",
        "$$A^{\\dagger}_{i}=\\frac{1}{\\sqrt{N}}\\sum_{k}e^{ik\\cdot x_{i}} A^{\\dagger}_{k} \\hspace{0.5cm} \\mathrm{etc..}$$\n",
        "In the end Hamiltonian in momentum space takes form\n",
        "$$H=\\sum_{k}(A^{\\dagger}_{k},B^{\\dagger}_{k})\\begin{pmatrix}\n",
        "0 & v+e^{ik}w \\\\\n",
        "v+e^{-ik}w & 0 \n",
        "\\end{pmatrix}\n",
        "\\begin{pmatrix}\n",
        "A_{k}  \\\\\n",
        "B_{k} \n",
        "\\end{pmatrix} $$\n",
        "\n",
        "Now it is easy to find dispersion relation which in this case is given by the following expresion,\n",
        "$$E(k)=\\pm \\sqrt{v^2+w^2+2vw\\cos{k}} .$$\n",
        "\n",
        "Now because we have used Fourier transform we tacitly impose boundary conditions. To procedure further we have to bild an infinit system. In order to do this, we need to add leads. "
      ],
      "metadata": {
        "id": "tfxDQ2143wpt"
      },
      "id": "tfxDQ2143wpt"
    },
    {
      "cell_type": "code",
      "source": [
        "def ssh_model_with_leads(t_1=1.0, t_2=0.5):\n",
        "    L=200\n",
        "    a=1\n",
        "    # Start with an empty tight-binding system and a single square lattice.\n",
        "    # `a` is the lattice constant (by default set to 1 for simplicity.\n",
        "    syst = kwant.Builder()\n",
        "    \n",
        "    lat = kwant.lattice.Polyatomic([[2*a, 0]], [[0, 0], [a, 0]])\n",
        "    lat.a, lat.b = lat.sublattices\n",
        "    \n",
        "    for n in range(L):\n",
        "        syst[lat.a(n)] = 0\n",
        "        syst[lat.b(n)] = 0\n",
        "    \n",
        "    # Left hopping\n",
        "    for n in range(L):\n",
        "        syst[lat.a(n), lat.b(n)] = t_1\n",
        "        \n",
        "    # Left hopping\n",
        "    for n in range(1,L):\n",
        "        syst[lat.b(n-1), lat.a(n)] = t_2\n",
        "        \n",
        "    leadless=syst\n",
        "    leadless=leadless.finalized()\n",
        "    leadless=leadless.hamiltonian_submatrix(sparse=True)\n",
        "\n",
        "\n",
        "    sym_left_lead = kwant.TranslationalSymmetry([-2*a, 0])\n",
        "    left_lead = kwant.Builder(sym_left_lead)\n",
        "    left_lead[lat.a(0)] = 0\n",
        "    left_lead[lat.b(0)] = 0\n",
        "    left_lead[lat.a(0), lat.b(0)] = t_1\n",
        "    left_lead[lat.b(0), lat.a(-1)] = t_2\n",
        "    syst.attach_lead(left_lead)\n",
        "    left_lead_fin = left_lead.finalized()\n",
        "\n",
        "    sym_right_lead = kwant.TranslationalSymmetry([2*a, 0])\n",
        "    right_lead = kwant.Builder(sym_right_lead)\n",
        "    right_lead[lat.a(0)] = 0\n",
        "    right_lead[lat.b(0)] = 0\n",
        "    right_lead[lat.a(0), lat.b(0)] = t_1\n",
        "    right_lead[lat.a(0), lat.a(1)] = t_2\n",
        "    syst.attach_lead(right_lead)\n",
        "    right_lead_fin = right_lead.finalized()\n",
        "           \n",
        "    syst = syst.finalized()\n",
        "    return syst, left_lead_fin, right_lead_fin,leadless\n",
        "\n",
        "syst, left_lead, right_lead, leadless= ssh_model_with_leads()"
      ],
      "metadata": {
        "id": "ELpfiwvV-LRy"
      },
      "id": "ELpfiwvV-LRy",
      "execution_count": 117,
      "outputs": []
    },
    {
      "cell_type": "code",
      "source": [
        "def plot_bandstructure(v,w):\n",
        "    \n",
        "    momenta=np.linspace(-np.pi, np.pi, 50)\n",
        "    syst, left_lead, right_lead, leadless=ssh_model_with_leads(t_1=v, t_2=w)\n",
        "    bands = kwant.physics.Bands(left_lead)\n",
        "    energies = [bands(k) for k in momenta]\n",
        "    \n",
        "    plt.figure()\n",
        "    plt.plot(momenta, energies)\n",
        "    plt.xlabel(\"momentum [(lattice constant)^-1]\")\n",
        "    plt.ylabel(\"energy [t]\")\n",
        "    plt.savefig('ssh_energy_bands.pdf')\n",
        "    plt.show()\n",
        "\n",
        "\n"
      ],
      "metadata": {
        "id": "--HKZqXS4756"
      },
      "id": "--HKZqXS4756",
      "execution_count": 118,
      "outputs": []
    },
    {
      "cell_type": "code",
      "source": [
        "def SSH_spectrum_manipulate_momentu_space(v,w):\n",
        "  plot_probability(k_tab=k,w=w, eig_number=energies_number)\n",
        "\n",
        "k = np.linspace(0, 0.75, 50)  # Range of k we want to plot\n",
        "energies_number = 47  # Number of energy bands to show\n",
        "\n",
        "interact(plot_bandstructure,v=(0.0,0.5,0.01),w=(0.0,0.5,0.01));\n",
        "plt.show()\n"
      ],
      "metadata": {
        "id": "hcd4HkyA5JAE",
        "outputId": "3aee0d6b-b968-439f-b226-f80ba895afe9",
        "colab": {
          "base_uri": "https://localhost:8080/",
          "height": 343,
          "referenced_widgets": [
            "bbffe969774247e1893f7f0f30128e91",
            "7e3b8a7566524610aa28433823ee30f8",
            "8ed53ae0cbb043e9a940c283773fe9cf",
            "2c9ad654ed684c929518520eaebe0af9",
            "752c1b6883554091acee09c47f930786",
            "cf872a48f2674235a56cfe4185a591bf",
            "aef0c150a5774b59a22faedfe95a7f05",
            "a340603aa7884e2a896d5997316d5fb2",
            "9fc76e35e3d8459c9c6f5458708a2c56",
            "10fc4c2185214be8bd95bfc4fbdaea80"
          ]
        }
      },
      "id": "hcd4HkyA5JAE",
      "execution_count": 119,
      "outputs": [
        {
          "output_type": "display_data",
          "data": {
            "text/plain": [
              "interactive(children=(FloatSlider(value=0.25, description='v', max=0.5, step=0.01), FloatSlider(value=0.25, de…"
            ],
            "application/vnd.jupyter.widget-view+json": {
              "version_major": 2,
              "version_minor": 0,
              "model_id": "bbffe969774247e1893f7f0f30128e91"
            }
          },
          "metadata": {}
        }
      ]
    },
    {
      "cell_type": "code",
      "source": [
        "def ssh_model(v = 1, w = 1, L = 100, return_only_ham = 1):\n",
        "    \n",
        "    syst = kwant.Builder()\n",
        "    a = 1\n",
        "    lat = kwant.lattice.chain(a)\n",
        "\n",
        "    # Define the scattering region\n",
        "    for n in range(L):\n",
        "        syst[lat(n)] = 0\n",
        "\n",
        "    # Left hopping\n",
        "    for n in range(L):\n",
        "        if n%2:\n",
        "            syst[lat(n-1), lat(n)] = v\n",
        "\n",
        "    # Right hopping\n",
        "    for n in range(1,L):      \n",
        "        if not n%2:\n",
        "            syst[lat(n-1), lat(n)] = w\n",
        "\n",
        "    sym_left_lead = kwant.TranslationalSymmetry([-a])\n",
        "    left_lead = kwant.Builder(sym_left_lead)\n",
        "    left_lead[lat(0)] = 0\n",
        "    left_lead[lat(1), lat(0)] = v\n",
        "    left_lead[lat(2), lat(1)] = w\n",
        "    syst.attach_lead(left_lead)\n",
        "    left_lead_fin = left_lead.finalized()\n",
        "\n",
        "    sym_right_lead = kwant.TranslationalSymmetry([a])\n",
        "    right_lead = kwant.Builder(sym_right_lead)\n",
        "    right_lead[lat(0)] = 0\n",
        "    right_lead[lat(1), lat(0)] = v\n",
        "    right_lead[lat(2), lat(1)] = w\n",
        "    syst.attach_lead(right_lead)\n",
        "    right_lead_fin = right_lead.finalized()\n",
        "\n",
        "    #kwant.plot(syst)\n",
        "    syst = syst.finalized()\n",
        "    \n",
        "    if(return_only_ham):\n",
        "        return syst.hamiltonian_submatrix(sparse=False)\n",
        "    else:\n",
        "        return syst, syst.hamiltonian_submatrix(sparse=True)\n",
        "    \n",
        "# Plots energy spectrum\n",
        "kwant.plotter.spectrum(ssh_model, x=('v', np.linspace(0,4,50)), file = 'energy_spectrum_ssh.png', dpi = 300)\n",
        "\n",
        "# Plots wavefunction of the system for given energy\n",
        "syst, ham = ssh_model(0.5, 1, return_only_ham = 0)"
      ],
      "metadata": {
        "id": "amM3UNCu-NEf"
      },
      "id": "amM3UNCu-NEf",
      "execution_count": 120,
      "outputs": []
    },
    {
      "cell_type": "code",
      "source": [
        "def plot_probability(v,w,energy):\n",
        "    syst, ham = ssh_model(v=v, w=w, return_only_ham = 0)\n",
        "    wf = kwant.solvers.default.wave_function(syst, energy)\n",
        "    L=100\n",
        "    p_1 = []\n",
        "    p_2 = []\n",
        "    for i in range(len(wf(0)[0])):\n",
        "        p_1.append(abs(wf(0)[0][i])**2)\n",
        "        p_2.append(abs(wf(1)[0][i])**2)\n",
        "    plt.plot(np.linspace(0,L,L), p_1, '-.')\n",
        "    plt.plot(np.linspace(0,L,L), p_2,  '-.')\n",
        "\n"
      ],
      "metadata": {
        "id": "bdT0z1gd9mSA"
      },
      "id": "bdT0z1gd9mSA",
      "execution_count": 130,
      "outputs": []
    },
    {
      "cell_type": "code",
      "source": [
        "\n",
        "interact(plot_probability,v=(0,0.9,0.01),w=(0,0.9,0.01),energy=(0,1,0.1))"
      ],
      "metadata": {
        "id": "8CLBrXtw7nLi",
        "outputId": "3dec2b53-b0e3-43a1-cb0b-d3bd1eeb53f0",
        "colab": {
          "base_uri": "https://localhost:8080/",
          "height": 378,
          "referenced_widgets": [
            "2152ac90e17b40bdb8d093bc8496a99a",
            "6253282160614c788072265310bc3315",
            "aa1ba24ce118447abf1a8437482b3c3a",
            "f69809fcc341423b9b8a97e5aa475afe",
            "b18570b111b24c36b8b3e3c5bf42e8bb",
            "0c60faa8e6c1460c8f3de40b4dd2ef6f",
            "9b8c129f477d45e99cf2ae89a1af2e0b",
            "5e30a24aae064dc2af21c6fb4be4fb50",
            "3aa14fdb3f3246a29892b10ec77ac971",
            "9cd613b498cd4ec0a34fd3a51ec1b236",
            "fc6dcd0309a94f2b8434c8933e1ce3ea",
            "c73abbb829114fda9d011706cccbfdea",
            "c28895ea595f4e79863923c045ff7955"
          ]
        }
      },
      "id": "8CLBrXtw7nLi",
      "execution_count": 131,
      "outputs": [
        {
          "output_type": "display_data",
          "data": {
            "text/plain": [
              "interactive(children=(FloatSlider(value=0.45, description='v', max=0.9, step=0.01), FloatSlider(value=0.45, de…"
            ],
            "application/vnd.jupyter.widget-view+json": {
              "version_major": 2,
              "version_minor": 0,
              "model_id": "2152ac90e17b40bdb8d093bc8496a99a"
            }
          },
          "metadata": {}
        },
        {
          "output_type": "execute_result",
          "data": {
            "text/plain": [
              "<function __main__.plot_probability(v, w, energy)>"
            ]
          },
          "metadata": {},
          "execution_count": 131
        }
      ]
    },
    {
      "cell_type": "markdown",
      "source": [],
      "metadata": {
        "id": "-Xq8swl5bhSZ"
      },
      "id": "-Xq8swl5bhSZ"
    },
    {
      "cell_type": "markdown",
      "source": [],
      "metadata": {
        "id": "8TfYsnpibBIS"
      },
      "id": "8TfYsnpibBIS"
    }
  ],
  "metadata": {
    "colab": {
      "provenance": []
    },
    "kernelspec": {
      "display_name": "Python 3",
      "language": "python",
      "name": "python3"
    },
    "language_info": {
      "codemirror_mode": {
        "name": "ipython",
        "version": 3
      },
      "file_extension": ".py",
      "mimetype": "text/x-python",
      "name": "python",
      "nbconvert_exporter": "python",
      "pygments_lexer": "ipython3",
      "version": "3.6.13"
    },
    "widgets": {
      "application/vnd.jupyter.widget-state+json": {
        "7466583ac7da4aeeb97d36dc7ca140ed": {
          "model_module": "@jupyter-widgets/controls",
          "model_name": "VBoxModel",
          "model_module_version": "1.5.0",
          "state": {
            "_dom_classes": [
              "widget-interact"
            ],
            "_model_module": "@jupyter-widgets/controls",
            "_model_module_version": "1.5.0",
            "_model_name": "VBoxModel",
            "_view_count": null,
            "_view_module": "@jupyter-widgets/controls",
            "_view_module_version": "1.5.0",
            "_view_name": "VBoxView",
            "box_style": "",
            "children": [
              "IPY_MODEL_988fabab0b814a6aa45852a28a0804fe",
              "IPY_MODEL_db0235eb700341fb8db38423726681e0",
              "IPY_MODEL_31ad93cea6f34beca072f6319a96bebd"
            ],
            "layout": "IPY_MODEL_fe1c8674c7844f87885bbc8ff86c61d0"
          }
        },
        "988fabab0b814a6aa45852a28a0804fe": {
          "model_module": "@jupyter-widgets/controls",
          "model_name": "FloatSliderModel",
          "model_module_version": "1.5.0",
          "state": {
            "_dom_classes": [],
            "_model_module": "@jupyter-widgets/controls",
            "_model_module_version": "1.5.0",
            "_model_name": "FloatSliderModel",
            "_view_count": null,
            "_view_module": "@jupyter-widgets/controls",
            "_view_module_version": "1.5.0",
            "_view_name": "FloatSliderView",
            "continuous_update": true,
            "description": "v",
            "description_tooltip": null,
            "disabled": false,
            "layout": "IPY_MODEL_f1eeee43626644589ed5672fa0899052",
            "max": 1,
            "min": 0,
            "orientation": "horizontal",
            "readout": true,
            "readout_format": ".2f",
            "step": 0.1,
            "style": "IPY_MODEL_016651bfcfd74d0d86435f5ce8fb5f8c",
            "value": 0
          }
        },
        "db0235eb700341fb8db38423726681e0": {
          "model_module": "@jupyter-widgets/controls",
          "model_name": "FloatSliderModel",
          "model_module_version": "1.5.0",
          "state": {
            "_dom_classes": [],
            "_model_module": "@jupyter-widgets/controls",
            "_model_module_version": "1.5.0",
            "_model_name": "FloatSliderModel",
            "_view_count": null,
            "_view_module": "@jupyter-widgets/controls",
            "_view_module_version": "1.5.0",
            "_view_name": "FloatSliderView",
            "continuous_update": true,
            "description": "w",
            "description_tooltip": null,
            "disabled": false,
            "layout": "IPY_MODEL_e2c11c54351241bebfb06d27d651812e",
            "max": 1,
            "min": 0,
            "orientation": "horizontal",
            "readout": true,
            "readout_format": ".2f",
            "step": 0.1,
            "style": "IPY_MODEL_252baac637ac4dc4926711f5ed52cee3",
            "value": 0
          }
        },
        "31ad93cea6f34beca072f6319a96bebd": {
          "model_module": "@jupyter-widgets/output",
          "model_name": "OutputModel",
          "model_module_version": "1.0.0",
          "state": {
            "_dom_classes": [],
            "_model_module": "@jupyter-widgets/output",
            "_model_module_version": "1.0.0",
            "_model_name": "OutputModel",
            "_view_count": null,
            "_view_module": "@jupyter-widgets/output",
            "_view_module_version": "1.0.0",
            "_view_name": "OutputView",
            "layout": "IPY_MODEL_4632bcaf132e45c7812f25afa703b923",
            "msg_id": "",
            "outputs": [
              {
                "output_type": "display_data",
                "data": {
                  "text/plain": "<Figure size 432x288 with 1 Axes>",
                  "image/png": "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\n"
                },
                "metadata": {
                  "needs_background": "light"
                }
              }
            ]
          }
        },
        "fe1c8674c7844f87885bbc8ff86c61d0": {
          "model_module": "@jupyter-widgets/base",
          "model_name": "LayoutModel",
          "model_module_version": "1.2.0",
          "state": {
            "_model_module": "@jupyter-widgets/base",
            "_model_module_version": "1.2.0",
            "_model_name": "LayoutModel",
            "_view_count": null,
            "_view_module": "@jupyter-widgets/base",
            "_view_module_version": "1.2.0",
            "_view_name": "LayoutView",
            "align_content": null,
            "align_items": null,
            "align_self": null,
            "border": null,
            "bottom": null,
            "display": null,
            "flex": null,
            "flex_flow": null,
            "grid_area": null,
            "grid_auto_columns": null,
            "grid_auto_flow": null,
            "grid_auto_rows": null,
            "grid_column": null,
            "grid_gap": null,
            "grid_row": null,
            "grid_template_areas": null,
            "grid_template_columns": null,
            "grid_template_rows": null,
            "height": null,
            "justify_content": null,
            "justify_items": null,
            "left": null,
            "margin": null,
            "max_height": null,
            "max_width": null,
            "min_height": null,
            "min_width": null,
            "object_fit": null,
            "object_position": null,
            "order": null,
            "overflow": null,
            "overflow_x": null,
            "overflow_y": null,
            "padding": null,
            "right": null,
            "top": null,
            "visibility": null,
            "width": null
          }
        },
        "f1eeee43626644589ed5672fa0899052": {
          "model_module": "@jupyter-widgets/base",
          "model_name": "LayoutModel",
          "model_module_version": "1.2.0",
          "state": {
            "_model_module": "@jupyter-widgets/base",
            "_model_module_version": "1.2.0",
            "_model_name": "LayoutModel",
            "_view_count": null,
            "_view_module": "@jupyter-widgets/base",
            "_view_module_version": "1.2.0",
            "_view_name": "LayoutView",
            "align_content": null,
            "align_items": null,
            "align_self": null,
            "border": null,
            "bottom": null,
            "display": null,
            "flex": null,
            "flex_flow": null,
            "grid_area": null,
            "grid_auto_columns": null,
            "grid_auto_flow": null,
            "grid_auto_rows": null,
            "grid_column": null,
            "grid_gap": null,
            "grid_row": null,
            "grid_template_areas": null,
            "grid_template_columns": null,
            "grid_template_rows": null,
            "height": null,
            "justify_content": null,
            "justify_items": null,
            "left": null,
            "margin": null,
            "max_height": null,
            "max_width": null,
            "min_height": null,
            "min_width": null,
            "object_fit": null,
            "object_position": null,
            "order": null,
            "overflow": null,
            "overflow_x": null,
            "overflow_y": null,
            "padding": null,
            "right": null,
            "top": null,
            "visibility": null,
            "width": null
          }
        },
        "016651bfcfd74d0d86435f5ce8fb5f8c": {
          "model_module": "@jupyter-widgets/controls",
          "model_name": "SliderStyleModel",
          "model_module_version": "1.5.0",
          "state": {
            "_model_module": "@jupyter-widgets/controls",
            "_model_module_version": "1.5.0",
            "_model_name": "SliderStyleModel",
            "_view_count": null,
            "_view_module": "@jupyter-widgets/base",
            "_view_module_version": "1.2.0",
            "_view_name": "StyleView",
            "description_width": "",
            "handle_color": null
          }
        },
        "e2c11c54351241bebfb06d27d651812e": {
          "model_module": "@jupyter-widgets/base",
          "model_name": "LayoutModel",
          "model_module_version": "1.2.0",
          "state": {
            "_model_module": "@jupyter-widgets/base",
            "_model_module_version": "1.2.0",
            "_model_name": "LayoutModel",
            "_view_count": null,
            "_view_module": "@jupyter-widgets/base",
            "_view_module_version": "1.2.0",
            "_view_name": "LayoutView",
            "align_content": null,
            "align_items": null,
            "align_self": null,
            "border": null,
            "bottom": null,
            "display": null,
            "flex": null,
            "flex_flow": null,
            "grid_area": null,
            "grid_auto_columns": null,
            "grid_auto_flow": null,
            "grid_auto_rows": null,
            "grid_column": null,
            "grid_gap": null,
            "grid_row": null,
            "grid_template_areas": null,
            "grid_template_columns": null,
            "grid_template_rows": null,
            "height": null,
            "justify_content": null,
            "justify_items": null,
            "left": null,
            "margin": null,
            "max_height": null,
            "max_width": null,
            "min_height": null,
            "min_width": null,
            "object_fit": null,
            "object_position": null,
            "order": null,
            "overflow": null,
            "overflow_x": null,
            "overflow_y": null,
            "padding": null,
            "right": null,
            "top": null,
            "visibility": null,
            "width": null
          }
        },
        "252baac637ac4dc4926711f5ed52cee3": {
          "model_module": "@jupyter-widgets/controls",
          "model_name": "SliderStyleModel",
          "model_module_version": "1.5.0",
          "state": {
            "_model_module": "@jupyter-widgets/controls",
            "_model_module_version": "1.5.0",
            "_model_name": "SliderStyleModel",
            "_view_count": null,
            "_view_module": "@jupyter-widgets/base",
            "_view_module_version": "1.2.0",
            "_view_name": "StyleView",
            "description_width": "",
            "handle_color": null
          }
        },
        "4632bcaf132e45c7812f25afa703b923": {
          "model_module": "@jupyter-widgets/base",
          "model_name": "LayoutModel",
          "model_module_version": "1.2.0",
          "state": {
            "_model_module": "@jupyter-widgets/base",
            "_model_module_version": "1.2.0",
            "_model_name": "LayoutModel",
            "_view_count": null,
            "_view_module": "@jupyter-widgets/base",
            "_view_module_version": "1.2.0",
            "_view_name": "LayoutView",
            "align_content": null,
            "align_items": null,
            "align_self": null,
            "border": null,
            "bottom": null,
            "display": null,
            "flex": null,
            "flex_flow": null,
            "grid_area": null,
            "grid_auto_columns": null,
            "grid_auto_flow": null,
            "grid_auto_rows": null,
            "grid_column": null,
            "grid_gap": null,
            "grid_row": null,
            "grid_template_areas": null,
            "grid_template_columns": null,
            "grid_template_rows": null,
            "height": null,
            "justify_content": null,
            "justify_items": null,
            "left": null,
            "margin": null,
            "max_height": null,
            "max_width": null,
            "min_height": null,
            "min_width": null,
            "object_fit": null,
            "object_position": null,
            "order": null,
            "overflow": null,
            "overflow_x": null,
            "overflow_y": null,
            "padding": null,
            "right": null,
            "top": null,
            "visibility": null,
            "width": null
          }
        },
        "a9136b22bd29409dbcaa32121570f8b9": {
          "model_module": "@jupyter-widgets/controls",
          "model_name": "VBoxModel",
          "model_module_version": "1.5.0",
          "state": {
            "_dom_classes": [
              "widget-interact"
            ],
            "_model_module": "@jupyter-widgets/controls",
            "_model_module_version": "1.5.0",
            "_model_name": "VBoxModel",
            "_view_count": null,
            "_view_module": "@jupyter-widgets/controls",
            "_view_module_version": "1.5.0",
            "_view_name": "VBoxView",
            "box_style": "",
            "children": [
              "IPY_MODEL_5f9962d6cc2c49ca9e215e1848f354d1",
              "IPY_MODEL_7e1c8f4cf9e04a0ab51a47d82972379c"
            ],
            "layout": "IPY_MODEL_88b6000e34214361b6d122796f87b6d0"
          }
        },
        "5f9962d6cc2c49ca9e215e1848f354d1": {
          "model_module": "@jupyter-widgets/controls",
          "model_name": "FloatSliderModel",
          "model_module_version": "1.5.0",
          "state": {
            "_dom_classes": [],
            "_model_module": "@jupyter-widgets/controls",
            "_model_module_version": "1.5.0",
            "_model_name": "FloatSliderModel",
            "_view_count": null,
            "_view_module": "@jupyter-widgets/controls",
            "_view_module_version": "1.5.0",
            "_view_name": "FloatSliderView",
            "continuous_update": true,
            "description": "w",
            "description_tooltip": null,
            "disabled": false,
            "layout": "IPY_MODEL_265cd82119174207a46bcaf37af5afb4",
            "max": 0.5,
            "min": 0.1,
            "orientation": "horizontal",
            "readout": true,
            "readout_format": ".2f",
            "step": 0.1,
            "style": "IPY_MODEL_35d8e63575b548408e8ba06fece989b4",
            "value": 0.30000000000000004
          }
        },
        "7e1c8f4cf9e04a0ab51a47d82972379c": {
          "model_module": "@jupyter-widgets/output",
          "model_name": "OutputModel",
          "model_module_version": "1.0.0",
          "state": {
            "_dom_classes": [],
            "_model_module": "@jupyter-widgets/output",
            "_model_module_version": "1.0.0",
            "_model_name": "OutputModel",
            "_view_count": null,
            "_view_module": "@jupyter-widgets/output",
            "_view_module_version": "1.0.0",
            "_view_name": "OutputView",
            "layout": "IPY_MODEL_7cdabea337534f8582ad4e0eb4ba0e46",
            "msg_id": "",
            "outputs": [
              {
                "output_type": "display_data",
                "data": {
                  "text/plain": "<Figure size 432x288 with 1 Axes>",
                  "image/png": "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\n"
                },
                "metadata": {
                  "needs_background": "light"
                }
              }
            ]
          }
        },
        "88b6000e34214361b6d122796f87b6d0": {
          "model_module": "@jupyter-widgets/base",
          "model_name": "LayoutModel",
          "model_module_version": "1.2.0",
          "state": {
            "_model_module": "@jupyter-widgets/base",
            "_model_module_version": "1.2.0",
            "_model_name": "LayoutModel",
            "_view_count": null,
            "_view_module": "@jupyter-widgets/base",
            "_view_module_version": "1.2.0",
            "_view_name": "LayoutView",
            "align_content": null,
            "align_items": null,
            "align_self": null,
            "border": null,
            "bottom": null,
            "display": null,
            "flex": null,
            "flex_flow": null,
            "grid_area": null,
            "grid_auto_columns": null,
            "grid_auto_flow": null,
            "grid_auto_rows": null,
            "grid_column": null,
            "grid_gap": null,
            "grid_row": null,
            "grid_template_areas": null,
            "grid_template_columns": null,
            "grid_template_rows": null,
            "height": null,
            "justify_content": null,
            "justify_items": null,
            "left": null,
            "margin": null,
            "max_height": null,
            "max_width": null,
            "min_height": null,
            "min_width": null,
            "object_fit": null,
            "object_position": null,
            "order": null,
            "overflow": null,
            "overflow_x": null,
            "overflow_y": null,
            "padding": null,
            "right": null,
            "top": null,
            "visibility": null,
            "width": null
          }
        },
        "265cd82119174207a46bcaf37af5afb4": {
          "model_module": "@jupyter-widgets/base",
          "model_name": "LayoutModel",
          "model_module_version": "1.2.0",
          "state": {
            "_model_module": "@jupyter-widgets/base",
            "_model_module_version": "1.2.0",
            "_model_name": "LayoutModel",
            "_view_count": null,
            "_view_module": "@jupyter-widgets/base",
            "_view_module_version": "1.2.0",
            "_view_name": "LayoutView",
            "align_content": null,
            "align_items": null,
            "align_self": null,
            "border": null,
            "bottom": null,
            "display": null,
            "flex": null,
            "flex_flow": null,
            "grid_area": null,
            "grid_auto_columns": null,
            "grid_auto_flow": null,
            "grid_auto_rows": null,
            "grid_column": null,
            "grid_gap": null,
            "grid_row": null,
            "grid_template_areas": null,
            "grid_template_columns": null,
            "grid_template_rows": null,
            "height": null,
            "justify_content": null,
            "justify_items": null,
            "left": null,
            "margin": null,
            "max_height": null,
            "max_width": null,
            "min_height": null,
            "min_width": null,
            "object_fit": null,
            "object_position": null,
            "order": null,
            "overflow": null,
            "overflow_x": null,
            "overflow_y": null,
            "padding": null,
            "right": null,
            "top": null,
            "visibility": null,
            "width": null
          }
        },
        "35d8e63575b548408e8ba06fece989b4": {
          "model_module": "@jupyter-widgets/controls",
          "model_name": "SliderStyleModel",
          "model_module_version": "1.5.0",
          "state": {
            "_model_module": "@jupyter-widgets/controls",
            "_model_module_version": "1.5.0",
            "_model_name": "SliderStyleModel",
            "_view_count": null,
            "_view_module": "@jupyter-widgets/base",
            "_view_module_version": "1.2.0",
            "_view_name": "StyleView",
            "description_width": "",
            "handle_color": null
          }
        },
        "7cdabea337534f8582ad4e0eb4ba0e46": {
          "model_module": "@jupyter-widgets/base",
          "model_name": "LayoutModel",
          "model_module_version": "1.2.0",
          "state": {
            "_model_module": "@jupyter-widgets/base",
            "_model_module_version": "1.2.0",
            "_model_name": "LayoutModel",
            "_view_count": null,
            "_view_module": "@jupyter-widgets/base",
            "_view_module_version": "1.2.0",
            "_view_name": "LayoutView",
            "align_content": null,
            "align_items": null,
            "align_self": null,
            "border": null,
            "bottom": null,
            "display": null,
            "flex": null,
            "flex_flow": null,
            "grid_area": null,
            "grid_auto_columns": null,
            "grid_auto_flow": null,
            "grid_auto_rows": null,
            "grid_column": null,
            "grid_gap": null,
            "grid_row": null,
            "grid_template_areas": null,
            "grid_template_columns": null,
            "grid_template_rows": null,
            "height": null,
            "justify_content": null,
            "justify_items": null,
            "left": null,
            "margin": null,
            "max_height": null,
            "max_width": null,
            "min_height": null,
            "min_width": null,
            "object_fit": null,
            "object_position": null,
            "order": null,
            "overflow": null,
            "overflow_x": null,
            "overflow_y": null,
            "padding": null,
            "right": null,
            "top": null,
            "visibility": null,
            "width": null
          }
        },
        "bbffe969774247e1893f7f0f30128e91": {
          "model_module": "@jupyter-widgets/controls",
          "model_name": "VBoxModel",
          "model_module_version": "1.5.0",
          "state": {
            "_dom_classes": [
              "widget-interact"
            ],
            "_model_module": "@jupyter-widgets/controls",
            "_model_module_version": "1.5.0",
            "_model_name": "VBoxModel",
            "_view_count": null,
            "_view_module": "@jupyter-widgets/controls",
            "_view_module_version": "1.5.0",
            "_view_name": "VBoxView",
            "box_style": "",
            "children": [
              "IPY_MODEL_7e3b8a7566524610aa28433823ee30f8",
              "IPY_MODEL_8ed53ae0cbb043e9a940c283773fe9cf",
              "IPY_MODEL_2c9ad654ed684c929518520eaebe0af9"
            ],
            "layout": "IPY_MODEL_752c1b6883554091acee09c47f930786"
          }
        },
        "7e3b8a7566524610aa28433823ee30f8": {
          "model_module": "@jupyter-widgets/controls",
          "model_name": "FloatSliderModel",
          "model_module_version": "1.5.0",
          "state": {
            "_dom_classes": [],
            "_model_module": "@jupyter-widgets/controls",
            "_model_module_version": "1.5.0",
            "_model_name": "FloatSliderModel",
            "_view_count": null,
            "_view_module": "@jupyter-widgets/controls",
            "_view_module_version": "1.5.0",
            "_view_name": "FloatSliderView",
            "continuous_update": true,
            "description": "v",
            "description_tooltip": null,
            "disabled": false,
            "layout": "IPY_MODEL_cf872a48f2674235a56cfe4185a591bf",
            "max": 0.5,
            "min": 0,
            "orientation": "horizontal",
            "readout": true,
            "readout_format": ".2f",
            "step": 0.01,
            "style": "IPY_MODEL_aef0c150a5774b59a22faedfe95a7f05",
            "value": 0.25
          }
        },
        "8ed53ae0cbb043e9a940c283773fe9cf": {
          "model_module": "@jupyter-widgets/controls",
          "model_name": "FloatSliderModel",
          "model_module_version": "1.5.0",
          "state": {
            "_dom_classes": [],
            "_model_module": "@jupyter-widgets/controls",
            "_model_module_version": "1.5.0",
            "_model_name": "FloatSliderModel",
            "_view_count": null,
            "_view_module": "@jupyter-widgets/controls",
            "_view_module_version": "1.5.0",
            "_view_name": "FloatSliderView",
            "continuous_update": true,
            "description": "w",
            "description_tooltip": null,
            "disabled": false,
            "layout": "IPY_MODEL_a340603aa7884e2a896d5997316d5fb2",
            "max": 0.5,
            "min": 0,
            "orientation": "horizontal",
            "readout": true,
            "readout_format": ".2f",
            "step": 0.01,
            "style": "IPY_MODEL_9fc76e35e3d8459c9c6f5458708a2c56",
            "value": 0.25
          }
        },
        "2c9ad654ed684c929518520eaebe0af9": {
          "model_module": "@jupyter-widgets/output",
          "model_name": "OutputModel",
          "model_module_version": "1.0.0",
          "state": {
            "_dom_classes": [],
            "_model_module": "@jupyter-widgets/output",
            "_model_module_version": "1.0.0",
            "_model_name": "OutputModel",
            "_view_count": null,
            "_view_module": "@jupyter-widgets/output",
            "_view_module_version": "1.0.0",
            "_view_name": "OutputView",
            "layout": "IPY_MODEL_10fc4c2185214be8bd95bfc4fbdaea80",
            "msg_id": "",
            "outputs": [
              {
                "output_type": "display_data",
                "data": {
                  "text/plain": "<Figure size 432x288 with 1 Axes>",
                  "image/png": "iVBORw0KGgoAAAANSUhEUgAAAYoAAAEGCAYAAAB7DNKzAAAABHNCSVQICAgIfAhkiAAAAAlwSFlzAAALEgAACxIB0t1+/AAAADh0RVh0U29mdHdhcmUAbWF0cGxvdGxpYiB2ZXJzaW9uMy4yLjIsIGh0dHA6Ly9tYXRwbG90bGliLm9yZy+WH4yJAAAgAElEQVR4nO3dd3hUZdrH8e+dQg8lEELvRQERJFRBUVGxgqJSpAmCoiy6bnP1tazbXN11LWChSZEOilgREQudIL33DgmB0AMp9/vHM2hgQ0hIOTOT+3NdczFn5szMPQmZ35zzNFFVjDHGmEsJ8boAY4wx/s2CwhhjTKYsKIwxxmTKgsIYY0ymLCiMMcZkKszrAnJbuXLltEaNGl6XYYwxAWX58uWHVTUqo/uCLihq1KhBbGys12UYY0xAEZFdl7rPTj0ZY4zJlAWFMcaYTFlQGGOMyZQFhTHGmExZUBhjjMmUBYUxxphMWVAYY4zJVNCNozAm36Wlwak4OHMUziRCUqLv32PukpaS8ePCCkPR0lDEdzl/vXg5d90YP2FBYUxWpKXBke0Qtx6O7nSXxF1wdBck7obUs5k8WDK47TLrwBQuBWWqu0vp6lCmBkTWggrXQInyV/w2jLkSFhTGXCwtFQ5vhgOr3GX/Sji4Bs6d+HWfIqXdh3j5q6F+R/dhXizywiODomWgcEkIvcSfWXKS76gj8cIjkZOHfg2h+E2wZQ6kJP36uIhKUPHaCy+lKuftz8QUaBYUxqhC3AbY8aO77JwPZ4+5+8KLuW/xTbpDhcZQoRGUqZk7p4bCi7hLRHTm+6WlufBI2AoHV/8aYFtmg6a5fUpXh5o3QM0boWY7iKiQ8/qM8bGgMAXTqQTY9CVsn+fC4VS8u71MTWjYGaq3gUpNoWwdCAn1ttaQEChZ0V1qtvv19nOn4dA62Lccdv4EG2bBivHuvqirXHDUvc39G1bYm9pNUJBgWzM7JiZGbVJAk6Hj+2HjF7D+U9i1wH0bL1EBat3o+zZ+A5Su5nWVVy4t1R1xnD8y2rUQkk+701/1boer74U6t0Ch4l5XavyQiCxX1ZgM77OgMEHtxCFYMxXWz4K9S91t5erD1fe4S8VrQTJqbA4CKWdh+w+w4VPY+CWcOQJhRaFuB2h4H9S/y536MgYLClPQpCbDlm9gxUeweTZoqguEq+9x36qj6ntdYf5LTYHdC11gbvwcThxwDe6NH4KmPd3PxxRoFhSmYIjbCCs/glWTXZtDiWi4trv7ICxX1+vq/EdaGuz4wQXphs9c194K10CTni44ikV6XaHxgAWFCV5pae7oYfEwd14+JAzqdXThUOfWS3dNNc6Zo7BmumsEP7AKwopA467Q6gkof5XX1Zl8ZEFhgs+5U7BqEix+z3UbjagELQa4gLABaVfmwGpYNhJWT3HjNmrfAq2fhNo3B287jvmFBYUJHicOwZL3YfmH7ttwpabQ6knXpTU03OvqgsOpwxD7ISwd7qYmiboaWj8BjbtBWCGvqzN5xILCBL4Th2Dh27BslPu2e9Vd0HowVGtl33bzSspZWDsDFr0Lh9ZAqarQ7hnXlmGBEXQsKEzgOhkHC95yAZF61n2rveH3ULa215UVHKqwdS58/0/YF+sLjN9Bk4ctMIKIBYUJPCfjYcGbFhD+RBW2zYV5FwVG05522i8IWFCYwHHutOvBNP9NN6q4cVe44Q8WEP7k4iOMyNpw6yvudKCdBgxYmQWF9R00/iEtzfW2+e6vcHwfXHU3dHjZxj/4IxE3urvOLW5A45wXYcrDUP16uO1vUPk6rys0ucyCwnhvx48w+3k3T1GlpnD/CKhxvddVmcsRcVOs1+kAP4+Fef+AETfBNQ/BLS8E9rxZ5gKeLoUqIh1FZJOIbBWRZzPZr4uIqIhkeFhkAtTRnTCpO4y9x3V1vX8kPPqdhUSgCQ2D5v1hyApo+4ybxfadGPjub5B8xuvqTC7wLChEJBQYBtwBNAC6i0iDDPaLAJ4CluRvhSbPpJyFH/8Nw1q5SetueQkGL4PGD7optU1gKlISOrwEg2Ohwb3w4+swrKU7PWUCmpd/lS2Araq6XVXPAZOBThns91fgX0BSBveZQLP9e3jvetcWUe82FxDtnoHwol5XZnJL6arQZST0+dxNCTLxIZj8MCTu8boyc4W8DIrKQPr/OXt9t/1CRK4DqqrqF5k9kYgMFJFYEYmNj4/P/UpNzp04CNP7w7hOkJYMD0+Hh8bZEp7BrGY7eHy+65SwdS4Ma+F6s6Wc87oyk01+e5wvIiHAG8DvLrevqg5X1RhVjYmKisr74kzWqcLysTC0uTt3feOz8MRiqHur15WZ/BBWCNr+FgYvhVo3wbcvwfAbYd/PXldmssHLoNgHVE23XcV323kRQCPgexHZCbQCZlmDdgBJ3A3j74PPhrj1Dp5YDDf92U4zFUSlq0H3idB9MpxJhJEd4NuXIdnOKAcCL7vHLgPqikhNXEB0A3qcv1NVjwHlzm+LyPfA71XVRtP5u7Q0N2nfnBfd9l3/gWb9rKHaQP07oFpr+OZ5mP9ft/Jep2FQtbnXlZlMePaXq6opwGBgNrABmKqq60TkFRG516u6TA4d3Qnj7oUvnoHKzWDQQmj+qIWE+VXR0i4ces5w08WPvg2++T/rSuvHbAoPkztU3aCrr58DCYHb/grN+tqUDiZzScdhzguwfAyUreMGW9rIbk9kNoWHfc0zOXcqwXV//OwpqBIDTyyCmEcsJMzlFSkJ97wFvWa6I4pRt8JP/4G0VK8rM+lYUJic2ToX3msNW+e4eX56zXT96I3Jjto3waAFbo6vua+40fo27sJvWFCYK5OcBF//GT66H4qUhkfnQpvfWFuEuXJFy8CDY6Dze2797veudwsnGc/ZX7XJvrgNMOJmWPwutBgIj/0AFRt7XZUJBiLQpAc8/hNE1YPp/eDjx+DsCa8rK9AsKEz2rJwIw29yayn3mAZ3vm7jIkzui6wFj3ztBmiumQrD28PBtV5XVWBZUJisOXcaPn0SZg5yDdaPL3BzNRmTV0LD3ADNPp+5I4qRt8DP410PO5OvLCjM5R3e4v5IV0xwq831mgkR0V5XZQqKGm3dnFFVW8Kswe7LyrlTXldVoFhQmMytngYf3AgnD0HP6XDz/7lvesbkpxLlodcn0P7PsGqyayOL2+h1VQWGBYXJWMo5+OJ38PGjrqH6sZ/cSmbGeCUkFNo/6wLjdIJbTW/NdK+rKhAsKMz/OnEQxt4Ny0ZCmyHuHLFNB278Re2b3BeXik1gRn+3jG5qitdVBTULCnOhPUvdqaaDa+CBD91UHKHhXldlzIVKVoQ+s6DFY7BoKHx0n5shwOQJCwrzq9gP4cM7XXfXR7+FRvd7XZExlxYaDne+5gbo7V7iutDuX+l1VUHJgsK4NaxnDYHPn4aaN8DAeRDd0OuqjMmaJj2g39egqTD6dlg91euKgo4FRUF34hCMudvN/Nr2GXh4mptKwZhAUvk6GPgDVI6Bjwe4WYxtYsFcY/0cC7KDa2BiNzhzBB4cCw07e12RMVeuRBT0nukatxcPg4Qt0GWUm6HW5IgdURRUG7+AUbcD6g7bLSRMMDjfbnH3f2HbdzDqNreYlskRC4qCRhXmv+nWjyh/FQz4zq1nbUwwiekHPT+GEwfc4Lxdi7yuKKBZUBQkKWfdfE3fvgQN74O+X0BEBa+rMiZv1LrRTX9ftIxb32LFBK8rClgWFAXFqQQY1wlWTnDTIDww2mZ9NcGvXB3X1bt6G/j0CZjzIqSleV1VwLGgKAgStsGoDrB/hQuI9s/aMqWm4ChaBnrOcKejFrwF0x9xC2+ZLLNeT8Fuz1KY1M21TfT5DKq28LoiY/JfaDjc9QaUqQlzXnDT1HSfBMUiva4sINgRRTBb/6k7N1uklDv8tpAwBZkIXD/ETU2zfwWM7ABHtntdVUCwoAhWi96FqX2gQmPoPwfK1va6ImP8Q6P7ofenbvzQyFthb6zXFfk9C4pgk5YKX/0JZv8Zrr7HTZxWvJzXVRnjX6q3hv7fQuESMOYu2PCZ1xX5NQuKYJKcBNP6wJL3ofVgN9raejYZk7FydVxYRDeCKb1g6QivK/JbFhTB4kwifNTFfTO6/Z9w+98hxH69xmSqRJTr5FHvdvjy9/Dd321N7gzYJ0kwOH7AHT7vWQL3j4TWT3hdkTGBo1Ax6DoBmvSEH19zsyjbQkgXsO6xge7wVhh/n1sasscUqHOL1xUZE3hCw6DTULc29/w34NRh6DLSTt362BFFINu7HEbfBsmnoe/nFhLG5IQIdHgJOv7LTZo5/n53StdYUASsrXPdGIlCJaD/N24+fmNMzrV6HB4YBXuXwYd3uFO7BZynQSEiHUVkk4hsFZFnM7j/GRFZLyKrRWSuiFT3ok6/s+4TmNgVImu5kLAxEsbkrkZd3CJeibvdqnkFfGCeZ0EhIqHAMOAOoAHQXUQaXLTbCiBGVRsD04HX8rdKP7R8LEzvB5WbudNNNvurMXmj9k1uHNLZ4zC6Ixxa73VFnvHyiKIFsFVVt6vqOWAy0Cn9Dqo6T1VP+zYXA1XyuUb/suBt+GwI1L4Zen0CRUt7XZExwa1yM3jkK5AQdxqqgI7i9jIoKgN70m3v9d12Kf2Br/K0In+lCnNfcZOZNegM3Sa5Ln3GmLxX/mq3CmTR0jD2Xtj+vdcV5buAaMwWkZ5ADPD6Je4fKCKxIhIbHx+fv8XltbQ0NxDop//AdX3cNOFhhbyuypiCpUwN6Dfb/TvhwQI35YeXQbEPqJpuu4rvtguISAfgeeBeVT2b0ROp6nBVjVHVmKioqDwp1hOpKfDJY7BsJFz/FNzzFoSEel2VMQVTRAXXLljxWpjaG1ZO8rqifONlUCwD6opITREpBHQDZqXfQUSaAh/gQiLOgxq9k3LWzdu0Zirc8iLc+ootNmSM14pFQq+ZUPMGmPk4LBvldUX5wrOgUNUUYDAwG9gATFXVdSLyiojc69vtdaAEME1EVorIrEs8XXBJPgOTe8DGz93gn3a/87oiY8x5hUtA9ylQryN88QwsHOp1RXlONMgmwIqJidHY2ADumXD2BEzqDjvnu1NNzfp4XZExJiMp5+DjAbB+Jtz0PNzwh4A+6heR5aoak9F9NteTPzmTCBMegH0/w/0joPGDXldkjLmUsELQZZSbD2re3+HcKejwckCHxaVYUPiLUwkwvjPEbYCHxrpFh4wx/i00DDq968JiwZvutHHHV4Nuin8LCn9w4hCM6wRHd0D3yVC3g9cVGWOyKiQE7noDwovBoqFuks573g6qsLCg8NrxA25yv+P73dwyNW/wuiJjTHaJwG1/c2Hx42uQlgKdhgVNd3YLCi8d2+tC4mQc9Jzh1vE1xgQmEbj5eQgtBPP+BqnJcN8H7vRUgAv8dxCoju5yIXHmqOuXXbW51xUZY3LDjX9w4fDty+7IostICA33uqocsaDwwpEdLiTOHofen9paEsYEm7a/dUcWs59zYfHAhwE99U7wtLYEioRtbn3rcyfdou4WEsYEp9ZPwh2vu4GzU3u52RYClAVFfjq8BT680/2H6eObM8YYE7xaDoS7/wubv3azLSQneV3RFbGgyC/xm92RhKa5icUqNPK6ImNMfojpB/cOdcsXT+7uxloEGAuK/BC/Ccbe7daV6Pu5m9/eGFNwXNcLOg2FbfPcFD0BFhYWFHktbiOMudtd7/sFRNX3th5jjDea9nRjK7Z/D5O6wbnTl32Iv7hkrycROX6ZxwpwQFXr5W5JQSRuozuSkBDXJhFlPypjCrSmD7vxFjOfcGHRfXJArFaZ2RHFNlUtmcklAjiVX4UGnLgNvpAI9R1JWEgYY4AmPaDze7DjR5jUNSCOLDILii5ZeHxW9il44ja4000hYS4kytX1uiJjjD9p0t2N2t45HyY+5PdhccmgUNXtACLyr4vvO3/b+X1MOudDIjTcnW4qV8friowx/ujari4sdi3w+yOLrDRm35rBbXfkdiFBIW6jG3EdEmYhYYy5vMYPQef3YcdPrs3CT3tDXTIoRGSQiKwB6ovI6nSXHcDq/CsxQMRvciEhIa4LrIWEMSYrru2ars3CP7vOZjbX00TgK+CfwLPpbj+hqkfytKpAE7/51y6wfT63NgljTPY06Q6o6w01uQd0mwThRbyu6heXDApVPQYcA7rnXzkB6PAW17sJtd5Nxpgr16SHm7nh08Ew5WHoOsFvwiKzU08/X+7BWdknqCVsc0cSaam+cRI2mM4YkwNNe8K9b8PWb2FKT7+ZGyqzU09Xi0hmbREClMrlegLH+Vlg01LcLLDlr/K6ImNMMLiut5vu57MhMLU3dB0PYYU9LSmzoMjKJ19qbhUSUM6vJ5Fy1jVcRzfwuiJjTDBp1gc0FT7/LUx7BB4c4+l6Fpm1UezKz0ICxvmV6ZJPuyOJ6IZeV2SMCUYx/dxp7S9/DzP6ucWPPFopzyYFzI7EPb+uTNdrJlS4xuuKjDHBrMUA6PgqbPgMZjwKqSmelGFLoWbVsX2+Na4TofdMqNTE64qMMQVBq0HuyOKb5yEkFO4b7tbkzkeXfTUR+Q3wkaoezYd6/NPxAy4kTidAr09s+VJjTP5qM9h1nPn2JTfzQ+f3XGjkk6zEUjSwzNcVdjQwW1U1b8vyIycOuZA4eciFRJUYrysyxhREbZ92DdxzX3GzUncaBiH503pw2VdR1f8D6gKjgL7AFhH5h4jUzuPavHcyHsbdC8f3w8PToWoLrysyxhRk7X4H7Z+DVRNd99m0tHx52Syd6FJVFZGDwEEgBSgDTBeROar6x7ws0DOnEmBcJ9fLqed0qN7a64qMMQba/wnSkuHH110vqLvecIsh5aGstFE8BfQGDgMjgT+oarKIhABbgOALitNHYHwnOLINekyBGm29rsgYY3510/OQmgwL3nRtFne8lqdhkZUjikjg/ovHVahqmojcnZMXF5GOwFtAKDBSVV+96P7CwDigGZAAdFXVnTl5zcs6kwjj73OzwXafBLXa5+nLGWNMtolAh5ddA/eioRASDrf/Pc/CIitB8ZarSyLT3XZCVZNVdcOVvrCIhALDcOtd7MU1mM9S1fXpdusPHFXVOiLSDfgX0PVKX/Oyko7DR13g0DroNgHqdMizlzLGmBwRgdv+5o4sFg9zXWY7/CVPwiIrTeY/A/HAZtyppnhgp4j8LCLNcvDaLYCtqrpdVc8Bk4FOF+3TCRjruz4duEUkbyLz5PGjbPlvR3T/SnhoLNS7PS9exhhjco8I3PEvN4p7wVssHvVbNA8auLMSFHOAO1W1nKqWxa1u9znwBPBuDl67MrAn3fZe320Z7qOqKbhpz8te/EQiMlBEYkUkNj4+/oqKOX38KIXOJfKMDmFthLVJGGMChAijSg1mUspNhB3bSZpHQdFKVWef31DVb4DWqroY8HZKQx9VHa6qMaoaExUVdUXPUb5KLUKfXMjSIu14eOQS1u8/nstVGmNM7hu3aCd//WIjP9V/nmuHTCU0LPdHbWclKA6IyJ9EpLrv8kfgkK+NISfRtQ+omm67iu+2DPcRkTDctOYJOXjNTFUpV5rJA1tRvFAoPUctYdPBE3n1UsYYk2MTl+zmxU/X0eHqaN7s3ozw8LyZYTYrQdED9yE+E/gE98HdA9dT6aEcvPYyoK6I1BSRQkA3YNZF+8wC+viuPwB8l9ejwqtGFmPigFaEhwoPj1zM1jgLC2OM/5m6bA/PfbKGm+pHMezhphQKy7tR2pk+s++o4S1V/Y2qNlXV63zX41X1nKpuvdIX9rU5DAZmAxuAqaq6TkReEZF7fbuNAsqKyFbgGS5cuzvP1ChXnIkDWiEidB+xhG3xJ/PjZY0xJktmLN/Lnz5eTbu65XivZzMKh+XtvE9yuS/oIjIfuNnXM8nvxcTEaGxsbK4815ZDJ+g2fDFhocKUga2pUa54rjyvMcZcqU9X7uO3U1bSunZZRvVpTpHw3AkJEVmuqhlOZpeVY5XtwAIReUFEnjl/yZXK/Fzd6AgmDmhFcqrSfcRidiec9rokY0wB9vnq/fx2ykqa14hkZO/cC4nLyUpQbMN1hw0BItJdCoT6FSL4qH9LziSn0n3EYvYcsbAwxuS/r9Yc4KnJK2lWvQyj+zanaKH8m2b8sqeeftlRpJiq+v2nZG6eekpv7b5j9BixmFLFwpk8sDWVSxfN9dcwxpiMfLPuIE9M+JnGVUoxrn9LShTO/S6wOTr1JCKtRWQ9sNG3fa2I5GSgXUBqVLkUHz3aksTTyfQYsZgDx854XZIxpgCYu+EQT078mUaVSzG2X4s8CYnLycqppzeB2/GNX1DVVcANeVmUv2pcpTTj+rUg4eQ5eoxYwqHjSV6XZIwJYvM2xTHoo5+5umJJxvZrQUSRcE/qyFLHW1Xdc9FNqXlQS0BoWq0MY/s1J+54Et1HLCbuhIWFMSb3/bg5nsfGL6dudAnG92tJqaLehARkLSj2iEgbQEUkXER+jxv3UGA1qx7JmH4tOHgsiR4jlhB/4qzXJRljgsj8LYcZMC6W2lEl+Kh/S0oV8y4kIGtB8TjwJG6Cvn1AE992gda8RiQf9m3OvqNn6DFiMYdPWlgYY3JuwdbD9B+7jJrlijPh0ZaUKZ4303JkR1bWzD6sqg+rarSqllfVnqqaZ/MtBZKWtcoyum9z9hw9TY8Ri0mwsDDG5MDCbS4kapR1IRHpByEBWev1FCUiz4nIcBEZff6SH8UFgta1XVjsPnKah0cusbAwxlyRRdsS6DdmGdUiizFhQEvKlvCLybmBrJ16+hQ3a+u3wBfpLsanTe1yjO7TnB2HT/HwyCUcORUQs50YY/zEku0uJKqWcZOSlvOjkICsBUUxVf2Tqk5V1RnnL3leWYBpU6cco9KFxVELC2NMFizdcYRHxiyjcpmifhkSkLWg+FxE7szzSoJA27rlGNknhm3xJy0sjDGXtWznEfp+uJSKpYowcUBLoiL8LyQga0HxFC4skkTkuIicEBFb/u0S2tWNYmTvGLbGn6SHnYYyxlzC0h1H6DN6KRVKFWHSgFaUjyjidUmXlJVeTxGqGqKqRVS1pG+7ZH4UF6huqOfCYnv8SXqMWGxhYYy5wJLtCb8cSUwe0IryJf03JCBrvZ5ERHqKyAu+7aoi0iLvSwtsN9SLYmSfGHYcPmVhYYz5xeLtCfT9cBmVShdl0kD/DwnI2qmnd4HWuOVPAU4Cw/KsoiDSrm7ULw3cNs7CGLNoWwKPfLiMKmWK+v3ppvSyEhQtVfVJIAlAVY8C/jEKJAC0rVuO0X2bszPhFD1GLLER3MYUUAu3HabfGBcSEwe08tuG64xkJSiSfWtnK7gBeEBanlYVZK6v48ZZ7Dpyyqb7MKYAWrjVhUTVSHe6KZBCArIWFG8DnwDlReTvwHzgH3laVRBqU8cdWew5coZuwxcTZ1OUG1Mg/Lg5nkfGLKN6ZHG/HSdxOVnp9TQB+CPwT+AA0FlVp+V1YcGoTe1yjHmkOfsTXVgcPGZhYUwwm7cxjkd9s8BOGhiYIQFZX49io6oOU9WhqlqgpxjPqZa1yjK+fwviTpyl6/BF7Eu0lfKMCUZz1h9i4PhY6kdHMHGA/0zwdyWyFBQmdzWrHsn4/i04cuocXT9YxJ4jfr8UuTEmG75ac4BBHy2nYSW3hHLpYoEbEmBB4Zmm1cow8dFWnEhKoesHi9iVcMrrkowxueCzVfsZPGkF11Ytzfj+LTxdmS63WFB46JoqpZg0oBVnklN56INFbIs/6XVJxpgc+GTFXp6avIJm1cswzsM1rnObBYXHGlQqyeSBrUlNU7p+sJhNB094XZIx5gpMWrqbZ6auolWtsox5pDnFC4d5XVKusaDwA/UrRDB5YGtCQ6Dr8EWs2XvM65KMMdkwev4O/vzxGtrXi2J03+YUKxQ8IQEWFH6jTvkSTHusDSUKh9FjxGJidx7xuiRjTBYMm7eVVz5fT8eGFfigVwxFwkO9LinXWVD4kWplizH1sdZERRSm16ilLNh62OuSjDGXoKq8Pnsjr8/exH1NKzO0R1MKhQXnR2pwvqsAVql0UaY81ppqkcV4ZMwyvtt4yOuSjDEXUVVe+Xw9w+Zto3uLqvznwWsJCw3ej1NP3pmIRIrIHBHZ4vu3TAb7NBGRRSKyTkRWi0hXL2r1QlREYSYPbEX96AgeG7+cL9cc8LokY4xPapry3Cdr+XDBTh65vgb/uO8aQkLE67LylFcR+CwwV1XrAnN92xc7DfRW1YZAR+BNESmdjzV6qkzxQkwY0JJrq5Rm8MSfmbpsj9clGVPgnUtJ46nJK5i0dDdP3lSbF+9ugEhwhwR4FxSdgLG+62OBzhfvoKqbVXWL7/p+IA6IyrcK/UDJIuGM69+CtnWj+OOM1Yz8abvXJRlTYJ05l8rA8bF8vvoAz95xFX+4/aoCERLgXVBEq+r58ykHgejMdvatqFcI2JbXhfmbYoXCGNk7hruuqcjfvtjAv2dvQlW9LsuYAuV4UjK9Ry/hh83x/PP+a3j8xtpel5Sv8qyzr4h8C1TI4K7n02+oqorIJT/5RKQiMB7oo6oZroMhIgOBgQDVqlW74pr9VaGwEN7u3pQShcMYOm8rx5OSefmehkF/XtQYf3D45Fn6jF7K5kMneKd7U+5uXMnrkvJdngWFqna41H0ickhEKqrqAV8QxF1iv5LAF8Dzqro4k9caDgwHiImJCcqv26EhwqtdrqFUsXCG/7id42eSef3BawkP4p4WxnhtX+IZeo1cwv5jZxjRO4b29ct7XZInvBo+OAvoA7zq+/fTi3cQkUK4BZPGqer0/C3PP4kIf77jKkoVDef12Zs4kZTC0B7XUbRQ8A3wMcZrW+NO0nvUEk6cTWF8/5Y0rxHpdUme8err6KvArSKyBejg20ZEYkRkpG+fh4AbgL4istJ3aeJNuf5DRHjypjr8tXMjvtsUR89RS0g8fc7rsowJKj/vPsoD7y/kXGoakwa0KtAhASDB1jAaExOjsbGxXpeRL75cc4CnJ6+ketlijO3Xgkqli3pdkjEBb97GOAZNWE50ySKM69eC6mWLe11SvhCR5aoak9F9doI7gN15TUXG9GvOwWNJdHlvIVvjbOZZY3JixjaB/UYAABcMSURBVPK9PDouljrlSzD98TYFJiQux4IiwLWpXY7Jj7UiJU154P1FLN911OuSjAk4qsoHP2zjd9NW0apWJJMGtCIqIjDXt84LFhRBoGGlUnw8qA2li4bz8MjFzN1g80MZk1VpacrfvtjAP7/ayF2NKzK6b/OgWXAot1hQBImqkcWYPqgN9aIjGDh+OROX7Pa6JGP8XlJyKkMmr2DU/B30bVODd7o1pXCY9SK8mAVFEClXojCTBrSiXd1yPPfJGl6fvdFGcRtzCYmnz9Fr1BI+X32AP3W8ipfuaWCDWC/BgiLIFC/spvzo3qIaw+Zt4+kpKzmbkup1Wcb4ld0Jp7n/vYWs2nOMd7o3ZVD72gVm3qYrEVzr9RkAwkJD+Md9jagaWZTXvt7EwWNJDO8VQ6lidt7VmJV7Euk/ZhkpacpHj7akRc2CPUYiK+yIIkiJCE+0r8Nb3ZqwYnciXd5fyJ4jp70uyxhPfbPuIN2GL6JY4VBmDGpjIZFFFhRBrlOTyozv34K440nc9+5CVu5J9LokY/KdqvLhgh089tFy6kdH8PGg66lTvoTXZQUMC4oCoGWtsnz8RBuKFgqh6weLmLVqv9clGZNvklPTeH7mWv7y2Xo6XB3NpIE2RiK7LCgKiDrlI/j0ybZcW6U0Qyat4I05m61HlAl6iafP0Wf0UiYu2c2g9rX5oGczihWyptnssqAoQCKLF2L8oy14oFkV3p67hcGTVpCUbD2iTHDaHn+S+95dSOzOo/znwWv5U8errPvrFbJoLWAKh4Xy+gONqVu+BK9+vZG9R04zvHcM0SWLeF2aMblmwdbDDPpoOeGhIUwc0JKYAj77a07ZEUUBJCI8dmNthveKYUvcSToNXcCavce8LsuYHFNVxi/eRe/RS6lYqigzn7zeQiIXWFAUYLc2iGbGoDaEhghd3l/IjOV7vS7JmCt2NiWVZ2es4YWZa7mxXhTTB7WmamQxr8sKChYUBdzVFUsya/D1NKtWht9NW8XLs9aRnJrh0uTG+K2Dx5Lo+sFipsTu4Tc312FE7xib2C8XWRuFoWyJwozv34J/frWRUfN3sP7Acd59+DrKlbAuhMb/Ld1xhCcm/MyZcym837MZHRtV8LqkoGNHFAZw0368cHcD3uzahNV7E7nnnfms3muD84z/UlXGL9pJjxGLKVkkjJlPXm8hkUcsKMwFOjetzPTH2xAiwgPvL2Lqsj1el2TM/0hKTuWP01fzwqfruLFeFDMHX0/d6AivywpaFhTmfzSqXIrPftOW5jXK8McZq/n9tFWcOWfjLYx/2B5/ks7DFjBt+V6G+NojSlp7RJ6yoDAZiixeiHH9WjLklrrM+HkvnYctYGvcSa/LMgXcZ6v2c8878zl0PIkxjzTnmdvq2yC6fGBBYS4pNER45tZ6jOvXgsMnz3Lv0PnMXLHP67JMAZSUnMr/zVzDbyat4KqKJfliSDva1y/vdVkFhgWFuax2daP48ql2NKpUiqenrOTPH6+xqT9MvtmVcIoH3l/IR4t389gNtZg8sBWVShf1uqwCxbrHmiyJLlmEiQNa8p85m3nv+22s2H2Ud7o3tQZEk6dmrdrP8x+vISREGNk7hg4Nor0uqUCyIwqTZWGhIfyp41V82Lc58SfOcvc78xm3aKfNQmty3YmkZJ6ZspIhk1ZQJ7oEn/+mrYWEhywoTLbddFV5vnq6Ha1qleXFT9fRb8wy4k+c9bosEyRidx7hjrd+YubKfTzdoS7THrOpOLxmQWGuSPmIIox5pDl/ubchC7Yl0PHNH/lu4yGvyzIBLCU1jTfmbOahDxYhAtMeb83THeoRFmofU16z34C5YiJCnzY1+GxwW6IiCtNvTCwvzFzL6XMpXpdmAszOw6d48INFvD13C52bVubLIe1oVt1mffUX1phtcqx+hQhmPnk9r8/exKj5O/hhczyvPdCYVrXKel2a8XOpaW4t639/s4lCoSG8070p91xbyeuyzEXsiMLkiiLhobxwdwMmDWgFQLfhi3nx07WcOmtHFyZj2+JP8tAHi/jbFxu4vnY5vvntjRYSfsqOKEyual27LF8/3Y7XZ29izMKdfLcxjte6NKZNnXJel2b8RGqaMvKn7bwxZzNFwkP5b9dr6dykMiI2wtpfeXJEISKRIjJHRLb4/i2Tyb4lRWSviAzNzxrNlStWKIyX7mnI1MdaEx4aQo+RS3jukzWcSEr2ujTjsS2HTtDlvYX886uN3Fgvijm/vYH7mlaxkPBzXp16ehaYq6p1gbm+7Uv5K/BjvlRlclXzGpF8OaQdA9rVZNLS3dzynx+YtWq/jbsogE6fS+HVrzZyx1s/sSvhFG93b8oHvZpR3tZqDwheBUUnYKzv+ligc0Y7iUgzIBr4Jp/qMrmsaKFQnr+rAZ8+eT3RJYswZNIKeo5awrZ4m2CwIFBVvll3kFvf+JH3f9jGfU0r8+0zN3LvtZXsKCKAiBff7kQkUVVL+64LcPT8drp9QoDvgJ5AByBGVQdf4vkGAgMBqlWr1mzXrl15Wb65QqlpysQlu3ht9iaSklN57IbaPHlTHYoWCvW6NJMH9hw5zcuz1jF3Yxz1oyP4232NaF7Durz6KxFZrqoxGd2XZ43ZIvItkNFyU8+n31BVFZGM0uoJ4EtV3Xu5bx6qOhwYDhATE2PnNfxUaIjQq3UNOjaqyD++3MDQeVuZuXIfL9zdgNsaRNs3zCBx5lwqI3/aztB5WwkNEZ6/82r6Xl+DcBs4F7C8OqLYBLRX1QMiUhH4XlXrX7TPBKAdkAaUAAoB76pqZu0ZxMTEaGxsbB5VbnLTom0JvPDpWrbGnaRlzUiev+tqGlcpffkHGr+UlqZ8smIf//5mEweOJXFHowq8eE8DKpaymV4DQWZHFF4FxetAgqq+KiLPApGq+sdM9u9LJqee0rOgCCwpqWlMWraHN+dsJuHUOTo3qcQfOl5FZZtGOqAs2pbA379cz9p9x2lcpRTP3Xm1DbgMMJ6cerqMV4GpItIf2AU8BCAiMcDjqvqoR3WZfBYWGkKvVtXp3KQS732/jVHzd/DV2oP0b1uTQe1rE2FLXPq1rXEnefWrDXy7IY7KpYvyVrcm3NO4kq06F2Q8OaLIS3ZEEdj2JZ7h37M38cmKfZQpFs6AG2rRu3UNShS2saH+ZOfhUwydt5VPVuyjaHgoT9xUm37X16RIuHVMCFR+d+opL1lQBIc1e4/x3283893GOAsMP5I+IMJChJ6tqjOofW3KlSjsdWkmhywoTMBatSeRN7/dzLxN8RYYHsooIB67sRblI2zAXLCwoDABb+WeRN7yBUbpYuH0aFGNPm1qEG0je/PUit1Hf2k3CgsRHm5ZncdvrGUjqoOQBYUJGit2H+X9H7bxzfpDhIUIdzeuRP+2NWlUuZTXpQWNlNQ0vll/iJE/befn3YlEFA6jW4uqDGhnARHMLChM0NmdcJoPF+5g6rI9nDqXSouakfRvW5NbripvK6JdoWNnkpkWu4cPF+xkX+IZqkYWpd/1NXkwpqqd6isALChM0DqelMyUpXsYs9B9uJWPKEyXZlV4sFkVakWV8Lo8v5eWpizensCU2D18vfYgZ1PSaFEjkn5ta3Jrg2hCrZtrgWFBYYJeSmoa326IY/ryPczbFE9qmtKiRiQPxlThzmsqUty+EV9gX+IZpsfuZdryPew9eoaSRcLo1KQyXZtXtdN4BZQFhSlQDh1P4uOf9zEtdg/bD5+ieKFQOjSIpmPDCtxYP4pihQpmaBw8lsTsdQf5au0Bluw4giq0rVOOB2OqcHvDCjYGooCzoDAFkqqyfNdRpi/fy+x1Bzl6Opki4SHcWC+Kjo0qcPNV0ZQqGtwjv3clnOLrtQf5et1BVuxOBKBu+RLc1bgiXa6rQtXIYh5XaPyFBYUp8FJS01i68wizfR+ah46fJTxUiKkeyfV1ytK6djkaVykV8DOcHk9KZun2IyzclsCCrYfZdOgEAI0ql+SORhW5vWEF6pS3thvzvywojEknLU1ZuTeR2WsP8tOWw6w/cByAEoXDaFEzkja1y9KiZiT1K0RQOMy/T8ccO53M6n2JLNqWwMJtCazem0iaQuGwEJrXiKR9/Shub1jBjhzMZVlQGJOJI6fOsXh7Agu3HWbhtgS2x58CICxEqBsdQaNKJWlUuRSNKpfkqgolPWkYV1XiT55l3f7jrNt3jLX7jrN2/zH2Hj3zS61NqpamTW13dNS0WmlrczDZYkFhTDYcPJbEit1HWbvf94G87xgJp879cn+5EoWpGlmUqmWKUS2yGFUji1KlTDHKFCtEqWLhlCoaTvFCoVleiCk1TTmRlMyxM+5y+ORZdiecZs/RM+w+cpo9vsupc6m/PKZmueI0PB9glUrRtFpp69llcsSCwpgcUFUOHT/Lmn3H2HTwOHuO+D7Aj57mwLEkUtP+928oLEQoWTSckkXCMmz3UNxKcMeTkjmRlJLh6xYJD6FqmWJUjXSBVC2yGA0rleTqSiUpadOvm1zmj+tRGBMwRIQKpYpQoVQRbm0QfcF9yalpHEhMYm/iaY6d/vWo4NiZZI4nJXPsTAqpaWkZPm+RsFAXJkXdUcj5S2TxQlSNLEpUicK2PKzxCxYUxuRAeGgI1coWo1pZayw2wSuw+wIaY4zJcxYUxhhjMmVBYYwxJlMWFMYYYzJlQWGMMSZTFhTGGGMyZUFhjDEmUxYUxhhjMhV0U3iISDywK4+evhxwOI+eOz9Y/d4L9PcQ6PVD4L+HvKq/uqpGZXRH0AVFXhKR2EvNhRIIrH7vBfp7CPT6IfDfgxf126knY4wxmbKgMMYYkykLiuwZ7nUBOWT1ey/Q30Og1w+B/x7yvX5rozDGGJMpO6IwxhiTKQsKY4wxmbKgyAYR+auIrBaRlSLyjYhU8rqm7BKR10Vko+99fCIipb2uKTtE5EERWSciaSISMF0cRaSjiGwSka0i8qzX9WSXiIwWkTgRWet1LVdCRKqKyDwRWe/7//OU1zVll4gUEZGlIrLK9x7+km+vbW0UWSciJVX1uO/6EKCBqj7ucVnZIiK3Ad+paoqI/AtAVf/kcVlZJiJXA2nAB8DvVdXvF0gXkVBgM3ArsBdYBnRX1fWeFpYNInIDcBIYp6qNvK4nu0SkIlBRVX8WkQhgOdA5wH4HAhRX1ZMiEg7MB55S1cV5/dp2RJEN50PCpzgQcCmrqt+oaopvczFQxct6sktVN6jqJq/ryKYWwFZV3a6q54DJQCePa8oWVf0ROOJ1HVdKVQ+o6s++6yeADUBlb6vKHnVO+jbDfZd8+QyyoMgmEfm7iOwBHgZe9LqeHOoHfOV1EQVAZWBPuu29BNiHVDARkRpAU2CJt5Vkn4iEishKIA6Yo6r58h4sKC4iIt+KyNoMLp0AVPV5Va0KTAAGe1ttxi73Hnz7PA+k4N6HX8lK/cZcCREpAcwAnr7oDEFAUNVUVW2COxPQQkTy5TRgWH68SCBR1Q5Z3HUC8CXwUh6Wc0Uu9x5EpC9wN3CL+mEjVTZ+B4FiH1A13XYV320mH/nO688AJqjqx17XkxOqmigi84COQJ53MLAjimwQkbrpNjsBG72q5UqJSEfgj8C9qnra63oKiGVAXRGpKSKFgG7ALI9rKlB8DcGjgA2q+obX9VwJEYk630tRRIriOkfky2eQ9XrKBhGZAdTH9brZBTyuqgH1zVBEtgKFgQTfTYsDqeeWiNwHvANEAYnASlW93duqLk9E7gTeBEKB0ar6d49LyhYRmQS0x01xfQh4SVVHeVpUNohIW+AnYA3u7xfgOVX90ruqskdEGgNjcf+HQoCpqvpKvry2BYUxxpjM2KknY4wxmbKgMMYYkykLCmOMMZmyoDDGGJMpCwpjjDGZsqAwxhiTKQsKE1BEpIlvTEJePHdfEYkXkZHpbmsqIqPS3T/0Ms/RXkTapNvuLCIN0m2/IiJ+PfJcRJ7L4eMvfs//FpGbM9jvzyKSLCK9LvN8g33Ts6uIlEt3e1ff7Z/npF5zeRYUJtA0AfIkKHymqOqj6bafA97OxuPbA23SbXcGfvnQVNUXVfXbHFWY93IUFFz0nnEDJC9Yg8MXDh2Bq4HfXSY8FwAdcINcf6GqU4BHM3yEyVUWFCZDIlLDt8DRGBHZLCITRKSDiCwQkS0i0sK3X6SIzPQthLTYN3oUEXlZRMaKyE8isktE7heR10RkjYh87Zt3BxFpJiI/iMhyEZntWzcAEfleRP4lbqGWzSLSzjf9xStAV3GLR3X1vc7v09W91ld7luq/zM8gAmisqqsyuO8eEVkiIit8kxhGi5uV9HHgt776bgTuBV73bdf21fOA7zmai8hCcQvRLBWRCHGzg74uIst8P9PHLlFbb9/9q0RkfLrf2Xe+2+eKSDXf7WNE5G3fa21P9/oVReRHX21rfT/jV4Givtsm+Pab6fv9rBORgelqOCluNuVVvt99tO9o6oL3rKq7gLIiUsH3uA5Ab+BOVd0K3Ab8RUSuzei9quoKVd15ud+XyUOqahe7/M8FqIGbXfYa3BeK5cBoQHDzXM307fcObjoHgJtxU2oAvIxbWCUcuBY4Ddzhu+8T3LfOcGAhEOW7vStueguA74H/+K7fCXzru94XGJquzpdxCxid317rqz1L9V/0ni9+7puAGRndD5Th15kNHk1X68X1jAEeuHgbKARsB5r7bi+Jm6RzIPB/vtsKA7FAzYvqbIhbCKmcbzvS9+9nQB/f9X7pfkdjgGm+n0MD3NoYAL8DnvddDwUifNdPXvR655+/qO/nW9a3rcA9vuuvpav7gvfsu20E0CWH/yd3nn/P6W5rD3zu9d9LsF9s9liTmR2qugZARNYBc1VVRWQN7oMYoC3QBUBVvxORsiJS0nffV6qa7Ns/FPjad/v5x9cHGgFzRATfPgfSvf75GT6Xp3u93K4/MxWB+EvcVwWY4jsCKgTsyGZt9YEDqroMfl0US9wKhI3Pf+sHSgF1L3r+m4FpqnrY99jzCwq1Bu73XR+P+/A+b6aqpgHrRSTad9syYLTv6G6mqq68RK1DxM2xBW4W3Lq4ucLOAefbB5bjJqm7lDgg4JYONo4FhcnM2XTX09Jtp5G1/ztnAVQ1TUSS1fcVMN3jBVinqq0v8/qpmbxeCheeQi2Si/Wfuej50nsHeENVZ4lIe9yRRG4Q4DeqOjuXnu+89D8LAbdqnbglTu8CxojIG6o67oJi3HvrALRW1dMi8j2//kzS/04z+x3he8yZrBQqIrOBaCBWL2wvMh6xNgqTUz/hVvs7/6FyWLO+IMwmIEpEWvseHy4iDS/zmBNARLrtncB1vsdfB9TMcuWXtwGoc4n7SvHrmhJ9Mqnv4u3zNgEVRaQ5uPYQEQkDZgOD0rXh1BOR4hc99jvgQREp69sn0nf7QtwU5uB+Jz9l9uZEpDpwSFVHACPx/RyB5POv73ufR30hcRXQKrPnzOQ91yOL6yao6u2q2sRCwn9YUJicehloJiKrgVe58EMzU+rWj34A+JeIrAJWcmGPoYzMAxqcb8zGLUQT6Tu1NBh37j5XqOpGoJSvUftiLwPTRGQ5cDjd7Z8B9/nqa4dbH/sPvkbv2ume+xyuTeYd33ufg/vWPRJYD/wsImuBD7jom7qqrgP+Dvzge+z59RV+Azzi+130Ap66zFtsD6wSkRW+Wt7y3T4cWO1rzP4aCBORDbjf7+LLPCcXv2df6NTBtbdkm4gMEZG9uNN9qyVd92WTP2yacWN8xK38F6Oqg9Pd9lvghKrah9MV8rVvXKeqL+TBc7fHdR64O7ef2/zKjiiM+dUZ4I6LvrG+x4Xn9032hQH/ye0n9R1Rvgscze3nNheyIwpjjDGZsiMKY4wxmbKgMMYYkykLCmOMMZmyoDDGGJOp/wf+sMNkhr1UoAAAAABJRU5ErkJggg==\n"
                },
                "metadata": {
                  "needs_background": "light"
                }
              }
            ]
          }
        },
        "752c1b6883554091acee09c47f930786": {
          "model_module": "@jupyter-widgets/base",
          "model_name": "LayoutModel",
          "model_module_version": "1.2.0",
          "state": {
            "_model_module": "@jupyter-widgets/base",
            "_model_module_version": "1.2.0",
            "_model_name": "LayoutModel",
            "_view_count": null,
            "_view_module": "@jupyter-widgets/base",
            "_view_module_version": "1.2.0",
            "_view_name": "LayoutView",
            "align_content": null,
            "align_items": null,
            "align_self": null,
            "border": null,
            "bottom": null,
            "display": null,
            "flex": null,
            "flex_flow": null,
            "grid_area": null,
            "grid_auto_columns": null,
            "grid_auto_flow": null,
            "grid_auto_rows": null,
            "grid_column": null,
            "grid_gap": null,
            "grid_row": null,
            "grid_template_areas": null,
            "grid_template_columns": null,
            "grid_template_rows": null,
            "height": null,
            "justify_content": null,
            "justify_items": null,
            "left": null,
            "margin": null,
            "max_height": null,
            "max_width": null,
            "min_height": null,
            "min_width": null,
            "object_fit": null,
            "object_position": null,
            "order": null,
            "overflow": null,
            "overflow_x": null,
            "overflow_y": null,
            "padding": null,
            "right": null,
            "top": null,
            "visibility": null,
            "width": null
          }
        },
        "cf872a48f2674235a56cfe4185a591bf": {
          "model_module": "@jupyter-widgets/base",
          "model_name": "LayoutModel",
          "model_module_version": "1.2.0",
          "state": {
            "_model_module": "@jupyter-widgets/base",
            "_model_module_version": "1.2.0",
            "_model_name": "LayoutModel",
            "_view_count": null,
            "_view_module": "@jupyter-widgets/base",
            "_view_module_version": "1.2.0",
            "_view_name": "LayoutView",
            "align_content": null,
            "align_items": null,
            "align_self": null,
            "border": null,
            "bottom": null,
            "display": null,
            "flex": null,
            "flex_flow": null,
            "grid_area": null,
            "grid_auto_columns": null,
            "grid_auto_flow": null,
            "grid_auto_rows": null,
            "grid_column": null,
            "grid_gap": null,
            "grid_row": null,
            "grid_template_areas": null,
            "grid_template_columns": null,
            "grid_template_rows": null,
            "height": null,
            "justify_content": null,
            "justify_items": null,
            "left": null,
            "margin": null,
            "max_height": null,
            "max_width": null,
            "min_height": null,
            "min_width": null,
            "object_fit": null,
            "object_position": null,
            "order": null,
            "overflow": null,
            "overflow_x": null,
            "overflow_y": null,
            "padding": null,
            "right": null,
            "top": null,
            "visibility": null,
            "width": null
          }
        },
        "aef0c150a5774b59a22faedfe95a7f05": {
          "model_module": "@jupyter-widgets/controls",
          "model_name": "SliderStyleModel",
          "model_module_version": "1.5.0",
          "state": {
            "_model_module": "@jupyter-widgets/controls",
            "_model_module_version": "1.5.0",
            "_model_name": "SliderStyleModel",
            "_view_count": null,
            "_view_module": "@jupyter-widgets/base",
            "_view_module_version": "1.2.0",
            "_view_name": "StyleView",
            "description_width": "",
            "handle_color": null
          }
        },
        "a340603aa7884e2a896d5997316d5fb2": {
          "model_module": "@jupyter-widgets/base",
          "model_name": "LayoutModel",
          "model_module_version": "1.2.0",
          "state": {
            "_model_module": "@jupyter-widgets/base",
            "_model_module_version": "1.2.0",
            "_model_name": "LayoutModel",
            "_view_count": null,
            "_view_module": "@jupyter-widgets/base",
            "_view_module_version": "1.2.0",
            "_view_name": "LayoutView",
            "align_content": null,
            "align_items": null,
            "align_self": null,
            "border": null,
            "bottom": null,
            "display": null,
            "flex": null,
            "flex_flow": null,
            "grid_area": null,
            "grid_auto_columns": null,
            "grid_auto_flow": null,
            "grid_auto_rows": null,
            "grid_column": null,
            "grid_gap": null,
            "grid_row": null,
            "grid_template_areas": null,
            "grid_template_columns": null,
            "grid_template_rows": null,
            "height": null,
            "justify_content": null,
            "justify_items": null,
            "left": null,
            "margin": null,
            "max_height": null,
            "max_width": null,
            "min_height": null,
            "min_width": null,
            "object_fit": null,
            "object_position": null,
            "order": null,
            "overflow": null,
            "overflow_x": null,
            "overflow_y": null,
            "padding": null,
            "right": null,
            "top": null,
            "visibility": null,
            "width": null
          }
        },
        "9fc76e35e3d8459c9c6f5458708a2c56": {
          "model_module": "@jupyter-widgets/controls",
          "model_name": "SliderStyleModel",
          "model_module_version": "1.5.0",
          "state": {
            "_model_module": "@jupyter-widgets/controls",
            "_model_module_version": "1.5.0",
            "_model_name": "SliderStyleModel",
            "_view_count": null,
            "_view_module": "@jupyter-widgets/base",
            "_view_module_version": "1.2.0",
            "_view_name": "StyleView",
            "description_width": "",
            "handle_color": null
          }
        },
        "10fc4c2185214be8bd95bfc4fbdaea80": {
          "model_module": "@jupyter-widgets/base",
          "model_name": "LayoutModel",
          "model_module_version": "1.2.0",
          "state": {
            "_model_module": "@jupyter-widgets/base",
            "_model_module_version": "1.2.0",
            "_model_name": "LayoutModel",
            "_view_count": null,
            "_view_module": "@jupyter-widgets/base",
            "_view_module_version": "1.2.0",
            "_view_name": "LayoutView",
            "align_content": null,
            "align_items": null,
            "align_self": null,
            "border": null,
            "bottom": null,
            "display": null,
            "flex": null,
            "flex_flow": null,
            "grid_area": null,
            "grid_auto_columns": null,
            "grid_auto_flow": null,
            "grid_auto_rows": null,
            "grid_column": null,
            "grid_gap": null,
            "grid_row": null,
            "grid_template_areas": null,
            "grid_template_columns": null,
            "grid_template_rows": null,
            "height": null,
            "justify_content": null,
            "justify_items": null,
            "left": null,
            "margin": null,
            "max_height": null,
            "max_width": null,
            "min_height": null,
            "min_width": null,
            "object_fit": null,
            "object_position": null,
            "order": null,
            "overflow": null,
            "overflow_x": null,
            "overflow_y": null,
            "padding": null,
            "right": null,
            "top": null,
            "visibility": null,
            "width": null
          }
        },
        "2152ac90e17b40bdb8d093bc8496a99a": {
          "model_module": "@jupyter-widgets/controls",
          "model_name": "VBoxModel",
          "model_module_version": "1.5.0",
          "state": {
            "_dom_classes": [
              "widget-interact"
            ],
            "_model_module": "@jupyter-widgets/controls",
            "_model_module_version": "1.5.0",
            "_model_name": "VBoxModel",
            "_view_count": null,
            "_view_module": "@jupyter-widgets/controls",
            "_view_module_version": "1.5.0",
            "_view_name": "VBoxView",
            "box_style": "",
            "children": [
              "IPY_MODEL_6253282160614c788072265310bc3315",
              "IPY_MODEL_aa1ba24ce118447abf1a8437482b3c3a",
              "IPY_MODEL_f69809fcc341423b9b8a97e5aa475afe",
              "IPY_MODEL_b18570b111b24c36b8b3e3c5bf42e8bb"
            ],
            "layout": "IPY_MODEL_0c60faa8e6c1460c8f3de40b4dd2ef6f"
          }
        },
        "6253282160614c788072265310bc3315": {
          "model_module": "@jupyter-widgets/controls",
          "model_name": "FloatSliderModel",
          "model_module_version": "1.5.0",
          "state": {
            "_dom_classes": [],
            "_model_module": "@jupyter-widgets/controls",
            "_model_module_version": "1.5.0",
            "_model_name": "FloatSliderModel",
            "_view_count": null,
            "_view_module": "@jupyter-widgets/controls",
            "_view_module_version": "1.5.0",
            "_view_name": "FloatSliderView",
            "continuous_update": true,
            "description": "v",
            "description_tooltip": null,
            "disabled": false,
            "layout": "IPY_MODEL_9b8c129f477d45e99cf2ae89a1af2e0b",
            "max": 0.9,
            "min": 0,
            "orientation": "horizontal",
            "readout": true,
            "readout_format": ".2f",
            "step": 0.01,
            "style": "IPY_MODEL_5e30a24aae064dc2af21c6fb4be4fb50",
            "value": 0.66
          }
        },
        "aa1ba24ce118447abf1a8437482b3c3a": {
          "model_module": "@jupyter-widgets/controls",
          "model_name": "FloatSliderModel",
          "model_module_version": "1.5.0",
          "state": {
            "_dom_classes": [],
            "_model_module": "@jupyter-widgets/controls",
            "_model_module_version": "1.5.0",
            "_model_name": "FloatSliderModel",
            "_view_count": null,
            "_view_module": "@jupyter-widgets/controls",
            "_view_module_version": "1.5.0",
            "_view_name": "FloatSliderView",
            "continuous_update": true,
            "description": "w",
            "description_tooltip": null,
            "disabled": false,
            "layout": "IPY_MODEL_3aa14fdb3f3246a29892b10ec77ac971",
            "max": 0.9,
            "min": 0,
            "orientation": "horizontal",
            "readout": true,
            "readout_format": ".2f",
            "step": 0.01,
            "style": "IPY_MODEL_9cd613b498cd4ec0a34fd3a51ec1b236",
            "value": 0.45
          }
        },
        "f69809fcc341423b9b8a97e5aa475afe": {
          "model_module": "@jupyter-widgets/controls",
          "model_name": "FloatSliderModel",
          "model_module_version": "1.5.0",
          "state": {
            "_dom_classes": [],
            "_model_module": "@jupyter-widgets/controls",
            "_model_module_version": "1.5.0",
            "_model_name": "FloatSliderModel",
            "_view_count": null,
            "_view_module": "@jupyter-widgets/controls",
            "_view_module_version": "1.5.0",
            "_view_name": "FloatSliderView",
            "continuous_update": true,
            "description": "energy",
            "description_tooltip": null,
            "disabled": false,
            "layout": "IPY_MODEL_fc6dcd0309a94f2b8434c8933e1ce3ea",
            "max": 1,
            "min": 0,
            "orientation": "horizontal",
            "readout": true,
            "readout_format": ".2f",
            "step": 0.1,
            "style": "IPY_MODEL_c73abbb829114fda9d011706cccbfdea",
            "value": 0.8
          }
        },
        "b18570b111b24c36b8b3e3c5bf42e8bb": {
          "model_module": "@jupyter-widgets/output",
          "model_name": "OutputModel",
          "model_module_version": "1.0.0",
          "state": {
            "_dom_classes": [],
            "_model_module": "@jupyter-widgets/output",
            "_model_module_version": "1.0.0",
            "_model_name": "OutputModel",
            "_view_count": null,
            "_view_module": "@jupyter-widgets/output",
            "_view_module_version": "1.0.0",
            "_view_name": "OutputView",
            "layout": "IPY_MODEL_c28895ea595f4e79863923c045ff7955",
            "msg_id": "",
            "outputs": [
              {
                "output_type": "display_data",
                "data": {
                  "text/plain": "<Figure size 432x288 with 1 Axes>",
                  "image/png": "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\n"
                },
                "metadata": {
                  "needs_background": "light"
                }
              }
            ]
          }
        },
        "0c60faa8e6c1460c8f3de40b4dd2ef6f": {
          "model_module": "@jupyter-widgets/base",
          "model_name": "LayoutModel",
          "model_module_version": "1.2.0",
          "state": {
            "_model_module": "@jupyter-widgets/base",
            "_model_module_version": "1.2.0",
            "_model_name": "LayoutModel",
            "_view_count": null,
            "_view_module": "@jupyter-widgets/base",
            "_view_module_version": "1.2.0",
            "_view_name": "LayoutView",
            "align_content": null,
            "align_items": null,
            "align_self": null,
            "border": null,
            "bottom": null,
            "display": null,
            "flex": null,
            "flex_flow": null,
            "grid_area": null,
            "grid_auto_columns": null,
            "grid_auto_flow": null,
            "grid_auto_rows": null,
            "grid_column": null,
            "grid_gap": null,
            "grid_row": null,
            "grid_template_areas": null,
            "grid_template_columns": null,
            "grid_template_rows": null,
            "height": null,
            "justify_content": null,
            "justify_items": null,
            "left": null,
            "margin": null,
            "max_height": null,
            "max_width": null,
            "min_height": null,
            "min_width": null,
            "object_fit": null,
            "object_position": null,
            "order": null,
            "overflow": null,
            "overflow_x": null,
            "overflow_y": null,
            "padding": null,
            "right": null,
            "top": null,
            "visibility": null,
            "width": null
          }
        },
        "9b8c129f477d45e99cf2ae89a1af2e0b": {
          "model_module": "@jupyter-widgets/base",
          "model_name": "LayoutModel",
          "model_module_version": "1.2.0",
          "state": {
            "_model_module": "@jupyter-widgets/base",
            "_model_module_version": "1.2.0",
            "_model_name": "LayoutModel",
            "_view_count": null,
            "_view_module": "@jupyter-widgets/base",
            "_view_module_version": "1.2.0",
            "_view_name": "LayoutView",
            "align_content": null,
            "align_items": null,
            "align_self": null,
            "border": null,
            "bottom": null,
            "display": null,
            "flex": null,
            "flex_flow": null,
            "grid_area": null,
            "grid_auto_columns": null,
            "grid_auto_flow": null,
            "grid_auto_rows": null,
            "grid_column": null,
            "grid_gap": null,
            "grid_row": null,
            "grid_template_areas": null,
            "grid_template_columns": null,
            "grid_template_rows": null,
            "height": null,
            "justify_content": null,
            "justify_items": null,
            "left": null,
            "margin": null,
            "max_height": null,
            "max_width": null,
            "min_height": null,
            "min_width": null,
            "object_fit": null,
            "object_position": null,
            "order": null,
            "overflow": null,
            "overflow_x": null,
            "overflow_y": null,
            "padding": null,
            "right": null,
            "top": null,
            "visibility": null,
            "width": null
          }
        },
        "5e30a24aae064dc2af21c6fb4be4fb50": {
          "model_module": "@jupyter-widgets/controls",
          "model_name": "SliderStyleModel",
          "model_module_version": "1.5.0",
          "state": {
            "_model_module": "@jupyter-widgets/controls",
            "_model_module_version": "1.5.0",
            "_model_name": "SliderStyleModel",
            "_view_count": null,
            "_view_module": "@jupyter-widgets/base",
            "_view_module_version": "1.2.0",
            "_view_name": "StyleView",
            "description_width": "",
            "handle_color": null
          }
        },
        "3aa14fdb3f3246a29892b10ec77ac971": {
          "model_module": "@jupyter-widgets/base",
          "model_name": "LayoutModel",
          "model_module_version": "1.2.0",
          "state": {
            "_model_module": "@jupyter-widgets/base",
            "_model_module_version": "1.2.0",
            "_model_name": "LayoutModel",
            "_view_count": null,
            "_view_module": "@jupyter-widgets/base",
            "_view_module_version": "1.2.0",
            "_view_name": "LayoutView",
            "align_content": null,
            "align_items": null,
            "align_self": null,
            "border": null,
            "bottom": null,
            "display": null,
            "flex": null,
            "flex_flow": null,
            "grid_area": null,
            "grid_auto_columns": null,
            "grid_auto_flow": null,
            "grid_auto_rows": null,
            "grid_column": null,
            "grid_gap": null,
            "grid_row": null,
            "grid_template_areas": null,
            "grid_template_columns": null,
            "grid_template_rows": null,
            "height": null,
            "justify_content": null,
            "justify_items": null,
            "left": null,
            "margin": null,
            "max_height": null,
            "max_width": null,
            "min_height": null,
            "min_width": null,
            "object_fit": null,
            "object_position": null,
            "order": null,
            "overflow": null,
            "overflow_x": null,
            "overflow_y": null,
            "padding": null,
            "right": null,
            "top": null,
            "visibility": null,
            "width": null
          }
        },
        "9cd613b498cd4ec0a34fd3a51ec1b236": {
          "model_module": "@jupyter-widgets/controls",
          "model_name": "SliderStyleModel",
          "model_module_version": "1.5.0",
          "state": {
            "_model_module": "@jupyter-widgets/controls",
            "_model_module_version": "1.5.0",
            "_model_name": "SliderStyleModel",
            "_view_count": null,
            "_view_module": "@jupyter-widgets/base",
            "_view_module_version": "1.2.0",
            "_view_name": "StyleView",
            "description_width": "",
            "handle_color": null
          }
        },
        "fc6dcd0309a94f2b8434c8933e1ce3ea": {
          "model_module": "@jupyter-widgets/base",
          "model_name": "LayoutModel",
          "model_module_version": "1.2.0",
          "state": {
            "_model_module": "@jupyter-widgets/base",
            "_model_module_version": "1.2.0",
            "_model_name": "LayoutModel",
            "_view_count": null,
            "_view_module": "@jupyter-widgets/base",
            "_view_module_version": "1.2.0",
            "_view_name": "LayoutView",
            "align_content": null,
            "align_items": null,
            "align_self": null,
            "border": null,
            "bottom": null,
            "display": null,
            "flex": null,
            "flex_flow": null,
            "grid_area": null,
            "grid_auto_columns": null,
            "grid_auto_flow": null,
            "grid_auto_rows": null,
            "grid_column": null,
            "grid_gap": null,
            "grid_row": null,
            "grid_template_areas": null,
            "grid_template_columns": null,
            "grid_template_rows": null,
            "height": null,
            "justify_content": null,
            "justify_items": null,
            "left": null,
            "margin": null,
            "max_height": null,
            "max_width": null,
            "min_height": null,
            "min_width": null,
            "object_fit": null,
            "object_position": null,
            "order": null,
            "overflow": null,
            "overflow_x": null,
            "overflow_y": null,
            "padding": null,
            "right": null,
            "top": null,
            "visibility": null,
            "width": null
          }
        },
        "c73abbb829114fda9d011706cccbfdea": {
          "model_module": "@jupyter-widgets/controls",
          "model_name": "SliderStyleModel",
          "model_module_version": "1.5.0",
          "state": {
            "_model_module": "@jupyter-widgets/controls",
            "_model_module_version": "1.5.0",
            "_model_name": "SliderStyleModel",
            "_view_count": null,
            "_view_module": "@jupyter-widgets/base",
            "_view_module_version": "1.2.0",
            "_view_name": "StyleView",
            "description_width": "",
            "handle_color": null
          }
        },
        "c28895ea595f4e79863923c045ff7955": {
          "model_module": "@jupyter-widgets/base",
          "model_name": "LayoutModel",
          "model_module_version": "1.2.0",
          "state": {
            "_model_module": "@jupyter-widgets/base",
            "_model_module_version": "1.2.0",
            "_model_name": "LayoutModel",
            "_view_count": null,
            "_view_module": "@jupyter-widgets/base",
            "_view_module_version": "1.2.0",
            "_view_name": "LayoutView",
            "align_content": null,
            "align_items": null,
            "align_self": null,
            "border": null,
            "bottom": null,
            "display": null,
            "flex": null,
            "flex_flow": null,
            "grid_area": null,
            "grid_auto_columns": null,
            "grid_auto_flow": null,
            "grid_auto_rows": null,
            "grid_column": null,
            "grid_gap": null,
            "grid_row": null,
            "grid_template_areas": null,
            "grid_template_columns": null,
            "grid_template_rows": null,
            "height": null,
            "justify_content": null,
            "justify_items": null,
            "left": null,
            "margin": null,
            "max_height": null,
            "max_width": null,
            "min_height": null,
            "min_width": null,
            "object_fit": null,
            "object_position": null,
            "order": null,
            "overflow": null,
            "overflow_x": null,
            "overflow_y": null,
            "padding": null,
            "right": null,
            "top": null,
            "visibility": null,
            "width": null
          }
        }
      }
    }
  },
  "nbformat": 4,
  "nbformat_minor": 5
}