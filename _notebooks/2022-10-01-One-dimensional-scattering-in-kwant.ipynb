{
 "cells": [
  {
   "cell_type": "markdown",
   "metadata": {},
   "source": [
    "# One dimensional scattering in kwant"
   ]
  },
  {
   "cell_type": "code",
   "execution_count": null,
   "metadata": {},
   "outputs": [],
   "source": [
    "import kwant\n",
    "import matplotlib.pyplot as plt\n",
    "import numpy as np"
   ]
  },
  {
   "cell_type": "code",
   "execution_count": null,
   "metadata": {},
   "outputs": [],
   "source": [
    "JtomeV = 6.242 * 10**21\n",
    "mevtoJ = JtomeV ** (-1)\n",
    "hbar = 1.0545718 * 10 ** (-34)  # m^2 kg/s\n",
    "hbarr = 6.58211 * 10 ** (-13)  # meV s\n",
    "me = 9.10938356 * 10 ** (-31)  # kg\n",
    "mc = 1.782 * 10 ** (-36)  ##eV/c^2 = mc kg\n",
    "c = 3 * 10**8\n",
    "a = 0.5 * 10 ** (-9)  # m\n",
    "meff = 0.07  # non dim\n",
    "t = (hbar) ** 2 / (2 * meff * me * a**2) * JtomeV  # j->mev\n",
    "l = 5 * 10 ** (-8)\n",
    "L = int(l / a)\n",
    "v0 = 20\n",
    "\n",
    "syst = kwant.Builder()\n",
    "lat = kwant.lattice.chain(a)"
   ]
  },
  {
   "cell_type": "code",
   "execution_count": null,
   "metadata": {},
   "outputs": [],
   "source": [
    "def v(x, p=L / 10.0, k=9 * (L / 10.0), V=v0):\n",
    "    if x < p:\n",
    "        return 0\n",
    "    if x >= p and x <= k:\n",
    "        return V\n",
    "    if x > k:\n",
    "        return 0"
   ]
  },
  {
   "cell_type": "code",
   "execution_count": null,
   "metadata": {},
   "outputs": [],
   "source": [
    "def v_g(x, v=v0, w=2 * L / 5.0, n=50, V=v0):\n",
    "    return V * np.exp(-(((x - L / 2.0) / w) ** n))"
   ]
  },
  {
   "cell_type": "code",
   "execution_count": null,
   "metadata": {},
   "outputs": [],
   "source": [
    "# build\n",
    "for i in range(L):\n",
    "    syst[lat(i)] = 2 * t + v_g(i)\n",
    "    # hopping\n",
    "    if i > 0:\n",
    "        syst[lat(i), lat(i - 1)] = -t\n",
    "\n",
    "# left lead\n",
    "sym_left_lead = kwant.TranslationalSymmetry([-a])\n",
    "left_lead = kwant.Builder(sym_left_lead)\n",
    "left_lead[lat(0)] = 2 * t\n",
    "left_lead[lat(0), lat(1)] = -t\n",
    "syst.attach_lead(left_lead)\n",
    "\n",
    "# right lead\n",
    "sym_right_lead = kwant.TranslationalSymmetry([a])\n",
    "right_lead = kwant.Builder(sym_right_lead)\n",
    "right_lead[lat(0)] = 2 * t\n",
    "right_lead[lat(0), lat(1)] = -t\n",
    "syst.attach_lead(right_lead)\n",
    "right_lead = right_lead.finalized()\n",
    "\n",
    "kwant.plot(syst)\n",
    "syst = syst.finalized()\n",
    "kwant.plotter.bands(right_lead, show=False)\n",
    "plt.xlabel(\"momentum [(lattice constant)^-1]\")\n",
    "plt.ylabel(\"energy [meV]\")\n",
    "plt.show()\n",
    "\n",
    "energies = []\n",
    "data = []\n",
    "\n",
    "n = 800\n",
    "Emax = 3 * v0\n",
    "for ie in range(n):\n",
    "    energy = Emax * (ie + 1) / n  # mev\n",
    "    smatrix = kwant.smatrix(syst, energy)\n",
    "    energies.append(energy)\n",
    "    data.append(smatrix.transmission(1, 0))\n",
    "\n",
    "plt.figure()\n",
    "plt.plot(energies, data, label=\"KWANT\")\n",
    "plt.xlabel(\"energy [meV]\")\n",
    "plt.ylabel(\"conductance [e^2/h]\")"
   ]
  },
  {
   "cell_type": "code",
   "execution_count": null,
   "metadata": {},
   "outputs": [],
   "source": [
    "def an_sol(E, V0=v0, L=0.8 * l):\n",
    "    E = np.array(E) * mevtoJ\n",
    "    V0 *= mevtoJ\n",
    "    m = me * meff\n",
    "    k2 = np.sqrt(abs(2 * m * (E - V0)) * hbar ** (-2))\n",
    "    v = []\n",
    "\n",
    "    for i in range(np.size(E)):\n",
    "        kd = k2[i]\n",
    "        e = E[i]\n",
    "        if E[i] < 0.999999 * V0:\n",
    "            t = V0**2 * np.sinh(kd * L) ** 2 / (4 * e * (V0 - e))\n",
    "            v.append(t)\n",
    "        elif E[i] > 1.0000001 * V0:\n",
    "            t = V0**2 * np.sin(kd * L) ** 2 / (4 * e * (e - V0))\n",
    "            v.append(t)\n",
    "    v = np.array(v)\n",
    "    return 1 / (1 + v)"
   ]
  },
  {
   "cell_type": "code",
   "execution_count": null,
   "metadata": {},
   "outputs": [],
   "source": [
    "t = an_sol(np.linspace(0.001, Emax, 10000))\n",
    "plt.plot(np.linspace(0.001, Emax, 10000), t, label=\"ANALITICAL\")\n",
    "plt.legend()\n",
    "plt.show()"
   ]
  }
 ],
 "metadata": {
  "language_info": {
   "name": "python"
  },
  "orig_nbformat": 4
 },
 "nbformat": 4,
 "nbformat_minor": 2
}
