{
  "cells": [
    {
      "cell_type": "markdown",
      "metadata": {
        "id": "AGDNMH7ou0p1"
      },
      "source": [
        "# One dimensional scattering in kwant"
      ]
    },
    {
      "cell_type": "code",
      "source": [
        "!pip3 install kwant"
      ],
      "metadata": {
        "id": "V9am3Cccu2py",
        "outputId": "1df4a6ce-6e67-4188-ef39-b1b48cf30472",
        "colab": {
          "base_uri": "https://localhost:8080/"
        }
      },
      "execution_count": 2,
      "outputs": [
        {
          "output_type": "stream",
          "name": "stdout",
          "text": [
            "Looking in indexes: https://pypi.org/simple, https://us-python.pkg.dev/colab-wheels/public/simple/\n",
            "Collecting kwant\n",
            "  Downloading kwant-1.4.3.tar.gz (1.6 MB)\n",
            "\u001b[2K     \u001b[90m━━━━━━━━━━━━━━━━━━━━━━━━━━━━━━━━━━━━━━━━\u001b[0m \u001b[32m1.6/1.6 MB\u001b[0m \u001b[31m23.2 MB/s\u001b[0m eta \u001b[36m0:00:00\u001b[0m\n",
            "\u001b[?25h  Preparing metadata (setup.py) ... \u001b[?25l\u001b[?25hdone\n",
            "Requirement already satisfied: numpy>=1.11.0 in /usr/local/lib/python3.9/dist-packages (from kwant) (1.22.4)\n",
            "Requirement already satisfied: scipy>=0.17.0 in /usr/local/lib/python3.9/dist-packages (from kwant) (1.10.1)\n",
            "Collecting tinyarray>=1.2\n",
            "  Downloading tinyarray-1.2.4.tar.gz (37 kB)\n",
            "  Preparing metadata (setup.py) ... \u001b[?25l\u001b[?25hdone\n",
            "Building wheels for collected packages: kwant, tinyarray\n",
            "  Building wheel for kwant (setup.py) ... \u001b[?25l\u001b[?25hdone\n",
            "  Created wheel for kwant: filename=kwant-1.4.3-cp39-cp39-linux_x86_64.whl size=5576687 sha256=76b7d5f8315c1dbebce910049b3c4be93c365493e4010bd70aa525738de4dabe\n",
            "  Stored in directory: /root/.cache/pip/wheels/97/41/05/b653e2602ddc2a7ea47b49beb24e9a247cba7ef27d3b3093cc\n",
            "  Building wheel for tinyarray (setup.py) ... \u001b[?25l\u001b[?25hdone\n",
            "  Created wheel for tinyarray: filename=tinyarray-1.2.4-cp39-cp39-linux_x86_64.whl size=268648 sha256=50d61ab90aa63dfb36c2f601e58734083857200fdeda0b2df7390fe5406d3cb9\n",
            "  Stored in directory: /root/.cache/pip/wheels/77/99/a6/a67f1be933081998661268d20a1d38dd1dff3fd60a05404b76\n",
            "Successfully built kwant tinyarray\n",
            "Installing collected packages: tinyarray, kwant\n",
            "Successfully installed kwant-1.4.3 tinyarray-1.2.4\n"
          ]
        }
      ]
    },
    {
      "cell_type": "code",
      "execution_count": 3,
      "metadata": {
        "id": "LEgMkZ_mu0p9",
        "outputId": "64f60126-8c45-40c0-b957-50eb0a3c2a18",
        "colab": {
          "base_uri": "https://localhost:8080/"
        }
      },
      "outputs": [
        {
          "output_type": "stream",
          "name": "stderr",
          "text": [
            "/usr/local/lib/python3.9/dist-packages/kwant/solvers/default.py:16: RuntimeWarning: MUMPS is not available, SciPy built-in solver will be used as a fallback. Performance can be very poor in this case.\n",
            "  warnings.warn(\"MUMPS is not available, \"\n"
          ]
        }
      ],
      "source": [
        "import kwant\n",
        "import matplotlib.pyplot as plt\n",
        "import numpy as np"
      ]
    },
    {
      "cell_type": "code",
      "execution_count": 10,
      "metadata": {
        "id": "907ORM2su0p_"
      },
      "outputs": [],
      "source": [
        "JtomeV = 6.242 * 10**21\n",
        "mevtoJ = JtomeV ** (-1)\n",
        "hbar = 1.0545718 * 10 ** (-34)  # m^2 kg/s\n",
        "hbarr = 6.58211 * 10 ** (-13)  # meV s\n",
        "me = 9.10938356 * 10 ** (-31)  # kg\n",
        "mc = 1.782 * 10 ** (-36)  ##eV/c^2 = mc kg\n",
        "c = 3 * 10**8\n",
        "a = 0.5 * 10 ** (-9)  # m\n",
        "meff = 0.07  # non dim\n",
        "t = (hbar) ** 2 / (2 * meff * me * a**2) * JtomeV  # j->mev\n",
        "l = 5 * 10 ** (-8)\n",
        "L = int(l / a)\n",
        "v0 = 20\n",
        "\n",
        "syst = kwant.Builder()\n",
        "lat = kwant.lattice.chain(a)\n",
        "\n",
        "def an_sol(E, V0=v0, L=0.8 * l):\n",
        "    E = np.array(E) * mevtoJ\n",
        "    V0 *= mevtoJ\n",
        "    m = me * meff\n",
        "    k2 = np.sqrt(abs(2 * m * (E - V0)) * hbar ** (-2))\n",
        "    v = []\n",
        "\n",
        "    for i in range(np.size(E)):\n",
        "        kd = k2[i]\n",
        "        e = E[i]\n",
        "        if E[i] < 0.999999 * V0:\n",
        "            t = V0**2 * np.sinh(kd * L) ** 2 / (4 * e * (V0 - e))\n",
        "            v.append(t)\n",
        "        elif E[i] > 1.0000001 * V0:\n",
        "            t = V0**2 * np.sin(kd * L) ** 2 / (4 * e * (e - V0))\n",
        "            v.append(t)\n",
        "    v = np.array(v)\n",
        "    return 1 / (1 + v)"
      ]
    },
    {
      "cell_type": "code",
      "execution_count": 5,
      "metadata": {
        "id": "yFDcYodKu0qB"
      },
      "outputs": [],
      "source": [
        "def v(x, p=L / 10.0, k=9 * (L / 10.0), V=v0):\n",
        "    if x < p:\n",
        "        return 0\n",
        "    if x >= p and x <= k:\n",
        "        return V\n",
        "    if x > k:\n",
        "        return 0"
      ]
    },
    {
      "cell_type": "code",
      "execution_count": 6,
      "metadata": {
        "id": "bV-K0X2Ru0qC"
      },
      "outputs": [],
      "source": [
        "def v_g(x, v=v0, w=2 * L / 5.0, n=50, V=v0):\n",
        "    return V * np.exp(-(((x - L / 2.0) / w) ** n))"
      ]
    },
    {
      "cell_type": "code",
      "execution_count": 11,
      "metadata": {
        "id": "8NHAV7wSu0qD",
        "outputId": "e39b1681-54d8-45a0-b67b-4e08c1cf3249",
        "colab": {
          "base_uri": "https://localhost:8080/",
          "height": 602
        }
      },
      "outputs": [
        {
          "output_type": "display_data",
          "data": {
            "text/plain": [
              "<Figure size 432x288 with 1 Axes>"
            ],
            "image/png": "[encoded data removed]"
          },
          "metadata": {
            "needs_background": "light"
          }
        },
        {
          "output_type": "display_data",
          "data": {
            "text/plain": [
              "<Figure size 432x288 with 1 Axes>"
            ],
            "image/png": "[encoded data removed]"
          },
          "metadata": {
            "needs_background": "light"
          }
        },
        {
          "output_type": "display_data",
          "data": {
            "text/plain": [
              "<Figure size 432x288 with 1 Axes>"
            ],
            "image/png": "[encoded data removed]"
          },
          "metadata": {
            "needs_background": "light"
          }
        }
      ],
      "source": [
        "# build\n",
        "for i in range(L):\n",
        "    syst[lat(i)] = 2 * t + v_g(i)\n",
        "    # hopping\n",
        "    if i > 0:\n",
        "        syst[lat(i), lat(i - 1)] = -t\n",
        "\n",
        "# left lead\n",
        "sym_left_lead = kwant.TranslationalSymmetry([-a])\n",
        "left_lead = kwant.Builder(sym_left_lead)\n",
        "left_lead[lat(0)] = 2 * t\n",
        "left_lead[lat(0), lat(1)] = -t\n",
        "syst.attach_lead(left_lead)\n",
        "\n",
        "# right lead\n",
        "sym_right_lead = kwant.TranslationalSymmetry([a])\n",
        "right_lead = kwant.Builder(sym_right_lead)\n",
        "right_lead[lat(0)] = 2 * t\n",
        "right_lead[lat(0), lat(1)] = -t\n",
        "syst.attach_lead(right_lead)\n",
        "right_lead = right_lead.finalized()\n",
        "\n",
        "kwant.plot(syst)\n",
        "syst = syst.finalized()\n",
        "kwant.plotter.bands(right_lead, show=False)\n",
        "plt.xlabel(\"momentum [(lattice constant)^-1]\")\n",
        "plt.ylabel(\"energy [meV]\")\n",
        "plt.show()\n",
        "\n",
        "energies = []\n",
        "data = []\n",
        "\n",
        "n = 800\n",
        "Emax = 3 * v0\n",
        "for ie in range(n):\n",
        "    energy = Emax * (ie + 1) / n  # mev\n",
        "    smatrix = kwant.smatrix(syst, energy)\n",
        "    energies.append(energy)\n",
        "    data.append(smatrix.transmission(1, 0))\n",
        "\n",
        "plt.figure()\n",
        "plt.plot(energies, data, label=\"KWANT\")\n",
        "\n",
        "\n",
        "energy=np.linspace(0.001, Emax, 10000)\n",
        "t = an_sol(energy)\n",
        "plt.plot(energy, t, label=\"ANALITICAL\")\n",
        "\n",
        "plt.xlabel(\"energy [meV]\")\n",
        "plt.ylabel(\"conductance [e^2/h]\")\n",
        "\n",
        "plt.legend()\n",
        "plt.show()\n"
      ]
    }
  ],
  "metadata": {
    "language_info": {
      "name": "python"
    },
    "orig_nbformat": 4,
    "colab": {
      "provenance": []
    },
    "kernelspec": {
      "name": "python3",
      "display_name": "Python 3"
    },
    "gpuClass": "standard"
  },
  "nbformat": 4,
  "nbformat_minor": 0
}