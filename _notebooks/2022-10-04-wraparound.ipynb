{
  "cells": [
    {
      "cell_type": "markdown",
      "source": [
        "# Wraparound in Kwant"
      ],
      "metadata": {
        "id": "tlGvAcoJGKv5"
      }
    },
    {
      "cell_type": "code",
      "execution_count": null,
      "metadata": {
        "id": "Rb3-DxPWGIgo"
      },
      "outputs": [],
      "source": [
        "import kwant\n",
        "from matplotlib import pyplot as plt\n",
        "import tinyarray as ta\n",
        "import numpy as np\n",
        "import scipy.sparse.linalg as sla\n",
        "import scipy\n",
        "from kwant.wraparound import wraparound as wrpa"
      ]
    },
    {
      "cell_type": "code",
      "execution_count": null,
      "metadata": {
        "id": "3amjNbUCGIgq"
      },
      "outputs": [],
      "source": [
        "def make_system(params=dict(t=1.0), L=51, W=51):\n",
        "    lat = kwant.lattice.square(1)\n",
        "    sym = kwant.TranslationalSymmetry(lat.vec((0, W)))\n",
        "    syst = kwant.Builder(sym)\n",
        "\n",
        "    def hopping(sitei, sitej, t):\n",
        "        xt, yt = sitei.pos\n",
        "        xs, ys = sitej.pos\n",
        "        return -t\n",
        "\n",
        "    def onsite(site, t):\n",
        "        (x, y) = site.pos\n",
        "        return 4 * t\n",
        "\n",
        "    def central_region(pos):\n",
        "        x, y = pos\n",
        "        return x < L and x >= 0 and y < W and y >= 0\n",
        "\n",
        "    syst[lat.shape(central_region, (0, 0))] = onsite\n",
        "    syst[lat.neighbors(1)] = hopping\n",
        "\n",
        "    syst = wrpa(syst)\n",
        "\n",
        "    def lead_shape(pos):\n",
        "        x, y = pos\n",
        "        return y < W and y >= 0\n",
        "\n",
        "    # sym=kwant.TranslationalSymmetry((-1, 0))\n",
        "    # lead = kwant.Builder(sym)\n",
        "    # lead[lat.shape(lead_shape, (0,0))] = onsite\n",
        "    # lead[lat.neighbors()] = hopping\n",
        "\n",
        "    # lead_n_f=lead.finalized()\n",
        "\n",
        "    # kwant.plotter.bands(lead_n_f, show=False)\n",
        "    # plt.xlabel(\"momentum [(lattice constant)^-1]\")\n",
        "    # plt.ylabel(\"energy [t]\")\n",
        "    # plt.show()\n",
        "\n",
        "    sym = kwant.TranslationalSymmetry((-1, 0), (0, W))\n",
        "    lead = kwant.Builder(sym)\n",
        "    lead[lat.shape(lead_shape, (0, 0))] = onsite\n",
        "    lead[lat.neighbors()] = hopping\n",
        "\n",
        "    lead = wrpa(lead, keep=0)\n",
        "\n",
        "    lead_f = lead.finalized()\n",
        "\n",
        "    #### Attach the leads and return the finalized system. ####\n",
        "    syst.attach_lead(lead)\n",
        "    syst.attach_lead(lead.reversed())\n",
        "\n",
        "    return syst.finalized(), lead_f\n"
      ]
    },
    {
      "cell_type": "code",
      "execution_count": null,
      "metadata": {
        "id": "sdvqP7v5GIgq"
      },
      "outputs": [],
      "source": [
        "def plot_density(sys, ener, params, it=-1):\n",
        "    t = params[\"t\"]\n",
        "    wf = kwant.solvers.default.wave_function(sys, energy=2.0, params=params)\n",
        "    kwant.plotter.map(sys, np.abs(wf(0)[0]) ** 2, fig_size=(8, 5))\n",
        "\n",
        "\n",
        "def main(t):\n",
        "    sys = make_system(params=dict(t=1, ky=1), L=51, W=21)\n",
        "    plot_density(sys, 1, params=dict(t=1, ky=0))\n",
        "\n",
        "\n",
        "sys, lead = make_system(params=dict(t=1), L=50, W=21)\n",
        "kwant.plot(sys)\n",
        "kwant.plotter.bands(lead, params=dict(t=1, k_y=0), show=False)\n",
        "plt.xlabel(\"momentum [(lattice constant)^-1]\")\n",
        "plt.ylabel(\"energy [t]\")\n",
        "plt.show()\n",
        "main(1)\n"
      ]
    }
  ],
  "metadata": {
    "language_info": {
      "name": "python"
    },
    "orig_nbformat": 4,
    "colab": {
      "provenance": []
    }
  },
  "nbformat": 4,
  "nbformat_minor": 0
}