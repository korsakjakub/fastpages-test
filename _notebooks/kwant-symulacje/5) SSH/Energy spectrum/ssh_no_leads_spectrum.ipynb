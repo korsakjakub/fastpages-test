{
 "cells": [
  {
   "cell_type": "code",
   "execution_count": null,
   "id": "8x2xVdnTjktE",
   "metadata": {
    "colab": {
     "base_uri": "https://localhost:8080/"
    },
    "executionInfo": {
     "elapsed": 74829,
     "status": "ok",
     "timestamp": 1648721819816,
     "user": {
      "displayName": "Paweł Sidorczak",
      "userId": "11241666855559434093"
     },
     "user_tz": -120
    },
    "id": "8x2xVdnTjktE",
    "outputId": "b993543c-764e-41ab-e21b-e62cd8bf306c"
   },
   "outputs": [
    {
     "name": "stdout",
     "output_type": "stream",
     "text": [
      "Collecting kwant\n",
      "  Downloading kwant-1.4.3.tar.gz (1.6 MB)\n",
      "\u001b[K     |████████████████████████████████| 1.6 MB 24.9 MB/s eta 0:00:01\n",
      "\u001b[?25hRequirement already satisfied: numpy>=1.11.0 in /usr/local/lib/python3.7/dist-packages (from kwant) (1.21.5)\n",
      "Requirement already satisfied: scipy>=0.17.0 in /usr/local/lib/python3.7/dist-packages (from kwant) (1.4.1)\n",
      "Collecting tinyarray>=1.2\n",
      "  Downloading tinyarray-1.2.4.tar.gz (37 kB)\n",
      "Building wheels for collected packages: kwant, tinyarray\n",
      "  Building wheel for kwant (setup.py) ... \u001b[?25l\u001b[?25hdone\n",
      "  Created wheel for kwant: filename=kwant-1.4.3-cp37-cp37m-linux_x86_64.whl size=3691010 sha256=56b57c1565b290224d97839a31c41719c23e32fdfe72d74c3d3e4de970a98c73\n",
      "  Stored in directory: /root/.cache/pip/wheels/d6/2d/93/6f395cd3f0798d7d9e161dce1c8b8c8bbd04d4547763c926de\n",
      "  Building wheel for tinyarray (setup.py) ... \u001b[?25l\u001b[?25hdone\n",
      "  Created wheel for tinyarray: filename=tinyarray-1.2.4-cp37-cp37m-linux_x86_64.whl size=227981 sha256=05f7316c2a815bf1c9287f0c7d47beecda14bddacc4d92f49d1a83a653d2eec7\n",
      "  Stored in directory: /root/.cache/pip/wheels/85/c6/1c/6939e2931cfbff5df75758a06084bf67171b640ebdf5febd35\n",
      "Successfully built kwant tinyarray\n",
      "Installing collected packages: tinyarray, kwant\n",
      "Successfully installed kwant-1.4.3 tinyarray-1.2.4\n"
     ]
    }
   ],
   "source": [
    "!pip install kwant"
   ]
  },
  {
   "cell_type": "code",
   "execution_count": 1,
   "id": "07abf608-81ca-4a14-b26e-c5d0fe970902",
   "metadata": {
    "colab": {
     "base_uri": "https://localhost:8080/",
     "height": 279
    },
    "executionInfo": {
     "elapsed": 4083,
     "status": "ok",
     "timestamp": 1648722235586,
     "user": {
      "displayName": "Paweł Sidorczak",
      "userId": "11241666855559434093"
     },
     "user_tz": -120
    },
    "id": "07abf608-81ca-4a14-b26e-c5d0fe970902",
    "outputId": "1a19595b-9fc0-4e76-a433-ee103afdb61d"
   },
   "outputs": [
    {
     "data": {
      "image/png": "[encoded data removed]",
      "text/plain": [
       "<Figure size 432x288 with 1 Axes>"
      ]
     },
     "metadata": {
      "needs_background": "light"
     },
     "output_type": "display_data"
    }
   ],
   "source": [
    "import kwant\n",
    "import matplotlib.pyplot as plt\n",
    "import scipy.sparse.linalg as sla\n",
    "import scipy as scp\n",
    "import numpy as np\n",
    "import scipy\n",
    "from kwant.physics import dispersion\n",
    "\n",
    "def ssh_model(t_1 = 1, t_2 = 1, L = 200, return_only_ham = 1):\n",
    "    \n",
    "    syst = kwant.Builder()\n",
    "    a = 1\n",
    "    lat = kwant.lattice.chain(a)\n",
    "\n",
    "    # Define the scattering region\n",
    "    for n in range(L):\n",
    "        syst[lat(n)] = 0\n",
    "\n",
    "    # Left hopping\n",
    "    for n in range(L):\n",
    "        if n%2:\n",
    "            syst[lat(n-1), lat(n)] = t_1\n",
    "\n",
    "    # Right hopping\n",
    "    for n in range(1,L):      \n",
    "        if not n%2:\n",
    "            syst[lat(n-1), lat(n)] = t_2\n",
    "\n",
    "    #kwant.plot(syst)\n",
    "    syst = syst.finalized()\n",
    "    \n",
    "    if(return_only_ham):\n",
    "        return syst.hamiltonian_submatrix(sparse=True)\n",
    "    else:\n",
    "        return syst.hamiltonian_submatrix(sparse=False)\n",
    "\n",
    "# Plots wavefunction of the system for given energy\n",
    "ham = ssh_model(1, 0.5)\n",
    "ham_to_show = ssh_model(1, 0.5)\n",
    "#print(ham_to_show)\n",
    "\n",
    "\n",
    "def plot_probability():\n",
    "    k_tab = np.linspace(0, 2, 50)\n",
    "    energies = []\n",
    "    for t2 in k_tab:\n",
    "        ham = ssh_model(0.5, t2)\n",
    "        e_val, e_vec = scipy.sparse.linalg.eigsh(ham, k=16,sigma=0.01,which='LM', return_eigenvectors=True)\n",
    "        e_val = np.sort(e_val)\n",
    "        energies.append(e_val)\n",
    "        \n",
    "    plt.figure()\n",
    "    plt.plot(k_tab, energies)\n",
    "    plt.xlabel(\"t2\")\n",
    "    plt.ylabel(\"energy [t]\")\n",
    "    #plt.show()\n",
    "        \n",
    "\n",
    "    if(0):\n",
    "        for i in range(len(e_val)):\n",
    "            eigenvector = e_vec[:,i]\n",
    "            #print(np.linalg.norm(e_vec[:,i]))\n",
    "            prob = []\n",
    "            for j in range(len(e_vec[:,i])):\n",
    "                prob.append(abs(eigenvector[j])**2)\n",
    "            print(\"Energy: \", e_val[i])\n",
    "            plt.plot(np.linspace(0, L, L), prob)\n",
    "            plt.show()\n",
    "            \n",
    "plot_probability()\n",
    "plt.savefig(\"SSH_spectrum.pdf\")"
   ]
  },
  {
   "cell_type": "code",
   "execution_count": null,
   "id": "7272177a-9d64-46e0-a5e3-0bef36f6942b",
   "metadata": {
    "id": "7272177a-9d64-46e0-a5e3-0bef36f6942b"
   },
   "outputs": [],
   "source": []
  }
 ],
 "metadata": {
  "colab": {
   "collapsed_sections": [],
   "name": "ssh_no_leads_spectrum.ipynb",
   "provenance": []
  },
  "kernelspec": {
   "display_name": "Python 3",
   "language": "python",
   "name": "python3"
  },
  "language_info": {
   "codemirror_mode": {
    "name": "ipython",
    "version": 3
   },
   "file_extension": ".py",
   "mimetype": "text/x-python",
   "name": "python",
   "nbconvert_exporter": "python",
   "pygments_lexer": "ipython3",
   "version": "3.6.13"
  }
 },
 "nbformat": 4,
 "nbformat_minor": 5
}
