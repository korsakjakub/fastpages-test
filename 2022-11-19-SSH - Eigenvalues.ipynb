{
  "cells": [
    {
      "cell_type": "markdown",
      "id": "03FKNfrnCkzv",
      "metadata": {
        "id": "03FKNfrnCkzv"
      },
      "source": [
        "# SSH Eigenmodes"
      ]
    },
    {
      "cell_type": "markdown",
      "source": [
        "In this example we consider SSH model which Hamiltonian can be express in the following way,\n",
        "\n",
        "$$H=-\\sum_{ i} v (A_{i}^{\\dagger}B_{i}+h.c.)-\\sum_{j}w(A^{\\dagger}_{i}A_{i+1}+B^{\\dagger}_{i}B_{i+1}+h.c. ),$$\n",
        "here $v$ ($w$) is the overlap integral between the atoms in unit cell (betwens cells).  "
      ],
      "metadata": {
        "id": "lAqyG01qTv8X"
      },
      "id": "lAqyG01qTv8X"
    },
    {
      "cell_type": "code",
      "execution_count": 4,
      "id": "RVbkDWo-t5Ns",
      "metadata": {
        "id": "RVbkDWo-t5Ns",
        "colab": {
          "base_uri": "https://localhost:8080/"
        },
        "outputId": "bda73ce1-75cc-4964-e32b-539b3c5e62d5"
      },
      "outputs": [
        {
          "output_type": "stream",
          "name": "stdout",
          "text": [
            "Looking in indexes: https://pypi.org/simple, https://us-python.pkg.dev/colab-wheels/public/simple/\n",
            "Requirement already satisfied: kwant in /usr/local/lib/python3.7/dist-packages (1.4.3)\n",
            "Requirement already satisfied: numpy>=1.11.0 in /usr/local/lib/python3.7/dist-packages (from kwant) (1.21.6)\n",
            "Requirement already satisfied: scipy>=0.17.0 in /usr/local/lib/python3.7/dist-packages (from kwant) (1.7.3)\n",
            "Requirement already satisfied: tinyarray>=1.2 in /usr/local/lib/python3.7/dist-packages (from kwant) (1.2.4)\n"
          ]
        }
      ],
      "source": [
        "!pip install kwant"
      ]
    },
    {
      "cell_type": "markdown",
      "source": [],
      "metadata": {
        "id": "f_mpZ8s5TeB3"
      },
      "id": "f_mpZ8s5TeB3"
    },
    {
      "cell_type": "code",
      "execution_count": 23,
      "id": "9ab06f68-a6ea-412e-a6e7-e4d07f3c54da",
      "metadata": {
        "id": "9ab06f68-a6ea-412e-a6e7-e4d07f3c54da"
      },
      "outputs": [],
      "source": [
        "import kwant\n",
        "import matplotlib.pyplot as plt\n",
        "import scipy.sparse.linalg as sla\n",
        "import scipy as scp\n",
        "import numpy as np\n",
        "import scipy\n",
        "from kwant.physics import dispersion\n",
        "from numpy.linalg import eig"
      ]
    },
    {
      "cell_type": "markdown",
      "source": [
        "First of all we have to define our system. "
      ],
      "metadata": {
        "id": "1uSHUtFLaypb"
      },
      "id": "1uSHUtFLaypb"
    },
    {
      "cell_type": "code",
      "source": [
        "L = 50\n",
        "# Building SSH model\n",
        "def ssh_model(v=1, w=1, L=L, return_only_ham=1):\n",
        "\n",
        "    syst = kwant.Builder()\n",
        "    a = 1\n",
        "    lat = kwant.lattice.chain(a)\n",
        "\n",
        "    # Define the scattering region\n",
        "    for n in range(L):\n",
        "        syst[lat(n)] = 0\n",
        "\n",
        "    # Left hopping\n",
        "    for n in range(L):\n",
        "        if n % 2:\n",
        "            syst[lat(n - 1), lat(n)] = v\n",
        "\n",
        "    # Right hopping\n",
        "    for n in range(1, L):\n",
        "        if not n % 2:\n",
        "            syst[lat(n - 1), lat(n)] = w\n",
        "\n",
        "    syst = syst.finalized()\n",
        "\n",
        "    if return_only_ham:\n",
        "        return syst.hamiltonian_submatrix(sparse=True)\n",
        "    else:\n",
        "        return syst.hamiltonian_submatrix(sparse=False)"
      ],
      "metadata": {
        "id": "2RGFdQ_FfzKj"
      },
      "id": "2RGFdQ_FfzKj",
      "execution_count": 54,
      "outputs": []
    },
    {
      "cell_type": "markdown",
      "source": [
        "\n",
        "In our case we put onsite equal to zero. In order to defne our system we establish diferent hoppings for odd and even sites. For even sites the Hamiltonian part discrebes intercells hoppings is\n",
        "$$-\\sum_{ i} v (A_{i}^{\\dagger}B_{i}+h.c.)$$\n",
        "while for odds we have got\n",
        "$$-\\sum_{j}w(A^{\\dagger}_{i}A_{i+1}+B^{\\dagger}_{i}B_{i+1}+h.c. )$$\n",
        "\n",
        "The SSH is the simplest one dimensional model in which one can observed edge states. We can observed this on the folowing plot,\n"
      ],
      "metadata": {
        "id": "ZpDMyAdsf52_"
      },
      "id": "ZpDMyAdsf52_"
    },
    {
      "cell_type": "code",
      "source": [
        "from   ipywidgets import *\n",
        "\n",
        "def SSH_energy(v,w):\n",
        "  w1,v1=eig(ssh_model(w=w, v=v, L=L, return_only_ham=0))\n",
        "  plt.plot(np.arange(0,L,1),sorted(np.real(w1)),'.')\n",
        "\n",
        "\n",
        "interact(SSH_energy,v=(0,1,0.1),w=(0,1,0.1));"
      ],
      "metadata": {
        "colab": {
          "base_uri": "https://localhost:8080/",
          "height": 329,
          "referenced_widgets": [
            "d133e4c53e7d4cda8b5082006fbda83b",
            "9f7196ef07e94af6bda86c93b4678eb3",
            "203fa047a78d4abc8dca28341ffc2feb",
            "516f42d86beb479eaf7eb00c9e887d88",
            "b7743a738a014f4ebf30651818e0c23f",
            "eb54c1d86cf64c8bb68b1c6d7f7e7d2e",
            "d4a1e24a958e42a4a271cf71aafe6e8e",
            "d20ac13349054f8883ac34c62f13e9ef",
            "f7252704b1454f03a402dc4cf7cc3b18",
            "46ada18b7097452e94a6ae60646c4ee9"
          ]
        },
        "id": "5CXeOnZVo5Ec",
        "outputId": "9481d279-0019-4e93-88f9-6165bfa34b31"
      },
      "id": "5CXeOnZVo5Ec",
      "execution_count": 66,
      "outputs": [
        {
          "output_type": "display_data",
          "data": {
            "text/plain": [
              "interactive(children=(FloatSlider(value=0.0, description='v', max=1.0), FloatSlider(value=0.0, description='w'…"
            ],
            "application/vnd.jupyter.widget-view+json": {
              "version_major": 2,
              "version_minor": 0,
              "model_id": "d133e4c53e7d4cda8b5082006fbda83b"
            }
          },
          "metadata": {}
        }
      ]
    },
    {
      "cell_type": "markdown",
      "source": [
        "One can observed that for $w>v$ there are two zero energy states which coresponds to edge states. The existance of such a states is topological protected. \n",
        "\n",
        "Now we want to plot energy spectrum as a function os hopping parameter $v$ when w is held constant. We have to identify each energy corespond to a given site. To this end, we used the following procedure. For a given $v$ we find all eigenvalues and eigenstates for every sites. Then we moved to another value of $v$ and do this same. Now to identife which eigenvalues corespond to this same site we chack for every eigenvector from the previous iteration gives us the bigest overlap (the bigest value of scalar product) with one of the state. The prosedure countinous for every value $v$."
      ],
      "metadata": {
        "id": "ful9xz77sEFD"
      },
      "id": "ful9xz77sEFD"
    },
    {
      "cell_type": "code",
      "execution_count": 92,
      "id": "48db19ba-65a0-4f61-b465-5d91c29abf51",
      "metadata": {
        "colab": {
          "base_uri": "https://localhost:8080/",
          "height": 314,
          "referenced_widgets": [
            "a7b115e537544ef18ddac510057f4f79",
            "fbf1393f4d0f496bbad5d4aac91e17fd",
            "78a6a0a168474ddd8d5dfbef807d581e",
            "117026932f244ffa8138bd6284aef63f",
            "faf3cea7e5eb4029a65f914d0e7c90c0",
            "f7c1834355924ded8817e2f6e0755f9d",
            "4cbd5d5927bc4afdbac14f466af46d26"
          ]
        },
        "id": "48db19ba-65a0-4f61-b465-5d91c29abf51",
        "outputId": "001f0158-d75b-48c6-cf6b-16a92ab04eb9"
      },
      "outputs": [
        {
          "output_type": "display_data",
          "data": {
            "text/plain": [
              "interactive(children=(FloatSlider(value=0.5, description='w', max=1.0, min=0.1), Output()), _dom_classes=('wid…"
            ],
            "application/vnd.jupyter.widget-view+json": {
              "version_major": 2,
              "version_minor": 0,
              "model_id": "a7b115e537544ef18ddac510057f4f79"
            }
          },
          "metadata": {}
        },
        {
          "output_type": "display_data",
          "data": {
            "text/plain": [
              "<Figure size 432x288 with 0 Axes>"
            ]
          },
          "metadata": {}
        }
      ],
      "source": [
        "def find_continuator(w: list, next_vectors: list) -> int:\n",
        "    max_product = np.dot(w, next_vectors[0])\n",
        "    max_index = 0\n",
        "\n",
        "    for i in range(len(next_vectors)):\n",
        "        product = np.abs(np.dot(w, next_vectors[i]))\n",
        "        if product > max_product:\n",
        "            max_product = product\n",
        "            max_index = i\n",
        "    return max_index\n",
        "\n",
        "\n",
        "def plot_probability(k_tab: list ,eig_number: int,w,  show_unsorted=False) -> None:\n",
        "    e_val_matrix = np.empty(shape=(len(k_tab), eig_number))\n",
        "    e_vec_matrix = np.empty(shape=(len(k_tab), eig_number, L), dtype=complex)\n",
        "\n",
        "    for i in range(len(k_tab)):\n",
        "        v = k_tab[i]\n",
        "        ham = ssh_model(v, w)\n",
        "        e_val, e_vec = scipy.sparse.linalg.eigsh(\n",
        "            ham, k=eig_number, sigma=0.01, which=\"LM\", return_eigenvectors=True\n",
        "        )\n",
        "\n",
        "        e_val_matrix[i] = e_val\n",
        "        for j in range(eig_number):\n",
        "            e_vec_matrix[i, j] = e_vec[:, j]\n",
        "            e_vec_matrix[i, j] = e_vec_matrix[i, j] / np.sqrt(\n",
        "                np.dot(e_vec_matrix[i, j], e_vec_matrix[i, j])\n",
        "            )\n",
        "\n",
        "    for j in range(eig_number):\n",
        "        pasek = [e_val_matrix[0, j]]\n",
        "        wektory = [e_vec_matrix[0, j]]\n",
        "\n",
        "        for i in range(0, len(k_tab) - 1):\n",
        "            index = find_continuator(wektory[i], e_vec_matrix[i + 1])\n",
        "            wektory.append(e_vec_matrix[i + 1, index])\n",
        "            pasek.append(e_val_matrix[i + 1, index])\n",
        "\n",
        "        plt.plot(k_tab, pasek, label=j)\n",
        "        if show_unsorted:\n",
        "            plt.scatter(k_tab, e_val_matrix[:, j], marker=\".\")\n",
        "\n",
        "def SSH_spectrum_manipulate(w):\n",
        "  plot_probability(k_tab=k,w=w, eig_number=energies_number)\n",
        "\n",
        "k = np.linspace(0, 0.75, 50)  # Range of k we want to plot\n",
        "energies_number = 45  # Number of energy bands to show\n",
        "\n",
        "interact(SSH_spectrum_manipulate,w=(0.1,1,0.1));\n",
        "plt.savefig(\"SSH_spectrum_sort.pdf\")\n",
        "plt.show()\n"
      ]
    },
    {
      "cell_type": "code",
      "source": [
        "print(np.arange(0,L,1))\n",
        "plt.plot(np.arange(0,L,1),sorted(w1),'.')"
      ],
      "metadata": {
        "colab": {
          "base_uri": "https://localhost:8080/",
          "height": 369
        },
        "id": "ROMaX3d9lXeE",
        "outputId": "d56782a1-01d5-453e-bb2b-1403138e7ec9"
      },
      "id": "ROMaX3d9lXeE",
      "execution_count": 40,
      "outputs": [
        {
          "output_type": "stream",
          "name": "stdout",
          "text": [
            "[ 0  1  2  3  4  5  6  7  8  9 10 11 12 13 14 15 16 17 18 19 20 21 22 23\n",
            " 24 25 26 27 28 29 30 31 32 33 34 35 36 37 38 39 40 41 42 43 44 45 46 47\n",
            " 48 49]\n"
          ]
        },
        {
          "output_type": "stream",
          "name": "stderr",
          "text": [
            "/usr/local/lib/python3.7/dist-packages/matplotlib/cbook/__init__.py:1317: ComplexWarning: Casting complex values to real discards the imaginary part\n",
            "  return np.asarray(x, float)\n"
          ]
        },
        {
          "output_type": "execute_result",
          "data": {
            "text/plain": [
              "[<matplotlib.lines.Line2D at 0x7f1a85959910>]"
            ]
          },
          "metadata": {},
          "execution_count": 40
        },
        {
          "output_type": "display_data",
          "data": {
            "text/plain": [
              "<Figure size 432x288 with 1 Axes>"
            ],
            "image/png": "[encoded data removed]"
          },
          "metadata": {
            "needs_background": "light"
          }
        }
      ]
    },
    {
      "cell_type": "markdown",
      "source": [],
      "metadata": {
        "id": "-Xq8swl5bhSZ"
      },
      "id": "-Xq8swl5bhSZ"
    },
    {
      "cell_type": "markdown",
      "source": [],
      "metadata": {
        "id": "8TfYsnpibBIS"
      },
      "id": "8TfYsnpibBIS"
    }
  ],
  "metadata": {
    "colab": {
      "provenance": []
    },
    "kernelspec": {
      "display_name": "Python 3",
      "language": "python",
      "name": "python3"
    },
    "language_info": {
      "codemirror_mode": {
        "name": "ipython",
        "version": 3
      },
      "file_extension": ".py",
      "mimetype": "text/x-python",
      "name": "python",
      "nbconvert_exporter": "python",
      "pygments_lexer": "ipython3",
      "version": "3.6.13"
    },
    "widgets": {
      "application/vnd.jupyter.widget-state+json": {
        "d133e4c53e7d4cda8b5082006fbda83b": {
          "model_module": "@jupyter-widgets/controls",
          "model_name": "VBoxModel",
          "model_module_version": "1.5.0",
          "state": {
            "_dom_classes": [
              "widget-interact"
            ],
            "_model_module": "@jupyter-widgets/controls",
            "_model_module_version": "1.5.0",
            "_model_name": "VBoxModel",
            "_view_count": null,
            "_view_module": "@jupyter-widgets/controls",
            "_view_module_version": "1.5.0",
            "_view_name": "VBoxView",
            "box_style": "",
            "children": [
              "IPY_MODEL_9f7196ef07e94af6bda86c93b4678eb3",
              "IPY_MODEL_203fa047a78d4abc8dca28341ffc2feb",
              "IPY_MODEL_516f42d86beb479eaf7eb00c9e887d88"
            ],
            "layout": "IPY_MODEL_b7743a738a014f4ebf30651818e0c23f"
          }
        },
        "9f7196ef07e94af6bda86c93b4678eb3": {
          "model_module": "@jupyter-widgets/controls",
          "model_name": "FloatSliderModel",
          "model_module_version": "1.5.0",
          "state": {
            "_dom_classes": [],
            "_model_module": "@jupyter-widgets/controls",
            "_model_module_version": "1.5.0",
            "_model_name": "FloatSliderModel",
            "_view_count": null,
            "_view_module": "@jupyter-widgets/controls",
            "_view_module_version": "1.5.0",
            "_view_name": "FloatSliderView",
            "continuous_update": true,
            "description": "v",
            "description_tooltip": null,
            "disabled": false,
            "layout": "IPY_MODEL_eb54c1d86cf64c8bb68b1c6d7f7e7d2e",
            "max": 1,
            "min": 0,
            "orientation": "horizontal",
            "readout": true,
            "readout_format": ".2f",
            "step": 0.1,
            "style": "IPY_MODEL_d4a1e24a958e42a4a271cf71aafe6e8e",
            "value": 0.4
          }
        },
        "203fa047a78d4abc8dca28341ffc2feb": {
          "model_module": "@jupyter-widgets/controls",
          "model_name": "FloatSliderModel",
          "model_module_version": "1.5.0",
          "state": {
            "_dom_classes": [],
            "_model_module": "@jupyter-widgets/controls",
            "_model_module_version": "1.5.0",
            "_model_name": "FloatSliderModel",
            "_view_count": null,
            "_view_module": "@jupyter-widgets/controls",
            "_view_module_version": "1.5.0",
            "_view_name": "FloatSliderView",
            "continuous_update": true,
            "description": "w",
            "description_tooltip": null,
            "disabled": false,
            "layout": "IPY_MODEL_d20ac13349054f8883ac34c62f13e9ef",
            "max": 1,
            "min": 0,
            "orientation": "horizontal",
            "readout": true,
            "readout_format": ".2f",
            "step": 0.1,
            "style": "IPY_MODEL_f7252704b1454f03a402dc4cf7cc3b18",
            "value": 0.7
          }
        },
        "516f42d86beb479eaf7eb00c9e887d88": {
          "model_module": "@jupyter-widgets/output",
          "model_name": "OutputModel",
          "model_module_version": "1.0.0",
          "state": {
            "_dom_classes": [],
            "_model_module": "@jupyter-widgets/output",
            "_model_module_version": "1.0.0",
            "_model_name": "OutputModel",
            "_view_count": null,
            "_view_module": "@jupyter-widgets/output",
            "_view_module_version": "1.0.0",
            "_view_name": "OutputView",
            "layout": "IPY_MODEL_46ada18b7097452e94a6ae60646c4ee9",
            "msg_id": "",
            "outputs": [
              {
                "output_type": "display_data",
                "data": {
                  "text/plain": "<Figure size 432x288 with 1 Axes>",
                  "image/png": "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\n"
                },
                "metadata": {
                  "needs_background": "light"
                }
              }
            ]
          }
        },
        "b7743a738a014f4ebf30651818e0c23f": {
          "model_module": "@jupyter-widgets/base",
          "model_name": "LayoutModel",
          "model_module_version": "1.2.0",
          "state": {
            "_model_module": "@jupyter-widgets/base",
            "_model_module_version": "1.2.0",
            "_model_name": "LayoutModel",
            "_view_count": null,
            "_view_module": "@jupyter-widgets/base",
            "_view_module_version": "1.2.0",
            "_view_name": "LayoutView",
            "align_content": null,
            "align_items": null,
            "align_self": null,
            "border": null,
            "bottom": null,
            "display": null,
            "flex": null,
            "flex_flow": null,
            "grid_area": null,
            "grid_auto_columns": null,
            "grid_auto_flow": null,
            "grid_auto_rows": null,
            "grid_column": null,
            "grid_gap": null,
            "grid_row": null,
            "grid_template_areas": null,
            "grid_template_columns": null,
            "grid_template_rows": null,
            "height": null,
            "justify_content": null,
            "justify_items": null,
            "left": null,
            "margin": null,
            "max_height": null,
            "max_width": null,
            "min_height": null,
            "min_width": null,
            "object_fit": null,
            "object_position": null,
            "order": null,
            "overflow": null,
            "overflow_x": null,
            "overflow_y": null,
            "padding": null,
            "right": null,
            "top": null,
            "visibility": null,
            "width": null
          }
        },
        "eb54c1d86cf64c8bb68b1c6d7f7e7d2e": {
          "model_module": "@jupyter-widgets/base",
          "model_name": "LayoutModel",
          "model_module_version": "1.2.0",
          "state": {
            "_model_module": "@jupyter-widgets/base",
            "_model_module_version": "1.2.0",
            "_model_name": "LayoutModel",
            "_view_count": null,
            "_view_module": "@jupyter-widgets/base",
            "_view_module_version": "1.2.0",
            "_view_name": "LayoutView",
            "align_content": null,
            "align_items": null,
            "align_self": null,
            "border": null,
            "bottom": null,
            "display": null,
            "flex": null,
            "flex_flow": null,
            "grid_area": null,
            "grid_auto_columns": null,
            "grid_auto_flow": null,
            "grid_auto_rows": null,
            "grid_column": null,
            "grid_gap": null,
            "grid_row": null,
            "grid_template_areas": null,
            "grid_template_columns": null,
            "grid_template_rows": null,
            "height": null,
            "justify_content": null,
            "justify_items": null,
            "left": null,
            "margin": null,
            "max_height": null,
            "max_width": null,
            "min_height": null,
            "min_width": null,
            "object_fit": null,
            "object_position": null,
            "order": null,
            "overflow": null,
            "overflow_x": null,
            "overflow_y": null,
            "padding": null,
            "right": null,
            "top": null,
            "visibility": null,
            "width": null
          }
        },
        "d4a1e24a958e42a4a271cf71aafe6e8e": {
          "model_module": "@jupyter-widgets/controls",
          "model_name": "SliderStyleModel",
          "model_module_version": "1.5.0",
          "state": {
            "_model_module": "@jupyter-widgets/controls",
            "_model_module_version": "1.5.0",
            "_model_name": "SliderStyleModel",
            "_view_count": null,
            "_view_module": "@jupyter-widgets/base",
            "_view_module_version": "1.2.0",
            "_view_name": "StyleView",
            "description_width": "",
            "handle_color": null
          }
        },
        "d20ac13349054f8883ac34c62f13e9ef": {
          "model_module": "@jupyter-widgets/base",
          "model_name": "LayoutModel",
          "model_module_version": "1.2.0",
          "state": {
            "_model_module": "@jupyter-widgets/base",
            "_model_module_version": "1.2.0",
            "_model_name": "LayoutModel",
            "_view_count": null,
            "_view_module": "@jupyter-widgets/base",
            "_view_module_version": "1.2.0",
            "_view_name": "LayoutView",
            "align_content": null,
            "align_items": null,
            "align_self": null,
            "border": null,
            "bottom": null,
            "display": null,
            "flex": null,
            "flex_flow": null,
            "grid_area": null,
            "grid_auto_columns": null,
            "grid_auto_flow": null,
            "grid_auto_rows": null,
            "grid_column": null,
            "grid_gap": null,
            "grid_row": null,
            "grid_template_areas": null,
            "grid_template_columns": null,
            "grid_template_rows": null,
            "height": null,
            "justify_content": null,
            "justify_items": null,
            "left": null,
            "margin": null,
            "max_height": null,
            "max_width": null,
            "min_height": null,
            "min_width": null,
            "object_fit": null,
            "object_position": null,
            "order": null,
            "overflow": null,
            "overflow_x": null,
            "overflow_y": null,
            "padding": null,
            "right": null,
            "top": null,
            "visibility": null,
            "width": null
          }
        },
        "f7252704b1454f03a402dc4cf7cc3b18": {
          "model_module": "@jupyter-widgets/controls",
          "model_name": "SliderStyleModel",
          "model_module_version": "1.5.0",
          "state": {
            "_model_module": "@jupyter-widgets/controls",
            "_model_module_version": "1.5.0",
            "_model_name": "SliderStyleModel",
            "_view_count": null,
            "_view_module": "@jupyter-widgets/base",
            "_view_module_version": "1.2.0",
            "_view_name": "StyleView",
            "description_width": "",
            "handle_color": null
          }
        },
        "46ada18b7097452e94a6ae60646c4ee9": {
          "model_module": "@jupyter-widgets/base",
          "model_name": "LayoutModel",
          "model_module_version": "1.2.0",
          "state": {
            "_model_module": "@jupyter-widgets/base",
            "_model_module_version": "1.2.0",
            "_model_name": "LayoutModel",
            "_view_count": null,
            "_view_module": "@jupyter-widgets/base",
            "_view_module_version": "1.2.0",
            "_view_name": "LayoutView",
            "align_content": null,
            "align_items": null,
            "align_self": null,
            "border": null,
            "bottom": null,
            "display": null,
            "flex": null,
            "flex_flow": null,
            "grid_area": null,
            "grid_auto_columns": null,
            "grid_auto_flow": null,
            "grid_auto_rows": null,
            "grid_column": null,
            "grid_gap": null,
            "grid_row": null,
            "grid_template_areas": null,
            "grid_template_columns": null,
            "grid_template_rows": null,
            "height": null,
            "justify_content": null,
            "justify_items": null,
            "left": null,
            "margin": null,
            "max_height": null,
            "max_width": null,
            "min_height": null,
            "min_width": null,
            "object_fit": null,
            "object_position": null,
            "order": null,
            "overflow": null,
            "overflow_x": null,
            "overflow_y": null,
            "padding": null,
            "right": null,
            "top": null,
            "visibility": null,
            "width": null
          }
        },
        "a7b115e537544ef18ddac510057f4f79": {
          "model_module": "@jupyter-widgets/controls",
          "model_name": "VBoxModel",
          "model_module_version": "1.5.0",
          "state": {
            "_dom_classes": [
              "widget-interact"
            ],
            "_model_module": "@jupyter-widgets/controls",
            "_model_module_version": "1.5.0",
            "_model_name": "VBoxModel",
            "_view_count": null,
            "_view_module": "@jupyter-widgets/controls",
            "_view_module_version": "1.5.0",
            "_view_name": "VBoxView",
            "box_style": "",
            "children": [
              "IPY_MODEL_fbf1393f4d0f496bbad5d4aac91e17fd",
              "IPY_MODEL_78a6a0a168474ddd8d5dfbef807d581e"
            ],
            "layout": "IPY_MODEL_117026932f244ffa8138bd6284aef63f"
          }
        },
        "fbf1393f4d0f496bbad5d4aac91e17fd": {
          "model_module": "@jupyter-widgets/controls",
          "model_name": "FloatSliderModel",
          "model_module_version": "1.5.0",
          "state": {
            "_dom_classes": [],
            "_model_module": "@jupyter-widgets/controls",
            "_model_module_version": "1.5.0",
            "_model_name": "FloatSliderModel",
            "_view_count": null,
            "_view_module": "@jupyter-widgets/controls",
            "_view_module_version": "1.5.0",
            "_view_name": "FloatSliderView",
            "continuous_update": true,
            "description": "w",
            "description_tooltip": null,
            "disabled": false,
            "layout": "IPY_MODEL_faf3cea7e5eb4029a65f914d0e7c90c0",
            "max": 1,
            "min": 0.1,
            "orientation": "horizontal",
            "readout": true,
            "readout_format": ".2f",
            "step": 0.1,
            "style": "IPY_MODEL_f7c1834355924ded8817e2f6e0755f9d",
            "value": 0.5
          }
        },
        "78a6a0a168474ddd8d5dfbef807d581e": {
          "model_module": "@jupyter-widgets/output",
          "model_name": "OutputModel",
          "model_module_version": "1.0.0",
          "state": {
            "_dom_classes": [],
            "_model_module": "@jupyter-widgets/output",
            "_model_module_version": "1.0.0",
            "_model_name": "OutputModel",
            "_view_count": null,
            "_view_module": "@jupyter-widgets/output",
            "_view_module_version": "1.0.0",
            "_view_name": "OutputView",
            "layout": "IPY_MODEL_4cbd5d5927bc4afdbac14f466af46d26",
            "msg_id": "",
            "outputs": [
              {
                "output_type": "display_data",
                "data": {
                  "text/plain": "<Figure size 432x288 with 1 Axes>",
                  "image/png": "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\n"
                },
                "metadata": {
                  "needs_background": "light"
                }
              }
            ]
          }
        },
        "117026932f244ffa8138bd6284aef63f": {
          "model_module": "@jupyter-widgets/base",
          "model_name": "LayoutModel",
          "model_module_version": "1.2.0",
          "state": {
            "_model_module": "@jupyter-widgets/base",
            "_model_module_version": "1.2.0",
            "_model_name": "LayoutModel",
            "_view_count": null,
            "_view_module": "@jupyter-widgets/base",
            "_view_module_version": "1.2.0",
            "_view_name": "LayoutView",
            "align_content": null,
            "align_items": null,
            "align_self": null,
            "border": null,
            "bottom": null,
            "display": null,
            "flex": null,
            "flex_flow": null,
            "grid_area": null,
            "grid_auto_columns": null,
            "grid_auto_flow": null,
            "grid_auto_rows": null,
            "grid_column": null,
            "grid_gap": null,
            "grid_row": null,
            "grid_template_areas": null,
            "grid_template_columns": null,
            "grid_template_rows": null,
            "height": null,
            "justify_content": null,
            "justify_items": null,
            "left": null,
            "margin": null,
            "max_height": null,
            "max_width": null,
            "min_height": null,
            "min_width": null,
            "object_fit": null,
            "object_position": null,
            "order": null,
            "overflow": null,
            "overflow_x": null,
            "overflow_y": null,
            "padding": null,
            "right": null,
            "top": null,
            "visibility": null,
            "width": null
          }
        },
        "faf3cea7e5eb4029a65f914d0e7c90c0": {
          "model_module": "@jupyter-widgets/base",
          "model_name": "LayoutModel",
          "model_module_version": "1.2.0",
          "state": {
            "_model_module": "@jupyter-widgets/base",
            "_model_module_version": "1.2.0",
            "_model_name": "LayoutModel",
            "_view_count": null,
            "_view_module": "@jupyter-widgets/base",
            "_view_module_version": "1.2.0",
            "_view_name": "LayoutView",
            "align_content": null,
            "align_items": null,
            "align_self": null,
            "border": null,
            "bottom": null,
            "display": null,
            "flex": null,
            "flex_flow": null,
            "grid_area": null,
            "grid_auto_columns": null,
            "grid_auto_flow": null,
            "grid_auto_rows": null,
            "grid_column": null,
            "grid_gap": null,
            "grid_row": null,
            "grid_template_areas": null,
            "grid_template_columns": null,
            "grid_template_rows": null,
            "height": null,
            "justify_content": null,
            "justify_items": null,
            "left": null,
            "margin": null,
            "max_height": null,
            "max_width": null,
            "min_height": null,
            "min_width": null,
            "object_fit": null,
            "object_position": null,
            "order": null,
            "overflow": null,
            "overflow_x": null,
            "overflow_y": null,
            "padding": null,
            "right": null,
            "top": null,
            "visibility": null,
            "width": null
          }
        },
        "f7c1834355924ded8817e2f6e0755f9d": {
          "model_module": "@jupyter-widgets/controls",
          "model_name": "SliderStyleModel",
          "model_module_version": "1.5.0",
          "state": {
            "_model_module": "@jupyter-widgets/controls",
            "_model_module_version": "1.5.0",
            "_model_name": "SliderStyleModel",
            "_view_count": null,
            "_view_module": "@jupyter-widgets/base",
            "_view_module_version": "1.2.0",
            "_view_name": "StyleView",
            "description_width": "",
            "handle_color": null
          }
        },
        "4cbd5d5927bc4afdbac14f466af46d26": {
          "model_module": "@jupyter-widgets/base",
          "model_name": "LayoutModel",
          "model_module_version": "1.2.0",
          "state": {
            "_model_module": "@jupyter-widgets/base",
            "_model_module_version": "1.2.0",
            "_model_name": "LayoutModel",
            "_view_count": null,
            "_view_module": "@jupyter-widgets/base",
            "_view_module_version": "1.2.0",
            "_view_name": "LayoutView",
            "align_content": null,
            "align_items": null,
            "align_self": null,
            "border": null,
            "bottom": null,
            "display": null,
            "flex": null,
            "flex_flow": null,
            "grid_area": null,
            "grid_auto_columns": null,
            "grid_auto_flow": null,
            "grid_auto_rows": null,
            "grid_column": null,
            "grid_gap": null,
            "grid_row": null,
            "grid_template_areas": null,
            "grid_template_columns": null,
            "grid_template_rows": null,
            "height": null,
            "justify_content": null,
            "justify_items": null,
            "left": null,
            "margin": null,
            "max_height": null,
            "max_width": null,
            "min_height": null,
            "min_width": null,
            "object_fit": null,
            "object_position": null,
            "order": null,
            "overflow": null,
            "overflow_x": null,
            "overflow_y": null,
            "padding": null,
            "right": null,
            "top": null,
            "visibility": null,
            "width": null
          }
        }
      }
    }
  },
  "nbformat": 4,
  "nbformat_minor": 5
}