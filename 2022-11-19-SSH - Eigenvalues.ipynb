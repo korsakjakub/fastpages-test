{
  "cells": [
    {
      "cell_type": "markdown",
      "id": "03FKNfrnCkzv",
      "metadata": {
        "id": "03FKNfrnCkzv"
      },
      "source": [
        "# SSH Eigenmodes"
      ]
    },
    {
      "cell_type": "markdown",
      "source": [
        "In this example we consider SSH model which Hamiltonian can be express in the following way,\n",
        "\n",
        "$$H=-\\sum_{ i} v (A_{i}^{\\dagger}B_{i}+h.c.)-\\sum_{j}w(A^{\\dagger}_{i}A_{i+1}+B^{\\dagger}_{i}B_{i+1}+h.c. ),$$\n",
        "here $v$ ($w$) is the overlap integral between the atoms in unit cell (betwens cells).  "
      ],
      "metadata": {
        "id": "lAqyG01qTv8X"
      },
      "id": "lAqyG01qTv8X"
    },
    {
      "cell_type": "code",
      "execution_count": 4,
      "id": "RVbkDWo-t5Ns",
      "metadata": {
        "id": "RVbkDWo-t5Ns",
        "colab": {
          "base_uri": "https://localhost:8080/"
        },
        "outputId": "bda73ce1-75cc-4964-e32b-539b3c5e62d5"
      },
      "outputs": [
        {
          "output_type": "stream",
          "name": "stdout",
          "text": [
            "Looking in indexes: https://pypi.org/simple, https://us-python.pkg.dev/colab-wheels/public/simple/\n",
            "Requirement already satisfied: kwant in /usr/local/lib/python3.7/dist-packages (1.4.3)\n",
            "Requirement already satisfied: numpy>=1.11.0 in /usr/local/lib/python3.7/dist-packages (from kwant) (1.21.6)\n",
            "Requirement already satisfied: scipy>=0.17.0 in /usr/local/lib/python3.7/dist-packages (from kwant) (1.7.3)\n",
            "Requirement already satisfied: tinyarray>=1.2 in /usr/local/lib/python3.7/dist-packages (from kwant) (1.2.4)\n"
          ]
        }
      ],
      "source": [
        "!pip install kwant"
      ]
    },
    {
      "cell_type": "markdown",
      "source": [],
      "metadata": {
        "id": "f_mpZ8s5TeB3"
      },
      "id": "f_mpZ8s5TeB3"
    },
    {
      "cell_type": "code",
      "execution_count": 23,
      "id": "9ab06f68-a6ea-412e-a6e7-e4d07f3c54da",
      "metadata": {
        "id": "9ab06f68-a6ea-412e-a6e7-e4d07f3c54da"
      },
      "outputs": [],
      "source": [
        "import kwant\n",
        "import matplotlib.pyplot as plt\n",
        "import scipy.sparse.linalg as sla\n",
        "import scipy as scp\n",
        "import numpy as np\n",
        "import scipy\n",
        "from kwant.physics import dispersion\n",
        "from numpy.linalg import eig"
      ]
    },
    {
      "cell_type": "markdown",
      "source": [
        "First of all we have to define our system. "
      ],
      "metadata": {
        "id": "1uSHUtFLaypb"
      },
      "id": "1uSHUtFLaypb"
    },
    {
      "cell_type": "code",
      "source": [
        "L = 50\n",
        "# Building SSH model\n",
        "def ssh_model(v=1, w=1, L=L, return_only_ham=1):\n",
        "\n",
        "    syst = kwant.Builder()\n",
        "    a = 1\n",
        "    lat = kwant.lattice.chain(a)\n",
        "\n",
        "    # Define the scattering region\n",
        "    for n in range(L):\n",
        "        syst[lat(n)] = 0\n",
        "\n",
        "    # Left hopping\n",
        "    for n in range(L):\n",
        "        if n % 2:\n",
        "            syst[lat(n - 1), lat(n)] = v\n",
        "\n",
        "    # Right hopping\n",
        "    for n in range(1, L):\n",
        "        if not n % 2:\n",
        "            syst[lat(n - 1), lat(n)] = w\n",
        "\n",
        "    syst = syst.finalized()\n",
        "\n",
        "    if return_only_ham:\n",
        "        return syst.hamiltonian_submatrix(sparse=True)\n",
        "    else:\n",
        "        return syst.hamiltonian_submatrix(sparse=False)"
      ],
      "metadata": {
        "id": "2RGFdQ_FfzKj"
      },
      "id": "2RGFdQ_FfzKj",
      "execution_count": 54,
      "outputs": []
    },
    {
      "cell_type": "markdown",
      "source": [
        "\n",
        "In our case we put onsite equal to zero. In order to defne our system we establish diferent hoppings for odd and even sites. For even sites the Hamiltonian part discrebes intercells hoppings is\n",
        "$$-\\sum_{ i} v (A_{i}^{\\dagger}B_{i}+h.c.)$$\n",
        "while for odds we have got\n",
        "$$-\\sum_{j}w(A^{\\dagger}_{i}A_{i+1}+B^{\\dagger}_{i}B_{i+1}+h.c. )$$\n",
        "\n",
        "\n"
      ],
      "metadata": {
        "id": "ZpDMyAdsf52_"
      },
      "id": "ZpDMyAdsf52_"
    },
    {
      "cell_type": "code",
      "source": [
        "from   ipywidgets import *\n",
        "\n",
        "def SSH_energy(v,w):\n",
        "  w1,v1=eig(ssh_model(w=w, v=v, L=L, return_only_ham=0))\n",
        "  plt.plot(np.arange(0,L,1),sorted(np.real(w1)),'.')\n",
        "\n",
        "\n",
        "interact(SSH_energy,v=(0,1,0.1),w=(0,1,0.1));"
      ],
      "metadata": {
        "id": "5CXeOnZVo5Ec",
        "outputId": "9481d279-0019-4e93-88f9-6165bfa34b31",
        "colab": {
          "base_uri": "https://localhost:8080/",
          "height": 329,
          "referenced_widgets": [
            "d133e4c53e7d4cda8b5082006fbda83b",
            "9f7196ef07e94af6bda86c93b4678eb3",
            "203fa047a78d4abc8dca28341ffc2feb",
            "516f42d86beb479eaf7eb00c9e887d88",
            "b7743a738a014f4ebf30651818e0c23f",
            "eb54c1d86cf64c8bb68b1c6d7f7e7d2e",
            "d4a1e24a958e42a4a271cf71aafe6e8e",
            "d20ac13349054f8883ac34c62f13e9ef",
            "f7252704b1454f03a402dc4cf7cc3b18",
            "46ada18b7097452e94a6ae60646c4ee9"
          ]
        }
      },
      "id": "5CXeOnZVo5Ec",
      "execution_count": 66,
      "outputs": [
        {
          "output_type": "display_data",
          "data": {
            "text/plain": [
              "interactive(children=(FloatSlider(value=0.0, description='v', max=1.0), FloatSlider(value=0.0, description='w'…"
            ],
            "application/vnd.jupyter.widget-view+json": {
              "version_major": 2,
              "version_minor": 0,
              "model_id": "d133e4c53e7d4cda8b5082006fbda83b"
            }
          },
          "metadata": {}
        }
      ]
    },
    {
      "cell_type": "code",
      "source": [
        "w1,v1=eig(ssh_model(w=2, v=1, L=L, return_only_ham=0))\n",
        "\n",
        "plt.plot(np.arange(0,L,1),sorted(w1),'.')"
      ],
      "metadata": {
        "id": "niWAgsjsm0Lo",
        "outputId": "7794d937-5b4d-4870-9afc-0ee698647730",
        "colab": {
          "base_uri": "https://localhost:8080/",
          "height": 317
        }
      },
      "id": "niWAgsjsm0Lo",
      "execution_count": 60,
      "outputs": [
        {
          "output_type": "stream",
          "name": "stderr",
          "text": [
            "/usr/local/lib/python3.7/dist-packages/matplotlib/cbook/__init__.py:1317: ComplexWarning: Casting complex values to real discards the imaginary part\n",
            "  return np.asarray(x, float)\n"
          ]
        },
        {
          "output_type": "execute_result",
          "data": {
            "text/plain": [
              "[<matplotlib.lines.Line2D at 0x7f1a857f9ed0>]"
            ]
          },
          "metadata": {},
          "execution_count": 60
        },
        {
          "output_type": "display_data",
          "data": {
            "text/plain": [
              "<Figure size 432x288 with 1 Axes>"
            ],
            "image/png": "[encoded data removed]"
          },
          "metadata": {
            "needs_background": "light"
          }
        }
      ]
    },
    {
      "cell_type": "code",
      "execution_count": 39,
      "id": "48db19ba-65a0-4f61-b465-5d91c29abf51",
      "metadata": {
        "colab": {
          "base_uri": "https://localhost:8080/",
          "height": 265
        },
        "id": "48db19ba-65a0-4f61-b465-5d91c29abf51",
        "outputId": "c43872f6-de9b-4b18-f9a1-aba6a8e41bf8"
      },
      "outputs": [
        {
          "output_type": "display_data",
          "data": {
            "text/plain": [
              "<Figure size 432x288 with 1 Axes>"
            ],
            "image/png": "[encoded data removed]"
          },
          "metadata": {
            "needs_background": "light"
          }
        }
      ],
      "source": [
        "L = 50\n",
        "# Building SSH model\n",
        "def ssh_model(w=1, v=1, L=L, return_only_ham=1):\n",
        "\n",
        "    syst = kwant.Builder()\n",
        "    a = 1\n",
        "    lat = kwant.lattice.chain(a)\n",
        "\n",
        "    # Define the scattering region\n",
        "    for n in range(L):\n",
        "        syst[lat(n)] = 0\n",
        "\n",
        "    # Left hopping\n",
        "    for n in range(L):\n",
        "        if n % 2:\n",
        "            syst[lat(n - 1), lat(n)] = w\n",
        "\n",
        "    # Right hopping\n",
        "    for n in range(1, L):\n",
        "        if not n % 2:\n",
        "            syst[lat(n - 1), lat(n)] = v\n",
        "\n",
        "    # kwant.plot(syst)\n",
        "    syst = syst.finalized()\n",
        "    \n",
        "\n",
        "    if return_only_ham:\n",
        "        return syst.hamiltonian_submatrix(sparse=True)\n",
        "    else:\n",
        "        return syst.hamiltonian_submatrix(sparse=False)\n",
        "\n",
        "\n",
        "def find_continuator(w: list, next_vectors: list) -> int:\n",
        "    max_product = np.dot(w, next_vectors[0])\n",
        "    max_index = 0\n",
        "\n",
        "    for i in range(len(next_vectors)):\n",
        "        product = np.abs(np.dot(w, next_vectors[i]))\n",
        "        if product > max_product:\n",
        "            max_product = product\n",
        "            max_index = i\n",
        "    return max_index\n",
        "\n",
        "\n",
        "def plot_probability(k_tab: list, eig_number: int, t1=0.5, show_unsorted=False) -> None:\n",
        "    e_val_matrix = np.empty(shape=(len(k_tab), eig_number))\n",
        "    e_vec_matrix = np.empty(shape=(len(k_tab), eig_number, L), dtype=complex)\n",
        "\n",
        "    for i in range(len(k_tab)):\n",
        "        t2 = k_tab[i]\n",
        "        ham = ssh_model(t1, t2)\n",
        "        e_val, e_vec = scipy.sparse.linalg.eigsh(\n",
        "            ham, k=eig_number, sigma=0.01, which=\"LM\", return_eigenvectors=True\n",
        "        )\n",
        "\n",
        "        e_val_matrix[i] = e_val\n",
        "        for j in range(eig_number):\n",
        "            e_vec_matrix[i, j] = e_vec[:, j]\n",
        "            e_vec_matrix[i, j] = e_vec_matrix[i, j] / np.sqrt(\n",
        "                np.dot(e_vec_matrix[i, j], e_vec_matrix[i, j])\n",
        "            )\n",
        "\n",
        "    for j in range(eig_number):\n",
        "        pasek = [e_val_matrix[0, j]]\n",
        "        wektory = [e_vec_matrix[0, j]]\n",
        "\n",
        "        for i in range(0, len(k_tab) - 1):\n",
        "            index = find_continuator(wektory[i], e_vec_matrix[i + 1])\n",
        "            wektory.append(e_vec_matrix[i + 1, index])\n",
        "            pasek.append(e_val_matrix[i + 1, index])\n",
        "\n",
        "        plt.plot(k_tab, pasek, label=j)\n",
        "        if show_unsorted:\n",
        "            plt.scatter(k_tab, e_val_matrix[:, j], marker=\".\")\n",
        "\n",
        "\n",
        "k = np.linspace(0, 0.75, 50)  # Range of k we want to plot\n",
        "energies_number = L//2  # Number of energy bands to show\n",
        "plot_probability(k, energies_number)\n",
        "# plt.xlim(0.25,0.75)\n",
        "# plt.ylim(-0.5,0.5)\n",
        "plt.savefig(\"SSH_spectrum_sort.pdf\")\n",
        "plt.show()\n",
        "#print(ssh_model(t_1=1, t_2=1, L=L, return_only_ham=0))\n",
        "w1,v1=eig(ssh_model(w=1, v=2, L=L, return_only_ham=0))"
      ]
    },
    {
      "cell_type": "code",
      "source": [
        "print(np.arange(0,L,1))\n",
        "plt.plot(np.arange(0,L,1),sorted(w1),'.')"
      ],
      "metadata": {
        "id": "ROMaX3d9lXeE",
        "outputId": "d56782a1-01d5-453e-bb2b-1403138e7ec9",
        "colab": {
          "base_uri": "https://localhost:8080/",
          "height": 369
        }
      },
      "id": "ROMaX3d9lXeE",
      "execution_count": 40,
      "outputs": [
        {
          "output_type": "stream",
          "name": "stdout",
          "text": [
            "[ 0  1  2  3  4  5  6  7  8  9 10 11 12 13 14 15 16 17 18 19 20 21 22 23\n",
            " 24 25 26 27 28 29 30 31 32 33 34 35 36 37 38 39 40 41 42 43 44 45 46 47\n",
            " 48 49]\n"
          ]
        },
        {
          "output_type": "stream",
          "name": "stderr",
          "text": [
            "/usr/local/lib/python3.7/dist-packages/matplotlib/cbook/__init__.py:1317: ComplexWarning: Casting complex values to real discards the imaginary part\n",
            "  return np.asarray(x, float)\n"
          ]
        },
        {
          "output_type": "execute_result",
          "data": {
            "text/plain": [
              "[<matplotlib.lines.Line2D at 0x7f1a85959910>]"
            ]
          },
          "metadata": {},
          "execution_count": 40
        },
        {
          "output_type": "display_data",
          "data": {
            "text/plain": [
              "<Figure size 432x288 with 1 Axes>"
            ],
            "image/png": "[encoded data removed]"
          },
          "metadata": {
            "needs_background": "light"
          }
        }
      ]
    },
    {
      "cell_type": "markdown",
      "source": [],
      "metadata": {
        "id": "-Xq8swl5bhSZ"
      },
      "id": "-Xq8swl5bhSZ"
    },
    {
      "cell_type": "markdown",
      "source": [],
      "metadata": {
        "id": "8TfYsnpibBIS"
      },
      "id": "8TfYsnpibBIS"
    }
  ],
  "metadata": {
    "colab": {
      "provenance": []
    },
    "kernelspec": {
      "display_name": "Python 3",
      "language": "python",
      "name": "python3"
    },
    "language_info": {
      "codemirror_mode": {
        "name": "ipython",
        "version": 3
      },
      "file_extension": ".py",
      "mimetype": "text/x-python",
      "name": "python",
      "nbconvert_exporter": "python",
      "pygments_lexer": "ipython3",
      "version": "3.6.13"
    },
    "widgets": {
      "application/vnd.jupyter.widget-state+json": {
        "d133e4c53e7d4cda8b5082006fbda83b": {
          "model_module": "@jupyter-widgets/controls",
          "model_name": "VBoxModel",
          "model_module_version": "1.5.0",
          "state": {
            "_dom_classes": [
              "widget-interact"
            ],
            "_model_module": "@jupyter-widgets/controls",
            "_model_module_version": "1.5.0",
            "_model_name": "VBoxModel",
            "_view_count": null,
            "_view_module": "@jupyter-widgets/controls",
            "_view_module_version": "1.5.0",
            "_view_name": "VBoxView",
            "box_style": "",
            "children": [
              "IPY_MODEL_9f7196ef07e94af6bda86c93b4678eb3",
              "IPY_MODEL_203fa047a78d4abc8dca28341ffc2feb",
              "IPY_MODEL_516f42d86beb479eaf7eb00c9e887d88"
            ],
            "layout": "IPY_MODEL_b7743a738a014f4ebf30651818e0c23f"
          }
        },
        "9f7196ef07e94af6bda86c93b4678eb3": {
          "model_module": "@jupyter-widgets/controls",
          "model_name": "FloatSliderModel",
          "model_module_version": "1.5.0",
          "state": {
            "_dom_classes": [],
            "_model_module": "@jupyter-widgets/controls",
            "_model_module_version": "1.5.0",
            "_model_name": "FloatSliderModel",
            "_view_count": null,
            "_view_module": "@jupyter-widgets/controls",
            "_view_module_version": "1.5.0",
            "_view_name": "FloatSliderView",
            "continuous_update": true,
            "description": "v",
            "description_tooltip": null,
            "disabled": false,
            "layout": "IPY_MODEL_eb54c1d86cf64c8bb68b1c6d7f7e7d2e",
            "max": 1,
            "min": 0,
            "orientation": "horizontal",
            "readout": true,
            "readout_format": ".2f",
            "step": 0.1,
            "style": "IPY_MODEL_d4a1e24a958e42a4a271cf71aafe6e8e",
            "value": 0.4
          }
        },
        "203fa047a78d4abc8dca28341ffc2feb": {
          "model_module": "@jupyter-widgets/controls",
          "model_name": "FloatSliderModel",
          "model_module_version": "1.5.0",
          "state": {
            "_dom_classes": [],
            "_model_module": "@jupyter-widgets/controls",
            "_model_module_version": "1.5.0",
            "_model_name": "FloatSliderModel",
            "_view_count": null,
            "_view_module": "@jupyter-widgets/controls",
            "_view_module_version": "1.5.0",
            "_view_name": "FloatSliderView",
            "continuous_update": true,
            "description": "w",
            "description_tooltip": null,
            "disabled": false,
            "layout": "IPY_MODEL_d20ac13349054f8883ac34c62f13e9ef",
            "max": 1,
            "min": 0,
            "orientation": "horizontal",
            "readout": true,
            "readout_format": ".2f",
            "step": 0.1,
            "style": "IPY_MODEL_f7252704b1454f03a402dc4cf7cc3b18",
            "value": 0.7
          }
        },
        "516f42d86beb479eaf7eb00c9e887d88": {
          "model_module": "@jupyter-widgets/output",
          "model_name": "OutputModel",
          "model_module_version": "1.0.0",
          "state": {
            "_dom_classes": [],
            "_model_module": "@jupyter-widgets/output",
            "_model_module_version": "1.0.0",
            "_model_name": "OutputModel",
            "_view_count": null,
            "_view_module": "@jupyter-widgets/output",
            "_view_module_version": "1.0.0",
            "_view_name": "OutputView",
            "layout": "IPY_MODEL_46ada18b7097452e94a6ae60646c4ee9",
            "msg_id": "",
            "outputs": [
              {
                "output_type": "display_data",
                "data": {
                  "text/plain": "<Figure size 432x288 with 1 Axes>",
                  "image/png": "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\n"
                },
                "metadata": {
                  "needs_background": "light"
                }
              }
            ]
          }
        },
        "b7743a738a014f4ebf30651818e0c23f": {
          "model_module": "@jupyter-widgets/base",
          "model_name": "LayoutModel",
          "model_module_version": "1.2.0",
          "state": {
            "_model_module": "@jupyter-widgets/base",
            "_model_module_version": "1.2.0",
            "_model_name": "LayoutModel",
            "_view_count": null,
            "_view_module": "@jupyter-widgets/base",
            "_view_module_version": "1.2.0",
            "_view_name": "LayoutView",
            "align_content": null,
            "align_items": null,
            "align_self": null,
            "border": null,
            "bottom": null,
            "display": null,
            "flex": null,
            "flex_flow": null,
            "grid_area": null,
            "grid_auto_columns": null,
            "grid_auto_flow": null,
            "grid_auto_rows": null,
            "grid_column": null,
            "grid_gap": null,
            "grid_row": null,
            "grid_template_areas": null,
            "grid_template_columns": null,
            "grid_template_rows": null,
            "height": null,
            "justify_content": null,
            "justify_items": null,
            "left": null,
            "margin": null,
            "max_height": null,
            "max_width": null,
            "min_height": null,
            "min_width": null,
            "object_fit": null,
            "object_position": null,
            "order": null,
            "overflow": null,
            "overflow_x": null,
            "overflow_y": null,
            "padding": null,
            "right": null,
            "top": null,
            "visibility": null,
            "width": null
          }
        },
        "eb54c1d86cf64c8bb68b1c6d7f7e7d2e": {
          "model_module": "@jupyter-widgets/base",
          "model_name": "LayoutModel",
          "model_module_version": "1.2.0",
          "state": {
            "_model_module": "@jupyter-widgets/base",
            "_model_module_version": "1.2.0",
            "_model_name": "LayoutModel",
            "_view_count": null,
            "_view_module": "@jupyter-widgets/base",
            "_view_module_version": "1.2.0",
            "_view_name": "LayoutView",
            "align_content": null,
            "align_items": null,
            "align_self": null,
            "border": null,
            "bottom": null,
            "display": null,
            "flex": null,
            "flex_flow": null,
            "grid_area": null,
            "grid_auto_columns": null,
            "grid_auto_flow": null,
            "grid_auto_rows": null,
            "grid_column": null,
            "grid_gap": null,
            "grid_row": null,
            "grid_template_areas": null,
            "grid_template_columns": null,
            "grid_template_rows": null,
            "height": null,
            "justify_content": null,
            "justify_items": null,
            "left": null,
            "margin": null,
            "max_height": null,
            "max_width": null,
            "min_height": null,
            "min_width": null,
            "object_fit": null,
            "object_position": null,
            "order": null,
            "overflow": null,
            "overflow_x": null,
            "overflow_y": null,
            "padding": null,
            "right": null,
            "top": null,
            "visibility": null,
            "width": null
          }
        },
        "d4a1e24a958e42a4a271cf71aafe6e8e": {
          "model_module": "@jupyter-widgets/controls",
          "model_name": "SliderStyleModel",
          "model_module_version": "1.5.0",
          "state": {
            "_model_module": "@jupyter-widgets/controls",
            "_model_module_version": "1.5.0",
            "_model_name": "SliderStyleModel",
            "_view_count": null,
            "_view_module": "@jupyter-widgets/base",
            "_view_module_version": "1.2.0",
            "_view_name": "StyleView",
            "description_width": "",
            "handle_color": null
          }
        },
        "d20ac13349054f8883ac34c62f13e9ef": {
          "model_module": "@jupyter-widgets/base",
          "model_name": "LayoutModel",
          "model_module_version": "1.2.0",
          "state": {
            "_model_module": "@jupyter-widgets/base",
            "_model_module_version": "1.2.0",
            "_model_name": "LayoutModel",
            "_view_count": null,
            "_view_module": "@jupyter-widgets/base",
            "_view_module_version": "1.2.0",
            "_view_name": "LayoutView",
            "align_content": null,
            "align_items": null,
            "align_self": null,
            "border": null,
            "bottom": null,
            "display": null,
            "flex": null,
            "flex_flow": null,
            "grid_area": null,
            "grid_auto_columns": null,
            "grid_auto_flow": null,
            "grid_auto_rows": null,
            "grid_column": null,
            "grid_gap": null,
            "grid_row": null,
            "grid_template_areas": null,
            "grid_template_columns": null,
            "grid_template_rows": null,
            "height": null,
            "justify_content": null,
            "justify_items": null,
            "left": null,
            "margin": null,
            "max_height": null,
            "max_width": null,
            "min_height": null,
            "min_width": null,
            "object_fit": null,
            "object_position": null,
            "order": null,
            "overflow": null,
            "overflow_x": null,
            "overflow_y": null,
            "padding": null,
            "right": null,
            "top": null,
            "visibility": null,
            "width": null
          }
        },
        "f7252704b1454f03a402dc4cf7cc3b18": {
          "model_module": "@jupyter-widgets/controls",
          "model_name": "SliderStyleModel",
          "model_module_version": "1.5.0",
          "state": {
            "_model_module": "@jupyter-widgets/controls",
            "_model_module_version": "1.5.0",
            "_model_name": "SliderStyleModel",
            "_view_count": null,
            "_view_module": "@jupyter-widgets/base",
            "_view_module_version": "1.2.0",
            "_view_name": "StyleView",
            "description_width": "",
            "handle_color": null
          }
        },
        "46ada18b7097452e94a6ae60646c4ee9": {
          "model_module": "@jupyter-widgets/base",
          "model_name": "LayoutModel",
          "model_module_version": "1.2.0",
          "state": {
            "_model_module": "@jupyter-widgets/base",
            "_model_module_version": "1.2.0",
            "_model_name": "LayoutModel",
            "_view_count": null,
            "_view_module": "@jupyter-widgets/base",
            "_view_module_version": "1.2.0",
            "_view_name": "LayoutView",
            "align_content": null,
            "align_items": null,
            "align_self": null,
            "border": null,
            "bottom": null,
            "display": null,
            "flex": null,
            "flex_flow": null,
            "grid_area": null,
            "grid_auto_columns": null,
            "grid_auto_flow": null,
            "grid_auto_rows": null,
            "grid_column": null,
            "grid_gap": null,
            "grid_row": null,
            "grid_template_areas": null,
            "grid_template_columns": null,
            "grid_template_rows": null,
            "height": null,
            "justify_content": null,
            "justify_items": null,
            "left": null,
            "margin": null,
            "max_height": null,
            "max_width": null,
            "min_height": null,
            "min_width": null,
            "object_fit": null,
            "object_position": null,
            "order": null,
            "overflow": null,
            "overflow_x": null,
            "overflow_y": null,
            "padding": null,
            "right": null,
            "top": null,
            "visibility": null,
            "width": null
          }
        }
      }
    }
  },
  "nbformat": 4,
  "nbformat_minor": 5
}