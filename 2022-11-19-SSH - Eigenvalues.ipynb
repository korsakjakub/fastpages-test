{
  "cells": [
    {
      "cell_type": "markdown",
      "id": "03FKNfrnCkzv",
      "metadata": {
        "id": "03FKNfrnCkzv"
      },
      "source": [
        "# SSH Eigenmodes"
      ]
    },
    {
      "cell_type": "markdown",
      "source": [
        "In this example we consider SSH model which Hamiltonian can be express in the following way,\n",
        "\n",
        "$$H=-\\sum_{ i} v (A_{i}^{\\dagger}B_{i}+h.c.)-\\sum_{j}w(A^{\\dagger}_{i}A_{i+1}+B^{\\dagger}_{i}B_{i+1}+h.c. ),$$\n",
        "here $v$ ($w$) is the overlap integral between the atoms in unit cell (betwens cells).  "
      ],
      "metadata": {
        "id": "lAqyG01qTv8X"
      },
      "id": "lAqyG01qTv8X"
    },
    {
      "cell_type": "code",
      "execution_count": 4,
      "id": "RVbkDWo-t5Ns",
      "metadata": {
        "id": "RVbkDWo-t5Ns",
        "colab": {
          "base_uri": "https://localhost:8080/"
        },
        "outputId": "bda73ce1-75cc-4964-e32b-539b3c5e62d5"
      },
      "outputs": [
        {
          "output_type": "stream",
          "name": "stdout",
          "text": [
            "Looking in indexes: https://pypi.org/simple, https://us-python.pkg.dev/colab-wheels/public/simple/\n",
            "Requirement already satisfied: kwant in /usr/local/lib/python3.7/dist-packages (1.4.3)\n",
            "Requirement already satisfied: numpy>=1.11.0 in /usr/local/lib/python3.7/dist-packages (from kwant) (1.21.6)\n",
            "Requirement already satisfied: scipy>=0.17.0 in /usr/local/lib/python3.7/dist-packages (from kwant) (1.7.3)\n",
            "Requirement already satisfied: tinyarray>=1.2 in /usr/local/lib/python3.7/dist-packages (from kwant) (1.2.4)\n"
          ]
        }
      ],
      "source": [
        "!pip install kwant"
      ]
    },
    {
      "cell_type": "markdown",
      "source": [],
      "metadata": {
        "id": "f_mpZ8s5TeB3"
      },
      "id": "f_mpZ8s5TeB3"
    },
    {
      "cell_type": "code",
      "execution_count": 23,
      "id": "9ab06f68-a6ea-412e-a6e7-e4d07f3c54da",
      "metadata": {
        "id": "9ab06f68-a6ea-412e-a6e7-e4d07f3c54da"
      },
      "outputs": [],
      "source": [
        "import kwant\n",
        "import matplotlib.pyplot as plt\n",
        "import scipy.sparse.linalg as sla\n",
        "import scipy as scp\n",
        "import numpy as np\n",
        "import scipy\n",
        "from kwant.physics import dispersion\n",
        "from numpy.linalg import eig"
      ]
    },
    {
      "cell_type": "markdown",
      "source": [
        "First of all we have to define our system. "
      ],
      "metadata": {
        "id": "1uSHUtFLaypb"
      },
      "id": "1uSHUtFLaypb"
    },
    {
      "cell_type": "code",
      "source": [
        "L = 50\n",
        "# Building SSH model\n",
        "def ssh_model(v=1, w=1, L=L, return_only_ham=1):\n",
        "\n",
        "    syst = kwant.Builder()\n",
        "    a = 1\n",
        "    lat = kwant.lattice.chain(a)\n",
        "\n",
        "    # Define the scattering region\n",
        "    for n in range(L):\n",
        "        syst[lat(n)] = 0\n",
        "\n",
        "    # Left hopping\n",
        "    for n in range(L):\n",
        "        if n % 2:\n",
        "            syst[lat(n - 1), lat(n)] = v\n",
        "\n",
        "    # Right hopping\n",
        "    for n in range(1, L):\n",
        "        if not n % 2:\n",
        "            syst[lat(n - 1), lat(n)] = w\n",
        "\n",
        "    syst = syst.finalized()\n",
        "\n",
        "    if return_only_ham:\n",
        "        return syst.hamiltonian_submatrix(sparse=True)\n",
        "    else:\n",
        "        return syst.hamiltonian_submatrix(sparse=False)"
      ],
      "metadata": {
        "id": "2RGFdQ_FfzKj"
      },
      "id": "2RGFdQ_FfzKj",
      "execution_count": 54,
      "outputs": []
    },
    {
      "cell_type": "markdown",
      "source": [
        "\n",
        "In our case we put onsite equal to zero. In order to defne our system we establish diferent hoppings for odd and even sites. For even sites the Hamiltonian part discrebes intercells hoppings is\n",
        "$$-\\sum_{ i} v (A_{i}^{\\dagger}B_{i}+h.c.)$$\n",
        "while for odds we have got\n",
        "$$-\\sum_{j}w(A^{\\dagger}_{i}A_{i+1}+B^{\\dagger}_{i}B_{i+1}+h.c. )$$\n",
        "\n",
        "The SSH is the simplest one dimensional model in which one can observed edge states. We can observed this on the folowing plot,\n"
      ],
      "metadata": {
        "id": "ZpDMyAdsf52_"
      },
      "id": "ZpDMyAdsf52_"
    },
    {
      "cell_type": "code",
      "source": [
        "from   ipywidgets import *\n",
        "\n",
        "def SSH_energy(v,w):\n",
        "  w1,v1=eig(ssh_model(w=w, v=v, L=L, return_only_ham=0))\n",
        "  plt.plot(np.arange(0,L,1),sorted(np.real(w1)),'.')\n",
        "\n",
        "\n",
        "interact(SSH_energy,v=(0,1,0.1),w=(0,1,0.1));"
      ],
      "metadata": {
        "colab": {
          "base_uri": "https://localhost:8080/",
          "height": 329,
          "referenced_widgets": [
            "d133e4c53e7d4cda8b5082006fbda83b",
            "9f7196ef07e94af6bda86c93b4678eb3",
            "203fa047a78d4abc8dca28341ffc2feb",
            "516f42d86beb479eaf7eb00c9e887d88",
            "b7743a738a014f4ebf30651818e0c23f",
            "eb54c1d86cf64c8bb68b1c6d7f7e7d2e",
            "d4a1e24a958e42a4a271cf71aafe6e8e",
            "d20ac13349054f8883ac34c62f13e9ef",
            "f7252704b1454f03a402dc4cf7cc3b18",
            "46ada18b7097452e94a6ae60646c4ee9"
          ]
        },
        "id": "5CXeOnZVo5Ec",
        "outputId": "9481d279-0019-4e93-88f9-6165bfa34b31"
      },
      "id": "5CXeOnZVo5Ec",
      "execution_count": 66,
      "outputs": [
        {
          "output_type": "display_data",
          "data": {
            "text/plain": [
              "interactive(children=(FloatSlider(value=0.0, description='v', max=1.0), FloatSlider(value=0.0, description='w'…"
            ],
            "application/vnd.jupyter.widget-view+json": {
              "version_major": 2,
              "version_minor": 0,
              "model_id": "d133e4c53e7d4cda8b5082006fbda83b"
            }
          },
          "metadata": {}
        }
      ]
    },
    {
      "cell_type": "markdown",
      "source": [
        "One can observed that for $w>v$ there are two zero energy states which coresponds to edge states. The existance of such a states is topological protected. \n",
        "\n",
        "Now we want to plot energy spectrum as a function os hopping parameter $v$ when w is held constant. We have to identify each energy corespond to a given site. To this end, we used the following procedure. For a given $v$ we find all eigenvalues and eigenstates for every sites. Then we moved to another value of $v$ and do this same. Now to identife which eigenvalues corespond to this same site we chack for every eigenvector from the previous iteration gives us the bigest overlap (the bigest value of scalar product) with one of the state. The prosedure countinous for every value $v$."
      ],
      "metadata": {
        "id": "ful9xz77sEFD"
      },
      "id": "ful9xz77sEFD"
    },
    {
      "cell_type": "code",
      "execution_count": 95,
      "id": "48db19ba-65a0-4f61-b465-5d91c29abf51",
      "metadata": {
        "colab": {
          "base_uri": "https://localhost:8080/",
          "height": 314,
          "referenced_widgets": [
            "acbca75e772741d6a5bb5dea1dce3328",
            "0671caf8171a4d708ab81c9843399a79",
            "df02d3686aca4aac96aa4fc8cd873aa9",
            "258d22229f8549d78c1f9b589317ad27",
            "2e04698b808a4b19be49adf5b9491d4e",
            "9b4fa0e852f340ad986dfff6be677ec3",
            "a71b170ef2fa46cc85a03d611662ac00"
          ]
        },
        "id": "48db19ba-65a0-4f61-b465-5d91c29abf51",
        "outputId": "88f0ea53-e78a-4f97-adf5-50b8fedf4554"
      },
      "outputs": [
        {
          "output_type": "display_data",
          "data": {
            "text/plain": [
              "interactive(children=(FloatSlider(value=0.30000000000000004, description='w', max=0.5, min=0.1), Output()), _d…"
            ],
            "application/vnd.jupyter.widget-view+json": {
              "version_major": 2,
              "version_minor": 0,
              "model_id": "acbca75e772741d6a5bb5dea1dce3328"
            }
          },
          "metadata": {}
        },
        {
          "output_type": "display_data",
          "data": {
            "text/plain": [
              "<Figure size 432x288 with 0 Axes>"
            ]
          },
          "metadata": {}
        }
      ],
      "source": [
        "def find_continuator(w: list, next_vectors: list) -> int:\n",
        "    max_product = np.dot(w, next_vectors[0])\n",
        "    max_index = 0\n",
        "\n",
        "    for i in range(len(next_vectors)):\n",
        "        product = np.abs(np.dot(w, next_vectors[i]))\n",
        "        if product > max_product:\n",
        "            max_product = product\n",
        "            max_index = i\n",
        "    return max_index\n",
        "\n",
        "\n",
        "def plot_probability(k_tab: list ,eig_number: int,w,  show_unsorted=False) -> None:\n",
        "    e_val_matrix = np.empty(shape=(len(k_tab), eig_number))\n",
        "    e_vec_matrix = np.empty(shape=(len(k_tab), eig_number, L), dtype=complex)\n",
        "\n",
        "    for i in range(len(k_tab)):\n",
        "        v = k_tab[i]\n",
        "        ham = ssh_model(v, w)\n",
        "        e_val, e_vec = scipy.sparse.linalg.eigsh(\n",
        "            ham, k=eig_number, sigma=0.01, which=\"LM\", return_eigenvectors=True\n",
        "        )\n",
        "\n",
        "        e_val_matrix[i] = e_val\n",
        "        for j in range(eig_number):\n",
        "            e_vec_matrix[i, j] = e_vec[:, j]\n",
        "            e_vec_matrix[i, j] = e_vec_matrix[i, j] / np.sqrt(\n",
        "                np.dot(e_vec_matrix[i, j], e_vec_matrix[i, j])\n",
        "            )\n",
        "\n",
        "    for j in range(eig_number):\n",
        "        pasek = [e_val_matrix[0, j]]\n",
        "        wektory = [e_vec_matrix[0, j]]\n",
        "\n",
        "        for i in range(0, len(k_tab) - 1):\n",
        "            index = find_continuator(wektory[i], e_vec_matrix[i + 1])\n",
        "            wektory.append(e_vec_matrix[i + 1, index])\n",
        "            pasek.append(e_val_matrix[i + 1, index])\n",
        "\n",
        "        plt.plot(k_tab, pasek, label=j)\n",
        "        if show_unsorted:\n",
        "            plt.scatter(k_tab, e_val_matrix[:, j], marker=\".\")\n",
        "\n",
        "def SSH_spectrum_manipulate(w):\n",
        "  plot_probability(k_tab=k,w=w, eig_number=energies_number)\n",
        "\n",
        "k = np.linspace(0, 0.75, 50)  # Range of k we want to plot\n",
        "energies_number = 47  # Number of energy bands to show\n",
        "\n",
        "interact(SSH_spectrum_manipulate,w=(0.1,0.5,0.1));\n",
        "plt.savefig(\"SSH_spectrum_sort.pdf\")\n",
        "plt.show()\n"
      ]
    },
    {
      "cell_type": "markdown",
      "source": [
        "We can easly diagonalize our Hamiltonian by teaking Fourier transform,\n",
        "$$A^{\\dagger}_{i}=\\frac{1}{\\sqrt{N}}\\sum_{k}e^{ik\\cdot x_{i}} A^{\\dagger}_{k} \\hspace{0.5cm} \\mathrm{etc..}$$\n",
        "In the end Hamiltonian in momentum space takes form\n",
        "$$H=\\sum_{k}(A^{\\dagger}_{k},B^{\\dagger}_{k})\\begin{pmatrix}\n",
        "0 & v+e^{ik}w \\\\\n",
        "v+e^{-ik}w & 0 \n",
        "\\end{pmatrix}\n",
        "\\begin{pmatrix}\n",
        "A_{k}  \\\\\n",
        "B_{k} \n",
        "\\end{pmatrix} $$\n",
        "\n",
        "Now it is easy to find dispersion relation which in this case is given by the following expresion,\n",
        "$$E(k)=\\pm \\sqrt{v^2+w^2+2vw\\cos{k}} .$$\n",
        "\n",
        "Now because we have used Fourier transform we tacitly impose boundary conditions. To procedure further we have to bild an infinit system. In order to do this, we need to add leads. "
      ],
      "metadata": {
        "id": "tfxDQ2143wpt"
      },
      "id": "tfxDQ2143wpt"
    },
    {
      "cell_type": "code",
      "source": [],
      "metadata": {
        "id": "ELpfiwvV-LRy"
      },
      "id": "ELpfiwvV-LRy",
      "execution_count": null,
      "outputs": []
    },
    {
      "cell_type": "markdown",
      "source": [],
      "metadata": {
        "id": "-Xq8swl5bhSZ"
      },
      "id": "-Xq8swl5bhSZ"
    },
    {
      "cell_type": "markdown",
      "source": [],
      "metadata": {
        "id": "8TfYsnpibBIS"
      },
      "id": "8TfYsnpibBIS"
    }
  ],
  "metadata": {
    "colab": {
      "provenance": []
    },
    "kernelspec": {
      "display_name": "Python 3",
      "language": "python",
      "name": "python3"
    },
    "language_info": {
      "codemirror_mode": {
        "name": "ipython",
        "version": 3
      },
      "file_extension": ".py",
      "mimetype": "text/x-python",
      "name": "python",
      "nbconvert_exporter": "python",
      "pygments_lexer": "ipython3",
      "version": "3.6.13"
    },
    "widgets": {
      "application/vnd.jupyter.widget-state+json": {
        "d133e4c53e7d4cda8b5082006fbda83b": {
          "model_module": "@jupyter-widgets/controls",
          "model_name": "VBoxModel",
          "model_module_version": "1.5.0",
          "state": {
            "_dom_classes": [
              "widget-interact"
            ],
            "_model_module": "@jupyter-widgets/controls",
            "_model_module_version": "1.5.0",
            "_model_name": "VBoxModel",
            "_view_count": null,
            "_view_module": "@jupyter-widgets/controls",
            "_view_module_version": "1.5.0",
            "_view_name": "VBoxView",
            "box_style": "",
            "children": [
              "IPY_MODEL_9f7196ef07e94af6bda86c93b4678eb3",
              "IPY_MODEL_203fa047a78d4abc8dca28341ffc2feb",
              "IPY_MODEL_516f42d86beb479eaf7eb00c9e887d88"
            ],
            "layout": "IPY_MODEL_b7743a738a014f4ebf30651818e0c23f"
          }
        },
        "9f7196ef07e94af6bda86c93b4678eb3": {
          "model_module": "@jupyter-widgets/controls",
          "model_name": "FloatSliderModel",
          "model_module_version": "1.5.0",
          "state": {
            "_dom_classes": [],
            "_model_module": "@jupyter-widgets/controls",
            "_model_module_version": "1.5.0",
            "_model_name": "FloatSliderModel",
            "_view_count": null,
            "_view_module": "@jupyter-widgets/controls",
            "_view_module_version": "1.5.0",
            "_view_name": "FloatSliderView",
            "continuous_update": true,
            "description": "v",
            "description_tooltip": null,
            "disabled": false,
            "layout": "IPY_MODEL_eb54c1d86cf64c8bb68b1c6d7f7e7d2e",
            "max": 1,
            "min": 0,
            "orientation": "horizontal",
            "readout": true,
            "readout_format": ".2f",
            "step": 0.1,
            "style": "IPY_MODEL_d4a1e24a958e42a4a271cf71aafe6e8e",
            "value": 0.4
          }
        },
        "203fa047a78d4abc8dca28341ffc2feb": {
          "model_module": "@jupyter-widgets/controls",
          "model_name": "FloatSliderModel",
          "model_module_version": "1.5.0",
          "state": {
            "_dom_classes": [],
            "_model_module": "@jupyter-widgets/controls",
            "_model_module_version": "1.5.0",
            "_model_name": "FloatSliderModel",
            "_view_count": null,
            "_view_module": "@jupyter-widgets/controls",
            "_view_module_version": "1.5.0",
            "_view_name": "FloatSliderView",
            "continuous_update": true,
            "description": "w",
            "description_tooltip": null,
            "disabled": false,
            "layout": "IPY_MODEL_d20ac13349054f8883ac34c62f13e9ef",
            "max": 1,
            "min": 0,
            "orientation": "horizontal",
            "readout": true,
            "readout_format": ".2f",
            "step": 0.1,
            "style": "IPY_MODEL_f7252704b1454f03a402dc4cf7cc3b18",
            "value": 0.7
          }
        },
        "516f42d86beb479eaf7eb00c9e887d88": {
          "model_module": "@jupyter-widgets/output",
          "model_name": "OutputModel",
          "model_module_version": "1.0.0",
          "state": {
            "_dom_classes": [],
            "_model_module": "@jupyter-widgets/output",
            "_model_module_version": "1.0.0",
            "_model_name": "OutputModel",
            "_view_count": null,
            "_view_module": "@jupyter-widgets/output",
            "_view_module_version": "1.0.0",
            "_view_name": "OutputView",
            "layout": "IPY_MODEL_46ada18b7097452e94a6ae60646c4ee9",
            "msg_id": "",
            "outputs": [
              {
                "output_type": "display_data",
                "data": {
                  "text/plain": "<Figure size 432x288 with 1 Axes>",
                  "image/png": "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\n"
                },
                "metadata": {
                  "needs_background": "light"
                }
              }
            ]
          }
        },
        "b7743a738a014f4ebf30651818e0c23f": {
          "model_module": "@jupyter-widgets/base",
          "model_name": "LayoutModel",
          "model_module_version": "1.2.0",
          "state": {
            "_model_module": "@jupyter-widgets/base",
            "_model_module_version": "1.2.0",
            "_model_name": "LayoutModel",
            "_view_count": null,
            "_view_module": "@jupyter-widgets/base",
            "_view_module_version": "1.2.0",
            "_view_name": "LayoutView",
            "align_content": null,
            "align_items": null,
            "align_self": null,
            "border": null,
            "bottom": null,
            "display": null,
            "flex": null,
            "flex_flow": null,
            "grid_area": null,
            "grid_auto_columns": null,
            "grid_auto_flow": null,
            "grid_auto_rows": null,
            "grid_column": null,
            "grid_gap": null,
            "grid_row": null,
            "grid_template_areas": null,
            "grid_template_columns": null,
            "grid_template_rows": null,
            "height": null,
            "justify_content": null,
            "justify_items": null,
            "left": null,
            "margin": null,
            "max_height": null,
            "max_width": null,
            "min_height": null,
            "min_width": null,
            "object_fit": null,
            "object_position": null,
            "order": null,
            "overflow": null,
            "overflow_x": null,
            "overflow_y": null,
            "padding": null,
            "right": null,
            "top": null,
            "visibility": null,
            "width": null
          }
        },
        "eb54c1d86cf64c8bb68b1c6d7f7e7d2e": {
          "model_module": "@jupyter-widgets/base",
          "model_name": "LayoutModel",
          "model_module_version": "1.2.0",
          "state": {
            "_model_module": "@jupyter-widgets/base",
            "_model_module_version": "1.2.0",
            "_model_name": "LayoutModel",
            "_view_count": null,
            "_view_module": "@jupyter-widgets/base",
            "_view_module_version": "1.2.0",
            "_view_name": "LayoutView",
            "align_content": null,
            "align_items": null,
            "align_self": null,
            "border": null,
            "bottom": null,
            "display": null,
            "flex": null,
            "flex_flow": null,
            "grid_area": null,
            "grid_auto_columns": null,
            "grid_auto_flow": null,
            "grid_auto_rows": null,
            "grid_column": null,
            "grid_gap": null,
            "grid_row": null,
            "grid_template_areas": null,
            "grid_template_columns": null,
            "grid_template_rows": null,
            "height": null,
            "justify_content": null,
            "justify_items": null,
            "left": null,
            "margin": null,
            "max_height": null,
            "max_width": null,
            "min_height": null,
            "min_width": null,
            "object_fit": null,
            "object_position": null,
            "order": null,
            "overflow": null,
            "overflow_x": null,
            "overflow_y": null,
            "padding": null,
            "right": null,
            "top": null,
            "visibility": null,
            "width": null
          }
        },
        "d4a1e24a958e42a4a271cf71aafe6e8e": {
          "model_module": "@jupyter-widgets/controls",
          "model_name": "SliderStyleModel",
          "model_module_version": "1.5.0",
          "state": {
            "_model_module": "@jupyter-widgets/controls",
            "_model_module_version": "1.5.0",
            "_model_name": "SliderStyleModel",
            "_view_count": null,
            "_view_module": "@jupyter-widgets/base",
            "_view_module_version": "1.2.0",
            "_view_name": "StyleView",
            "description_width": "",
            "handle_color": null
          }
        },
        "d20ac13349054f8883ac34c62f13e9ef": {
          "model_module": "@jupyter-widgets/base",
          "model_name": "LayoutModel",
          "model_module_version": "1.2.0",
          "state": {
            "_model_module": "@jupyter-widgets/base",
            "_model_module_version": "1.2.0",
            "_model_name": "LayoutModel",
            "_view_count": null,
            "_view_module": "@jupyter-widgets/base",
            "_view_module_version": "1.2.0",
            "_view_name": "LayoutView",
            "align_content": null,
            "align_items": null,
            "align_self": null,
            "border": null,
            "bottom": null,
            "display": null,
            "flex": null,
            "flex_flow": null,
            "grid_area": null,
            "grid_auto_columns": null,
            "grid_auto_flow": null,
            "grid_auto_rows": null,
            "grid_column": null,
            "grid_gap": null,
            "grid_row": null,
            "grid_template_areas": null,
            "grid_template_columns": null,
            "grid_template_rows": null,
            "height": null,
            "justify_content": null,
            "justify_items": null,
            "left": null,
            "margin": null,
            "max_height": null,
            "max_width": null,
            "min_height": null,
            "min_width": null,
            "object_fit": null,
            "object_position": null,
            "order": null,
            "overflow": null,
            "overflow_x": null,
            "overflow_y": null,
            "padding": null,
            "right": null,
            "top": null,
            "visibility": null,
            "width": null
          }
        },
        "f7252704b1454f03a402dc4cf7cc3b18": {
          "model_module": "@jupyter-widgets/controls",
          "model_name": "SliderStyleModel",
          "model_module_version": "1.5.0",
          "state": {
            "_model_module": "@jupyter-widgets/controls",
            "_model_module_version": "1.5.0",
            "_model_name": "SliderStyleModel",
            "_view_count": null,
            "_view_module": "@jupyter-widgets/base",
            "_view_module_version": "1.2.0",
            "_view_name": "StyleView",
            "description_width": "",
            "handle_color": null
          }
        },
        "46ada18b7097452e94a6ae60646c4ee9": {
          "model_module": "@jupyter-widgets/base",
          "model_name": "LayoutModel",
          "model_module_version": "1.2.0",
          "state": {
            "_model_module": "@jupyter-widgets/base",
            "_model_module_version": "1.2.0",
            "_model_name": "LayoutModel",
            "_view_count": null,
            "_view_module": "@jupyter-widgets/base",
            "_view_module_version": "1.2.0",
            "_view_name": "LayoutView",
            "align_content": null,
            "align_items": null,
            "align_self": null,
            "border": null,
            "bottom": null,
            "display": null,
            "flex": null,
            "flex_flow": null,
            "grid_area": null,
            "grid_auto_columns": null,
            "grid_auto_flow": null,
            "grid_auto_rows": null,
            "grid_column": null,
            "grid_gap": null,
            "grid_row": null,
            "grid_template_areas": null,
            "grid_template_columns": null,
            "grid_template_rows": null,
            "height": null,
            "justify_content": null,
            "justify_items": null,
            "left": null,
            "margin": null,
            "max_height": null,
            "max_width": null,
            "min_height": null,
            "min_width": null,
            "object_fit": null,
            "object_position": null,
            "order": null,
            "overflow": null,
            "overflow_x": null,
            "overflow_y": null,
            "padding": null,
            "right": null,
            "top": null,
            "visibility": null,
            "width": null
          }
        },
        "acbca75e772741d6a5bb5dea1dce3328": {
          "model_module": "@jupyter-widgets/controls",
          "model_name": "VBoxModel",
          "model_module_version": "1.5.0",
          "state": {
            "_dom_classes": [
              "widget-interact"
            ],
            "_model_module": "@jupyter-widgets/controls",
            "_model_module_version": "1.5.0",
            "_model_name": "VBoxModel",
            "_view_count": null,
            "_view_module": "@jupyter-widgets/controls",
            "_view_module_version": "1.5.0",
            "_view_name": "VBoxView",
            "box_style": "",
            "children": [
              "IPY_MODEL_0671caf8171a4d708ab81c9843399a79",
              "IPY_MODEL_df02d3686aca4aac96aa4fc8cd873aa9"
            ],
            "layout": "IPY_MODEL_258d22229f8549d78c1f9b589317ad27"
          }
        },
        "0671caf8171a4d708ab81c9843399a79": {
          "model_module": "@jupyter-widgets/controls",
          "model_name": "FloatSliderModel",
          "model_module_version": "1.5.0",
          "state": {
            "_dom_classes": [],
            "_model_module": "@jupyter-widgets/controls",
            "_model_module_version": "1.5.0",
            "_model_name": "FloatSliderModel",
            "_view_count": null,
            "_view_module": "@jupyter-widgets/controls",
            "_view_module_version": "1.5.0",
            "_view_name": "FloatSliderView",
            "continuous_update": true,
            "description": "w",
            "description_tooltip": null,
            "disabled": false,
            "layout": "IPY_MODEL_2e04698b808a4b19be49adf5b9491d4e",
            "max": 0.5,
            "min": 0.1,
            "orientation": "horizontal",
            "readout": true,
            "readout_format": ".2f",
            "step": 0.1,
            "style": "IPY_MODEL_9b4fa0e852f340ad986dfff6be677ec3",
            "value": 0.30000000000000004
          }
        },
        "df02d3686aca4aac96aa4fc8cd873aa9": {
          "model_module": "@jupyter-widgets/output",
          "model_name": "OutputModel",
          "model_module_version": "1.0.0",
          "state": {
            "_dom_classes": [],
            "_model_module": "@jupyter-widgets/output",
            "_model_module_version": "1.0.0",
            "_model_name": "OutputModel",
            "_view_count": null,
            "_view_module": "@jupyter-widgets/output",
            "_view_module_version": "1.0.0",
            "_view_name": "OutputView",
            "layout": "IPY_MODEL_a71b170ef2fa46cc85a03d611662ac00",
            "msg_id": "",
            "outputs": [
              {
                "output_type": "display_data",
                "data": {
                  "text/plain": "<Figure size 432x288 with 1 Axes>",
                  "image/png": "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\n"
                },
                "metadata": {
                  "needs_background": "light"
                }
              }
            ]
          }
        },
        "258d22229f8549d78c1f9b589317ad27": {
          "model_module": "@jupyter-widgets/base",
          "model_name": "LayoutModel",
          "model_module_version": "1.2.0",
          "state": {
            "_model_module": "@jupyter-widgets/base",
            "_model_module_version": "1.2.0",
            "_model_name": "LayoutModel",
            "_view_count": null,
            "_view_module": "@jupyter-widgets/base",
            "_view_module_version": "1.2.0",
            "_view_name": "LayoutView",
            "align_content": null,
            "align_items": null,
            "align_self": null,
            "border": null,
            "bottom": null,
            "display": null,
            "flex": null,
            "flex_flow": null,
            "grid_area": null,
            "grid_auto_columns": null,
            "grid_auto_flow": null,
            "grid_auto_rows": null,
            "grid_column": null,
            "grid_gap": null,
            "grid_row": null,
            "grid_template_areas": null,
            "grid_template_columns": null,
            "grid_template_rows": null,
            "height": null,
            "justify_content": null,
            "justify_items": null,
            "left": null,
            "margin": null,
            "max_height": null,
            "max_width": null,
            "min_height": null,
            "min_width": null,
            "object_fit": null,
            "object_position": null,
            "order": null,
            "overflow": null,
            "overflow_x": null,
            "overflow_y": null,
            "padding": null,
            "right": null,
            "top": null,
            "visibility": null,
            "width": null
          }
        },
        "2e04698b808a4b19be49adf5b9491d4e": {
          "model_module": "@jupyter-widgets/base",
          "model_name": "LayoutModel",
          "model_module_version": "1.2.0",
          "state": {
            "_model_module": "@jupyter-widgets/base",
            "_model_module_version": "1.2.0",
            "_model_name": "LayoutModel",
            "_view_count": null,
            "_view_module": "@jupyter-widgets/base",
            "_view_module_version": "1.2.0",
            "_view_name": "LayoutView",
            "align_content": null,
            "align_items": null,
            "align_self": null,
            "border": null,
            "bottom": null,
            "display": null,
            "flex": null,
            "flex_flow": null,
            "grid_area": null,
            "grid_auto_columns": null,
            "grid_auto_flow": null,
            "grid_auto_rows": null,
            "grid_column": null,
            "grid_gap": null,
            "grid_row": null,
            "grid_template_areas": null,
            "grid_template_columns": null,
            "grid_template_rows": null,
            "height": null,
            "justify_content": null,
            "justify_items": null,
            "left": null,
            "margin": null,
            "max_height": null,
            "max_width": null,
            "min_height": null,
            "min_width": null,
            "object_fit": null,
            "object_position": null,
            "order": null,
            "overflow": null,
            "overflow_x": null,
            "overflow_y": null,
            "padding": null,
            "right": null,
            "top": null,
            "visibility": null,
            "width": null
          }
        },
        "9b4fa0e852f340ad986dfff6be677ec3": {
          "model_module": "@jupyter-widgets/controls",
          "model_name": "SliderStyleModel",
          "model_module_version": "1.5.0",
          "state": {
            "_model_module": "@jupyter-widgets/controls",
            "_model_module_version": "1.5.0",
            "_model_name": "SliderStyleModel",
            "_view_count": null,
            "_view_module": "@jupyter-widgets/base",
            "_view_module_version": "1.2.0",
            "_view_name": "StyleView",
            "description_width": "",
            "handle_color": null
          }
        },
        "a71b170ef2fa46cc85a03d611662ac00": {
          "model_module": "@jupyter-widgets/base",
          "model_name": "LayoutModel",
          "model_module_version": "1.2.0",
          "state": {
            "_model_module": "@jupyter-widgets/base",
            "_model_module_version": "1.2.0",
            "_model_name": "LayoutModel",
            "_view_count": null,
            "_view_module": "@jupyter-widgets/base",
            "_view_module_version": "1.2.0",
            "_view_name": "LayoutView",
            "align_content": null,
            "align_items": null,
            "align_self": null,
            "border": null,
            "bottom": null,
            "display": null,
            "flex": null,
            "flex_flow": null,
            "grid_area": null,
            "grid_auto_columns": null,
            "grid_auto_flow": null,
            "grid_auto_rows": null,
            "grid_column": null,
            "grid_gap": null,
            "grid_row": null,
            "grid_template_areas": null,
            "grid_template_columns": null,
            "grid_template_rows": null,
            "height": null,
            "justify_content": null,
            "justify_items": null,
            "left": null,
            "margin": null,
            "max_height": null,
            "max_width": null,
            "min_height": null,
            "min_width": null,
            "object_fit": null,
            "object_position": null,
            "order": null,
            "overflow": null,
            "overflow_x": null,
            "overflow_y": null,
            "padding": null,
            "right": null,
            "top": null,
            "visibility": null,
            "width": null
          }
        }
      }
    }
  },
  "nbformat": 4,
  "nbformat_minor": 5
}